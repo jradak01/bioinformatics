{
  "nbformat": 4,
  "nbformat_minor": 0,
  "metadata": {
    "colab": {
      "provenance": [],
      "collapsed_sections": [
        "izFlteaL3Y-3",
        "d4_Ml6AJE4wU",
        "CJrydIbYFOJ2",
        "Z2SBUZJVFSaq",
        "fFqx2133AbK8",
        "zH4o-AejC2aE",
        "dMr9-G6RSClm",
        "STwOvThDpBDn",
        "3CyTL9WOxOoY",
        "8yR52Ot58SjK",
        "Vv7sVyUS9DjI",
        "ZcIwA4gw9HXf",
        "lYxIMcNR9K1i",
        "HlLnFSv99O-c"
      ]
    },
    "kernelspec": {
      "name": "python3",
      "display_name": "Python 3"
    },
    "language_info": {
      "name": "python"
    }
  },
  "cells": [
    {
      "cell_type": "markdown",
      "source": [
        "# Chapter4"
      ],
      "metadata": {
        "id": "izFlteaL3Y-3"
      }
    },
    {
      "cell_type": "code",
      "source": [
        "from google.colab import drive\n",
        "drive.mount('drive')"
      ],
      "metadata": {
        "colab": {
          "base_uri": "https://localhost:8080/"
        },
        "id": "JEQjI2ksXKse",
        "outputId": "152a3e13-d105-47b3-8e88-f34d92ab598c"
      },
      "execution_count": 1,
      "outputs": [
        {
          "output_type": "stream",
          "name": "stdout",
          "text": [
            "Mounted at drive\n"
          ]
        }
      ]
    },
    {
      "cell_type": "code",
      "source": [
        "%cd /content/drive/MyDrive/bioinf/podaci/"
      ],
      "metadata": {
        "colab": {
          "base_uri": "https://localhost:8080/"
        },
        "id": "zxjHroVyXMSI",
        "outputId": "dd954421-a662-42a6-995b-71e8938bfa5e"
      },
      "execution_count": 2,
      "outputs": [
        {
          "output_type": "stream",
          "name": "stdout",
          "text": [
            "/content/drive/MyDrive/bioinf/podaci\n"
          ]
        }
      ]
    },
    {
      "cell_type": "code",
      "source": [
        "from collections import Counter, defaultdict\n",
        "import re"
      ],
      "metadata": {
        "id": "jdm9S8qF4dD7"
      },
      "execution_count": 13,
      "outputs": []
    },
    {
      "cell_type": "code",
      "source": [
        "with open('/content/drive/MyDrive/bioinf/zadatak/genetic_code.txt', 'r') as f:\n",
        "  gen_code = [line.strip().split(':') for line in f.readlines()]\n",
        "\n",
        "def get_genetic_code(reverse=False):\n",
        "  if reverse:\n",
        "    G = {}\n",
        "    for pair in gen_code:\n",
        "      if pair[1] not in G:\n",
        "        G[pair[1]] = [pair[0]]\n",
        "      else:\n",
        "        G[pair[1]].append(pair[0])\n",
        "    return G\n",
        "  else:\n",
        "    G = {}\n",
        "    for pair in gen_code:\n",
        "      G[pair[0]] = pair[1]\n",
        "    return G"
      ],
      "metadata": {
        "id": "T-d4xiRA3weo"
      },
      "execution_count": 4,
      "outputs": []
    },
    {
      "cell_type": "code",
      "source": [
        "with open('/content/drive/MyDrive/bioinf/zadatak/mass.txt', 'r') as f:\n",
        "  lines = [line.strip().split(':') for line in f.readlines()]\n",
        "def get_mass():\n",
        "  G = {}\n",
        "  for pair in lines:\n",
        "    G[pair[0]] = int(pair[1])\n",
        "  return G"
      ],
      "metadata": {
        "id": "30yI4CGu4zlx"
      },
      "execution_count": 8,
      "outputs": []
    },
    {
      "cell_type": "markdown",
      "source": [
        "#    "
      ],
      "metadata": {
        "id": "ghHNgk7A49ed"
      }
    },
    {
      "cell_type": "markdown",
      "source": [
        "## [BA4A](https://rosalind.info/problems/ba4a/) - Translate an RNA String into an Amino Acid String"
      ],
      "metadata": {
        "id": "d4_Ml6AJE4wU"
      }
    },
    {
      "cell_type": "code",
      "source": [
        "def translation(rna_pattern):\n",
        "  G = get_genetic_code() # kopija rijecnika rna - amino kiselina\n",
        "  res = [] # za spremanje odgovora\n",
        "  for i in range(0, len(rna_pattern), 3): # iteriranje po uzorku\n",
        "    # 3 znaka u uzorku odgovaraju jednoj amino kiselini\n",
        "    letter = G[rna_pattern[i : i + 3]] # pronadi amino kiselinu od substringa\n",
        "    if letter == \"*\": # ako je aminokiselina jednaka * - stop\n",
        "      break # prekini petlju\n",
        "    res.append(letter) # dodaj amino kiselinu u niz\n",
        "  res = \"\".join(res) # formatiraj odgovor\n",
        "  return res # vrati odgovor\n",
        "\n",
        "translation('AUGGCCAUGGCGCCCAGAACUGAGAUCAAUAGUACCCGUAUUAACGGGUGA')"
      ],
      "metadata": {
        "colab": {
          "base_uri": "https://localhost:8080/",
          "height": 36
        },
        "id": "DYD88PxImhTT",
        "outputId": "553d626f-06ff-4473-9265-68d5b8a31371"
      },
      "execution_count": 11,
      "outputs": [
        {
          "output_type": "execute_result",
          "data": {
            "text/plain": [
              "'MAMAPRTEINSTRING'"
            ],
            "application/vnd.google.colaboratory.intrinsic+json": {
              "type": "string"
            }
          },
          "metadata": {},
          "execution_count": 11
        }
      ]
    },
    {
      "cell_type": "code",
      "source": [
        "with open(\"rosalind_ba4a.txt\", \"r\") as f:\n",
        "  text = f.readline().strip()\n",
        "translation(text)"
      ],
      "metadata": {
        "colab": {
          "base_uri": "https://localhost:8080/",
          "height": 109
        },
        "id": "CIK0w6rPn9uH",
        "outputId": "ffb996c0-846c-496f-8e29-89ec9d614bda"
      },
      "execution_count": 12,
      "outputs": [
        {
          "output_type": "execute_result",
          "data": {
            "text/plain": [
              "'MRVRMGGELFIISGASRVSLWANRSGDGSGPIPMIDKQQLKLSRLRRPCVAHSLVKLHIQLFGVRVARVPWCRNGVKLVPREHHRSVILLKSTDFRQAGVSRLCSNHLAFIGTEPTALTLKRKAILWGALRLLRLRFYRLRCVRAKVEALLRGGQLQQVSAIQSRAGRFDCKHTARIRYPRRGDPKQLLGRRCRCTAMSDKLLEGYPSNIRRGERSGARGAHGWSAMNVSKAVAPMETGKTVVDICRVACLFIISRKISASAGDGACMEQNFCSLVKYYYHRGWDMLFTLIAGHALRIPHRPAVPVQRLPDQIVQIRHGQEKYPLRPLQVKHLGTVKIALCIMTPAQSQGRFHFAQRTRLWGSGLIREIPLRHKITHYRKGIERPRGDDWCCLGRYRVRSRRTTLVICRSLLPVKVSGFFAGIAPTAFLNCTIGSPQRVDNIYDRILEHRPSFRKCSGTRLPGPGLSQTTSPSSPSPSQVSSSGGIFRQWSQVARLRIWSIEAREPSPYRASQGLWKESSSADLWRAITNAWLYSQCTDREVGVSALRLRMWISDCPSWPSYDAPPAMRCTIGRGHYATRVGMLQPFEAFASVDLQATEDNGVAILKINWRHWPYVNAISQVGMPKDFFHDRPRSVSRSLDADVTTTVLDGSIICRVSAVTTLSQGLFARYERRVPFIARSMLWEIFRAWITSGISKSESESEPQGRPASDVGAVYHILETRGAIRDARSSRSTVRCRTQSLRQAIRPDMTMPHLRRHVRPGSARASVRNNYALRCEPVIQLVFNTESWFSAREQARTHKAKILGLSSQATDMSNQVDTLDHQKWGDVQHDRAQEQRSGSSLDRDPLISFSICFPRTASRFEFSVLKCRMTTNVFRRLEHLYVYVTFQNTKGRDIPWPHYQNIYVGLAQWSHACDAIERHSPEIYMFVTASKFPSLKSEACTLLYPSWKRCVAALLSHTLSPARTLTLQCGCWIGRIYVLRILCSLWLLTVSPGSATKATTAVLSDHRCKRNPTKYRLKELQGTALQLWEIPARTMAICSHLLRPLGNTITERYYTLWGQGCRTKTLIKTYAVERNDTICWAVNSAEARHRDARLKKVYRGYIQPGLSASTDPIPSRLVHKRSQHKGYNIFSTLVNKWKLVRRILYCNSMDARAEEPSDIPTCPDQTGIVLLAISERDAKNGVFLAIQPSLHRVLGHKQRSSNECPVTCDKRASGTQFLRMDTGFVGYLVYVSARPPMGWQSKNGFIDRIHWRKNWNSTERFSMIVTSRGSKSHMSAVRNIEGIQLLLIHLVCGRGRRHVHATEKDGLRHYWSEGSSDEPLADVRGALSLLPCVHLHEIGVPSVCLGGVYSTRTRPTAPGHSGTLPDAQILACSDYQPRRINRLALYPTSLATNIPSDRFFSQMLKSLLTRALHGAKARNKSWTYCILVVRGWPNALLSLISRRSQRARMYHNKVLDYNLSMRAMGRTFWYIQEIAAVTSRIVIFGQKLSPRFATHVPPVARGQPLIKISKERHTKVMCSTSDEVGVQRGPSCSLESSTLQLGIFSGCGNILIPACGIANDCCRLNRVPARPSCKSRLRRVEGPHLPNRGPVDRSGYGVTQLSFKLRRVSASAGASDSSCTASHTGLMAAHDWSRDTLGYKPASIVRYGCGGRYPVAGMPWGILMTLIKLAHMGATSISDKLIGLRKNELYIRTERNNADHAMYRAPSRNCRVCSFAKFRAETLTLLKESVDGRKDKEGLSCCSRAGSTDYACATASIEVAFRVRGTGLGLTWRSHVASDKSLWLRRPRDCVKLSPPNARGLQNPRTSANLRPCEEGRRKNFIKVAMKHLLYVFGSQTSGKNLLPISVTLCGVIGDLTGDYRKPAYRFRLWNMLLPLARFHHRSCGIDGRINLSSVAWIGRLQAHLLFWHDTWLPNHGGSGLLTSPHGGKEHCEGQQPQPGADAHARSVNFKMHKKSYKSGFQISRKICRAQGRRRLQVSNWTFDPRSTVEPSAGTGKMSLKFLGNSMERSKERLLLQVTMFPRAGTGRFTHRSVPFYVLWSSNSNVLPVWRESDDTANTATQYFAEYSPEKGSLPLPVFPWLPLLSRIPLLPPSVPLFLPVTNIYTVPGDMPTERVMAIRVRPYVKVQKKTLRSDMETLGVTLHQIDGAYSLFIKKSNIQTVCNDNSLIGQHNAPTPVIALAGKLLASVVNPILDLAELRSDDLGPSCLSTLPNITPAVGIIPDGILVSSSDSLSQLTLYLFPWYQAIAGGTQYYSPGFRRPPSAGEVVPCGGYLRLPHSIGVSPKGHSGAPDAHTYLPSVCAHCTRLHSMRYVNLGHVEGCQPGRVLYYGGRLASPLGGQRCEVEHRYPDFPSASSFSFKASSWLRSKATCFKIVFGDSNTSFAAVLASISSLTTESLYSQPSLKRSYDMCPTVNMCLLTHRHSAARSSVFLRARLARHSREAGSAENSYTPGTRPAATQSIVVFADIGTQSRCWPARHVLLNSAECCQPSPYRSHWPLLPTIPAWASNTQHCFSRRLLQSQKPRAGSEAAGRADALADNSVGEDDRTSQDSGLCSDYGSYATSGHFDPASTRDSLWSGMCMKDATYIRLFTHPTQQPMNLEVSQNPKLSSYTRTWAFNKVTNVLYTSTRTLFLPGRIWTGSFKYMVYEVRKYDRLHETASHNARLCCRWSFR'"
            ],
            "application/vnd.google.colaboratory.intrinsic+json": {
              "type": "string"
            }
          },
          "metadata": {},
          "execution_count": 12
        }
      ]
    },
    {
      "cell_type": "markdown",
      "source": [
        "## [BA4B](https://rosalind.info/problems/ba4b/) - Find Substrings of a Genome Encoding a Given Amino Acid String"
      ],
      "metadata": {
        "id": "CJrydIbYFOJ2"
      }
    },
    {
      "cell_type": "code",
      "source": [
        "def reverseComplement(text):\n",
        "  complement = {\"A\": \"T\", \"T\": \"A\", \"C\": \"G\", \"G\": \"C\"} # komplementi u dna\n",
        "  # pronadi komplement za svaki element u obrnutom stringu\n",
        "  return \"\".join([complement[x] for x in text[::-1]])"
      ],
      "metadata": {
        "id": "vEfIHZiU5pr_"
      },
      "execution_count": 15,
      "outputs": []
    },
    {
      "cell_type": "code",
      "source": [
        "def dnaToRna(text):\n",
        "  return re.sub(\"T\", \"U\", text) # pretvori DNA u RNA zamjenom T u U"
      ],
      "metadata": {
        "id": "Q097Q8885tNu"
      },
      "execution_count": 14,
      "outputs": []
    },
    {
      "cell_type": "code",
      "source": [
        "def getAllCombinationsWorker(peptide, codons_one_to_three,\n",
        "                                current_status, all_combinations): # dobivanje kombinacija za peptif\n",
        "  # kada prodemo cijeli peptid, dodajemo u all_combinations\n",
        "  if len(peptide) == 0: # ako je duljina peptida jednaka 0\n",
        "    # u sve kombinacije nadodaj trenutni status\n",
        "    all_combinations.append(current_status)\n",
        "    return # vrati\n",
        "  # za svaki kodon in u kodonima od prvog elementa peptida\n",
        "  for codon in codons_one_to_three[peptide[0]]:\n",
        "    # rekurzivno dohvati slovo iz peptida\n",
        "    # za svako slovo trazi troslove (rna) i spaja\n",
        "    getAllCombinationsWorker(peptide[1:], codons_one_to_three,\n",
        "                                current_status + codon, all_combinations)\n",
        "# npr T -> nade sve moguce i stavi ih u niz\n",
        "# zatim npt prelazi na slovo P i nade sve komb i spoji"
      ],
      "metadata": {
        "id": "Pj-8ZjX0r7tN"
      },
      "execution_count": 16,
      "outputs": []
    },
    {
      "cell_type": "code",
      "source": [
        "def getAllCombinations(peptide):\n",
        "  # kreiraj rijecnik\n",
        "  codons_one_to_three = get_genetic_code(reverse=True)\n",
        "  current_status = \"\" # tenutni status\n",
        "  all_combinations = [] # sve kombinacije za spremanje\n",
        "  # dohvati sve kombinacije\n",
        "  getAllCombinationsWorker(peptide, codons_one_to_three,\n",
        "                              current_status, all_combinations)\n",
        "  return all_combinations # vrati sve kombinacije"
      ],
      "metadata": {
        "id": "ehousOHQr9Wg"
      },
      "execution_count": 17,
      "outputs": []
    },
    {
      "cell_type": "code",
      "source": [
        "def findAll(pattern, text):\n",
        "  i = text.find(pattern) # pronadi index uzorka u stringu\n",
        "  while i != -1: # dok je i u stringu (razlicit od -1)\n",
        "    yield i # vrati i -> yeald -> pamti podatke i vraca odjednom\n",
        "    i = text.find(pattern, i + 1) # nastavljamo trazit po tekstu od ite pozicije\n",
        "\n",
        "#vraca mjesta u tekstu na kojima pocinje pattern"
      ],
      "metadata": {
        "id": "xROsTXOHsGtK"
      },
      "execution_count": 18,
      "outputs": []
    },
    {
      "cell_type": "code",
      "source": [
        "def getAllAminoAcidCandidates(dna, peptide):\n",
        "  # broj znakova u obrnutom peptidu\n",
        "  n = len(peptide) * 3 # postavi n na broj znakova u peptidu * 3\n",
        "  rcdna = reverseComplement(dna) # pronadi obrnuti komplement od dobivenog dna\n",
        "  rna = dnaToRna(dna) # napravi odgovarajuci rna od dna\n",
        "  rcrna = dnaToRna(rcdna) # napravi rna od komplementa dna\n",
        "  # dohvati sve kombinacije za peptide - kandidate\n",
        "  candidates = getAllCombinations(peptide)\n",
        "  valid = []\n",
        "  for cand in candidates: # za svakog kandidata u kandidatima\n",
        "    # trazimo indexe di se nalazi kandidat\n",
        "    for index in findAll(cand, rna): # za svaki index u rna\n",
        "      valid.append(dna[index : index + n]) # dodaj dna od indexa do index + n\n",
        "      continue # nastavi\n",
        "    for index in findAll(cand, rcrna): # za svaki index u komplement rna\n",
        "      # dodaj obrnuti komplement od indexa do indexa +n\n",
        "      valid.append(reverseComplement(rcdna[index : index + n]))\n",
        "  return '\\n'.join(valid)\n",
        "\n",
        "ans = getAllAminoAcidCandidates('ATGGCCATGGCCCCCAGAACTGAGATCAATAGTACCCGTATTAACGGGTGA', 'MA')\n",
        "print(ans)"
      ],
      "metadata": {
        "colab": {
          "base_uri": "https://localhost:8080/"
        },
        "id": "hSKea05Irq79",
        "outputId": "07ca9547-7744-48eb-8a08-525106d5cb91"
      },
      "execution_count": 21,
      "outputs": [
        {
          "output_type": "stream",
          "name": "stdout",
          "text": [
            "ATGGCC\n",
            "ATGGCC\n",
            "GGCCAT\n"
          ]
        }
      ]
    },
    {
      "cell_type": "code",
      "source": [
        "with open(\"rosalind_ba4b.txt\", \"r\") as f:\n",
        "  dna = f.readline().strip()\n",
        "  peptide =f.readline().strip()\n",
        "getAllAminoAcidCandidates(dna, peptide)"
      ],
      "metadata": {
        "colab": {
          "base_uri": "https://localhost:8080/",
          "height": 72
        },
        "id": "1dWHm3kI7o4y",
        "outputId": "82e5371a-c4d5-4f32-aa84-7e3bf18998fb"
      },
      "execution_count": 22,
      "outputs": [
        {
          "output_type": "execute_result",
          "data": {
            "text/plain": [
              "'CTGTACATTTCGCAGTTGCCATCC\\nGGATGGCAATTACGGAACGTACAA\\nCTGTACATTTCGAAGCTGCCATCC\\nCTGGACATTCCTTAGTTGCCAGCC\\nGGCTGGCAACTACGCAACGTCCAA\\nCTGGACGTTTCGCAGTTGCCAGCC\\nTTGCACATTTCTAAGTTGCCAGCC\\nGGCTGGCAATTGAGAAATGTTCAG\\nGGCTGGCAATTGCGAAACGTACAG\\nGGCTGGCAGCTACGGAACGTGCAA\\nCTGTACATTCCGTAGCTGCCACCC\\nCTGCACATTACGTAGCTGCCACCC\\nTTGAACGTTGCGAAGCTGCCACCC\\nGGGTGGCAGTTGCGTAATGTTCAG\\nGGTTGGCAACTACGAAACGTACAA\\nTTGAACGTTGCGCAATTGCCAACC\\nGGTTGGCAGCTCCGAAACGTACAG\\nTTGGACATTGCGCAGCTGCCAACC\\nTTGAACGTTCCTTAACTGCCAACC\\nGGTTGGCAGTTACGAAATGTACAA'"
            ],
            "application/vnd.google.colaboratory.intrinsic+json": {
              "type": "string"
            }
          },
          "metadata": {},
          "execution_count": 22
        }
      ]
    },
    {
      "cell_type": "markdown",
      "source": [
        "## [BA4C](https://rosalind.info/problems/ba4c/) - Generate the Theoretical Spectrum of a Cyclic Peptide"
      ],
      "metadata": {
        "id": "Z2SBUZJVFSaq"
      }
    },
    {
      "cell_type": "markdown",
      "source": [
        "- **Peptid:** LEQN\n",
        "- **Ciklički peptid:** LEQNLE\n",
        "- **Subpeptidi:**  L, LE, LEQ, E, EQ, EQN, Q, QN, QNL, N, NL, NLE\n",
        "- **Spekter:** 0, 484, 113 ,242 ,370 ,129 ,257 ,371 ,128 ,242 ,355 ,114 ,227 ,356\n",
        "- **Sortirani spektar:** 0, 113, 114, 128, 129, 227, 242, 242, 257, 355, 356, 370, 371, 484"
      ],
      "metadata": {
        "id": "gEL81DQi-rjs"
      }
    },
    {
      "cell_type": "code",
      "source": [
        "def spectrum(peptide):\n",
        "  n = len(peptide) # n je dljina peptida\n",
        "  mass = get_mass() # radimo kopiju masa aminokiselina\n",
        "  # produlji peptid kopijom peptid do predzadnjeg znaka\n",
        "  extended_peptide = peptide + peptide[:-2]  # jer je ciklicni peptid\n",
        "  spectrum = [0, sum([mass[x] for x in peptide])] # spektar masa\n",
        "  # dvi petlje kako bi dobili sve kombinacije peptida\n",
        "  for l in range(n): # za svako slovo u peptidu\n",
        "    for k in range(1, n): # za svako slovo u peptidu od 1 do n\n",
        "      subpeptide = extended_peptide[l : l + k] # uzmi subpeptid od l do l+k\n",
        "      # u spektar dodaj sumu mase za subpeptid\n",
        "      spectrum.append(sum([mass[x] for x in subpeptide]))\n",
        "  spectrum.sort() # sortirani spektar\n",
        "  return ' '.join(str(x) for x in spectrum)\n",
        "\n",
        "peptide ='LEQN'\n",
        "spectrum(peptide)"
      ],
      "metadata": {
        "id": "4UmxoKs0GTDB",
        "colab": {
          "base_uri": "https://localhost:8080/",
          "height": 36
        },
        "outputId": "2122ead8-c8d7-480e-ca28-d7226ef33bd6"
      },
      "execution_count": 31,
      "outputs": [
        {
          "output_type": "execute_result",
          "data": {
            "text/plain": [
              "'0 113 114 128 129 227 242 242 257 355 356 370 371 484'"
            ],
            "application/vnd.google.colaboratory.intrinsic+json": {
              "type": "string"
            }
          },
          "metadata": {},
          "execution_count": 31
        }
      ]
    },
    {
      "cell_type": "code",
      "source": [
        "with open(\"rosalind_ba4c.txt\", \"r\") as f:\n",
        "  peptide = f.readline().strip()\n",
        "spectrum(peptide)"
      ],
      "metadata": {
        "colab": {
          "base_uri": "https://localhost:8080/",
          "height": 72
        },
        "id": "wQf5aBSEAvNG",
        "outputId": "9a515908-88e7-485c-dc1c-b0ef445457ee"
      },
      "execution_count": 26,
      "outputs": [
        {
          "output_type": "execute_result",
          "data": {
            "text/plain": [
              "'0 71 87 87 101 101 103 103 114 129 129 129 137 172 188 190 208 215 215 216 216 232 232 232 266 286 291 302 309 316 319 319 335 337 345 353 361 387 403 405 420 422 423 424 438 448 448 464 474 482 506 523 524 525 534 551 551 552 553 577 577 585 611 635 637 638 639 652 653 654 656 680 706 714 714 738 739 740 740 757 766 767 768 785 809 817 827 843 843 853 867 868 869 871 886 888 904 930 938 946 954 956 972 972 975 982 989 1000 1005 1025 1059 1059 1059 1075 1075 1076 1076 1083 1101 1103 1119 1154 1162 1162 1162 1177 1188 1188 1190 1190 1204 1204 1220 1291'"
            ],
            "application/vnd.google.colaboratory.intrinsic+json": {
              "type": "string"
            }
          },
          "metadata": {},
          "execution_count": 26
        }
      ]
    },
    {
      "cell_type": "markdown",
      "source": [
        "##[BA4D](https://rosalind.info/problems/ba4d/) - Compute the Number of Peptides of Given Total Mass"
      ],
      "metadata": {
        "id": "fFqx2133AbK8"
      }
    },
    {
      "cell_type": "code",
      "source": [
        "def getAllCombinationsWorker(mass, aa_masses, counter):\n",
        "  if mass in counter: # ako je masa u brojacu\n",
        "    return counter[mass] # vrati brojac od mase\n",
        "  if mass < 0: # ako je masa manja od 0\n",
        "    return 0 # vrati 0\n",
        "  if mass == 0: # ako je masa jednaka 0\n",
        "    return 1 # vrati 1\n",
        "  counter[mass] = 0 # postavi brojac od mase na 0\n",
        "  for aa_mass in aa_masses: # za svaku amino masu u masama aminokiselina\n",
        "    # nadodaj u brojac za masu sve kombinacije tako da masu\n",
        "    # smanjujemo s masom aminokiseline\n",
        "    counter[mass] += getAllCombinationsWorker(mass - aa_mass,\n",
        "                                                 aa_masses, counter)\n",
        "  return counter[mass] #vrati brojac od mase"
      ],
      "metadata": {
        "id": "kw-hNpWMrpZR"
      },
      "execution_count": 32,
      "outputs": []
    },
    {
      "cell_type": "code",
      "source": [
        "def getAllCombinations(mass):\n",
        "  # dohvati sve mase aminokiselina\n",
        "  aa_masses = set(get_mass().values())\n",
        "  counter = {} # brojac\n",
        "  # dohvati brojac od mase\n",
        "  res = getAllCombinationsWorker(mass, aa_masses, counter)\n",
        "  # print({k: v for k,v in counter.items() if v!=0}) #ispisi dobivene brojace\n",
        "  return res\n",
        "\n",
        "getAllCombinations(1024)"
      ],
      "metadata": {
        "colab": {
          "base_uri": "https://localhost:8080/"
        },
        "id": "IABIWCCorwZz",
        "outputId": "7f47337d-2a5b-4243-e825-a857024f969e"
      },
      "execution_count": 35,
      "outputs": [
        {
          "output_type": "execute_result",
          "data": {
            "text/plain": [
              "14712706211"
            ]
          },
          "metadata": {},
          "execution_count": 35
        }
      ]
    },
    {
      "cell_type": "code",
      "source": [
        "with open(\"rosalind_ba4d.txt\", \"r\") as f:\n",
        "  mass = f.readline().strip()\n",
        "getAllCombinations(int(mass))"
      ],
      "metadata": {
        "colab": {
          "base_uri": "https://localhost:8080/"
        },
        "id": "uuBJGqObtsWS",
        "outputId": "b906a92d-867f-41cb-db6c-c26a6bbba55a"
      },
      "execution_count": 37,
      "outputs": [
        {
          "output_type": "execute_result",
          "data": {
            "text/plain": [
              "13269154757756"
            ]
          },
          "metadata": {},
          "execution_count": 37
        }
      ]
    },
    {
      "cell_type": "markdown",
      "source": [
        "##[BA4E](https://rosalind.info/problems/ba4e/) - Find a Cyclic Peptide with Theoretical Spectrum Matching an Ideal Spectrum"
      ],
      "metadata": {
        "id": "zH4o-AejC2aE"
      }
    },
    {
      "cell_type": "code",
      "source": [
        "#BA4C\n",
        "def cyclospectrum(peptide): # definicija ciklospektra\n",
        "  n = len(peptide) # peptid duljine n\n",
        "  mass = get_mass() # dohvatimo mase\n",
        "  # prolazi i do  -2 -> abcd -> abcdab -> ciklicnost\n",
        "  extended_peptide = peptide + peptide[:-1] # prosirimo peptid\n",
        "  spectrum = [0, sum(peptide)] # u spektar dodamo nulu i cijelu sumu\n",
        "  for l in range(n): # iteriramo po listi\n",
        "    for k in range(1, n): # dujine peptida\n",
        "      subpeptide = extended_peptide[l : l + k] # trazimo sve podpeptide\n",
        "      spectrum.append(sum(subpeptide)) # dodajemo sumu u spektar\n",
        "  return sorted(spectrum) # vracamo sortirani spektar"
      ],
      "metadata": {
        "id": "MqeBohUBzjXN"
      },
      "execution_count": 40,
      "outputs": []
    },
    {
      "cell_type": "code",
      "source": [
        "def linearspectrum(peptide): # zelimo da je konzistentan s ciklickim\n",
        "  n = len(peptide) # duzina peptida\n",
        "  mass = get_mass() # dohvati mase aminokiselina\n",
        "  # postavi spektar na 0 // bez ukupne mase - razlika od prijasnjeg def\n",
        "  spectrum = [0]\n",
        "  for l in range(n): # za svaki n u dužini spektra\n",
        "    for k in range(1, n - l + 1): # za svaki k od 1 do n-l+1\n",
        "      # ne smijemo prijec preko peptida !!\n",
        "      subpeptide = peptide[l : l + k] # napravi podpeptid\n",
        "      spectrum.append(sum(subpeptide)) # u spektar dodaj sume subpeptida\n",
        "  return sorted(spectrum) # vrati sortirani spektar"
      ],
      "metadata": {
        "id": "uPkW9Q2UztMR"
      },
      "execution_count": 41,
      "outputs": []
    },
    {
      "cell_type": "code",
      "source": [
        "# je li linearni spektar konzistentan s ciklickim\n",
        "def belongs_spectrum(candidate_spectrum, main_spectrum):\n",
        "  # spektar kandidata iz linearning - racunamo broj pojavljivanja\n",
        "  # rijecnik rijesenje\n",
        "  counter_c_spectrum = Counter(candidate_spectrum)\n",
        "  # spektar ciklicnog spektra\n",
        "  counter_m_spectrum = Counter(main_spectrum)\n",
        "  # za svaki kljuc vrijednost(broj pojavljivanja) iz kandidata\n",
        "  for key, count in counter_c_spectrum.items():\n",
        "    # ako nema kljuca (peptida) u ciklicnom spektru\n",
        "    if key not in counter_m_spectrum:\n",
        "      return False # vrati false\n",
        "    # ako je broj pojavljivanja veci u linearnom od ciklicog za peptid\n",
        "    if count > counter_m_spectrum[key]:\n",
        "      return False # vrati false\n",
        "  return True # inace vrati true"
      ],
      "metadata": {
        "id": "cAaWAx_ozx6e"
      },
      "execution_count": 42,
      "outputs": []
    },
    {
      "cell_type": "code",
      "source": [
        "# ispituje masu i spektar kandidata\n",
        "def check_cyclo(spectrum, peptide):\n",
        "  parent_mass = max(spectrum) # masa spektra\n",
        "  # ako je masa peptida jednaka sumi (masi spektra)\n",
        "  # ako je ciklospektar peptida jednak spektru\n",
        "  if sum(peptide) == parent_mass and cyclospectrum(peptide) == spectrum:\n",
        "    return True #vrati istina\n",
        "  return False # vrati laz"
      ],
      "metadata": {
        "id": "2uaZI8nvz98I"
      },
      "execution_count": 43,
      "outputs": []
    },
    {
      "cell_type": "code",
      "source": [
        "def check_linear(spectrum, peptide): #provjeri linearnost\n",
        "  parent_mass = max(spectrum) # dohvati maksimum spektra\n",
        "  # ako je zbroj svih peptida manji ili jednak masi maksimuma spektra\n",
        "  # i ako linearni spektar peptida je konzistentan sa spektrom\n",
        "  if sum(peptide) <= parent_mass and belongs_spectrum(\n",
        "      linearspectrum(peptide), spectrum):\n",
        "    return True #vrati true\n",
        "  return False # vrati false"
      ],
      "metadata": {
        "id": "zcshg8BS0DyI"
      },
      "execution_count": 44,
      "outputs": []
    },
    {
      "cell_type": "code",
      "source": [
        "def branch_and_bound(spectrum):\n",
        "  all_combinations = [] # niz svih kombinacija\n",
        "  # dohvati sve mase aminokiselina - skup\n",
        "  aa_masses = set(get_mass().values())\n",
        "  # dohvati najvecu masu iz spektra(masa cijelog spektra)\n",
        "  parent_mass = max(spectrum)\n",
        "  peptides = [[]] #matrica peptida\n",
        "  while True: # dok je istina\n",
        "    # kandidati -> dodajemo pocetnim peptidima sve moguce mase\n",
        "    # za svaki peptid iz liste peptida\n",
        "    # na pocetku lista prazna pa sve se mase dodaju\n",
        "    candidates = [peptide + [aa_mass] for aa_mass\n",
        "                  in aa_masses for peptide in peptides]\n",
        "    # provjeravamo zadovoljavaju konzistentnost, ako jesu dodajemo ih\n",
        "    # inace izbacujemo\n",
        "    selected = [peptide for peptide in candidates\n",
        "                if check_linear(spectrum, peptide)]\n",
        "    # u sve kombinacije dodajemo peptide iz spektra koji su konzistentnzi\n",
        "    # provjeravamo masu i konzistentnost spektra kandidata\n",
        "    all_combinations.extend([peptide for peptide in\n",
        "                             selected if check_cyclo(spectrum, peptide)])\n",
        "    # ubacujemo sve peptide iz izabranih kojima suma nije jednaka sumi peptida\n",
        "    # koja nije jednaka -> ako je jednaka onda s njima nemamo sta radit\n",
        "    peptides = [peptide for peptide in\n",
        "                selected if sum(peptide) != parent_mass]\n",
        "    if len(peptides) == 0: # kad je duljina peptida 0 - sve smo ih izbacili\n",
        "      break # prekinut cemo petlju\n",
        "    res = []\n",
        "  for comb in all_combinations:\n",
        "    res.append('-'.join(str(x) for x in comb))\n",
        "  return ' '.join(sorted(res))\n",
        "\n",
        "spectrum = '0 113 128 186 241 299 314 427'\n",
        "spectrum = [int(x) for x in spectrum.split(' ')]\n",
        "branch_and_bound(spectrum)"
      ],
      "metadata": {
        "colab": {
          "base_uri": "https://localhost:8080/",
          "height": 36
        },
        "id": "9iwjyV_p0M2F",
        "outputId": "e75ed6f9-6daa-47db-a5b3-e6a3813a4ee0"
      },
      "execution_count": 49,
      "outputs": [
        {
          "output_type": "execute_result",
          "data": {
            "text/plain": [
              "'113-128-186 113-186-128 128-113-186 128-186-113 186-113-128 186-128-113'"
            ],
            "application/vnd.google.colaboratory.intrinsic+json": {
              "type": "string"
            }
          },
          "metadata": {},
          "execution_count": 49
        }
      ]
    },
    {
      "cell_type": "code",
      "source": [
        "with open(\"rosalind_ba4e.txt\", \"r\") as f:\n",
        "  spectrum = f.readline().split()\n",
        "spectrum = [int(x) for x in spectrum]\n",
        "branch_and_bound(spectrum)"
      ],
      "metadata": {
        "colab": {
          "base_uri": "https://localhost:8080/",
          "height": 72
        },
        "id": "fn3Zy5-OHG4a",
        "outputId": "4d4281a7-5bac-47fa-82c4-6feccbf0aec9"
      },
      "execution_count": 50,
      "outputs": [
        {
          "output_type": "execute_result",
          "data": {
            "text/plain": [
              "'103-103-114-87-156-128-115-147 103-103-147-115-128-156-87-114 103-114-87-156-128-115-147-103 103-147-115-128-156-87-114-103 114-103-103-147-115-128-156-87 114-87-156-128-115-147-103-103 115-128-156-87-114-103-103-147 115-147-103-103-114-87-156-128 128-115-147-103-103-114-87-156 128-156-87-114-103-103-147-115 147-103-103-114-87-156-128-115 147-115-128-156-87-114-103-103 156-128-115-147-103-103-114-87 156-87-114-103-103-147-115-128 87-114-103-103-147-115-128-156 87-156-128-115-147-103-103-114'"
            ],
            "application/vnd.google.colaboratory.intrinsic+json": {
              "type": "string"
            }
          },
          "metadata": {},
          "execution_count": 50
        }
      ]
    },
    {
      "cell_type": "markdown",
      "source": [
        "## [BA4F](https://rosalind.info/problems/ba4f/) - Compute the Score of a Cyclic Peptide Against a Spectrum"
      ],
      "metadata": {
        "id": "dMr9-G6RSClm"
      }
    },
    {
      "cell_type": "code",
      "source": [
        "def findSpectrum(peptide):\n",
        "  n = len(peptide) # n je duljina peptida\n",
        "  mass = get_mass() # radimo kopiju masa aminokiselina\n",
        "  # produlji peptid kopijom peptid do predzadnjeg znaka\n",
        "  extended_peptide = peptide + peptide[:-2]  # jer je ciklicni peptid\n",
        "  spectrum = [] # spektar masa\n",
        "  spectrum.append(0) # dodaj pocetnu nulu\n",
        "  # zbroji mase iz rijecnika za svako slovo u peptidu\n",
        "  # i dodaj u spektar\n",
        "  spectrum.append(sum([mass[x] for x in peptide]))\n",
        "  # dvi petlje kako bi dobili sve kombinacije peptida\n",
        "  for l in range(n): # za svako slovo u peptidu\n",
        "    for k in range(1, n): # za svako slovo u peptidu od 1 do n\n",
        "      subpeptide = extended_peptide[l : l + k] # uzmi subpeptid od l do l+k\n",
        "      # u spektar dodaj sumu mase za subpeptid\n",
        "      spectrum.append(sum([mass[x] for x in subpeptide]))\n",
        "  return sorted(spectrum) # vrati sortirani spektar"
      ],
      "metadata": {
        "id": "PiP7CljQU_Lt"
      },
      "execution_count": 51,
      "outputs": []
    },
    {
      "cell_type": "code",
      "source": [
        "# slican score-u iz BA4G\n",
        "def score(peptide, spectrum_):\n",
        "  pep_spec = findSpectrum(peptide) # teoretski spektar ciklopeptida\n",
        "  result = 0 # postavi rezultat na 0\n",
        "  # jedinstvene mase su skup (brojevi se ne ponavljaju)\n",
        "  # teoretskog spektra i dobivenog spektra\n",
        "  unique_masses = set(pep_spec + spectrum_)\n",
        "  for mass in unique_masses: # za svaku masu u jedinstvenim masama\n",
        "    # u rezultat pribroji -> prebroji pojavljivanja u teoretskom spektru\n",
        "    # ciklopeptida i dobivenom spektru te izmedu ta dva odaberi minimalni\n",
        "    # broj pojavljivanja\n",
        "    result += min(pep_spec.count(mass), spectrum_.count(mass))\n",
        "  return result # vrati rezultat\n",
        "\n",
        "score('NQEL',[0, 99, 113, 114, 128, 227, 257, 299, 355, 356, 370, 371, 484])"
      ],
      "metadata": {
        "colab": {
          "base_uri": "https://localhost:8080/"
        },
        "id": "VAUTGpMVV1D-",
        "outputId": "b21f04c7-e2b4-4294-d048-daf5fb1c6d7c"
      },
      "execution_count": 52,
      "outputs": [
        {
          "output_type": "execute_result",
          "data": {
            "text/plain": [
              "11"
            ]
          },
          "metadata": {},
          "execution_count": 52
        }
      ]
    },
    {
      "cell_type": "code",
      "source": [
        "with open(\"rosalind_ba4f.txt\", \"r\") as f:\n",
        "  peptide = f.readline().strip()\n",
        "  spect = f.readline().split()\n",
        "spectrum_ = [int(x) for x in spect]\n",
        "score(peptide, spectrum_)"
      ],
      "metadata": {
        "colab": {
          "base_uri": "https://localhost:8080/"
        },
        "id": "4_YqRIk9ZA26",
        "outputId": "7e7e6774-bdd3-4b39-cec1-e217e75c786c"
      },
      "execution_count": 53,
      "outputs": [
        {
          "output_type": "execute_result",
          "data": {
            "text/plain": [
              "698"
            ]
          },
          "metadata": {},
          "execution_count": 53
        }
      ]
    },
    {
      "cell_type": "markdown",
      "source": [
        "## [BA4G](https://rosalind.info/problems/ba4g/) - Implement LeaderboardCyclopeptideSequencing"
      ],
      "metadata": {
        "id": "STwOvThDpBDn"
      }
    },
    {
      "cell_type": "code",
      "source": [
        "# BA4E\n",
        "def cyclospectrum(peptide): # definicija ciklospektra\n",
        "  n = len(peptide) # peptid duljine n\n",
        "  mass = get_mass() # dohvatimo mase\n",
        "  # prolazi i do  -2 -> abcd -> abcdab -> ciklicnost\n",
        "  extended_peptide = peptide + peptide[:-1] # prosirimo peptid\n",
        "  spectrum = [0, sum(peptide)] # u spektar dodamo nulu i cijelu sumu\n",
        "  for l in range(n): # iteriramo po listi\n",
        "    for k in range(1, n): # dujine peptida\n",
        "      subpeptide = extended_peptide[l : l + k] # trazimo sve podpeptide\n",
        "      spectrum.append(sum(subpeptide)) # dodajemo sumu u spektar\n",
        "  return sorted(spectrum) # vracamo sortirani spektar"
      ],
      "metadata": {
        "id": "bexFiGCwgZtk"
      },
      "execution_count": 59,
      "outputs": []
    },
    {
      "cell_type": "code",
      "source": [
        "def expand(peptides):\n",
        "  # dohvati sve mase aminokiselina - skup\n",
        "  aa_masses = set(get_mass().values())\n",
        "  # novi peptidi -> dodajemo pocetnim peptidima sve\n",
        "  # moguce mase za svaki peptid iz liste peptida\n",
        "  # na pocetku lista prazna pa sve se mase dodaju\n",
        "  new_peptides = [peptide + [aa_mass] for aa_mass\n",
        "                  in aa_masses for peptide in peptides]\n",
        "  return new_peptides # vrati nove peptidea"
      ],
      "metadata": {
        "id": "FT72eau7iAGF"
      },
      "execution_count": 60,
      "outputs": []
    },
    {
      "cell_type": "code",
      "source": [
        "def Score(peptide, spectrum):\n",
        "    pep_spec = cyclospectrum(peptide) # mase u ciklospektru\n",
        "    result = 0 # postavi rezultat na 0\n",
        "    # jedinstvene mase su skup (brojevi se ne ponavljaju)\n",
        "    # teoretskog spektra i dobivenog spektra\n",
        "    unique_masses = set(pep_spec + spectrum)\n",
        "    for mass in unique_masses: # za svaku masu u jedinstvenim masama\n",
        "      # u rezultat pribroji -> prebroji pojavljivanja u teoretskom spektru\n",
        "      # ciklopeptida i dobivenom spektru te izmedu ta dva odaberi minimalni\n",
        "      # broj pojavljivanja\n",
        "      result += min(pep_spec.count(mass), spectrum.count(mass))\n",
        "    return result # vrati rezultat"
      ],
      "metadata": {
        "id": "ExrLBmFairak"
      },
      "execution_count": 61,
      "outputs": []
    },
    {
      "cell_type": "code",
      "source": [
        "def Trim(leaderboard, spectrum, N):\n",
        "  if len(leaderboard) <= N: # ako je duzina ljestvice manja ili  jednaka N\n",
        "    return leaderboard # vrati ljestvicu\n",
        "  scores = {} # rijecnik postignuca\n",
        "  # za svaku poziciju i i masu peptida u ljestvici\n",
        "  for i, peptide in enumerate(leaderboard):\n",
        "    # postavi index kao kljuc, a vrijednost Score peptida u spektru\n",
        "    scores[i] = Score(peptide, spectrum)\n",
        "  # napravi sortianu listu vrijednosti iz scores silazno\n",
        "  sorted_scores = sorted(scores.values(), reverse=True)\n",
        "  # postavi kao prag N-1-vi element iz sortiranih postignuca\n",
        "  threshold = sorted_scores[N - 1]\n",
        "  # vrati mase peptida iz ljestvice koji imaju veci score od praga\n",
        "  # pronadi index, score iz originalne ljestvice unutar scores i\n",
        "  # usporedi s granciom\n",
        "  return [leaderboard[idx] for idx, score\n",
        "          in scores.items() if score >= threshold]"
      ],
      "metadata": {
        "id": "L2ikpdMAj0sH"
      },
      "execution_count": 62,
      "outputs": []
    },
    {
      "cell_type": "code",
      "source": [
        "def leaderboard_cyclopeptide_sequencing(spectrum, N):\n",
        "  leaderboard = [[]] # ljestvica je matrica\n",
        "  leader_peptide = [] # vodeci peptid\n",
        "  while leaderboard:\n",
        "    leaderboard = expand(leaderboard) # prosiri ljestvicu\n",
        "    for peptide in leaderboard: # za svaki peptid u ljestvici\n",
        "      # zbroji mase peptida i ako su one jednake\n",
        "      # zadnjoj masi spektra(ukupna masa spektra)\n",
        "      if sum(peptide) == spectrum[-1]:\n",
        "        # ako je score peptida napram spektru vece od score-a vodeceg peptida\n",
        "        # napram spektru\n",
        "        if Score(peptide, spectrum) > Score(leader_peptide, spectrum):\n",
        "          # postavi da je vodeci peptid onaj peptid koji ima veci score\n",
        "          leader_peptide = peptide\n",
        "      # inace ako je suma masa veca od ukupne sume spektra\n",
        "      elif sum(peptide) > spectrum[-1]:\n",
        "        # ljestvica je jednaka svim peptidima u ljestvici koji su\n",
        "        # razliciti od trenutnog peptida koji ima vecu masu\n",
        "        leaderboard = [pep for pep in leaderboard if pep != peptide]\n",
        "    # vrati N peptida\n",
        "    leaderboard = Trim(leaderboard, spectrum, N)\n",
        "  return '-'.join(str(x) for x in leader_peptide) # vrati vodeci peptid\n",
        "\n",
        "ans = leaderboard_cyclopeptide_sequencing([0, 71, 113, 129, 147,\n",
        "                                     200, 218, 260, 313, 331,\n",
        "                                     347, 389, 460], 10)\n",
        "print(ans)"
      ],
      "metadata": {
        "colab": {
          "base_uri": "https://localhost:8080/"
        },
        "id": "erY1FZ8Hj7sc",
        "outputId": "ebf78ee7-51db-40ac-c92b-1ee66045bc51"
      },
      "execution_count": 64,
      "outputs": [
        {
          "output_type": "stream",
          "name": "stdout",
          "text": [
            "113-147-71-129\n"
          ]
        }
      ]
    },
    {
      "cell_type": "code",
      "source": [
        "with open(\"rosalind_ba4g.txt\", \"r\") as f:\n",
        "  N = int(f.readline().strip())\n",
        "  spect = f.readline().split()\n",
        "spectrum_ = [int(x) for x in spect]\n",
        "res = leaderboard_cyclopeptide_sequencing(spectrum_, N)\n",
        "res"
      ],
      "metadata": {
        "colab": {
          "base_uri": "https://localhost:8080/",
          "height": 36
        },
        "id": "FUYTne1RwH6X",
        "outputId": "87f03925-7a71-4f90-aada-98306bb667e7"
      },
      "execution_count": 65,
      "outputs": [
        {
          "output_type": "execute_result",
          "data": {
            "text/plain": [
              "'137-113-113-147-163-163-101-113-115-101-99-129-128'"
            ],
            "application/vnd.google.colaboratory.intrinsic+json": {
              "type": "string"
            }
          },
          "metadata": {},
          "execution_count": 65
        }
      ]
    },
    {
      "cell_type": "markdown",
      "source": [
        "## [BA4H](https://rosalind.info/problems/ba4h/) - Generate the Convolution of a Spectrum"
      ],
      "metadata": {
        "id": "3CyTL9WOxOoY"
      }
    },
    {
      "cell_type": "code",
      "source": [
        "def convolution(spectrum):\n",
        "  spectrum.sort() # sortiraj spektar\n",
        "  conv = [] # konvolucija\n",
        "  # sve kombinacije elemenata spektra i njihove razlike\n",
        "  for i in range(len(spectrum) - 1): # za svaku poziciju u spektru\n",
        "    for j in range(i, len(spectrum)): # za svaku poziciju od i do kraja spektra\n",
        "      # ako je razlika od i-tog elementa spektra i j-tog elementa\n",
        "      # masenog spektra razlicita od nula\n",
        "      if spectrum[j] - spectrum[i] != 0:\n",
        "        # u listu konv. dodaj njihovu razliku\n",
        "        conv.append(spectrum[j] - spectrum[i])\n",
        "  freq_dict = {} # rijecnik frekvencija\n",
        "  for mass in set(conv): # za svaku masu u konv koja nema duplih elemenata\n",
        "    # dodaj kao kljuc masu, a kao vrijednost prebroji mase iz konv.\n",
        "    freq_dict[mass] = conv.count(mass)\n",
        "  # stvori popis kljuceva iz rjecnika freq_dict, sortiranih silaznim\n",
        "  # redoslijedom prema njihovim odgovarajucim vrijednostima.\n",
        "  sorted_mass_list = [k for k, _ in sorted(freq_dict.items(),\n",
        "                                           key=lambda item: item[1],\n",
        "                                           reverse=True)]\n",
        "  conv = []\n",
        "  for mass in sorted_mass_list: # za svaku masu u listi sortiranih masa\n",
        "    # na conv nadodaj masu onoliko puta kolika joj je frekvenvija\n",
        "    conv += [mass] * freq_dict[mass]\n",
        "  return ' '.join([str(x) for x in conv]) # vrati mase\n",
        "\n",
        "ans = convolution([0, 137, 186, 323])\n",
        "print(ans)"
      ],
      "metadata": {
        "colab": {
          "base_uri": "https://localhost:8080/"
        },
        "id": "7GtmqWhsyTnu",
        "outputId": "c7341d17-30b4-4851-9635-7f6d396355c5"
      },
      "execution_count": 67,
      "outputs": [
        {
          "output_type": "stream",
          "name": "stdout",
          "text": [
            "137 137 186 186 323 49\n"
          ]
        }
      ]
    },
    {
      "cell_type": "code",
      "source": [
        "with open(\"rosalind_ba4h.txt\", \"r\") as f:\n",
        "  spect = f.readline().split()\n",
        "spectrum_ = [int(x) for x in spect]\n",
        "res = convolution(spectrum_)\n",
        "res"
      ],
      "metadata": {
        "colab": {
          "base_uri": "https://localhost:8080/",
          "height": 109
        },
        "id": "zkZgxap97m_w",
        "outputId": "5456edd8-e56f-449a-e6a6-178e68da992b"
      },
      "execution_count": 68,
      "outputs": [
        {
          "output_type": "execute_result",
          "data": {
            "text/plain": [
              "'87 87 87 87 87 87 87 87 87 87 87 87 87 87 87 87 87 87 87 87 87 87 87 87 87 87 87 87 87 87 87 87 87 87 87 87 87 87 87 87 87 87 87 87 87 87 87 87 87 87 87 87 87 87 87 87 87 87 87 87 87 87 87 87 87 87 87 87 87 87 87 87 87 87 87 87 87 87 87 87 87 87 87 87 87 87 87 87 87 87 87 87 87 87 87 87 87 87 87 87 87 87 87 87 87 87 87 87 87 87 87 87 87 87 87 87 87 87 87 87 87 87 87 87 87 87 87 87 87 87 87 87 87 87 87 87 87 87 87 87 87 87 87 87 87 87 87 87 87 87 87 87 87 87 87 87 87 87 87 87 87 87 87 87 113 113 113 113 113 113 113 113 113 113 113 113 113 113 113 113 113 113 113 113 113 113 113 113 113 113 113 113 113 113 113 113 113 113 113 113 113 113 113 113 113 113 113 113 113 113 113 113 113 113 113 113 113 113 113 113 113 113 113 113 113 113 113 113 113 113 113 113 113 113 113 113 113 113 113 113 113 113 113 113 113 113 113 113 113 113 113 113 113 113 113 113 113 113 113 113 113 113 113 113 113 113 113 113 113 113 113 113 113 113 113 113 113 113 113 113 113 113 113 113 113 113 113 113 113 113 113 113 113 113 113 113 113 113 113 113 113 113 113 113 113 113 113 113 113 113 113 113 113 113 113 113 113 113 113 113 113 113 71 71 71 71 71 71 71 71 71 71 71 71 71 71 71 71 71 71 71 71 71 71 71 71 71 71 71 71 71 71 71 71 71 71 71 71 71 71 71 71 71 71 71 71 71 71 71 71 71 71 71 71 71 71 71 71 71 71 71 71 71 71 71 71 71 71 71 71 71 71 71 71 71 71 71 71 71 71 71 71 71 71 71 71 71 71 71 71 71 71 71 71 71 71 71 71 71 71 71 71 71 71 71 71 71 71 71 71 71 71 71 71 71 71 71 71 71 71 71 71 71 71 71 71 71 71 71 71 71 71 71 71 71 71 71 71 71 71 71 71 101 101 101 101 101 101 101 101 101 101 101 101 101 101 101 101 101 101 101 101 101 101 101 101 101 101 101 101 101 101 101 101 101 101 101 101 101 101 101 101 101 101 101 101 101 101 101 101 101 101 101 101 101 101 101 101 101 101 101 101 101 101 101 101 101 101 101 101 101 101 101 101 101 101 101 101 101 101 101 101 101 101 101 101 101 101 101 101 101 101 101 101 101 101 101 101 101 101 101 101 101 101 101 101 101 101 101 101 101 101 101 101 101 101 101 101 101 101 101 101 101 101 101 101 259 259 259 259 259 259 259 259 259 259 259 259 259 259 259 259 259 259 259 259 259 259 259 259 259 259 259 259 259 259 259 259 259 259 259 259 259 259 259 259 259 259 259 259 259 259 259 259 259 259 259 259 259 259 259 259 259 259 259 259 259 259 259 259 259 259 259 259 259 259 259 259 259 259 259 259 259 259 259 259 259 259 259 259 259 259 259 259 259 259 259 259 259 259 259 259 259 259 259 259 259 259 259 259 259 259 259 259 259 259 259 259 259 259 259 259 259 259 259 259 259 259 259 259 200 200 200 200 200 200 200 200 200 200 200 200 200 200 200 200 200 200 200 200 200 200 200 200 200 200 200 200 200 200 200 200 200 200 200 200 200 200 200 200 200 200 200 200 200 200 200 200 200 200 200 200 200 200 200 200 200 200 200 200 200 200 200 200 200 200 200 200 200 200 200 200 200 200 200 200 200 200 200 200 200 200 200 200 200 200 200 200 200 200 200 200 200 200 200 200 200 200 200 200 200 200 200 200 200 200 200 200 200 200 158 158 158 158 158 158 158 158 158 158 158 158 158 158 158 158 158 158 158 158 158 158 158 158 158 158 158 158 158 158 158 158 158 158 158 158 158 158 158 158 158 158 158 158 158 158 158 158 158 158 158 158 158 158 158 158 158 158 158 158 158 158 158 158 158 158 158 158 158 158 158 158 158 158 158 158 158 158 158 158 158 158 158 158 158 158 158 158 158 158 158 158 158 158 158 158 158 158 158 158 158 158 158 158 158 158 158 158 99 99 99 99 99 99 99 99 99 99 99 99 99 99 99 99 99 99 99 99 99 99 99 99 99 99 99 99 99 99 99 99 99 99 99 99 99 99 99 99 99 99 99 99 99 99 99 99 99 99 99 99 99 99 99 99 99 99 99 99 99 99 99 99 99 99 99 99 99 99 99 99 99 99 99 99 99 99 99 99 99 99 99 99 99 99 99 99 99 99 99 99 99 99 99 99 99 99 99 99 99 99 99 99 99 99 186 186 186 186 186 186 186 186 186 186 186 186 186 186 186 186 186 186 186 186 186 186 186 186 186 186 186 186 186 186 186 186 186 186 186 186 186 186 186 186 186 186 186 186 186 186 186 186 186 186 186 186 186 186 186 186 186 186 186 186 186 186 186 186 186 186 186 186 186 186 186 186 186 186 186 186 186 186 186 186 186 186 186 186 186 186 186 186 186 186 186 186 186 186 186 186 186 186 186 186 186 186 186 186 186 186 188 188 188 188 188 188 188 188 188 188 188 188 188 188 188 188 188 188 188 188 188 188 188 188 188 188 188 188 188 188 188 188 188 188 188 188 188 188 188 188 188 188 188 188 188 188 188 188 188 188 188 188 188 188 188 188 188 188 188 188 188 188 188 188 188 188 188 188 188 188 188 188 188 188 188 188 188 188 188 188 188 188 188 188 188 188 188 188 188 188 188 188 188 188 188 188 188 188 188 188 188 188 388 388 388 388 388 388 388 388 388 388 388 388 388 388 388 388 388 388 388 388 388 388 388 388 388 388 388 388 388 388 388 388 388 388 388 388 388 388 388 388 388 388 388 388 388 388 388 388 388 388 388 388 388 388 388 388 388 388 388 388 388 388 388 388 388 388 388 388 388 388 388 388 388 388 388 388 388 388 388 388 388 388 388 388 388 388 388 388 388 388 388 388 388 388 388 388 388 388 388 388 301 301 301 301 301 301 301 301 301 301 301 301 301 301 301 301 301 301 301 301 301 301 301 301 301 301 301 301 301 301 301 301 301 301 301 301 301 301 301 301 301 301 301 301 301 301 301 301 301 301 301 301 301 301 301 301 301 301 301 301 301 301 301 301 301 301 301 301 301 301 301 301 301 301 301 301 301 301 301 301 301 301 301 301 301 301 301 301 301 301 301 301 301 301 301 301 301 301 346 346 346 346 346 346 346 346 346 346 346 346 346 346 346 346 346 346 346 346 346 346 346 346 346 346 346 346 346 346 346 346 346 346 346 346 346 346 346 346 346 346 346 346 346 346 346 346 346 346 346 346 346 346 346 346 346 346 346 346 346 346 346 346 346 346 346 346 346 346 346 346 346 346 346 346 346 346 346 346 346 346 346 346 346 346 346 346 346 346 346 346 346 346 333 333 333 333 333 333 333 333 333 333 333 333 333 333 333 333 333 333 333 333 333 333 333 333 333 333 333 333 333 333 333 333 333 333 333 333 333 333 333 333 333 333 333 333 333 333 333 333 333 333 333 333 333 333 333 333 333 333 333 333 333 333 333 333 333 333 333 333 333 333 333 333 333 333 333 333 333 333 333 333 333 333 333 333 333 333 333 333 333 333 333 333 459 459 459 459 459 459 459 459 459 459 459 459 459 459 459 459 459 459 459 459 459 459 459 459 459 459 459 459 459 459 459 459 459 459 459 459 459 459 459 459 459 459 459 459 459 459 459 459 459 459 459 459 459 459 459 459 459 459 459 459 459 459 459 459 459 459 459 459 459 459 459 459 459 459 459 459 459 459 459 459 459 459 459 459 459 459 459 459 459 459 459 459 560 560 560 560 560 560 560 560 560 560 560 560 560 560 560 560 560 560 560 560 560 560 560 560 560 560 560 560 560 560 560 560 560 560 560 560 560 560 560 560 560 560 560 560 560 560 560 560 560 560 560 560 560 560 560 560 560 560 560 560 560 560 560 560 560 560 560 560 560 560 560 560 560 560 560 560 560 560 560 560 560 560 560 560 560 560 560 560 560 560 560 560 26 26 26 26 26 26 26 26 26 26 26 26 26 26 26 26 26 26 26 26 26 26 26 26 26 26 26 26 26 26 26 26 26 26 26 26 26 26 26 26 26 26 26 26 26 26 26 26 26 26 26 26 26 26 26 26 26 26 26 26 26 26 26 26 26 26 26 26 26 26 26 26 26 26 26 26 26 26 26 26 26 26 26 26 26 26 26 26 26 26 647 647 647 647 647 647 647 647 647 647 647 647 647 647 647 647 647 647 647 647 647 647 647 647 647 647 647 647 647 647 647 647 647 647 647 647 647 647 647 647 647 647 647 647 647 647 647 647 647 647 647 647 647 647 647 647 647 647 647 647 647 647 647 647 647 647 647 647 647 647 647 647 647 647 647 647 647 647 647 647 647 647 647 647 647 647 647 647 257 257 257 257 257 257 257 257 257 257 257 257 257 257 257 257 257 257 257 257 257 257 257 257 257 257 257 257 257 257 257 257 257 257 257 257 257 257 257 257 257 257 257 257 257 257 257 257 257 257 257 257 257 257 257 257 257 257 257 257 257 257 257 257 257 257 257 257 257 257 257 257 257 257 257 257 257 257 257 257 257 257 257 257 257 257 414 414 414 414 414 414 414 414 414 414 414 414 414 414 414 414 414 414 414 414 414 414 414 414 414 414 414 414 414 414 414 414 414 414 414 414 414 414 414 414 414 414 414 414 414 414 414 414 414 414 414 414 414 414 414 414 414 414 414 414 414 414 414 414 414 414 414 414 414 414 414 414 414 414 414 414 414 414 414 414 414 414 414 414 414 414 760 760 760 760 760 760 760 760 760 760 760 760 760 760 760 760 760 760 760 760 760 760 760 760 760 760 760 760 760 760 760 760 760 760 760 760 760 760 760 760 760 760 760 760 760 760 760 760 760 760 760 760 760 760 760 760 760 760 760 760 760 760 760 760 760 760 760 760 760 760 760 760 760 760 760 760 760 760 760 760 760 760 760 760 760 760 314 314 314 314 314 314 314 314 314 314 314 314 314 314 314 314 314 314 314 314 314 314 314 314 314 314 314 314 314 314 314 314 314 314 314 314 314 314 314 314 314 314 314 314 314 314 314 314 314 314 314 314 314 314 314 314 314 314 314 314 314 314 314 314 314 314 314 314 314 314 314 314 314 314 314 314 314 314 314 314 314 314 314 314 533 533 533 533 533 533 533 533 533 533 533 533 533 533 533 533 533 533 533 533 533 533 533 533 533 533 533 533 533 533 533 533 533 533 533 533 533 533 533 533 533 533 533 533 533 533 533 533 533 533 533 533 533 533 533 533 533 533 533 533 533 533 533 533 533 533 533 533 533 533 533 533 533 533 533 533 533 533 533 533 533 533 533 533 16 16 16 16 16 16 16 16 16 16 16 16 16 16 16 16 16 16 16 16 16 16 16 16 16 16 16 16 16 16 16 16 16 16 16 16 16 16 16 16 16 16 16 16 16 16 16 16 16 16 16 16 16 16 16 16 16 16 16 16 16 16 16 16 16 16 16 16 16 16 16 16 16 16 16 16 16 16 16 16 16 16 370 370 370 370 370 370 370 370 370 370 370 370 370 370 370 370 370 370 370 370 370 370 370 370 370 370 370 370 370 370 370 370 370 370 370 370 370 370 370 370 370 370 370 370 370 370 370 370 370 370 370 370 370 370 370 370 370 370 370 370 370 370 370 370 370 370 370 370 370 370 370 370 370 370 370 370 370 370 370 370 370 370 12 12 12 12 12 12 12 12 12 12 12 12 12 12 12 12 12 12 12 12 12 12 12 12 12 12 12 12 12 12 12 12 12 12 12 12 12 12 12 12 12 12 12 12 12 12 12 12 12 12 12 12 12 12 12 12 12 12 12 12 12 12 12 12 12 12 12 12 12 12 12 12 12 12 12 12 12 12 12 12 97 97 97 97 97 97 97 97 97 97 97 97 97 97 97 97 97 97 97 97 97 97 97 97 97 97 97 97 97 97 97 97 97 97 97 97 97 97 97 97 97 97 97 97 97 97 97 97 97 97 97 97 97 97 97 97 97 97 97 97 97 97 97 97 97 97 97 97 97 97 97 97 97 97 97 97 97 97 97 97 227 227 227 227 227 227 227 227 227 227 227 227 227 227 227 227 227 227 227 227 227 227 227 227 227 227 227 227 227 227 227 227 227 227 227 227 227 227 227 227 227 227 227 227 227 227 227 227 227 227 227 227 227 227 227 227 227 227 227 227 227 227 227 227 227 227 227 227 227 227 227 227 227 227 227 227 227 227 227 227 234 234 234 234 234 234 234 234 234 234 234 234 234 234 234 234 234 234 234 234 234 234 234 234 234 234 234 234 234 234 234 234 234 234 234 234 234 234 234 234 234 234 234 234 234 234 234 234 234 234 234 234 234 234 234 234 234 234 234 234 234 234 234 234 234 234 234 234 234 234 234 234 234 234 234 234 234 234 234 234 172 172 172 172 172 172 172 172 172 172 172 172 172 172 172 172 172 172 172 172 172 172 172 172 172 172 172 172 172 172 172 172 172 172 172 172 172 172 172 172 172 172 172 172 172 172 172 172 172 172 172 172 172 172 172 172 172 172 172 172 172 172 172 172 172 172 172 172 172 172 172 172 172 172 172 172 172 172 184 184 184 184 184 184 184 184 184 184 184 184 184 184 184 184 184 184 184 184 184 184 184 184 184 184 184 184 184 184 184 184 184 184 184 184 184 184 184 184 184 184 184 184 184 184 184 184 184 184 184 184 184 184 184 184 184 184 184 184 184 184 184 184 184 184 184 184 184 184 184 184 184 184 184 184 184 184 420 420 420 420 420 420 420 420 420 420 420 420 420 420 420 420 420 420 420 420 420 420 420 420 420 420 420 420 420 420 420 420 420 420 420 420 420 420 420 420 420 420 420 420 420 420 420 420 420 420 420 420 420 420 420 420 420 420 420 420 420 420 420 420 420 420 420 420 420 420 420 420 420 420 420 420 420 420 501 501 501 501 501 501 501 501 501 501 501 501 501 501 501 501 501 501 501 501 501 501 501 501 501 501 501 501 501 501 501 501 501 501 501 501 501 501 501 501 501 501 501 501 501 501 501 501 501 501 501 501 501 501 501 501 501 501 501 501 501 501 501 501 501 501 501 501 501 501 501 501 501 501 501 501 501 501 597 597 597 597 597 597 597 597 597 597 597 597 597 597 597 597 597 597 597 597 597 597 597 597 597 597 597 597 597 597 597 597 597 597 597 597 597 597 597 597 597 597 597 597 597 597 597 597 597 597 597 597 597 597 597 597 597 597 597 597 597 597 597 597 597 597 597 597 597 597 597 597 597 597 597 597 597 597 42 42 42 42 42 42 42 42 42 42 42 42 42 42 42 42 42 42 42 42 42 42 42 42 42 42 42 42 42 42 42 42 42 42 42 42 42 42 42 42 42 42 42 42 42 42 42 42 42 42 42 42 42 42 42 42 42 42 42 42 42 42 42 42 42 42 42 42 42 42 42 42 42 42 42 42 299 299 299 299 299 299 299 299 299 299 299 299 299 299 299 299 299 299 299 299 299 299 299 299 299 299 299 299 299 299 299 299 299 299 299 299 299 299 299 299 299 299 299 299 299 299 299 299 299 299 299 299 299 299 299 299 299 299 299 299 299 299 299 299 299 299 299 299 299 299 299 299 299 299 299 299 372 372 372 372 372 372 372 372 372 372 372 372 372 372 372 372 372 372 372 372 372 372 372 372 372 372 372 372 372 372 372 372 372 372 372 372 372 372 372 372 372 372 372 372 372 372 372 372 372 372 372 372 372 372 372 372 372 372 372 372 372 372 372 372 372 372 372 372 372 372 372 372 372 372 372 372 413 413 413 413 413 413 413 413 413 413 413 413 413 413 413 413 413 413 413 413 413 413 413 413 413 413 413 413 413 413 413 413 413 413 413 413 413 413 413 413 413 413 413 413 413 413 413 413 413 413 413 413 413 413 413 413 413 413 413 413 413 413 413 413 413 413 413 413 413 413 413 413 413 413 413 413 673 673 673 673 673 673 673 673 673 673 673 673 673 673 673 673 673 673 673 673 673 673 673 673 673 673 673 673 673 673 673 673 673 673 673 673 673 673 673 673 673 673 673 673 673 673 673 673 673 673 673 673 673 673 673 673 673 673 673 673 673 673 673 673 673 673 673 673 673 673 673 673 673 673 673 673 930 930 930 930 930 930 930 930 930 930 930 930 930 930 930 930 930 930 930 930 930 930 930 930 930 930 930 930 930 930 930 930 930 930 930 930 930 930 930 930 930 930 930 930 930 930 930 930 930 930 930 930 930 930 930 930 930 930 930 930 930 930 930 930 930 930 930 930 930 930 930 930 930 930 930 930 859 859 859 859 859 859 859 859 859 859 859 859 859 859 859 859 859 859 859 859 859 859 859 859 859 859 859 859 859 859 859 859 859 859 859 859 859 859 859 859 859 859 859 859 859 859 859 859 859 859 859 859 859 859 859 859 859 859 859 859 859 859 859 859 859 859 859 859 859 859 859 859 859 859 859 32 32 32 32 32 32 32 32 32 32 32 32 32 32 32 32 32 32 32 32 32 32 32 32 32 32 32 32 32 32 32 32 32 32 32 32 32 32 32 32 32 32 32 32 32 32 32 32 32 32 32 32 32 32 32 32 32 32 32 32 32 32 32 32 32 32 32 32 32 32 32 32 32 32 214 214 214 214 214 214 214 214 214 214 214 214 214 214 214 214 214 214 214 214 214 214 214 214 214 214 214 214 214 214 214 214 214 214 214 214 214 214 214 214 214 214 214 214 214 214 214 214 214 214 214 214 214 214 214 214 214 214 214 214 214 214 214 214 214 214 214 214 214 214 214 214 214 214 446 446 446 446 446 446 446 446 446 446 446 446 446 446 446 446 446 446 446 446 446 446 446 446 446 446 446 446 446 446 446 446 446 446 446 446 446 446 446 446 446 446 446 446 446 446 446 446 446 446 446 446 446 446 446 446 446 446 446 446 446 446 446 446 446 446 446 446 446 446 446 446 446 446 129 129 129 129 129 129 129 129 129 129 129 129 129 129 129 129 129 129 129 129 129 129 129 129 129 129 129 129 129 129 129 129 129 129 129 129 129 129 129 129 129 129 129 129 129 129 129 129 129 129 129 129 129 129 129 129 129 129 129 129 129 129 129 129 129 129 129 129 129 129 129 129 358 358 358 358 358 358 358 358 358 358 358 358 358 358 358 358 358 358 358 358 358 358 358 358 358 358 358 358 358 358 358 358 358 358 358 358 358 358 358 358 358 358 358 358 358 358 358 358 358 358 358 358 358 358 358 358 358 358 358 358 358 358 358 358 358 358 358 358 358 358 358 358 659 659 659 659 659 659 659 659 659 659 659 659 659 659 659 659 659 659 659 659 659 659 659 659 659 659 659 659 659 659 659 659 659 659 659 659 659 659 659 659 659 659 659 659 659 659 659 659 659 659 659 659 659 659 659 659 659 659 659 659 659 659 659 659 659 659 659 659 659 659 659 659 746 746 746 746 746 746 746 746 746 746 746 746 746 746 746 746 746 746 746 746 746 746 746 746 746 746 746 746 746 746 746 746 746 746 746 746 746 746 746 746 746 746 746 746 746 746 746 746 746 746 746 746 746 746 746 746 746 746 746 746 746 746 746 746 746 746 746 746 746 746 746 746 14 14 14 14 14 14 14 14 14 14 14 14 14 14 14 14 14 14 14 14 14 14 14 14 14 14 14 14 14 14 14 14 14 14 14 14 14 14 14 14 14 14 14 14 14 14 14 14 14 14 14 14 14 14 14 14 14 14 14 14 14 14 14 14 14 14 14 14 14 14 287 287 287 287 287 287 287 287 287 287 287 287 287 287 287 287 287 287 287 287 287 287 287 287 287 287 287 287 287 287 287 287 287 287 287 287 287 287 287 287 287 287 287 287 287 287 287 287 287 287 287 287 287 287 287 287 287 287 287 287 287 287 287 287 287 287 287 287 287 287 1017 1017 1017 1017 1017 1017 1017 1017 1017 1017 1017 1017 1017 1017 1017 1017 1017 1017 1017 1017 1017 1017 1017 1017 1017 1017 1017 1017 1017 1017 1017 1017 1017 1017 1017 1017 1017 1017 1017 1017 1017 1017 1017 1017 1017 1017 1017 1017 1017 1017 1017 1017 1017 1017 1017 1017 1017 1017 1017 1017 1017 1017 1017 1017 1017 1017 1017 1017 1017 1017 73 73 73 73 73 73 73 73 73 73 73 73 73 73 73 73 73 73 73 73 73 73 73 73 73 73 73 73 73 73 73 73 73 73 73 73 73 73 73 73 73 73 73 73 73 73 73 73 73 73 73 73 73 73 73 73 73 73 73 73 73 73 73 73 73 73 73 73 484 484 484 484 484 484 484 484 484 484 484 484 484 484 484 484 484 484 484 484 484 484 484 484 484 484 484 484 484 484 484 484 484 484 484 484 484 484 484 484 484 484 484 484 484 484 484 484 484 484 484 484 484 484 484 484 484 484 484 484 484 484 484 484 484 484 484 484 526 526 526 526 526 526 526 526 526 526 526 526 526 526 526 526 526 526 526 526 526 526 526 526 526 526 526 526 526 526 526 526 526 526 526 526 526 526 526 526 526 526 526 526 526 526 526 526 526 526 526 526 526 526 526 526 526 526 526 526 526 526 526 526 526 526 526 526 170 170 170 170 170 170 170 170 170 170 170 170 170 170 170 170 170 170 170 170 170 170 170 170 170 170 170 170 170 170 170 170 170 170 170 170 170 170 170 170 170 170 170 170 170 170 170 170 170 170 170 170 170 170 170 170 170 170 170 170 170 170 170 170 170 170 210 210 210 210 210 210 210 210 210 210 210 210 210 210 210 210 210 210 210 210 210 210 210 210 210 210 210 210 210 210 210 210 210 210 210 210 210 210 210 210 210 210 210 210 210 210 210 210 210 210 210 210 210 210 210 210 210 210 210 210 210 210 210 210 210 210 225 225 225 225 225 225 225 225 225 225 225 225 225 225 225 225 225 225 225 225 225 225 225 225 225 225 225 225 225 225 225 225 225 225 225 225 225 225 225 225 225 225 225 225 225 225 225 225 225 225 225 225 225 225 225 225 225 225 225 225 225 225 225 225 225 225 283 283 283 283 283 283 283 283 283 283 283 283 283 283 283 283 283 283 283 283 283 283 283 283 283 283 283 283 283 283 283 283 283 283 283 283 283 283 283 283 283 283 283 283 283 283 283 283 283 283 283 283 283 283 283 283 283 283 283 283 283 283 283 283 283 283 326 326 326 326 326 326 326 326 326 326 326 326 326 326 326 326 326 326 326 326 326 326 326 326 326 326 326 326 326 326 326 326 326 326 326 326 326 326 326 326 326 326 326 326 326 326 326 326 326 326 326 326 326 326 326 326 326 326 326 326 326 326 326 326 326 326 548 548 548 548 548 548 548 548 548 548 548 548 548 548 548 548 548 548 548 548 548 548 548 548 548 548 548 548 548 548 548 548 548 548 548 548 548 548 548 548 548 548 548 548 548 548 548 548 548 548 548 548 548 548 548 548 548 548 548 548 548 548 548 548 548 548 572 572 572 572 572 572 572 572 572 572 572 572 572 572 572 572 572 572 572 572 572 572 572 572 572 572 572 572 572 572 572 572 572 572 572 572 572 572 572 572 572 572 572 572 572 572 572 572 572 572 572 572 572 572 572 572 572 572 572 572 572 572 572 572 572 572 671 671 671 671 671 671 671 671 671 671 671 671 671 671 671 671 671 671 671 671 671 671 671 671 671 671 671 671 671 671 671 671 671 671 671 671 671 671 671 671 671 671 671 671 671 671 671 671 671 671 671 671 671 671 671 671 671 671 671 671 671 671 671 671 671 671 684 684 684 684 684 684 684 684 684 684 684 684 684 684 684 684 684 684 684 684 684 684 684 684 684 684 684 684 684 684 684 684 684 684 684 684 684 684 684 684 684 684 684 684 684 684 684 684 684 684 684 684 684 684 684 684 684 684 684 684 684 684 684 684 684 684 734 734 734 734 734 734 734 734 734 734 734 734 734 734 734 734 734 734 734 734 734 734 734 734 734 734 734 734 734 734 734 734 734 734 734 734 734 734 734 734 734 734 734 734 734 734 734 734 734 734 734 734 734 734 734 734 734 734 734 734 734 734 734 734 734 734 2 2 2 2 2 2 2 2 2 2 2 2 2 2 2 2 2 2 2 2 2 2 2 2 2 2 2 2 2 2 2 2 2 2 2 2 2 2 2 2 2 2 2 2 2 2 2 2 2 2 2 2 2 2 2 2 2 2 2 2 2 2 2 2 89 89 89 89 89 89 89 89 89 89 89 89 89 89 89 89 89 89 89 89 89 89 89 89 89 89 89 89 89 89 89 89 89 89 89 89 89 89 89 89 89 89 89 89 89 89 89 89 89 89 89 89 89 89 89 89 89 89 89 89 89 89 89 89 146 146 146 146 146 146 146 146 146 146 146 146 146 146 146 146 146 146 146 146 146 146 146 146 146 146 146 146 146 146 146 146 146 146 146 146 146 146 146 146 146 146 146 146 146 146 146 146 146 146 146 146 146 146 146 146 146 146 146 146 146 146 146 146 160 160 160 160 160 160 160 160 160 160 160 160 160 160 160 160 160 160 160 160 160 160 160 160 160 160 160 160 160 160 160 160 160 160 160 160 160 160 160 160 160 160 160 160 160 160 160 160 160 160 160 160 160 160 160 160 160 160 160 160 160 160 160 160 275 275 275 275 275 275 275 275 275 275 275 275 275 275 275 275 275 275 275 275 275 275 275 275 275 275 275 275 275 275 275 275 275 275 275 275 275 275 275 275 275 275 275 275 275 275 275 275 275 275 275 275 275 275 275 275 275 275 275 275 275 275 275 275 347 347 347 347 347 347 347 347 347 347 347 347 347 347 347 347 347 347 347 347 347 347 347 347 347 347 347 347 347 347 347 347 347 347 347 347 347 347 347 347 347 347 347 347 347 347 347 347 347 347 347 347 347 347 347 347 347 347 347 347 347 347 347 347 758 758 758 758 758 758 758 758 758 758 758 758 758 758 758 758 758 758 758 758 758 758 758 758 758 758 758 758 758 758 758 758 758 758 758 758 758 758 758 758 758 758 758 758 758 758 758 758 758 758 758 758 758 758 758 758 758 758 758 758 758 758 758 758 847 847 847 847 847 847 847 847 847 847 847 847 847 847 847 847 847 847 847 847 847 847 847 847 847 847 847 847 847 847 847 847 847 847 847 847 847 847 847 847 847 847 847 847 847 847 847 847 847 847 847 847 847 847 847 847 847 847 847 847 847 847 847 847 114 114 114 114 114 114 114 114 114 114 114 114 114 114 114 114 114 114 114 114 114 114 114 114 114 114 114 114 114 114 114 114 114 114 114 114 114 114 114 114 114 114 114 114 114 114 114 114 114 114 114 114 114 114 114 114 114 114 114 114 114 114 212 212 212 212 212 212 212 212 212 212 212 212 212 212 212 212 212 212 212 212 212 212 212 212 212 212 212 212 212 212 212 212 212 212 212 212 212 212 212 212 212 212 212 212 212 212 212 212 212 212 212 212 212 212 212 212 212 212 212 212 212 212 232 232 232 232 232 232 232 232 232 232 232 232 232 232 232 232 232 232 232 232 232 232 232 232 232 232 232 232 232 232 232 232 232 232 232 232 232 232 232 232 232 232 232 232 232 232 232 232 232 232 232 232 232 232 232 232 232 232 232 232 232 232 246 246 246 246 246 246 246 246 246 246 246 246 246 246 246 246 246 246 246 246 246 246 246 246 246 246 246 246 246 246 246 246 246 246 246 246 246 246 246 246 246 246 246 246 246 246 246 246 246 246 246 246 246 246 246 246 246 246 246 246 246 246 485 485 485 485 485 485 485 485 485 485 485 485 485 485 485 485 485 485 485 485 485 485 485 485 485 485 485 485 485 485 485 485 485 485 485 485 485 485 485 485 485 485 485 485 485 485 485 485 485 485 485 485 485 485 485 485 485 485 485 485 485 485 491 491 491 491 491 491 491 491 491 491 491 491 491 491 491 491 491 491 491 491 491 491 491 491 491 491 491 491 491 491 491 491 491 491 491 491 491 491 491 491 491 491 491 491 491 491 491 491 491 491 491 491 491 491 491 491 491 491 491 491 491 491 558 558 558 558 558 558 558 558 558 558 558 558 558 558 558 558 558 558 558 558 558 558 558 558 558 558 558 558 558 558 558 558 558 558 558 558 558 558 558 558 558 558 558 558 558 558 558 558 558 558 558 558 558 558 558 558 558 558 558 558 558 558 792 792 792 792 792 792 792 792 792 792 792 792 792 792 792 792 792 792 792 792 792 792 792 792 792 792 792 792 792 792 792 792 792 792 792 792 792 792 792 792 792 792 792 792 792 792 792 792 792 792 792 792 792 792 792 792 792 792 792 792 792 792 817 817 817 817 817 817 817 817 817 817 817 817 817 817 817 817 817 817 817 817 817 817 817 817 817 817 817 817 817 817 817 817 817 817 817 817 817 817 817 817 817 817 817 817 817 817 817 817 817 817 817 817 817 817 817 817 817 817 817 817 817 817 918 918 918 918 918 918 918 918 918 918 918 918 918 918 918 918 918 918 918 918 918 918 918 918 918 918 918 918 918 918 918 918 918 918 918 918 918 918 918 918 918 918 918 918 918 918 918 918 918 918 918 918 918 918 918 918 918 918 918 918 918 918 946 946 946 946 946 946 946 946 946 946 946 946 946 946 946 946 946 946 946 946 946 946 946 946 946 946 946 946 946 946 946 946 946 946 946 946 946 946 946 946 946 946 946 946 946 946 946 946 946 946 946 946 946 946 946 946 946 946 946 946 946 946 471 471 471 471 471 471 471 471 471 471 471 471 471 471 471 471 471 471 471 471 471 471 471 471 471 471 471 471 471 471 471 471 471 471 471 471 471 471 471 471 471 471 471 471 471 471 471 471 471 471 471 471 471 471 471 471 471 471 471 471 471 24 24 24 24 24 24 24 24 24 24 24 24 24 24 24 24 24 24 24 24 24 24 24 24 24 24 24 24 24 24 24 24 24 24 24 24 24 24 24 24 24 24 24 24 24 24 24 24 24 24 24 24 24 24 24 24 24 24 24 24 55 55 55 55 55 55 55 55 55 55 55 55 55 55 55 55 55 55 55 55 55 55 55 55 55 55 55 55 55 55 55 55 55 55 55 55 55 55 55 55 55 55 55 55 55 55 55 55 55 55 55 55 55 55 55 55 55 55 55 55 546 546 546 546 546 546 546 546 546 546 546 546 546 546 546 546 546 546 546 546 546 546 546 546 546 546 546 546 546 546 546 546 546 546 546 546 546 546 546 546 546 546 546 546 546 546 546 546 546 546 546 546 546 546 546 546 546 546 546 546 679 679 679 679 679 679 679 679 679 679 679 679 679 679 679 679 679 679 679 679 679 679 679 679 679 679 679 679 679 679 679 679 679 679 679 679 679 679 679 679 679 679 679 679 679 679 679 679 679 679 679 679 679 679 679 679 679 679 679 679 57 57 57 57 57 57 57 57 57 57 57 57 57 57 57 57 57 57 57 57 57 57 57 57 57 57 57 57 57 57 57 57 57 57 57 57 57 57 57 57 57 57 57 57 57 57 57 57 57 57 57 57 57 57 57 57 57 57 137 137 137 137 137 137 137 137 137 137 137 137 137 137 137 137 137 137 137 137 137 137 137 137 137 137 137 137 137 137 137 137 137 137 137 137 137 137 137 137 137 137 137 137 137 137 137 137 137 137 137 137 137 137 137 137 137 137 145 145 145 145 145 145 145 145 145 145 145 145 145 145 145 145 145 145 145 145 145 145 145 145 145 145 145 145 145 145 145 145 145 145 145 145 145 145 145 145 145 145 145 145 145 145 145 145 145 145 145 145 145 145 145 145 145 145 154 154 154 154 154 154 154 154 154 154 154 154 154 154 154 154 154 154 154 154 154 154 154 154 154 154 154 154 154 154 154 154 154 154 154 154 154 154 154 154 154 154 154 154 154 154 154 154 154 154 154 154 154 154 154 154 154 154 156 156 156 156 156 156 156 156 156 156 156 156 156 156 156 156 156 156 156 156 156 156 156 156 156 156 156 156 156 156 156 156 156 156 156 156 156 156 156 156 156 156 156 156 156 156 156 156 156 156 156 156 156 156 156 156 156 156 202 202 202 202 202 202 202 202 202 202 202 202 202 202 202 202 202 202 202 202 202 202 202 202 202 202 202 202 202 202 202 202 202 202 202 202 202 202 202 202 202 202 202 202 202 202 202 202 202 202 202 202 202 202 202 202 202 202 245 245 245 245 245 245 245 245 245 245 245 245 245 245 245 245 245 245 245 245 245 245 245 245 245 245 245 245 245 245 245 245 245 245 245 245 245 245 245 245 245 245 245 245 245 245 245 245 245 245 245 245 245 245 245 245 245 245 271 271 271 271 271 271 271 271 271 271 271 271 271 271 271 271 271 271 271 271 271 271 271 271 271 271 271 271 271 271 271 271 271 271 271 271 271 271 271 271 271 271 271 271 271 271 271 271 271 271 271 271 271 271 271 271 271 271 445 445 445 445 445 445 445 445 445 445 445 445 445 445 445 445 445 445 445 445 445 445 445 445 445 445 445 445 445 445 445 445 445 445 445 445 445 445 445 445 445 445 445 445 445 445 445 445 445 445 445 445 445 445 445 445 445 445 489 489 489 489 489 489 489 489 489 489 489 489 489 489 489 489 489 489 489 489 489 489 489 489 489 489 489 489 489 489 489 489 489 489 489 489 489 489 489 489 489 489 489 489 489 489 489 489 489 489 489 489 489 489 489 489 489 489 604 604 604 604 604 604 604 604 604 604 604 604 604 604 604 604 604 604 604 604 604 604 604 604 604 604 604 604 604 604 604 604 604 604 604 604 604 604 604 604 604 604 604 604 604 604 604 604 604 604 604 604 604 604 604 604 604 604 645 645 645 645 645 645 645 645 645 645 645 645 645 645 645 645 645 645 645 645 645 645 645 645 645 645 645 645 645 645 645 645 645 645 645 645 645 645 645 645 645 645 645 645 645 645 645 645 645 645 645 645 645 645 645 645 645 645 285 285 285 285 285 285 285 285 285 285 285 285 285 285 285 285 285 285 285 285 285 285 285 285 285 285 285 285 285 285 285 285 285 285 285 285 285 285 285 285 285 285 285 285 285 285 285 285 285 285 285 285 285 285 285 285 285 230 230 230 230 230 230 230 230 230 230 230 230 230 230 230 230 230 230 230 230 230 230 230 230 230 230 230 230 230 230 230 230 230 230 230 230 230 230 230 230 230 230 230 230 230 230 230 230 230 230 230 230 230 230 230 230 236 236 236 236 236 236 236 236 236 236 236 236 236 236 236 236 236 236 236 236 236 236 236 236 236 236 236 236 236 236 236 236 236 236 236 236 236 236 236 236 236 236 236 236 236 236 236 236 236 236 236 236 236 236 236 236 338 338 338 338 338 338 338 338 338 338 338 338 338 338 338 338 338 338 338 338 338 338 338 338 338 338 338 338 338 338 338 338 338 338 338 338 338 338 338 338 338 338 338 338 338 338 338 338 338 338 338 338 338 338 338 338 447 447 447 447 447 447 447 447 447 447 447 447 447 447 447 447 447 447 447 447 447 447 447 447 447 447 447 447 447 447 447 447 447 447 447 447 447 447 447 447 447 447 447 447 447 447 447 447 447 447 447 447 447 447 447 447 461 461 461 461 461 461 461 461 461 461 461 461 461 461 461 461 461 461 461 461 461 461 461 461 461 461 461 461 461 461 461 461 461 461 461 461 461 461 461 461 461 461 461 461 461 461 461 461 461 461 461 461 461 461 461 461 500 500 500 500 500 500 500 500 500 500 500 500 500 500 500 500 500 500 500 500 500 500 500 500 500 500 500 500 500 500 500 500 500 500 500 500 500 500 500 500 500 500 500 500 500 500 500 500 500 500 500 500 500 500 500 500 213 213 213 213 213 213 213 213 213 213 213 213 213 213 213 213 213 213 213 213 213 213 213 213 213 213 213 213 213 213 213 213 213 213 213 213 213 213 213 213 213 213 213 213 213 213 213 213 213 213 213 213 213 213 213 613 613 613 613 613 613 613 613 613 613 613 613 613 613 613 613 613 613 613 613 613 613 613 613 613 613 613 613 613 613 613 613 613 613 613 613 613 613 613 613 613 613 613 613 613 613 613 613 613 613 613 613 613 613 613 45 45 45 45 45 45 45 45 45 45 45 45 45 45 45 45 45 45 45 45 45 45 45 45 45 45 45 45 45 45 45 45 45 45 45 45 45 45 45 45 45 45 45 45 45 45 45 45 45 45 45 45 45 45 59 59 59 59 59 59 59 59 59 59 59 59 59 59 59 59 59 59 59 59 59 59 59 59 59 59 59 59 59 59 59 59 59 59 59 59 59 59 59 59 59 59 59 59 59 59 59 59 59 59 59 59 59 59 74 74 74 74 74 74 74 74 74 74 74 74 74 74 74 74 74 74 74 74 74 74 74 74 74 74 74 74 74 74 74 74 74 74 74 74 74 74 74 74 74 74 74 74 74 74 74 74 74 74 74 74 74 74 190 190 190 190 190 190 190 190 190 190 190 190 190 190 190 190 190 190 190 190 190 190 190 190 190 190 190 190 190 190 190 190 190 190 190 190 190 190 190 190 190 190 190 190 190 190 190 190 190 190 190 190 190 190 312 312 312 312 312 312 312 312 312 312 312 312 312 312 312 312 312 312 312 312 312 312 312 312 312 312 312 312 312 312 312 312 312 312 312 312 312 312 312 312 312 312 312 312 312 312 312 312 312 312 312 312 312 312 343 343 343 343 343 343 343 343 343 343 343 343 343 343 343 343 343 343 343 343 343 343 343 343 343 343 343 343 343 343 343 343 343 343 343 343 343 343 343 343 343 343 343 343 343 343 343 343 343 343 343 343 343 343 390 390 390 390 390 390 390 390 390 390 390 390 390 390 390 390 390 390 390 390 390 390 390 390 390 390 390 390 390 390 390 390 390 390 390 390 390 390 390 390 390 390 390 390 390 390 390 390 390 390 390 390 390 390 425 425 425 425 425 425 425 425 425 425 425 425 425 425 425 425 425 425 425 425 425 425 425 425 425 425 425 425 425 425 425 425 425 425 425 425 425 425 425 425 425 425 425 425 425 425 425 425 425 425 425 425 425 425 439 439 439 439 439 439 439 439 439 439 439 439 439 439 439 439 439 439 439 439 439 439 439 439 439 439 439 439 439 439 439 439 439 439 439 439 439 439 439 439 439 439 439 439 439 439 439 439 439 439 439 439 439 439 584 584 584 584 584 584 584 584 584 584 584 584 584 584 584 584 584 584 584 584 584 584 584 584 584 584 584 584 584 584 584 584 584 584 584 584 584 584 584 584 584 584 584 584 584 584 584 584 584 584 584 584 584 584 600 600 600 600 600 600 600 600 600 600 600 600 600 600 600 600 600 600 600 600 600 600 600 600 600 600 600 600 600 600 600 600 600 600 600 600 600 600 600 600 600 600 600 600 600 600 600 600 600 600 600 600 600 600 710 710 710 710 710 710 710 710 710 710 710 710 710 710 710 710 710 710 710 710 710 710 710 710 710 710 710 710 710 710 710 710 710 710 710 710 710 710 710 710 710 710 710 710 710 710 710 710 710 710 710 710 710 710 827 827 827 827 827 827 827 827 827 827 827 827 827 827 827 827 827 827 827 827 827 827 827 827 827 827 827 827 827 827 827 827 827 827 827 827 827 827 827 827 827 827 827 827 827 827 827 827 827 827 827 827 827 827 831 831 831 831 831 831 831 831 831 831 831 831 831 831 831 831 831 831 831 831 831 831 831 831 831 831 831 831 831 831 831 831 831 831 831 831 831 831 831 831 831 831 831 831 831 831 831 831 831 831 831 831 831 831 898 898 898 898 898 898 898 898 898 898 898 898 898 898 898 898 898 898 898 898 898 898 898 898 898 898 898 898 898 898 898 898 898 898 898 898 898 898 898 898 898 898 898 898 898 898 898 898 898 898 898 898 898 898 985 985 985 985 985 985 985 985 985 985 985 985 985 985 985 985 985 985 985 985 985 985 985 985 985 985 985 985 985 985 985 985 985 985 985 985 985 985 985 985 985 985 985 985 985 985 985 985 985 985 985 985 985 985 1130 1130 1130 1130 1130 1130 1130 1130 1130 1130 1130 1130 1130 1130 1130 1130 1130 1130 1130 1130 1130 1130 1130 1130 1130 1130 1130 1130 1130 1130 1130 1130 1130 1130 1130 1130 1130 1130 1130 1130 1130 1130 1130 1130 1130 1130 1130 1130 1130 1130 1130 1130 1130 1130 28 28 28 28 28 28 28 28 28 28 28 28 28 28 28 28 28 28 28 28 28 28 28 28 28 28 28 28 28 28 28 28 28 28 28 28 28 28 28 28 28 28 28 28 28 28 28 28 28 28 28 28 103 103 103 103 103 103 103 103 103 103 103 103 103 103 103 103 103 103 103 103 103 103 103 103 103 103 103 103 103 103 103 103 103 103 103 103 103 103 103 103 103 103 103 103 103 103 103 103 103 103 103 103 133 133 133 133 133 133 133 133 133 133 133 133 133 133 133 133 133 133 133 133 133 133 133 133 133 133 133 133 133 133 133 133 133 133 133 133 133 133 133 133 133 133 133 133 133 133 133 133 133 133 133 133 201 201 201 201 201 201 201 201 201 201 201 201 201 201 201 201 201 201 201 201 201 201 201 201 201 201 201 201 201 201 201 201 201 201 201 201 201 201 201 201 201 201 201 201 201 201 201 201 201 201 201 201 297 297 297 297 297 297 297 297 297 297 297 297 297 297 297 297 297 297 297 297 297 297 297 297 297 297 297 297 297 297 297 297 297 297 297 297 297 297 297 297 297 297 297 297 297 297 297 297 297 297 297 297 411 411 411 411 411 411 411 411 411 411 411 411 411 411 411 411 411 411 411 411 411 411 411 411 411 411 411 411 411 411 411 411 411 411 411 411 411 411 411 411 411 411 411 411 411 411 411 411 411 411 411 411 427 427 427 427 427 427 427 427 427 427 427 427 427 427 427 427 427 427 427 427 427 427 427 427 427 427 427 427 427 427 427 427 427 427 427 427 427 427 427 427 427 427 427 427 427 427 427 427 427 427 427 427 571 571 571 571 571 571 571 571 571 571 571 571 571 571 571 571 571 571 571 571 571 571 571 571 571 571 571 571 571 571 571 571 571 571 571 571 571 571 571 571 571 571 571 571 571 571 571 571 571 571 571 571 574 574 574 574 574 574 574 574 574 574 574 574 574 574 574 574 574 574 574 574 574 574 574 574 574 574 574 574 574 574 574 574 574 574 574 574 574 574 574 574 574 574 574 574 574 574 574 574 574 574 574 574 592 592 592 592 592 592 592 592 592 592 592 592 592 592 592 592 592 592 592 592 592 592 592 592 592 592 592 592 592 592 592 592 592 592 592 592 592 592 592 592 592 592 592 592 592 592 592 592 592 592 592 592 111 111 111 111 111 111 111 111 111 111 111 111 111 111 111 111 111 111 111 111 111 111 111 111 111 111 111 111 111 111 111 111 111 111 111 111 111 111 111 111 111 111 111 111 111 111 111 111 111 111 119 119 119 119 119 119 119 119 119 119 119 119 119 119 119 119 119 119 119 119 119 119 119 119 119 119 119 119 119 119 119 119 119 119 119 119 119 119 119 119 119 119 119 119 119 119 119 119 119 119 121 121 121 121 121 121 121 121 121 121 121 121 121 121 121 121 121 121 121 121 121 121 121 121 121 121 121 121 121 121 121 121 121 121 121 121 121 121 121 121 121 121 121 121 121 121 121 121 121 121 168 168 168 168 168 168 168 168 168 168 168 168 168 168 168 168 168 168 168 168 168 168 168 168 168 168 168 168 168 168 168 168 168 168 168 168 168 168 168 168 168 168 168 168 168 168 168 168 168 168 239 239 239 239 239 239 239 239 239 239 239 239 239 239 239 239 239 239 239 239 239 239 239 239 239 239 239 239 239 239 239 239 239 239 239 239 239 239 239 239 239 239 239 239 239 239 239 239 239 239 317 317 317 317 317 317 317 317 317 317 317 317 317 317 317 317 317 317 317 317 317 317 317 317 317 317 317 317 317 317 317 317 317 317 317 317 317 317 317 317 317 317 317 317 317 317 317 317 317 317 323 323 323 323 323 323 323 323 323 323 323 323 323 323 323 323 323 323 323 323 323 323 323 323 323 323 323 323 323 323 323 323 323 323 323 323 323 323 323 323 323 323 323 323 323 323 323 323 323 323 374 374 374 374 374 374 374 374 374 374 374 374 374 374 374 374 374 374 374 374 374 374 374 374 374 374 374 374 374 374 374 374 374 374 374 374 374 374 374 374 374 374 374 374 374 374 374 374 374 374 404 404 404 404 404 404 404 404 404 404 404 404 404 404 404 404 404 404 404 404 404 404 404 404 404 404 404 404 404 404 404 404 404 404 404 404 404 404 404 404 404 404 404 404 404 404 404 404 404 404 434 434 434 434 434 434 434 434 434 434 434 434 434 434 434 434 434 434 434 434 434 434 434 434 434 434 434 434 434 434 434 434 434 434 434 434 434 434 434 434 434 434 434 434 434 434 434 434 434 434 772 772 772 772 772 772 772 772 772 772 772 772 772 772 772 772 772 772 772 772 772 772 772 772 772 772 772 772 772 772 772 772 772 772 772 772 772 772 772 772 772 772 772 772 772 772 772 772 772 772 843 843 843 843 843 843 843 843 843 843 843 843 843 843 843 843 843 843 843 843 843 843 843 843 843 843 843 843 843 843 843 843 843 843 843 843 843 843 843 843 843 843 843 843 843 843 843 843 843 843 879 879 879 879 879 879 879 879 879 879 879 879 879 879 879 879 879 879 879 879 879 879 879 879 879 879 879 879 879 879 879 879 879 879 879 879 879 879 879 879 879 879 879 879 879 879 879 879 879 879 115 115 115 115 115 115 115 115 115 115 115 115 115 115 115 115 115 115 115 115 115 115 115 115 115 115 115 115 115 115 115 115 115 115 115 115 115 115 115 115 115 115 115 115 115 115 115 115 115 487 487 487 487 487 487 487 487 487 487 487 487 487 487 487 487 487 487 487 487 487 487 487 487 487 487 487 487 487 487 487 487 487 487 487 487 487 487 487 487 487 487 487 487 487 487 487 487 487 30 30 30 30 30 30 30 30 30 30 30 30 30 30 30 30 30 30 30 30 30 30 30 30 30 30 30 30 30 30 30 30 30 30 30 30 30 30 30 30 30 30 30 30 30 30 30 30 44 44 44 44 44 44 44 44 44 44 44 44 44 44 44 44 44 44 44 44 44 44 44 44 44 44 44 44 44 44 44 44 44 44 44 44 44 44 44 44 44 44 44 44 44 44 44 44 58 58 58 58 58 58 58 58 58 58 58 58 58 58 58 58 58 58 58 58 58 58 58 58 58 58 58 58 58 58 58 58 58 58 58 58 58 58 58 58 58 58 58 58 58 58 58 58 67 67 67 67 67 67 67 67 67 67 67 67 67 67 67 67 67 67 67 67 67 67 67 67 67 67 67 67 67 67 67 67 67 67 67 67 67 67 67 67 67 67 67 67 67 67 67 67 126 126 126 126 126 126 126 126 126 126 126 126 126 126 126 126 126 126 126 126 126 126 126 126 126 126 126 126 126 126 126 126 126 126 126 126 126 126 126 126 126 126 126 126 126 126 126 126 174 174 174 174 174 174 174 174 174 174 174 174 174 174 174 174 174 174 174 174 174 174 174 174 174 174 174 174 174 174 174 174 174 174 174 174 174 174 174 174 174 174 174 174 174 174 174 174 226 226 226 226 226 226 226 226 226 226 226 226 226 226 226 226 226 226 226 226 226 226 226 226 226 226 226 226 226 226 226 226 226 226 226 226 226 226 226 226 226 226 226 226 226 226 226 226 233 233 233 233 233 233 233 233 233 233 233 233 233 233 233 233 233 233 233 233 233 233 233 233 233 233 233 233 233 233 233 233 233 233 233 233 233 233 233 233 233 233 233 233 233 233 233 233 251 251 251 251 251 251 251 251 251 251 251 251 251 251 251 251 251 251 251 251 251 251 251 251 251 251 251 251 251 251 251 251 251 251 251 251 251 251 251 251 251 251 251 251 251 251 251 251 273 273 273 273 273 273 273 273 273 273 273 273 273 273 273 273 273 273 273 273 273 273 273 273 273 273 273 273 273 273 273 273 273 273 273 273 273 273 273 273 273 273 273 273 273 273 273 273 303 303 303 303 303 303 303 303 303 303 303 303 303 303 303 303 303 303 303 303 303 303 303 303 303 303 303 303 303 303 303 303 303 303 303 303 303 303 303 303 303 303 303 303 303 303 303 303 340 340 340 340 340 340 340 340 340 340 340 340 340 340 340 340 340 340 340 340 340 340 340 340 340 340 340 340 340 340 340 340 340 340 340 340 340 340 340 340 340 340 340 340 340 340 340 340 396 396 396 396 396 396 396 396 396 396 396 396 396 396 396 396 396 396 396 396 396 396 396 396 396 396 396 396 396 396 396 396 396 396 396 396 396 396 396 396 396 396 396 396 396 396 396 396 417 417 417 417 417 417 417 417 417 417 417 417 417 417 417 417 417 417 417 417 417 417 417 417 417 417 417 417 417 417 417 417 417 417 417 417 417 417 417 417 417 417 417 417 417 417 417 417 483 483 483 483 483 483 483 483 483 483 483 483 483 483 483 483 483 483 483 483 483 483 483 483 483 483 483 483 483 483 483 483 483 483 483 483 483 483 483 483 483 483 483 483 483 483 483 483 524 524 524 524 524 524 524 524 524 524 524 524 524 524 524 524 524 524 524 524 524 524 524 524 524 524 524 524 524 524 524 524 524 524 524 524 524 524 524 524 524 524 524 524 524 524 524 524 785 785 785 785 785 785 785 785 785 785 785 785 785 785 785 785 785 785 785 785 785 785 785 785 785 785 785 785 785 785 785 785 785 785 785 785 785 785 785 785 785 785 785 785 785 785 785 785 1104 1104 1104 1104 1104 1104 1104 1104 1104 1104 1104 1104 1104 1104 1104 1104 1104 1104 1104 1104 1104 1104 1104 1104 1104 1104 1104 1104 1104 1104 1104 1104 1104 1104 1104 1104 1104 1104 1104 1104 1104 1104 1104 1104 1104 1104 1104 1104 435 435 435 435 435 435 435 435 435 435 435 435 435 435 435 435 435 435 435 435 435 435 435 435 435 435 435 435 435 435 435 435 435 435 435 435 435 435 435 435 435 435 435 435 435 435 435 633 633 633 633 633 633 633 633 633 633 633 633 633 633 633 633 633 633 633 633 633 633 633 633 633 633 633 633 633 633 633 633 633 633 633 633 633 633 633 633 633 633 633 633 633 633 633 13 13 13 13 13 13 13 13 13 13 13 13 13 13 13 13 13 13 13 13 13 13 13 13 13 13 13 13 13 13 13 13 13 13 13 13 13 13 13 13 13 13 13 13 13 13 20 20 20 20 20 20 20 20 20 20 20 20 20 20 20 20 20 20 20 20 20 20 20 20 20 20 20 20 20 20 20 20 20 20 20 20 20 20 20 20 20 20 20 20 20 20 47 47 47 47 47 47 47 47 47 47 47 47 47 47 47 47 47 47 47 47 47 47 47 47 47 47 47 47 47 47 47 47 47 47 47 47 47 47 47 47 47 47 47 47 47 47 50 50 50 50 50 50 50 50 50 50 50 50 50 50 50 50 50 50 50 50 50 50 50 50 50 50 50 50 50 50 50 50 50 50 50 50 50 50 50 50 50 50 50 50 50 50 69 69 69 69 69 69 69 69 69 69 69 69 69 69 69 69 69 69 69 69 69 69 69 69 69 69 69 69 69 69 69 69 69 69 69 69 69 69 69 69 69 69 69 69 69 69 75 75 75 75 75 75 75 75 75 75 75 75 75 75 75 75 75 75 75 75 75 75 75 75 75 75 75 75 75 75 75 75 75 75 75 75 75 75 75 75 75 75 75 75 75 75 85 85 85 85 85 85 85 85 85 85 85 85 85 85 85 85 85 85 85 85 85 85 85 85 85 85 85 85 85 85 85 85 85 85 85 85 85 85 85 85 85 85 85 85 85 85 100 100 100 100 100 100 100 100 100 100 100 100 100 100 100 100 100 100 100 100 100 100 100 100 100 100 100 100 100 100 100 100 100 100 100 100 100 100 100 100 100 100 100 100 100 100 131 131 131 131 131 131 131 131 131 131 131 131 131 131 131 131 131 131 131 131 131 131 131 131 131 131 131 131 131 131 131 131 131 131 131 131 131 131 131 131 131 131 131 131 131 131 138 138 138 138 138 138 138 138 138 138 138 138 138 138 138 138 138 138 138 138 138 138 138 138 138 138 138 138 138 138 138 138 138 138 138 138 138 138 138 138 138 138 138 138 138 138 198 198 198 198 198 198 198 198 198 198 198 198 198 198 198 198 198 198 198 198 198 198 198 198 198 198 198 198 198 198 198 198 198 198 198 198 198 198 198 198 198 198 198 198 198 198 267 267 267 267 267 267 267 267 267 267 267 267 267 267 267 267 267 267 267 267 267 267 267 267 267 267 267 267 267 267 267 267 267 267 267 267 267 267 267 267 267 267 267 267 267 267 330 330 330 330 330 330 330 330 330 330 330 330 330 330 330 330 330 330 330 330 330 330 330 330 330 330 330 330 330 330 330 330 330 330 330 330 330 330 330 330 330 330 330 330 330 330 394 394 394 394 394 394 394 394 394 394 394 394 394 394 394 394 394 394 394 394 394 394 394 394 394 394 394 394 394 394 394 394 394 394 394 394 394 394 394 394 394 394 394 394 394 394 510 510 510 510 510 510 510 510 510 510 510 510 510 510 510 510 510 510 510 510 510 510 510 510 510 510 510 510 510 510 510 510 510 510 510 510 510 510 510 510 510 510 510 510 510 510 576 576 576 576 576 576 576 576 576 576 576 576 576 576 576 576 576 576 576 576 576 576 576 576 576 576 576 576 576 576 576 576 576 576 576 576 576 576 576 576 576 576 576 576 576 576 582 582 582 582 582 582 582 582 582 582 582 582 582 582 582 582 582 582 582 582 582 582 582 582 582 582 582 582 582 582 582 582 582 582 582 582 582 582 582 582 582 582 582 582 582 582 602 602 602 602 602 602 602 602 602 602 602 602 602 602 602 602 602 602 602 602 602 602 602 602 602 602 602 602 602 602 602 602 602 602 602 602 602 602 602 602 602 602 602 602 602 602 639 639 639 639 639 639 639 639 639 639 639 639 639 639 639 639 639 639 639 639 639 639 639 639 639 639 639 639 639 639 639 639 639 639 639 639 639 639 639 639 639 639 639 639 639 639 649 649 649 649 649 649 649 649 649 649 649 649 649 649 649 649 649 649 649 649 649 649 649 649 649 649 649 649 649 649 649 649 649 649 649 649 649 649 649 649 649 649 649 649 649 649 705 705 705 705 705 705 705 705 705 705 705 705 705 705 705 705 705 705 705 705 705 705 705 705 705 705 705 705 705 705 705 705 705 705 705 705 705 705 705 705 705 705 705 705 705 705 718 718 718 718 718 718 718 718 718 718 718 718 718 718 718 718 718 718 718 718 718 718 718 718 718 718 718 718 718 718 718 718 718 718 718 718 718 718 718 718 718 718 718 718 718 718 805 805 805 805 805 805 805 805 805 805 805 805 805 805 805 805 805 805 805 805 805 805 805 805 805 805 805 805 805 805 805 805 805 805 805 805 805 805 805 805 805 805 805 805 805 805 914 914 914 914 914 914 914 914 914 914 914 914 914 914 914 914 914 914 914 914 914 914 914 914 914 914 914 914 914 914 914 914 914 914 914 914 914 914 914 914 914 914 914 914 914 914 1019 1019 1019 1019 1019 1019 1019 1019 1019 1019 1019 1019 1019 1019 1019 1019 1019 1019 1019 1019 1019 1019 1019 1019 1019 1019 1019 1019 1019 1019 1019 1019 1019 1019 1019 1019 1019 1019 1019 1019 1019 1019 1019 1019 1019 1019 277 277 277 277 277 277 277 277 277 277 277 277 277 277 277 277 277 277 277 277 277 277 277 277 277 277 277 277 277 277 277 277 277 277 277 277 277 277 277 277 277 277 277 277 277 807 807 807 807 807 807 807 807 807 807 807 807 807 807 807 807 807 807 807 807 807 807 807 807 807 807 807 807 807 807 807 807 807 807 807 807 807 807 807 807 807 807 807 807 807 29 29 29 29 29 29 29 29 29 29 29 29 29 29 29 29 29 29 29 29 29 29 29 29 29 29 29 29 29 29 29 29 29 29 29 29 29 29 29 29 29 29 29 29 187 187 187 187 187 187 187 187 187 187 187 187 187 187 187 187 187 187 187 187 187 187 187 187 187 187 187 187 187 187 187 187 187 187 187 187 187 187 187 187 187 187 187 187 243 243 243 243 243 243 243 243 243 243 243 243 243 243 243 243 243 243 243 243 243 243 243 243 243 243 243 243 243 243 243 243 243 243 243 243 243 243 243 243 243 243 243 243 291 291 291 291 291 291 291 291 291 291 291 291 291 291 291 291 291 291 291 291 291 291 291 291 291 291 291 291 291 291 291 291 291 291 291 291 291 291 291 291 291 291 291 291 348 348 348 348 348 348 348 348 348 348 348 348 348 348 348 348 348 348 348 348 348 348 348 348 348 348 348 348 348 348 348 348 348 348 348 348 348 348 348 348 348 348 348 348 386 386 386 386 386 386 386 386 386 386 386 386 386 386 386 386 386 386 386 386 386 386 386 386 386 386 386 386 386 386 386 386 386 386 386 386 386 386 386 386 386 386 386 386 433 433 433 433 433 433 433 433 433 433 433 433 433 433 433 433 433 433 433 433 433 433 433 433 433 433 433 433 433 433 433 433 433 433 433 433 433 433 433 433 433 433 433 433 473 473 473 473 473 473 473 473 473 473 473 473 473 473 473 473 473 473 473 473 473 473 473 473 473 473 473 473 473 473 473 473 473 473 473 473 473 473 473 473 473 473 473 473 475 475 475 475 475 475 475 475 475 475 475 475 475 475 475 475 475 475 475 475 475 475 475 475 475 475 475 475 475 475 475 475 475 475 475 475 475 475 475 475 475 475 475 475 495 495 495 495 495 495 495 495 495 495 495 495 495 495 495 495 495 495 495 495 495 495 495 495 495 495 495 495 495 495 495 495 495 495 495 495 495 495 495 495 495 495 495 495 620 620 620 620 620 620 620 620 620 620 620 620 620 620 620 620 620 620 620 620 620 620 620 620 620 620 620 620 620 620 620 620 620 620 620 620 620 620 620 620 620 620 620 620 661 661 661 661 661 661 661 661 661 661 661 661 661 661 661 661 661 661 661 661 661 661 661 661 661 661 661 661 661 661 661 661 661 661 661 661 661 661 661 661 661 661 661 661 972 972 972 972 972 972 972 972 972 972 972 972 972 972 972 972 972 972 972 972 972 972 972 972 972 972 972 972 972 972 972 972 972 972 972 972 972 972 972 972 972 972 972 972 1318 1318 1318 1318 1318 1318 1318 1318 1318 1318 1318 1318 1318 1318 1318 1318 1318 1318 1318 1318 1318 1318 1318 1318 1318 1318 1318 1318 1318 1318 1318 1318 1318 1318 1318 1318 1318 1318 1318 1318 1318 1318 1318 1318 1405 1405 1405 1405 1405 1405 1405 1405 1405 1405 1405 1405 1405 1405 1405 1405 1405 1405 1405 1405 1405 1405 1405 1405 1405 1405 1405 1405 1405 1405 1405 1405 1405 1405 1405 1405 1405 1405 1405 1405 1405 1405 1405 1405 51 51 51 51 51 51 51 51 51 51 51 51 51 51 51 51 51 51 51 51 51 51 51 51 51 51 51 51 51 51 51 51 51 51 51 51 51 51 51 51 51 51 51 23 23 23 23 23 23 23 23 23 23 23 23 23 23 23 23 23 23 23 23 23 23 23 23 23 23 23 23 23 23 23 23 23 23 23 23 23 23 23 23 23 23 39 39 39 39 39 39 39 39 39 39 39 39 39 39 39 39 39 39 39 39 39 39 39 39 39 39 39 39 39 39 39 39 39 39 39 39 39 39 39 39 39 39 48 48 48 48 48 48 48 48 48 48 48 48 48 48 48 48 48 48 48 48 48 48 48 48 48 48 48 48 48 48 48 48 48 48 48 48 48 48 48 48 48 48 76 76 76 76 76 76 76 76 76 76 76 76 76 76 76 76 76 76 76 76 76 76 76 76 76 76 76 76 76 76 76 76 76 76 76 76 76 76 76 76 76 76 143 143 143 143 143 143 143 143 143 143 143 143 143 143 143 143 143 143 143 143 143 143 143 143 143 143 143 143 143 143 143 143 143 143 143 143 143 143 143 143 143 143 147 147 147 147 147 147 147 147 147 147 147 147 147 147 147 147 147 147 147 147 147 147 147 147 147 147 147 147 147 147 147 147 147 147 147 147 147 147 147 147 147 147 152 152 152 152 152 152 152 152 152 152 152 152 152 152 152 152 152 152 152 152 152 152 152 152 152 152 152 152 152 152 152 152 152 152 152 152 152 152 152 152 152 152 161 161 161 161 161 161 161 161 161 161 161 161 161 161 161 161 161 161 161 161 161 161 161 161 161 161 161 161 161 161 161 161 161 161 161 161 161 161 161 161 161 161 163 163 163 163 163 163 163 163 163 163 163 163 163 163 163 163 163 163 163 163 163 163 163 163 163 163 163 163 163 163 163 163 163 163 163 163 163 163 163 163 163 163 175 175 175 175 175 175 175 175 175 175 175 175 175 175 175 175 175 175 175 175 175 175 175 175 175 175 175 175 175 175 175 175 175 175 175 175 175 175 175 175 175 175 178 178 178 178 178 178 178 178 178 178 178 178 178 178 178 178 178 178 178 178 178 178 178 178 178 178 178 178 178 178 178 178 178 178 178 178 178 178 178 178 178 178 274 274 274 274 274 274 274 274 274 274 274 274 274 274 274 274 274 274 274 274 274 274 274 274 274 274 274 274 274 274 274 274 274 274 274 274 274 274 274 274 274 274 307 307 307 307 307 307 307 307 307 307 307 307 307 307 307 307 307 307 307 307 307 307 307 307 307 307 307 307 307 307 307 307 307 307 307 307 307 307 307 307 307 307 382 382 382 382 382 382 382 382 382 382 382 382 382 382 382 382 382 382 382 382 382 382 382 382 382 382 382 382 382 382 382 382 382 382 382 382 382 382 382 382 382 382 402 402 402 402 402 402 402 402 402 402 402 402 402 402 402 402 402 402 402 402 402 402 402 402 402 402 402 402 402 402 402 402 402 402 402 402 402 402 402 402 402 402 504 504 504 504 504 504 504 504 504 504 504 504 504 504 504 504 504 504 504 504 504 504 504 504 504 504 504 504 504 504 504 504 504 504 504 504 504 504 504 504 504 504 513 513 513 513 513 513 513 513 513 513 513 513 513 513 513 513 513 513 513 513 513 513 513 513 513 513 513 513 513 513 513 513 513 513 513 513 513 513 513 513 513 513 691 691 691 691 691 691 691 691 691 691 691 691 691 691 691 691 691 691 691 691 691 691 691 691 691 691 691 691 691 691 691 691 691 691 691 691 691 691 691 691 691 691 698 698 698 698 698 698 698 698 698 698 698 698 698 698 698 698 698 698 698 698 698 698 698 698 698 698 698 698 698 698 698 698 698 698 698 698 698 698 698 698 698 698 730 730 730 730 730 730 730 730 730 730 730 730 730 730 730 730 730 730 730 730 730 730 730 730 730 730 730 730 730 730 730 730 730 730 730 730 730 730 730 730 730 730 833 833 833 833 833 833 833 833 833 833 833 833 833 833 833 833 833 833 833 833 833 833 833 833 833 833 833 833 833 833 833 833 833 833 833 833 833 833 833 833 833 833 906 906 906 906 906 906 906 906 906 906 906 906 906 906 906 906 906 906 906 906 906 906 906 906 906 906 906 906 906 906 906 906 906 906 906 906 906 906 906 906 906 906 1043 1043 1043 1043 1043 1043 1043 1043 1043 1043 1043 1043 1043 1043 1043 1043 1043 1043 1043 1043 1043 1043 1043 1043 1043 1043 1043 1043 1043 1043 1043 1043 1043 1043 1043 1043 1043 1043 1043 1043 1043 1043 1093 1093 1093 1093 1093 1093 1093 1093 1093 1093 1093 1093 1093 1093 1093 1093 1093 1093 1093 1093 1093 1093 1093 1093 1093 1093 1093 1093 1093 1093 1093 1093 1093 1093 1093 1093 1093 1093 1093 1093 1093 1093 289 289 289 289 289 289 289 289 289 289 289 289 289 289 289 289 289 289 289 289 289 289 289 289 289 289 289 289 289 289 289 289 289 289 289 289 289 289 289 289 289 10 10 10 10 10 10 10 10 10 10 10 10 10 10 10 10 10 10 10 10 10 10 10 10 10 10 10 10 10 10 10 10 10 10 10 10 10 10 10 10 27 27 27 27 27 27 27 27 27 27 27 27 27 27 27 27 27 27 27 27 27 27 27 27 27 27 27 27 27 27 27 27 27 27 27 27 27 27 27 27 81 81 81 81 81 81 81 81 81 81 81 81 81 81 81 81 81 81 81 81 81 81 81 81 81 81 81 81 81 81 81 81 81 81 81 81 81 81 81 81 130 130 130 130 130 130 130 130 130 130 130 130 130 130 130 130 130 130 130 130 130 130 130 130 130 130 130 130 130 130 130 130 130 130 130 130 130 130 130 130 149 149 149 149 149 149 149 149 149 149 149 149 149 149 149 149 149 149 149 149 149 149 149 149 149 149 149 149 149 149 149 149 149 149 149 149 149 149 149 149 162 162 162 162 162 162 162 162 162 162 162 162 162 162 162 162 162 162 162 162 162 162 162 162 162 162 162 162 162 162 162 162 162 162 162 162 162 162 162 162 180 180 180 180 180 180 180 180 180 180 180 180 180 180 180 180 180 180 180 180 180 180 180 180 180 180 180 180 180 180 180 180 180 180 180 180 180 180 180 180 220 220 220 220 220 220 220 220 220 220 220 220 220 220 220 220 220 220 220 220 220 220 220 220 220 220 220 220 220 220 220 220 220 220 220 220 220 220 220 220 262 262 262 262 262 262 262 262 262 262 262 262 262 262 262 262 262 262 262 262 262 262 262 262 262 262 262 262 262 262 262 262 262 262 262 262 262 262 262 262 313 313 313 313 313 313 313 313 313 313 313 313 313 313 313 313 313 313 313 313 313 313 313 313 313 313 313 313 313 313 313 313 313 313 313 313 313 313 313 313 362 362 362 362 362 362 362 362 362 362 362 362 362 362 362 362 362 362 362 362 362 362 362 362 362 362 362 362 362 362 362 362 362 362 362 362 362 362 362 362 384 384 384 384 384 384 384 384 384 384 384 384 384 384 384 384 384 384 384 384 384 384 384 384 384 384 384 384 384 384 384 384 384 384 384 384 384 384 384 384 397 397 397 397 397 397 397 397 397 397 397 397 397 397 397 397 397 397 397 397 397 397 397 397 397 397 397 397 397 397 397 397 397 397 397 397 397 397 397 397 400 400 400 400 400 400 400 400 400 400 400 400 400 400 400 400 400 400 400 400 400 400 400 400 400 400 400 400 400 400 400 400 400 400 400 400 400 400 400 400 432 432 432 432 432 432 432 432 432 432 432 432 432 432 432 432 432 432 432 432 432 432 432 432 432 432 432 432 432 432 432 432 432 432 432 432 432 432 432 432 462 462 462 462 462 462 462 462 462 462 462 462 462 462 462 462 462 462 462 462 462 462 462 462 462 462 462 462 462 462 462 462 462 462 462 462 462 462 462 462 469 469 469 469 469 469 469 469 469 469 469 469 469 469 469 469 469 469 469 469 469 469 469 469 469 469 469 469 469 469 469 469 469 469 469 469 469 469 469 469 512 512 512 512 512 512 512 512 512 512 512 512 512 512 512 512 512 512 512 512 512 512 512 512 512 512 512 512 512 512 512 512 512 512 512 512 512 512 512 512 534 534 534 534 534 534 534 534 534 534 534 534 534 534 534 534 534 534 534 534 534 534 534 534 534 534 534 534 534 534 534 534 534 534 534 534 534 534 534 534 536 536 536 536 536 536 536 536 536 536 536 536 536 536 536 536 536 536 536 536 536 536 536 536 536 536 536 536 536 536 536 536 536 536 536 536 536 536 536 536 540 540 540 540 540 540 540 540 540 540 540 540 540 540 540 540 540 540 540 540 540 540 540 540 540 540 540 540 540 540 540 540 540 540 540 540 540 540 540 540 578 578 578 578 578 578 578 578 578 578 578 578 578 578 578 578 578 578 578 578 578 578 578 578 578 578 578 578 578 578 578 578 578 578 578 578 578 578 578 578 663 663 663 663 663 663 663 663 663 663 663 663 663 663 663 663 663 663 663 663 663 663 663 663 663 663 663 663 663 663 663 663 663 663 663 663 663 663 663 663 721 721 721 721 721 721 721 721 721 721 721 721 721 721 721 721 721 721 721 721 721 721 721 721 721 721 721 721 721 721 721 721 721 721 721 721 721 721 721 721 736 736 736 736 736 736 736 736 736 736 736 736 736 736 736 736 736 736 736 736 736 736 736 736 736 736 736 736 736 736 736 736 736 736 736 736 736 736 736 736 797 797 797 797 797 797 797 797 797 797 797 797 797 797 797 797 797 797 797 797 797 797 797 797 797 797 797 797 797 797 797 797 797 797 797 797 797 797 797 797 871 871 871 871 871 871 871 871 871 871 871 871 871 871 871 871 871 871 871 871 871 871 871 871 871 871 871 871 871 871 871 871 871 871 871 871 871 871 871 871 1033 1033 1033 1033 1033 1033 1033 1033 1033 1033 1033 1033 1033 1033 1033 1033 1033 1033 1033 1033 1033 1033 1033 1033 1033 1033 1033 1033 1033 1033 1033 1033 1033 1033 1033 1033 1033 1033 1033 1033 1205 1205 1205 1205 1205 1205 1205 1205 1205 1205 1205 1205 1205 1205 1205 1205 1205 1205 1205 1205 1205 1205 1205 1205 1205 1205 1205 1205 1205 1205 1205 1205 1205 1205 1205 1205 1205 1205 1205 1205 123 123 123 123 123 123 123 123 123 123 123 123 123 123 123 123 123 123 123 123 123 123 123 123 123 123 123 123 123 123 123 123 123 123 123 123 123 123 123 43 43 43 43 43 43 43 43 43 43 43 43 43 43 43 43 43 43 43 43 43 43 43 43 43 43 43 43 43 43 43 43 43 43 43 43 43 43 91 91 91 91 91 91 91 91 91 91 91 91 91 91 91 91 91 91 91 91 91 91 91 91 91 91 91 91 91 91 91 91 91 91 91 91 91 91 128 128 128 128 128 128 128 128 128 128 128 128 128 128 128 128 128 128 128 128 128 128 128 128 128 128 128 128 128 128 128 128 128 128 128 128 128 128 140 140 140 140 140 140 140 140 140 140 140 140 140 140 140 140 140 140 140 140 140 140 140 140 140 140 140 140 140 140 140 140 140 140 140 140 140 140 204 204 204 204 204 204 204 204 204 204 204 204 204 204 204 204 204 204 204 204 204 204 204 204 204 204 204 204 204 204 204 204 204 204 204 204 204 204 249 249 249 249 249 249 249 249 249 249 249 249 249 249 249 249 249 249 249 249 249 249 249 249 249 249 249 249 249 249 249 249 249 249 249 249 249 249 265 265 265 265 265 265 265 265 265 265 265 265 265 265 265 265 265 265 265 265 265 265 265 265 265 265 265 265 265 265 265 265 265 265 265 265 265 265 359 359 359 359 359 359 359 359 359 359 359 359 359 359 359 359 359 359 359 359 359 359 359 359 359 359 359 359 359 359 359 359 359 359 359 359 359 359 376 376 376 376 376 376 376 376 376 376 376 376 376 376 376 376 376 376 376 376 376 376 376 376 376 376 376 376 376 376 376 376 376 376 376 376 376 376 437 437 437 437 437 437 437 437 437 437 437 437 437 437 437 437 437 437 437 437 437 437 437 437 437 437 437 437 437 437 437 437 437 437 437 437 437 437 457 457 457 457 457 457 457 457 457 457 457 457 457 457 457 457 457 457 457 457 457 457 457 457 457 457 457 457 457 457 457 457 457 457 457 457 457 457 477 477 477 477 477 477 477 477 477 477 477 477 477 477 477 477 477 477 477 477 477 477 477 477 477 477 477 477 477 477 477 477 477 477 477 477 477 477 503 503 503 503 503 503 503 503 503 503 503 503 503 503 503 503 503 503 503 503 503 503 503 503 503 503 503 503 503 503 503 503 503 503 503 503 503 503 516 516 516 516 516 516 516 516 516 516 516 516 516 516 516 516 516 516 516 516 516 516 516 516 516 516 516 516 516 516 516 516 516 516 516 516 516 516 532 532 532 532 532 532 532 532 532 532 532 532 532 532 532 532 532 532 532 532 532 532 532 532 532 532 532 532 532 532 532 532 532 532 532 532 532 532 588 588 588 588 588 588 588 588 588 588 588 588 588 588 588 588 588 588 588 588 588 588 588 588 588 588 588 588 588 588 588 588 588 588 588 588 588 588 629 629 629 629 629 629 629 629 629 629 629 629 629 629 629 629 629 629 629 629 629 629 629 629 629 629 629 629 629 629 629 629 629 629 629 629 629 629 687 687 687 687 687 687 687 687 687 687 687 687 687 687 687 687 687 687 687 687 687 687 687 687 687 687 687 687 687 687 687 687 687 687 687 687 687 687 716 716 716 716 716 716 716 716 716 716 716 716 716 716 716 716 716 716 716 716 716 716 716 716 716 716 716 716 716 716 716 716 716 716 716 716 716 716 726 726 726 726 726 726 726 726 726 726 726 726 726 726 726 726 726 726 726 726 726 726 726 726 726 726 726 726 726 726 726 726 726 726 726 726 726 726 744 744 744 744 744 744 744 744 744 744 744 744 744 744 744 744 744 744 744 744 744 744 744 744 744 744 744 744 744 744 744 744 744 744 744 744 744 744 750 750 750 750 750 750 750 750 750 750 750 750 750 750 750 750 750 750 750 750 750 750 750 750 750 750 750 750 750 750 750 750 750 750 750 750 750 750 784 784 784 784 784 784 784 784 784 784 784 784 784 784 784 784 784 784 784 784 784 784 784 784 784 784 784 784 784 784 784 784 784 784 784 784 784 784 845 845 845 845 845 845 845 845 845 845 845 845 845 845 845 845 845 845 845 845 845 845 845 845 845 845 845 845 845 845 845 845 845 845 845 845 845 845 872 872 872 872 872 872 872 872 872 872 872 872 872 872 872 872 872 872 872 872 872 872 872 872 872 872 872 872 872 872 872 872 872 872 872 872 872 872 916 916 916 916 916 916 916 916 916 916 916 916 916 916 916 916 916 916 916 916 916 916 916 916 916 916 916 916 916 916 916 916 916 916 916 916 916 916 980 980 980 980 980 980 980 980 980 980 980 980 980 980 980 980 980 980 980 980 980 980 980 980 980 980 980 980 980 980 980 980 980 980 980 980 980 980 993 993 993 993 993 993 993 993 993 993 993 993 993 993 993 993 993 993 993 993 993 993 993 993 993 993 993 993 993 993 993 993 993 993 993 993 993 993 1106 1106 1106 1106 1106 1106 1106 1106 1106 1106 1106 1106 1106 1106 1106 1106 1106 1106 1106 1106 1106 1106 1106 1106 1106 1106 1106 1106 1106 1106 1106 1106 1106 1106 1106 1106 1106 1106 261 261 261 261 261 261 261 261 261 261 261 261 261 261 261 261 261 261 261 261 261 261 261 261 261 261 261 261 261 261 261 261 261 261 261 261 261 4 4 4 4 4 4 4 4 4 4 4 4 4 4 4 4 4 4 4 4 4 4 4 4 4 4 4 4 4 4 4 4 4 4 4 4 25 25 25 25 25 25 25 25 25 25 25 25 25 25 25 25 25 25 25 25 25 25 25 25 25 25 25 25 25 25 25 25 25 25 25 25 36 36 36 36 36 36 36 36 36 36 36 36 36 36 36 36 36 36 36 36 36 36 36 36 36 36 36 36 36 36 36 36 36 36 36 36 40 40 40 40 40 40 40 40 40 40 40 40 40 40 40 40 40 40 40 40 40 40 40 40 40 40 40 40 40 40 40 40 40 40 40 40 49 49 49 49 49 49 49 49 49 49 49 49 49 49 49 49 49 49 49 49 49 49 49 49 49 49 49 49 49 49 49 49 49 49 49 49 56 56 56 56 56 56 56 56 56 56 56 56 56 56 56 56 56 56 56 56 56 56 56 56 56 56 56 56 56 56 56 56 56 56 56 56 66 66 66 66 66 66 66 66 66 66 66 66 66 66 66 66 66 66 66 66 66 66 66 66 66 66 66 66 66 66 66 66 66 66 66 66 84 84 84 84 84 84 84 84 84 84 84 84 84 84 84 84 84 84 84 84 84 84 84 84 84 84 84 84 84 84 84 84 84 84 84 84 109 109 109 109 109 109 109 109 109 109 109 109 109 109 109 109 109 109 109 109 109 109 109 109 109 109 109 109 109 109 109 109 109 109 109 109 112 112 112 112 112 112 112 112 112 112 112 112 112 112 112 112 112 112 112 112 112 112 112 112 112 112 112 112 112 112 112 112 112 112 112 112 117 117 117 117 117 117 117 117 117 117 117 117 117 117 117 117 117 117 117 117 117 117 117 117 117 117 117 117 117 117 117 117 117 117 117 117 125 125 125 125 125 125 125 125 125 125 125 125 125 125 125 125 125 125 125 125 125 125 125 125 125 125 125 125 125 125 125 125 125 125 125 125 144 144 144 144 144 144 144 144 144 144 144 144 144 144 144 144 144 144 144 144 144 144 144 144 144 144 144 144 144 144 144 144 144 144 144 144 177 177 177 177 177 177 177 177 177 177 177 177 177 177 177 177 177 177 177 177 177 177 177 177 177 177 177 177 177 177 177 177 177 177 177 177 216 216 216 216 216 216 216 216 216 216 216 216 216 216 216 216 216 216 216 216 216 216 216 216 216 216 216 216 216 216 216 216 216 216 216 216 241 241 241 241 241 241 241 241 241 241 241 241 241 241 241 241 241 241 241 241 241 241 241 241 241 241 241 241 241 241 241 241 241 241 241 241 269 269 269 269 269 269 269 269 269 269 269 269 269 269 269 269 269 269 269 269 269 269 269 269 269 269 269 269 269 269 269 269 269 269 269 269 281 281 281 281 281 281 281 281 281 281 281 281 281 281 281 281 281 281 281 281 281 281 281 281 281 281 281 281 281 281 281 281 281 281 281 281 298 298 298 298 298 298 298 298 298 298 298 298 298 298 298 298 298 298 298 298 298 298 298 298 298 298 298 298 298 298 298 298 298 298 298 298 300 300 300 300 300 300 300 300 300 300 300 300 300 300 300 300 300 300 300 300 300 300 300 300 300 300 300 300 300 300 300 300 300 300 300 300 319 319 319 319 319 319 319 319 319 319 319 319 319 319 319 319 319 319 319 319 319 319 319 319 319 319 319 319 319 319 319 319 319 319 319 319 321 321 321 321 321 321 321 321 321 321 321 321 321 321 321 321 321 321 321 321 321 321 321 321 321 321 321 321 321 321 321 321 321 321 321 321 327 327 327 327 327 327 327 327 327 327 327 327 327 327 327 327 327 327 327 327 327 327 327 327 327 327 327 327 327 327 327 327 327 327 327 327 335 335 335 335 335 335 335 335 335 335 335 335 335 335 335 335 335 335 335 335 335 335 335 335 335 335 335 335 335 335 335 335 335 335 335 335 356 356 356 356 356 356 356 356 356 356 356 356 356 356 356 356 356 356 356 356 356 356 356 356 356 356 356 356 356 356 356 356 356 356 356 356 360 360 360 360 360 360 360 360 360 360 360 360 360 360 360 360 360 360 360 360 360 360 360 360 360 360 360 360 360 360 360 360 360 360 360 360 364 364 364 364 364 364 364 364 364 364 364 364 364 364 364 364 364 364 364 364 364 364 364 364 364 364 364 364 364 364 364 364 364 364 364 364 375 375 375 375 375 375 375 375 375 375 375 375 375 375 375 375 375 375 375 375 375 375 375 375 375 375 375 375 375 375 375 375 375 375 375 375 383 383 383 383 383 383 383 383 383 383 383 383 383 383 383 383 383 383 383 383 383 383 383 383 383 383 383 383 383 383 383 383 383 383 383 383 398 398 398 398 398 398 398 398 398 398 398 398 398 398 398 398 398 398 398 398 398 398 398 398 398 398 398 398 398 398 398 398 398 398 398 398 451 451 451 451 451 451 451 451 451 451 451 451 451 451 451 451 451 451 451 451 451 451 451 451 451 451 451 451 451 451 451 451 451 451 451 451 496 496 496 496 496 496 496 496 496 496 496 496 496 496 496 496 496 496 496 496 496 496 496 496 496 496 496 496 496 496 496 496 496 496 496 496 507 507 507 507 507 507 507 507 507 507 507 507 507 507 507 507 507 507 507 507 507 507 507 507 507 507 507 507 507 507 507 507 507 507 507 507 562 562 562 562 562 562 562 562 562 562 562 562 562 562 562 562 562 562 562 562 562 562 562 562 562 562 562 562 562 562 562 562 562 562 562 562 623 623 623 623 623 623 623 623 623 623 623 623 623 623 623 623 623 623 623 623 623 623 623 623 623 623 623 623 623 623 623 623 623 623 623 623 627 627 627 627 627 627 627 627 627 627 627 627 627 627 627 627 627 627 627 627 627 627 627 627 627 627 627 627 627 627 627 627 627 627 627 627 631 631 631 631 631 631 631 631 631 631 631 631 631 631 631 631 631 631 631 631 631 631 631 631 631 631 631 631 631 631 631 631 631 631 631 631 689 689 689 689 689 689 689 689 689 689 689 689 689 689 689 689 689 689 689 689 689 689 689 689 689 689 689 689 689 689 689 689 689 689 689 689 693 693 693 693 693 693 693 693 693 693 693 693 693 693 693 693 693 693 693 693 693 693 693 693 693 693 693 693 693 693 693 693 693 693 693 693 694 694 694 694 694 694 694 694 694 694 694 694 694 694 694 694 694 694 694 694 694 694 694 694 694 694 694 694 694 694 694 694 694 694 694 694 713 713 713 713 713 713 713 713 713 713 713 713 713 713 713 713 713 713 713 713 713 713 713 713 713 713 713 713 713 713 713 713 713 713 713 713 728 728 728 728 728 728 728 728 728 728 728 728 728 728 728 728 728 728 728 728 728 728 728 728 728 728 728 728 728 728 728 728 728 728 728 728 766 766 766 766 766 766 766 766 766 766 766 766 766 766 766 766 766 766 766 766 766 766 766 766 766 766 766 766 766 766 766 766 766 766 766 766 920 920 920 920 920 920 920 920 920 920 920 920 920 920 920 920 920 920 920 920 920 920 920 920 920 920 920 920 920 920 920 920 920 920 920 920 992 992 992 992 992 992 992 992 992 992 992 992 992 992 992 992 992 992 992 992 992 992 992 992 992 992 992 992 992 992 992 992 992 992 992 992 1059 1059 1059 1059 1059 1059 1059 1059 1059 1059 1059 1059 1059 1059 1059 1059 1059 1059 1059 1059 1059 1059 1059 1059 1059 1059 1059 1059 1059 1059 1059 1059 1059 1059 1059 1059 1086 1086 1086 1086 1086 1086 1086 1086 1086 1086 1086 1086 1086 1086 1086 1086 1086 1086 1086 1086 1086 1086 1086 1086 1086 1086 1086 1086 1086 1086 1086 1086 1086 1086 1086 1086 1173 1173 1173 1173 1173 1173 1173 1173 1173 1173 1173 1173 1173 1173 1173 1173 1173 1173 1173 1173 1173 1173 1173 1173 1173 1173 1173 1173 1173 1173 1173 1173 1173 1173 1173 1173 1276 1276 1276 1276 1276 1276 1276 1276 1276 1276 1276 1276 1276 1276 1276 1276 1276 1276 1276 1276 1276 1276 1276 1276 1276 1276 1276 1276 1276 1276 1276 1276 1276 1276 1276 1276 583 583 583 583 583 583 583 583 583 583 583 583 583 583 583 583 583 583 583 583 583 583 583 583 583 583 583 583 583 583 583 583 583 583 583 38 38 38 38 38 38 38 38 38 38 38 38 38 38 38 38 38 38 38 38 38 38 38 38 38 38 38 38 38 38 38 38 38 38 46 46 46 46 46 46 46 46 46 46 46 46 46 46 46 46 46 46 46 46 46 46 46 46 46 46 46 46 46 46 46 46 46 46 63 63 63 63 63 63 63 63 63 63 63 63 63 63 63 63 63 63 63 63 63 63 63 63 63 63 63 63 63 63 63 63 63 63 64 64 64 64 64 64 64 64 64 64 64 64 64 64 64 64 64 64 64 64 64 64 64 64 64 64 64 64 64 64 64 64 64 64 65 65 65 65 65 65 65 65 65 65 65 65 65 65 65 65 65 65 65 65 65 65 65 65 65 65 65 65 65 65 65 65 65 65 77 77 77 77 77 77 77 77 77 77 77 77 77 77 77 77 77 77 77 77 77 77 77 77 77 77 77 77 77 77 77 77 77 77 83 83 83 83 83 83 83 83 83 83 83 83 83 83 83 83 83 83 83 83 83 83 83 83 83 83 83 83 83 83 83 83 83 83 136 136 136 136 136 136 136 136 136 136 136 136 136 136 136 136 136 136 136 136 136 136 136 136 136 136 136 136 136 136 136 136 136 136 157 157 157 157 157 157 157 157 157 157 157 157 157 157 157 157 157 157 157 157 157 157 157 157 157 157 157 157 157 157 157 157 157 157 193 193 193 193 193 193 193 193 193 193 193 193 193 193 193 193 193 193 193 193 193 193 193 193 193 193 193 193 193 193 193 193 193 193 196 196 196 196 196 196 196 196 196 196 196 196 196 196 196 196 196 196 196 196 196 196 196 196 196 196 196 196 196 196 196 196 196 196 255 255 255 255 255 255 255 255 255 255 255 255 255 255 255 255 255 255 255 255 255 255 255 255 255 255 255 255 255 255 255 255 255 255 276 276 276 276 276 276 276 276 276 276 276 276 276 276 276 276 276 276 276 276 276 276 276 276 276 276 276 276 276 276 276 276 276 276 315 315 315 315 315 315 315 315 315 315 315 315 315 315 315 315 315 315 315 315 315 315 315 315 315 315 315 315 315 315 315 315 315 315 316 316 316 316 316 316 316 316 316 316 316 316 316 316 316 316 316 316 316 316 316 316 316 316 316 316 316 316 316 316 316 316 316 316 345 345 345 345 345 345 345 345 345 345 345 345 345 345 345 345 345 345 345 345 345 345 345 345 345 345 345 345 345 345 345 345 345 345 368 368 368 368 368 368 368 368 368 368 368 368 368 368 368 368 368 368 368 368 368 368 368 368 368 368 368 368 368 368 368 368 368 368 378 378 378 378 378 378 378 378 378 378 378 378 378 378 378 378 378 378 378 378 378 378 378 378 378 378 378 378 378 378 378 378 378 378 399 399 399 399 399 399 399 399 399 399 399 399 399 399 399 399 399 399 399 399 399 399 399 399 399 399 399 399 399 399 399 399 399 399 412 412 412 412 412 412 412 412 412 412 412 412 412 412 412 412 412 412 412 412 412 412 412 412 412 412 412 412 412 412 412 412 412 412 449 449 449 449 449 449 449 449 449 449 449 449 449 449 449 449 449 449 449 449 449 449 449 449 449 449 449 449 449 449 449 449 449 449 493 493 493 493 493 493 493 493 493 493 493 493 493 493 493 493 493 493 493 493 493 493 493 493 493 493 493 493 493 493 493 493 493 493 498 498 498 498 498 498 498 498 498 498 498 498 498 498 498 498 498 498 498 498 498 498 498 498 498 498 498 498 498 498 498 498 498 498 517 517 517 517 517 517 517 517 517 517 517 517 517 517 517 517 517 517 517 517 517 517 517 517 517 517 517 517 517 517 517 517 517 517 550 550 550 550 550 550 550 550 550 550 550 550 550 550 550 550 550 550 550 550 550 550 550 550 550 550 550 550 550 550 550 550 550 550 776 776 776 776 776 776 776 776 776 776 776 776 776 776 776 776 776 776 776 776 776 776 776 776 776 776 776 776 776 776 776 776 776 776 873 873 873 873 873 873 873 873 873 873 873 873 873 873 873 873 873 873 873 873 873 873 873 873 873 873 873 873 873 873 873 873 873 873 904 904 904 904 904 904 904 904 904 904 904 904 904 904 904 904 904 904 904 904 904 904 904 904 904 904 904 904 904 904 904 904 904 904 944 944 944 944 944 944 944 944 944 944 944 944 944 944 944 944 944 944 944 944 944 944 944 944 944 944 944 944 944 944 944 944 944 944 1029 1029 1029 1029 1029 1029 1029 1029 1029 1029 1029 1029 1029 1029 1029 1029 1029 1029 1029 1029 1029 1029 1029 1029 1029 1029 1029 1029 1029 1029 1029 1029 1029 1029 1031 1031 1031 1031 1031 1031 1031 1031 1031 1031 1031 1031 1031 1031 1031 1031 1031 1031 1031 1031 1031 1031 1031 1031 1031 1031 1031 1031 1031 1031 1031 1031 1031 1031 1231 1231 1231 1231 1231 1231 1231 1231 1231 1231 1231 1231 1231 1231 1231 1231 1231 1231 1231 1231 1231 1231 1231 1231 1231 1231 1231 1231 1231 1231 1231 1231 1231 1231 1419 1419 1419 1419 1419 1419 1419 1419 1419 1419 1419 1419 1419 1419 1419 1419 1419 1419 1419 1419 1419 1419 1419 1419 1419 1419 1419 1419 1419 1419 1419 1419 1419 1419 8 8 8 8 8 8 8 8 8 8 8 8 8 8 8 8 8 8 8 8 8 8 8 8 8 8 8 8 8 8 8 8 15 15 15 15 15 15 15 15 15 15 15 15 15 15 15 15 15 15 15 15 15 15 15 15 15 15 15 15 15 15 15 15 37 37 37 37 37 37 37 37 37 37 37 37 37 37 37 37 37 37 37 37 37 37 37 37 37 37 37 37 37 37 37 37 78 78 78 78 78 78 78 78 78 78 78 78 78 78 78 78 78 78 78 78 78 78 78 78 78 78 78 78 78 78 78 78 120 120 120 120 120 120 120 120 120 120 120 120 120 120 120 120 120 120 120 120 120 120 120 120 120 120 120 120 120 120 120 120 135 135 135 135 135 135 135 135 135 135 135 135 135 135 135 135 135 135 135 135 135 135 135 135 135 135 135 135 135 135 135 135 139 139 139 139 139 139 139 139 139 139 139 139 139 139 139 139 139 139 139 139 139 139 139 139 139 139 139 139 139 139 139 139 189 189 189 189 189 189 189 189 189 189 189 189 189 189 189 189 189 189 189 189 189 189 189 189 189 189 189 189 189 189 189 189 208 208 208 208 208 208 208 208 208 208 208 208 208 208 208 208 208 208 208 208 208 208 208 208 208 208 208 208 208 208 208 208 228 228 228 228 228 228 228 228 228 228 228 228 228 228 228 228 228 228 228 228 228 228 228 228 228 228 228 228 228 228 228 228 296 296 296 296 296 296 296 296 296 296 296 296 296 296 296 296 296 296 296 296 296 296 296 296 296 296 296 296 296 296 296 296 332 332 332 332 332 332 332 332 332 332 332 332 332 332 332 332 332 332 332 332 332 332 332 332 332 332 332 332 332 332 332 332 354 354 354 354 354 354 354 354 354 354 354 354 354 354 354 354 354 354 354 354 354 354 354 354 354 354 354 354 354 354 354 354 380 380 380 380 380 380 380 380 380 380 380 380 380 380 380 380 380 380 380 380 380 380 380 380 380 380 380 380 380 380 380 380 403 403 403 403 403 403 403 403 403 403 403 403 403 403 403 403 403 403 403 403 403 403 403 403 403 403 403 403 403 403 403 403 430 430 430 430 430 430 430 430 430 430 430 430 430 430 430 430 430 430 430 430 430 430 430 430 430 430 430 430 430 430 430 430 463 463 463 463 463 463 463 463 463 463 463 463 463 463 463 463 463 463 463 463 463 463 463 463 463 463 463 463 463 463 463 463 505 505 505 505 505 505 505 505 505 505 505 505 505 505 505 505 505 505 505 505 505 505 505 505 505 505 505 505 505 505 505 505 530 530 530 530 530 530 530 530 530 530 530 530 530 530 530 530 530 530 530 530 530 530 530 530 530 530 530 530 530 530 530 530 544 544 544 544 544 544 544 544 544 544 544 544 544 544 544 544 544 544 544 544 544 544 544 544 544 544 544 544 544 544 544 544 586 586 586 586 586 586 586 586 586 586 586 586 586 586 586 586 586 586 586 586 586 586 586 586 586 586 586 586 586 586 586 586 608 608 608 608 608 608 608 608 608 608 608 608 608 608 608 608 608 608 608 608 608 608 608 608 608 608 608 608 608 608 608 608 621 621 621 621 621 621 621 621 621 621 621 621 621 621 621 621 621 621 621 621 621 621 621 621 621 621 621 621 621 621 621 621 696 696 696 696 696 696 696 696 696 696 696 696 696 696 696 696 696 696 696 696 696 696 696 696 696 696 696 696 696 696 696 696 762 762 762 762 762 762 762 762 762 762 762 762 762 762 762 762 762 762 762 762 762 762 762 762 762 762 762 762 762 762 762 762 770 770 770 770 770 770 770 770 770 770 770 770 770 770 770 770 770 770 770 770 770 770 770 770 770 770 770 770 770 770 770 770 781 781 781 781 781 781 781 781 781 781 781 781 781 781 781 781 781 781 781 781 781 781 781 781 781 781 781 781 781 781 781 781 808 808 808 808 808 808 808 808 808 808 808 808 808 808 808 808 808 808 808 808 808 808 808 808 808 808 808 808 808 808 808 808 829 829 829 829 829 829 829 829 829 829 829 829 829 829 829 829 829 829 829 829 829 829 829 829 829 829 829 829 829 829 829 829 863 863 863 863 863 863 863 863 863 863 863 863 863 863 863 863 863 863 863 863 863 863 863 863 863 863 863 863 863 863 863 863 894 894 894 894 894 894 894 894 894 894 894 894 894 894 894 894 894 894 894 894 894 894 894 894 894 894 894 894 894 894 894 894 905 905 905 905 905 905 905 905 905 905 905 905 905 905 905 905 905 905 905 905 905 905 905 905 905 905 905 905 905 905 905 905 1072 1072 1072 1072 1072 1072 1072 1072 1072 1072 1072 1072 1072 1072 1072 1072 1072 1072 1072 1072 1072 1072 1072 1072 1072 1072 1072 1072 1072 1072 1072 1072 1206 1206 1206 1206 1206 1206 1206 1206 1206 1206 1206 1206 1206 1206 1206 1206 1206 1206 1206 1206 1206 1206 1206 1206 1206 1206 1206 1206 1206 1206 1206 1206 1219 1219 1219 1219 1219 1219 1219 1219 1219 1219 1219 1219 1219 1219 1219 1219 1219 1219 1219 1219 1219 1219 1219 1219 1219 1219 1219 1219 1219 1219 1219 1219 1244 1244 1244 1244 1244 1244 1244 1244 1244 1244 1244 1244 1244 1244 1244 1244 1244 1244 1244 1244 1244 1244 1244 1244 1244 1244 1244 1244 1244 1244 1244 1244 1320 1320 1320 1320 1320 1320 1320 1320 1320 1320 1320 1320 1320 1320 1320 1320 1320 1320 1320 1320 1320 1320 1320 1320 1320 1320 1320 1320 1320 1320 1320 1320 1506 1506 1506 1506 1506 1506 1506 1506 1506 1506 1506 1506 1506 1506 1506 1506 1506 1506 1506 1506 1506 1506 1506 1506 1506 1506 1506 1506 1506 1506 1506 1506 1577 1577 1577 1577 1577 1577 1577 1577 1577 1577 1577 1577 1577 1577 1577 1577 1577 1577 1577 1577 1577 1577 1577 1577 1577 1577 1577 1577 1577 1577 1577 1577 609 609 609 609 609 609 609 609 609 609 609 609 609 609 609 609 609 609 609 609 609 609 609 609 609 609 609 609 609 609 609 657 657 657 657 657 657 657 657 657 657 657 657 657 657 657 657 657 657 657 657 657 657 657 657 657 657 657 657 657 657 657 799 799 799 799 799 799 799 799 799 799 799 799 799 799 799 799 799 799 799 799 799 799 799 799 799 799 799 799 799 799 799 1 1 1 1 1 1 1 1 1 1 1 1 1 1 1 1 1 1 1 1 1 1 1 1 1 1 1 1 1 1 6 6 6 6 6 6 6 6 6 6 6 6 6 6 6 6 6 6 6 6 6 6 6 6 6 6 6 6 6 6 34 34 34 34 34 34 34 34 34 34 34 34 34 34 34 34 34 34 34 34 34 34 34 34 34 34 34 34 34 34 62 62 62 62 62 62 62 62 62 62 62 62 62 62 62 62 62 62 62 62 62 62 62 62 62 62 62 62 62 62 80 80 80 80 80 80 80 80 80 80 80 80 80 80 80 80 80 80 80 80 80 80 80 80 80 80 80 80 80 80 88 88 88 88 88 88 88 88 88 88 88 88 88 88 88 88 88 88 88 88 88 88 88 88 88 88 88 88 88 88 102 102 102 102 102 102 102 102 102 102 102 102 102 102 102 102 102 102 102 102 102 102 102 102 102 102 102 102 102 102 106 106 106 106 106 106 106 106 106 106 106 106 106 106 106 106 106 106 106 106 106 106 106 106 106 106 106 106 106 106 107 107 107 107 107 107 107 107 107 107 107 107 107 107 107 107 107 107 107 107 107 107 107 107 107 107 107 107 107 107 116 116 116 116 116 116 116 116 116 116 116 116 116 116 116 116 116 116 116 116 116 116 116 116 116 116 116 116 116 116 122 122 122 122 122 122 122 122 122 122 122 122 122 122 122 122 122 122 122 122 122 122 122 122 122 122 122 122 122 122 134 134 134 134 134 134 134 134 134 134 134 134 134 134 134 134 134 134 134 134 134 134 134 134 134 134 134 134 134 134 142 142 142 142 142 142 142 142 142 142 142 142 142 142 142 142 142 142 142 142 142 142 142 142 142 142 142 142 142 142 148 148 148 148 148 148 148 148 148 148 148 148 148 148 148 148 148 148 148 148 148 148 148 148 148 148 148 148 148 148 165 165 165 165 165 165 165 165 165 165 165 165 165 165 165 165 165 165 165 165 165 165 165 165 165 165 165 165 165 165 206 206 206 206 206 206 206 206 206 206 206 206 206 206 206 206 206 206 206 206 206 206 206 206 206 206 206 206 206 206 217 217 217 217 217 217 217 217 217 217 217 217 217 217 217 217 217 217 217 217 217 217 217 217 217 217 217 217 217 217 250 250 250 250 250 250 250 250 250 250 250 250 250 250 250 250 250 250 250 250 250 250 250 250 250 250 250 250 250 250 253 253 253 253 253 253 253 253 253 253 253 253 253 253 253 253 253 253 253 253 253 253 253 253 253 253 253 253 253 253 290 290 290 290 290 290 290 290 290 290 290 290 290 290 290 290 290 290 290 290 290 290 290 290 290 290 290 290 290 290 310 310 310 310 310 310 310 310 310 310 310 310 310 310 310 310 310 310 310 310 310 310 310 310 310 310 310 310 310 310 324 324 324 324 324 324 324 324 324 324 324 324 324 324 324 324 324 324 324 324 324 324 324 324 324 324 324 324 324 324 325 325 325 325 325 325 325 325 325 325 325 325 325 325 325 325 325 325 325 325 325 325 325 325 325 325 325 325 325 325 352 352 352 352 352 352 352 352 352 352 352 352 352 352 352 352 352 352 352 352 352 352 352 352 352 352 352 352 352 352 387 387 387 387 387 387 387 387 387 387 387 387 387 387 387 387 387 387 387 387 387 387 387 387 387 387 387 387 387 387 423 423 423 423 423 423 423 423 423 423 423 423 423 423 423 423 423 423 423 423 423 423 423 423 423 423 423 423 423 423 429 429 429 429 429 429 429 429 429 429 429 429 429 429 429 429 429 429 429 429 429 429 429 429 429 429 429 429 429 429 453 453 453 453 453 453 453 453 453 453 453 453 453 453 453 453 453 453 453 453 453 453 453 453 453 453 453 453 453 453 519 519 519 519 519 519 519 519 519 519 519 519 519 519 519 519 519 519 519 519 519 519 519 519 519 519 519 519 519 519 528 528 528 528 528 528 528 528 528 528 528 528 528 528 528 528 528 528 528 528 528 528 528 528 528 528 528 528 528 528 542 542 542 542 542 542 542 542 542 542 542 542 542 542 542 542 542 542 542 542 542 542 542 542 542 542 542 542 542 542 565 565 565 565 565 565 565 565 565 565 565 565 565 565 565 565 565 565 565 565 565 565 565 565 565 565 565 565 565 565 585 585 585 585 585 585 585 585 585 585 585 585 585 585 585 585 585 585 585 585 585 585 585 585 585 585 585 585 585 585 606 606 606 606 606 606 606 606 606 606 606 606 606 606 606 606 606 606 606 606 606 606 606 606 606 606 606 606 606 606 637 637 637 637 637 637 637 637 637 637 637 637 637 637 637 637 637 637 637 637 637 637 637 637 637 637 637 637 637 637 669 669 669 669 669 669 669 669 669 669 669 669 669 669 669 669 669 669 669 669 669 669 669 669 669 669 669 669 669 669 714 714 714 714 714 714 714 714 714 714 714 714 714 714 714 714 714 714 714 714 714 714 714 714 714 714 714 714 714 714 740 740 740 740 740 740 740 740 740 740 740 740 740 740 740 740 740 740 740 740 740 740 740 740 740 740 740 740 740 740 742 742 742 742 742 742 742 742 742 742 742 742 742 742 742 742 742 742 742 742 742 742 742 742 742 742 742 742 742 742 793 793 793 793 793 793 793 793 793 793 793 793 793 793 793 793 793 793 793 793 793 793 793 793 793 793 793 793 793 793 801 801 801 801 801 801 801 801 801 801 801 801 801 801 801 801 801 801 801 801 801 801 801 801 801 801 801 801 801 801 834 834 834 834 834 834 834 834 834 834 834 834 834 834 834 834 834 834 834 834 834 834 834 834 834 834 834 834 834 834 883 883 883 883 883 883 883 883 883 883 883 883 883 883 883 883 883 883 883 883 883 883 883 883 883 883 883 883 883 883 921 921 921 921 921 921 921 921 921 921 921 921 921 921 921 921 921 921 921 921 921 921 921 921 921 921 921 921 921 921 932 932 932 932 932 932 932 932 932 932 932 932 932 932 932 932 932 932 932 932 932 932 932 932 932 932 932 932 932 932 987 987 987 987 987 987 987 987 987 987 987 987 987 987 987 987 987 987 987 987 987 987 987 987 987 987 987 987 987 987 1027 1027 1027 1027 1027 1027 1027 1027 1027 1027 1027 1027 1027 1027 1027 1027 1027 1027 1027 1027 1027 1027 1027 1027 1027 1027 1027 1027 1027 1027 1132 1132 1132 1132 1132 1132 1132 1132 1132 1132 1132 1132 1132 1132 1132 1132 1132 1132 1132 1132 1132 1132 1132 1132 1132 1132 1132 1132 1132 1132 1157 1157 1157 1157 1157 1157 1157 1157 1157 1157 1157 1157 1157 1157 1157 1157 1157 1157 1157 1157 1157 1157 1157 1157 1157 1157 1157 1157 1157 1157 1217 1217 1217 1217 1217 1217 1217 1217 1217 1217 1217 1217 1217 1217 1217 1217 1217 1217 1217 1217 1217 1217 1217 1217 1217 1217 1217 1217 1217 1217 1221 1221 1221 1221 1221 1221 1221 1221 1221 1221 1221 1221 1221 1221 1221 1221 1221 1221 1221 1221 1221 1221 1221 1221 1221 1221 1221 1221 1221 1221 1261 1261 1261 1261 1261 1261 1261 1261 1261 1261 1261 1261 1261 1261 1261 1261 1261 1261 1261 1261 1261 1261 1261 1261 1261 1261 1261 1261 1261 1261 1292 1292 1292 1292 1292 1292 1292 1292 1292 1292 1292 1292 1292 1292 1292 1292 1292 1292 1292 1292 1292 1292 1292 1292 1292 1292 1292 1292 1292 1292 1332 1332 1332 1332 1332 1332 1332 1332 1332 1332 1332 1332 1332 1332 1332 1332 1332 1332 1332 1332 1332 1332 1332 1332 1332 1332 1332 1332 1332 1332 1334 1334 1334 1334 1334 1334 1334 1334 1334 1334 1334 1334 1334 1334 1334 1334 1334 1334 1334 1334 1334 1334 1334 1334 1334 1334 1334 1334 1334 1334 1476 1476 1476 1476 1476 1476 1476 1476 1476 1476 1476 1476 1476 1476 1476 1476 1476 1476 1476 1476 1476 1476 1476 1476 1476 1476 1476 1476 1476 1476 7 7 7 7 7 7 7 7 7 7 7 7 7 7 7 7 7 7 7 7 7 7 7 7 7 7 7 7 18 18 18 18 18 18 18 18 18 18 18 18 18 18 18 18 18 18 18 18 18 18 18 18 18 18 18 18 21 21 21 21 21 21 21 21 21 21 21 21 21 21 21 21 21 21 21 21 21 21 21 21 21 21 21 21 61 61 61 61 61 61 61 61 61 61 61 61 61 61 61 61 61 61 61 61 61 61 61 61 61 61 61 61 127 127 127 127 127 127 127 127 127 127 127 127 127 127 127 127 127 127 127 127 127 127 127 127 127 127 127 127 155 155 155 155 155 155 155 155 155 155 155 155 155 155 155 155 155 155 155 155 155 155 155 155 155 155 155 155 203 203 203 203 203 203 203 203 203 203 203 203 203 203 203 203 203 203 203 203 203 203 203 203 203 203 203 203 222 222 222 222 222 222 222 222 222 222 222 222 222 222 222 222 222 222 222 222 222 222 222 222 222 222 222 222 244 244 244 244 244 244 244 244 244 244 244 244 244 244 244 244 244 244 244 244 244 244 244 244 244 244 244 244 247 247 247 247 247 247 247 247 247 247 247 247 247 247 247 247 247 247 247 247 247 247 247 247 247 247 247 247 256 256 256 256 256 256 256 256 256 256 256 256 256 256 256 256 256 256 256 256 256 256 256 256 256 256 256 256 260 260 260 260 260 260 260 260 260 260 260 260 260 260 260 260 260 260 260 260 260 260 260 260 260 260 260 260 270 270 270 270 270 270 270 270 270 270 270 270 270 270 270 270 270 270 270 270 270 270 270 270 270 270 270 270 279 279 279 279 279 279 279 279 279 279 279 279 279 279 279 279 279 279 279 279 279 279 279 279 279 279 279 279 288 288 288 288 288 288 288 288 288 288 288 288 288 288 288 288 288 288 288 288 288 288 288 288 288 288 288 288 306 306 306 306 306 306 306 306 306 306 306 306 306 306 306 306 306 306 306 306 306 306 306 306 306 306 306 306 331 331 331 331 331 331 331 331 331 331 331 331 331 331 331 331 331 331 331 331 331 331 331 331 331 331 331 331 344 344 344 344 344 344 344 344 344 344 344 344 344 344 344 344 344 344 344 344 344 344 344 344 344 344 344 344 349 349 349 349 349 349 349 349 349 349 349 349 349 349 349 349 349 349 349 349 349 349 349 349 349 349 349 349 350 350 350 350 350 350 350 350 350 350 350 350 350 350 350 350 350 350 350 350 350 350 350 350 350 350 350 350 363 363 363 363 363 363 363 363 363 363 363 363 363 363 363 363 363 363 363 363 363 363 363 363 363 363 363 363 365 365 365 365 365 365 365 365 365 365 365 365 365 365 365 365 365 365 365 365 365 365 365 365 365 365 365 365 366 366 366 366 366 366 366 366 366 366 366 366 366 366 366 366 366 366 366 366 366 366 366 366 366 366 366 366 371 371 371 371 371 371 371 371 371 371 371 371 371 371 371 371 371 371 371 371 371 371 371 371 371 371 371 371 385 385 385 385 385 385 385 385 385 385 385 385 385 385 385 385 385 385 385 385 385 385 385 385 385 385 385 385 418 418 418 418 418 418 418 418 418 418 418 418 418 418 418 418 418 418 418 418 418 418 418 418 418 418 418 418 443 443 443 443 443 443 443 443 443 443 443 443 443 443 443 443 443 443 443 443 443 443 443 443 443 443 443 443 448 448 448 448 448 448 448 448 448 448 448 448 448 448 448 448 448 448 448 448 448 448 448 448 448 448 448 448 452 452 452 452 452 452 452 452 452 452 452 452 452 452 452 452 452 452 452 452 452 452 452 452 452 452 452 452 521 521 521 521 521 521 521 521 521 521 521 521 521 521 521 521 521 521 521 521 521 521 521 521 521 521 521 521 522 522 522 522 522 522 522 522 522 522 522 522 522 522 522 522 522 522 522 522 522 522 522 522 522 522 522 522 570 570 570 570 570 570 570 570 570 570 570 570 570 570 570 570 570 570 570 570 570 570 570 570 570 570 570 570 580 580 580 580 580 580 580 580 580 580 580 580 580 580 580 580 580 580 580 580 580 580 580 580 580 580 580 580 611 611 611 611 611 611 611 611 611 611 611 611 611 611 611 611 611 611 611 611 611 611 611 611 611 611 611 611 617 617 617 617 617 617 617 617 617 617 617 617 617 617 617 617 617 617 617 617 617 617 617 617 617 617 617 617 634 634 634 634 634 634 634 634 634 634 634 634 634 634 634 634 634 634 634 634 634 634 634 634 634 634 634 634 695 695 695 695 695 695 695 695 695 695 695 695 695 695 695 695 695 695 695 695 695 695 695 695 695 695 695 695 697 697 697 697 697 697 697 697 697 697 697 697 697 697 697 697 697 697 697 697 697 697 697 697 697 697 697 697 732 732 732 732 732 732 732 732 732 732 732 732 732 732 732 732 732 732 732 732 732 732 732 732 732 732 732 732 819 819 819 819 819 819 819 819 819 819 819 819 819 819 819 819 819 819 819 819 819 819 819 819 819 819 819 819 886 886 886 886 886 886 886 886 886 886 886 886 886 886 886 886 886 886 886 886 886 886 886 886 886 886 886 886 888 888 888 888 888 888 888 888 888 888 888 888 888 888 888 888 888 888 888 888 888 888 888 888 888 888 888 888 995 995 995 995 995 995 995 995 995 995 995 995 995 995 995 995 995 995 995 995 995 995 995 995 995 995 995 995 996 996 996 996 996 996 996 996 996 996 996 996 996 996 996 996 996 996 996 996 996 996 996 996 996 996 996 996 1001 1001 1001 1001 1001 1001 1001 1001 1001 1001 1001 1001 1001 1001 1001 1001 1001 1001 1001 1001 1001 1001 1001 1001 1001 1001 1001 1001 1092 1092 1092 1092 1092 1092 1092 1092 1092 1092 1092 1092 1092 1092 1092 1092 1092 1092 1092 1092 1092 1092 1092 1092 1092 1092 1092 1092 1118 1118 1118 1118 1118 1118 1118 1118 1118 1118 1118 1118 1118 1118 1118 1118 1118 1118 1118 1118 1118 1118 1118 1118 1118 1118 1118 1118 1148 1148 1148 1148 1148 1148 1148 1148 1148 1148 1148 1148 1148 1148 1148 1148 1148 1148 1148 1148 1148 1148 1148 1148 1148 1148 1148 1148 1160 1160 1160 1160 1160 1160 1160 1160 1160 1160 1160 1160 1160 1160 1160 1160 1160 1160 1160 1160 1160 1160 1160 1160 1160 1160 1160 1160 1263 1263 1263 1263 1263 1263 1263 1263 1263 1263 1263 1263 1263 1263 1263 1263 1263 1263 1263 1263 1263 1263 1263 1263 1263 1263 1263 1263 1306 1306 1306 1306 1306 1306 1306 1306 1306 1306 1306 1306 1306 1306 1306 1306 1306 1306 1306 1306 1306 1306 1306 1306 1306 1306 1306 1306 1389 1389 1389 1389 1389 1389 1389 1389 1389 1389 1389 1389 1389 1389 1389 1389 1389 1389 1389 1389 1389 1389 1389 1389 1389 1389 1389 1389 1490 1490 1490 1490 1490 1490 1490 1490 1490 1490 1490 1490 1490 1490 1490 1490 1490 1490 1490 1490 1490 1490 1490 1490 1490 1490 1490 1490 11 11 11 11 11 11 11 11 11 11 11 11 11 11 11 11 11 11 11 11 11 11 11 11 11 11 11 35 35 35 35 35 35 35 35 35 35 35 35 35 35 35 35 35 35 35 35 35 35 35 35 35 35 35 183 183 183 183 183 183 183 183 183 183 183 183 183 183 183 183 183 183 183 183 183 183 183 183 183 183 183 685 685 685 685 685 685 685 685 685 685 685 685 685 685 685 685 685 685 685 685 685 685 685 685 685 685 685 835 835 835 835 835 835 835 835 835 835 835 835 835 835 835 835 835 835 835 835 835 835 835 835 835 835 835 1175 1175 1175 1175 1175 1175 1175 1175 1175 1175 1175 1175 1175 1175 1175 1175 1175 1175 1175 1175 1175 1175 1175 1175 1175 1175 1175 33 33 33 33 33 33 33 33 33 33 33 33 33 33 33 33 33 33 33 33 33 33 33 33 33 33 41 41 41 41 41 41 41 41 41 41 41 41 41 41 41 41 41 41 41 41 41 41 41 41 41 41 53 53 53 53 53 53 53 53 53 53 53 53 53 53 53 53 53 53 53 53 53 53 53 53 53 53 60 60 60 60 60 60 60 60 60 60 60 60 60 60 60 60 60 60 60 60 60 60 60 60 60 60 72 72 72 72 72 72 72 72 72 72 72 72 72 72 72 72 72 72 72 72 72 72 72 72 72 72 79 79 79 79 79 79 79 79 79 79 79 79 79 79 79 79 79 79 79 79 79 79 79 79 79 79 82 82 82 82 82 82 82 82 82 82 82 82 82 82 82 82 82 82 82 82 82 82 82 82 82 82 164 164 164 164 164 164 164 164 164 164 164 164 164 164 164 164 164 164 164 164 164 164 164 164 164 164 185 185 185 185 185 185 185 185 185 185 185 185 185 185 185 185 185 185 185 185 185 185 185 185 185 185 194 194 194 194 194 194 194 194 194 194 194 194 194 194 194 194 194 194 194 194 194 194 194 194 194 194 199 199 199 199 199 199 199 199 199 199 199 199 199 199 199 199 199 199 199 199 199 199 199 199 199 199 219 219 219 219 219 219 219 219 219 219 219 219 219 219 219 219 219 219 219 219 219 219 219 219 219 219 242 242 242 242 242 242 242 242 242 242 242 242 242 242 242 242 242 242 242 242 242 242 242 242 242 242 248 248 248 248 248 248 248 248 248 248 248 248 248 248 248 248 248 248 248 248 248 248 248 248 248 248 294 294 294 294 294 294 294 294 294 294 294 294 294 294 294 294 294 294 294 294 294 294 294 294 294 294 305 305 305 305 305 305 305 305 305 305 305 305 305 305 305 305 305 305 305 305 305 305 305 305 305 305 322 322 322 322 322 322 322 322 322 322 322 322 322 322 322 322 322 322 322 322 322 322 322 322 322 322 336 336 336 336 336 336 336 336 336 336 336 336 336 336 336 336 336 336 336 336 336 336 336 336 336 336 342 342 342 342 342 342 342 342 342 342 342 342 342 342 342 342 342 342 342 342 342 342 342 342 342 342 361 361 361 361 361 361 361 361 361 361 361 361 361 361 361 361 361 361 361 361 361 361 361 361 361 361 392 392 392 392 392 392 392 392 392 392 392 392 392 392 392 392 392 392 392 392 392 392 392 392 392 392 409 409 409 409 409 409 409 409 409 409 409 409 409 409 409 409 409 409 409 409 409 409 409 409 409 409 415 415 415 415 415 415 415 415 415 415 415 415 415 415 415 415 415 415 415 415 415 415 415 415 415 415 422 422 422 422 422 422 422 422 422 422 422 422 422 422 422 422 422 422 422 422 422 422 422 422 422 422 472 472 472 472 472 472 472 472 472 472 472 472 472 472 472 472 472 472 472 472 472 472 472 472 472 472 479 479 479 479 479 479 479 479 479 479 479 479 479 479 479 479 479 479 479 479 479 479 479 479 479 479 556 556 556 556 556 556 556 556 556 556 556 556 556 556 556 556 556 556 556 556 556 556 556 556 556 556 568 568 568 568 568 568 568 568 568 568 568 568 568 568 568 568 568 568 568 568 568 568 568 568 568 568 590 590 590 590 590 590 590 590 590 590 590 590 590 590 590 590 590 590 590 590 590 590 590 590 590 590 591 591 591 591 591 591 591 591 591 591 591 591 591 591 591 591 591 591 591 591 591 591 591 591 591 591 615 615 615 615 615 615 615 615 615 615 615 615 615 615 615 615 615 615 615 615 615 615 615 615 615 615 622 622 622 622 622 622 622 622 622 622 622 622 622 622 622 622 622 622 622 622 622 622 622 622 622 622 626 626 626 626 626 626 626 626 626 626 626 626 626 626 626 626 626 626 626 626 626 626 626 626 626 626 641 641 641 641 641 641 641 641 641 641 641 641 641 641 641 641 641 641 641 641 641 641 641 641 641 641 653 653 653 653 653 653 653 653 653 653 653 653 653 653 653 653 653 653 653 653 653 653 653 653 653 653 672 672 672 672 672 672 672 672 672 672 672 672 672 672 672 672 672 672 672 672 672 672 672 672 672 672 675 675 675 675 675 675 675 675 675 675 675 675 675 675 675 675 675 675 675 675 675 675 675 675 675 675 720 720 720 720 720 720 720 720 720 720 720 720 720 720 720 720 720 720 720 720 720 720 720 720 720 720 782 782 782 782 782 782 782 782 782 782 782 782 782 782 782 782 782 782 782 782 782 782 782 782 782 782 892 892 892 892 892 892 892 892 892 892 892 892 892 892 892 892 892 892 892 892 892 892 892 892 892 892 936 936 936 936 936 936 936 936 936 936 936 936 936 936 936 936 936 936 936 936 936 936 936 936 936 936 947 947 947 947 947 947 947 947 947 947 947 947 947 947 947 947 947 947 947 947 947 947 947 947 947 947 948 948 948 948 948 948 948 948 948 948 948 948 948 948 948 948 948 948 948 948 948 948 948 948 948 948 975 975 975 975 975 975 975 975 975 975 975 975 975 975 975 975 975 975 975 975 975 975 975 975 975 975 991 991 991 991 991 991 991 991 991 991 991 991 991 991 991 991 991 991 991 991 991 991 991 991 991 991 1005 1005 1005 1005 1005 1005 1005 1005 1005 1005 1005 1005 1005 1005 1005 1005 1005 1005 1005 1005 1005 1005 1005 1005 1005 1005 1035 1035 1035 1035 1035 1035 1035 1035 1035 1035 1035 1035 1035 1035 1035 1035 1035 1035 1035 1035 1035 1035 1035 1035 1035 1035 1076 1076 1076 1076 1076 1076 1076 1076 1076 1076 1076 1076 1076 1076 1076 1076 1076 1076 1076 1076 1076 1076 1076 1076 1076 1076 1098 1098 1098 1098 1098 1098 1098 1098 1098 1098 1098 1098 1098 1098 1098 1098 1098 1098 1098 1098 1098 1098 1098 1098 1098 1098 1124 1124 1124 1124 1124 1124 1124 1124 1124 1124 1124 1124 1124 1124 1124 1124 1124 1124 1124 1124 1124 1124 1124 1124 1124 1124 1195 1195 1195 1195 1195 1195 1195 1195 1195 1195 1195 1195 1195 1195 1195 1195 1195 1195 1195 1195 1195 1195 1195 1195 1195 1195 1360 1360 1360 1360 1360 1360 1360 1360 1360 1360 1360 1360 1360 1360 1360 1360 1360 1360 1360 1360 1360 1360 1360 1360 1360 1360 1391 1391 1391 1391 1391 1391 1391 1391 1391 1391 1391 1391 1391 1391 1391 1391 1391 1391 1391 1391 1391 1391 1391 1391 1391 1391 1407 1407 1407 1407 1407 1407 1407 1407 1407 1407 1407 1407 1407 1407 1407 1407 1407 1407 1407 1407 1407 1407 1407 1407 1407 1407 1447 1447 1447 1447 1447 1447 1447 1447 1447 1447 1447 1447 1447 1447 1447 1447 1447 1447 1447 1447 1447 1447 1447 1447 1447 1447 1518 1518 1518 1518 1518 1518 1518 1518 1518 1518 1518 1518 1518 1518 1518 1518 1518 1518 1518 1518 1518 1518 1518 1518 1518 1518 1593 1593 1593 1593 1593 1593 1593 1593 1593 1593 1593 1593 1593 1593 1593 1593 1593 1593 1593 1593 1593 1593 1593 1593 1593 1593 215 215 215 215 215 215 215 215 215 215 215 215 215 215 215 215 215 215 215 215 215 215 215 215 215 309 309 309 309 309 309 309 309 309 309 309 309 309 309 309 309 309 309 309 309 309 309 309 309 309 811 811 811 811 811 811 811 811 811 811 811 811 811 811 811 811 811 811 811 811 811 811 811 811 811 943 943 943 943 943 943 943 943 943 943 943 943 943 943 943 943 943 943 943 943 943 943 943 943 943 1061 1061 1061 1061 1061 1061 1061 1061 1061 1061 1061 1061 1061 1061 1061 1061 1061 1061 1061 1061 1061 1061 1061 1061 1061 3 3 3 3 3 3 3 3 3 3 3 3 3 3 3 3 3 3 3 3 3 3 3 3 17 17 17 17 17 17 17 17 17 17 17 17 17 17 17 17 17 17 17 17 17 17 17 17 31 31 31 31 31 31 31 31 31 31 31 31 31 31 31 31 31 31 31 31 31 31 31 31 86 86 86 86 86 86 86 86 86 86 86 86 86 86 86 86 86 86 86 86 86 86 86 86 90 90 90 90 90 90 90 90 90 90 90 90 90 90 90 90 90 90 90 90 90 90 90 90 93 93 93 93 93 93 93 93 93 93 93 93 93 93 93 93 93 93 93 93 93 93 93 93 132 132 132 132 132 132 132 132 132 132 132 132 132 132 132 132 132 132 132 132 132 132 132 132 150 150 150 150 150 150 150 150 150 150 150 150 150 150 150 150 150 150 150 150 150 150 150 150 166 166 166 166 166 166 166 166 166 166 166 166 166 166 166 166 166 166 166 166 166 166 166 166 181 181 181 181 181 181 181 181 181 181 181 181 181 181 181 181 181 181 181 181 181 181 181 181 182 182 182 182 182 182 182 182 182 182 182 182 182 182 182 182 182 182 182 182 182 182 182 182 235 235 235 235 235 235 235 235 235 235 235 235 235 235 235 235 235 235 235 235 235 235 235 235 304 304 304 304 304 304 304 304 304 304 304 304 304 304 304 304 304 304 304 304 304 304 304 304 311 311 311 311 311 311 311 311 311 311 311 311 311 311 311 311 311 311 311 311 311 311 311 311 328 328 328 328 328 328 328 328 328 328 328 328 328 328 328 328 328 328 328 328 328 328 328 328 401 401 401 401 401 401 401 401 401 401 401 401 401 401 401 401 401 401 401 401 401 401 401 401 406 406 406 406 406 406 406 406 406 406 406 406 406 406 406 406 406 406 406 406 406 406 406 406 465 465 465 465 465 465 465 465 465 465 465 465 465 465 465 465 465 465 465 465 465 465 465 465 480 480 480 480 480 480 480 480 480 480 480 480 480 480 480 480 480 480 480 480 480 480 480 480 497 497 497 497 497 497 497 497 497 497 497 497 497 497 497 497 497 497 497 497 497 497 497 497 509 509 509 509 509 509 509 509 509 509 509 509 509 509 509 509 509 509 509 509 509 509 509 509 514 514 514 514 514 514 514 514 514 514 514 514 514 514 514 514 514 514 514 514 514 514 514 514 538 538 538 538 538 538 538 538 538 538 538 538 538 538 538 538 538 538 538 538 538 538 538 538 547 547 547 547 547 547 547 547 547 547 547 547 547 547 547 547 547 547 547 547 547 547 547 547 552 552 552 552 552 552 552 552 552 552 552 552 552 552 552 552 552 552 552 552 552 552 552 552 566 566 566 566 566 566 566 566 566 566 566 566 566 566 566 566 566 566 566 566 566 566 566 566 581 581 581 581 581 581 581 581 581 581 581 581 581 581 581 581 581 581 581 581 581 581 581 581 599 599 599 599 599 599 599 599 599 599 599 599 599 599 599 599 599 599 599 599 599 599 599 599 603 603 603 603 603 603 603 603 603 603 603 603 603 603 603 603 603 603 603 603 603 603 603 603 616 616 616 616 616 616 616 616 616 616 616 616 616 616 616 616 616 616 616 616 616 616 616 616 652 652 652 652 652 652 652 652 652 652 652 652 652 652 652 652 652 652 652 652 652 652 652 652 655 655 655 655 655 655 655 655 655 655 655 655 655 655 655 655 655 655 655 655 655 655 655 655 682 682 682 682 682 682 682 682 682 682 682 682 682 682 682 682 682 682 682 682 682 682 682 682 704 704 704 704 704 704 704 704 704 704 704 704 704 704 704 704 704 704 704 704 704 704 704 704 761 761 761 761 761 761 761 761 761 761 761 761 761 761 761 761 761 761 761 761 761 761 761 761 786 786 786 786 786 786 786 786 786 786 786 786 786 786 786 786 786 786 786 786 786 786 786 786 794 794 794 794 794 794 794 794 794 794 794 794 794 794 794 794 794 794 794 794 794 794 794 794 810 810 810 810 810 810 810 810 810 810 810 810 810 810 810 810 810 810 810 810 810 810 810 810 837 837 837 837 837 837 837 837 837 837 837 837 837 837 837 837 837 837 837 837 837 837 837 837 874 874 874 874 874 874 874 874 874 874 874 874 874 874 874 874 874 874 874 874 874 874 874 874 875 875 875 875 875 875 875 875 875 875 875 875 875 875 875 875 875 875 875 875 875 875 875 875 893 893 893 893 893 893 893 893 893 893 893 893 893 893 893 893 893 893 893 893 893 893 893 893 907 907 907 907 907 907 907 907 907 907 907 907 907 907 907 907 907 907 907 907 907 907 907 907 956 956 956 956 956 956 956 956 956 956 956 956 956 956 956 956 956 956 956 956 956 956 956 956 963 963 963 963 963 963 963 963 963 963 963 963 963 963 963 963 963 963 963 963 963 963 963 963 999 999 999 999 999 999 999 999 999 999 999 999 999 999 999 999 999 999 999 999 999 999 999 999 1003 1003 1003 1003 1003 1003 1003 1003 1003 1003 1003 1003 1003 1003 1003 1003 1003 1003 1003 1003 1003 1003 1003 1003 1006 1006 1006 1006 1006 1006 1006 1006 1006 1006 1006 1006 1006 1006 1006 1006 1006 1006 1006 1006 1006 1006 1006 1006 1056 1056 1056 1056 1056 1056 1056 1056 1056 1056 1056 1056 1056 1056 1056 1056 1056 1056 1056 1056 1056 1056 1056 1056 1060 1060 1060 1060 1060 1060 1060 1060 1060 1060 1060 1060 1060 1060 1060 1060 1060 1060 1060 1060 1060 1060 1060 1060 1088 1088 1088 1088 1088 1088 1088 1088 1088 1088 1088 1088 1088 1088 1088 1088 1088 1088 1088 1088 1088 1088 1088 1088 1107 1107 1107 1107 1107 1107 1107 1107 1107 1107 1107 1107 1107 1107 1107 1107 1107 1107 1107 1107 1107 1107 1107 1107 1116 1116 1116 1116 1116 1116 1116 1116 1116 1116 1116 1116 1116 1116 1116 1116 1116 1116 1116 1116 1116 1116 1116 1116 1162 1162 1162 1162 1162 1162 1162 1162 1162 1162 1162 1162 1162 1162 1162 1162 1162 1162 1162 1162 1162 1162 1162 1162 1164 1164 1164 1164 1164 1164 1164 1164 1164 1164 1164 1164 1164 1164 1164 1164 1164 1164 1164 1164 1164 1164 1164 1164 1177 1177 1177 1177 1177 1177 1177 1177 1177 1177 1177 1177 1177 1177 1177 1177 1177 1177 1177 1177 1177 1177 1177 1177 1189 1189 1189 1189 1189 1189 1189 1189 1189 1189 1189 1189 1189 1189 1189 1189 1189 1189 1189 1189 1189 1189 1189 1189 1233 1233 1233 1233 1233 1233 1233 1233 1233 1233 1233 1233 1233 1233 1233 1233 1233 1233 1233 1233 1233 1233 1233 1233 1363 1363 1363 1363 1363 1363 1363 1363 1363 1363 1363 1363 1363 1363 1363 1363 1363 1363 1363 1363 1363 1363 1363 1363 1376 1376 1376 1376 1376 1376 1376 1376 1376 1376 1376 1376 1376 1376 1376 1376 1376 1376 1376 1376 1376 1376 1376 1376 1431 1431 1431 1431 1431 1431 1431 1431 1431 1431 1431 1431 1431 1431 1431 1431 1431 1431 1431 1431 1431 1431 1431 1431 1492 1492 1492 1492 1492 1492 1492 1492 1492 1492 1492 1492 1492 1492 1492 1492 1492 1492 1492 1492 1492 1492 1492 1492 635 635 635 635 635 635 635 635 635 635 635 635 635 635 635 635 635 635 635 635 635 635 635 787 787 787 787 787 787 787 787 787 787 787 787 787 787 787 787 787 787 787 787 787 787 787 809 809 809 809 809 809 809 809 809 809 809 809 809 809 809 809 809 809 809 809 809 809 809 909 909 909 909 909 909 909 909 909 909 909 909 909 909 909 909 909 909 909 909 909 909 909 1433 1433 1433 1433 1433 1433 1433 1433 1433 1433 1433 1433 1433 1433 1433 1433 1433 1433 1433 1433 1433 1433 1433 52 52 52 52 52 52 52 52 52 52 52 52 52 52 52 52 52 52 52 52 52 52 108 108 108 108 108 108 108 108 108 108 108 108 108 108 108 108 108 108 108 108 108 108 124 124 124 124 124 124 124 124 124 124 124 124 124 124 124 124 124 124 124 124 124 124 169 169 169 169 169 169 169 169 169 169 169 169 169 169 169 169 169 169 169 169 169 169 176 176 176 176 176 176 176 176 176 176 176 176 176 176 176 176 176 176 176 176 176 176 195 195 195 195 195 195 195 195 195 195 195 195 195 195 195 195 195 195 195 195 195 195 218 218 218 218 218 218 218 218 218 218 218 218 218 218 218 218 218 218 218 218 218 218 224 224 224 224 224 224 224 224 224 224 224 224 224 224 224 224 224 224 224 224 224 224 229 229 229 229 229 229 229 229 229 229 229 229 229 229 229 229 229 229 229 229 229 229 237 237 237 237 237 237 237 237 237 237 237 237 237 237 237 237 237 237 237 237 237 237 258 258 258 258 258 258 258 258 258 258 258 258 258 258 258 258 258 258 258 258 258 258 293 293 293 293 293 293 293 293 293 293 293 293 293 293 293 293 293 293 293 293 293 293 295 295 295 295 295 295 295 295 295 295 295 295 295 295 295 295 295 295 295 295 295 295 391 391 391 391 391 391 391 391 391 391 391 391 391 391 391 391 391 391 391 391 391 391 393 393 393 393 393 393 393 393 393 393 393 393 393 393 393 393 393 393 393 393 393 393 416 416 416 416 416 416 416 416 416 416 416 416 416 416 416 416 416 416 416 416 416 416 436 436 436 436 436 436 436 436 436 436 436 436 436 436 436 436 436 436 436 436 436 436 467 467 467 467 467 467 467 467 467 467 467 467 467 467 467 467 467 467 467 467 467 467 470 470 470 470 470 470 470 470 470 470 470 470 470 470 470 470 470 470 470 470 470 470 481 481 481 481 481 481 481 481 481 481 481 481 481 481 481 481 481 481 481 481 481 481 549 549 549 549 549 549 549 549 549 549 549 549 549 549 549 549 549 549 549 549 549 549 555 555 555 555 555 555 555 555 555 555 555 555 555 555 555 555 555 555 555 555 555 555 575 575 575 575 575 575 575 575 575 575 575 575 575 575 575 575 575 575 575 575 575 575 605 605 605 605 605 605 605 605 605 605 605 605 605 605 605 605 605 605 605 605 605 605 643 643 643 643 643 643 643 643 643 643 643 643 643 643 643 643 643 643 643 643 643 643 662 662 662 662 662 662 662 662 662 662 662 662 662 662 662 662 662 662 662 662 662 662 678 678 678 678 678 678 678 678 678 678 678 678 678 678 678 678 678 678 678 678 678 678 690 690 690 690 690 690 690 690 690 690 690 690 690 690 690 690 690 690 690 690 690 690 692 692 692 692 692 692 692 692 692 692 692 692 692 692 692 692 692 692 692 692 692 692 711 711 711 711 711 711 711 711 711 711 711 711 711 711 711 711 711 711 711 711 711 711 774 774 774 774 774 774 774 774 774 774 774 774 774 774 774 774 774 774 774 774 774 774 778 778 778 778 778 778 778 778 778 778 778 778 778 778 778 778 778 778 778 778 778 778 779 779 779 779 779 779 779 779 779 779 779 779 779 779 779 779 779 779 779 779 779 779 783 783 783 783 783 783 783 783 783 783 783 783 783 783 783 783 783 783 783 783 783 783 788 788 788 788 788 788 788 788 788 788 788 788 788 788 788 788 788 788 788 788 788 788 803 803 803 803 803 803 803 803 803 803 803 803 803 803 803 803 803 803 803 803 803 803 813 813 813 813 813 813 813 813 813 813 813 813 813 813 813 813 813 813 813 813 813 813 815 815 815 815 815 815 815 815 815 815 815 815 815 815 815 815 815 815 815 815 815 815 816 816 816 816 816 816 816 816 816 816 816 816 816 816 816 816 816 816 816 816 816 816 823 823 823 823 823 823 823 823 823 823 823 823 823 823 823 823 823 823 823 823 823 823 850 850 850 850 850 850 850 850 850 850 850 850 850 850 850 850 850 850 850 850 850 850 865 865 865 865 865 865 865 865 865 865 865 865 865 865 865 865 865 865 865 865 865 865 867 867 867 867 867 867 867 867 867 867 867 867 867 867 867 867 867 867 867 867 867 867 880 880 880 880 880 880 880 880 880 880 880 880 880 880 880 880 880 880 880 880 880 880 900 900 900 900 900 900 900 900 900 900 900 900 900 900 900 900 900 900 900 900 900 900 959 959 959 959 959 959 959 959 959 959 959 959 959 959 959 959 959 959 959 959 959 959 962 962 962 962 962 962 962 962 962 962 962 962 962 962 962 962 962 962 962 962 962 962 966 966 966 966 966 966 966 966 966 966 966 966 966 966 966 966 966 966 966 966 966 966 973 973 973 973 973 973 973 973 973 973 973 973 973 973 973 973 973 973 973 973 973 973 994 994 994 994 994 994 994 994 994 994 994 994 994 994 994 994 994 994 994 994 994 994 1007 1007 1007 1007 1007 1007 1007 1007 1007 1007 1007 1007 1007 1007 1007 1007 1007 1007 1007 1007 1007 1007 1037 1037 1037 1037 1037 1037 1037 1037 1037 1037 1037 1037 1037 1037 1037 1037 1037 1037 1037 1037 1037 1037 1045 1045 1045 1045 1045 1045 1045 1045 1045 1045 1045 1045 1045 1045 1045 1045 1045 1045 1045 1045 1045 1045 1058 1058 1058 1058 1058 1058 1058 1058 1058 1058 1058 1058 1058 1058 1058 1058 1058 1058 1058 1058 1058 1058 1067 1067 1067 1067 1067 1067 1067 1067 1067 1067 1067 1067 1067 1067 1067 1067 1067 1067 1067 1067 1067 1067 1084 1084 1084 1084 1084 1084 1084 1084 1084 1084 1084 1084 1084 1084 1084 1084 1084 1084 1084 1084 1084 1084 1105 1105 1105 1105 1105 1105 1105 1105 1105 1105 1105 1105 1105 1105 1105 1105 1105 1105 1105 1105 1105 1105 1108 1108 1108 1108 1108 1108 1108 1108 1108 1108 1108 1108 1108 1108 1108 1108 1108 1108 1108 1108 1108 1108 1134 1134 1134 1134 1134 1134 1134 1134 1134 1134 1134 1134 1134 1134 1134 1134 1134 1134 1134 1134 1134 1134 1180 1180 1180 1180 1180 1180 1180 1180 1180 1180 1180 1180 1180 1180 1180 1180 1180 1180 1180 1180 1180 1180 1185 1185 1185 1185 1185 1185 1185 1185 1185 1185 1185 1185 1185 1185 1185 1185 1185 1185 1185 1185 1185 1185 1193 1193 1193 1193 1193 1193 1193 1193 1193 1193 1193 1193 1193 1193 1193 1193 1193 1193 1193 1193 1193 1193 1249 1249 1249 1249 1249 1249 1249 1249 1249 1249 1249 1249 1249 1249 1249 1249 1249 1249 1249 1249 1249 1249 1294 1294 1294 1294 1294 1294 1294 1294 1294 1294 1294 1294 1294 1294 1294 1294 1294 1294 1294 1294 1294 1294 1362 1362 1362 1362 1362 1362 1362 1362 1362 1362 1362 1362 1362 1362 1362 1362 1362 1362 1362 1362 1362 1362 1619 1619 1619 1619 1619 1619 1619 1619 1619 1619 1619 1619 1619 1619 1619 1619 1619 1619 1619 1619 1619 1619 209 209 209 209 209 209 209 209 209 209 209 209 209 209 209 209 209 209 209 209 209 381 381 381 381 381 381 381 381 381 381 381 381 381 381 381 381 381 381 381 381 381 419 419 419 419 419 419 419 419 419 419 419 419 419 419 419 419 419 419 419 419 419 455 455 455 455 455 455 455 455 455 455 455 455 455 455 455 455 455 455 455 455 455 593 593 593 593 593 593 593 593 593 593 593 593 593 593 593 593 593 593 593 593 593 1131 1131 1131 1131 1131 1131 1131 1131 1131 1131 1131 1131 1131 1131 1131 1131 1131 1131 1131 1131 1131 1179 1179 1179 1179 1179 1179 1179 1179 1179 1179 1179 1179 1179 1179 1179 1179 1179 1179 1179 1179 1179 22 22 22 22 22 22 22 22 22 22 22 22 22 22 22 22 22 22 22 22 94 94 94 94 94 94 94 94 94 94 94 94 94 94 94 94 94 94 94 94 96 96 96 96 96 96 96 96 96 96 96 96 96 96 96 96 96 96 96 96 98 98 98 98 98 98 98 98 98 98 98 98 98 98 98 98 98 98 98 98 159 159 159 159 159 159 159 159 159 159 159 159 159 159 159 159 159 159 159 159 179 179 179 179 179 179 179 179 179 179 179 179 179 179 179 179 179 179 179 179 192 192 192 192 192 192 192 192 192 192 192 192 192 192 192 192 192 192 192 192 211 211 211 211 211 211 211 211 211 211 211 211 211 211 211 211 211 211 211 211 238 238 238 238 238 238 238 238 238 238 238 238 238 238 238 238 238 238 238 238 252 252 252 252 252 252 252 252 252 252 252 252 252 252 252 252 252 252 252 252 264 264 264 264 264 264 264 264 264 264 264 264 264 264 264 264 264 264 264 264 266 266 266 266 266 266 266 266 266 266 266 266 266 266 266 266 266 266 266 266 286 286 286 286 286 286 286 286 286 286 286 286 286 286 286 286 286 286 286 286 337 337 337 337 337 337 337 337 337 337 337 337 337 337 337 337 337 337 337 337 408 408 408 408 408 408 408 408 408 408 408 408 408 408 408 408 408 408 408 408 424 424 424 424 424 424 424 424 424 424 424 424 424 424 424 424 424 424 424 424 441 441 441 441 441 441 441 441 441 441 441 441 441 441 441 441 441 441 441 441 468 468 468 468 468 468 468 468 468 468 468 468 468 468 468 468 468 468 468 468 478 478 478 478 478 478 478 478 478 478 478 478 478 478 478 478 478 478 478 478 494 494 494 494 494 494 494 494 494 494 494 494 494 494 494 494 494 494 494 494 545 545 545 545 545 545 545 545 545 545 545 545 545 545 545 545 545 545 545 545 559 559 559 559 559 559 559 559 559 559 559 559 559 559 559 559 559 559 559 559 595 595 595 595 595 595 595 595 595 595 595 595 595 595 595 595 595 595 595 595 598 598 598 598 598 598 598 598 598 598 598 598 598 598 598 598 598 598 598 598 601 601 601 601 601 601 601 601 601 601 601 601 601 601 601 601 601 601 601 601 607 607 607 607 607 607 607 607 607 607 607 607 607 607 607 607 607 607 607 607 614 614 614 614 614 614 614 614 614 614 614 614 614 614 614 614 614 614 614 614 619 619 619 619 619 619 619 619 619 619 619 619 619 619 619 619 619 619 619 619 625 625 625 625 625 625 625 625 625 625 625 625 625 625 625 625 625 625 625 625 658 658 658 658 658 658 658 658 658 658 658 658 658 658 658 658 658 658 658 658 668 668 668 668 668 668 668 668 668 668 668 668 668 668 668 668 668 668 668 668 670 670 670 670 670 670 670 670 670 670 670 670 670 670 670 670 670 670 670 670 680 680 680 680 680 680 680 680 680 680 680 680 680 680 680 680 680 680 680 680 686 686 686 686 686 686 686 686 686 686 686 686 686 686 686 686 686 686 686 686 688 688 688 688 688 688 688 688 688 688 688 688 688 688 688 688 688 688 688 688 700 700 700 700 700 700 700 700 700 700 700 700 700 700 700 700 700 700 700 700 703 703 703 703 703 703 703 703 703 703 703 703 703 703 703 703 703 703 703 703 717 717 717 717 717 717 717 717 717 717 717 717 717 717 717 717 717 717 717 717 722 722 722 722 722 722 722 722 722 722 722 722 722 722 722 722 722 722 722 722 753 753 753 753 753 753 753 753 753 753 753 753 753 753 753 753 753 753 753 753 756 756 756 756 756 756 756 756 756 756 756 756 756 756 756 756 756 756 756 756 763 763 763 763 763 763 763 763 763 763 763 763 763 763 763 763 763 763 763 763 765 765 765 765 765 765 765 765 765 765 765 765 765 765 765 765 765 765 765 765 769 769 769 769 769 769 769 769 769 769 769 769 769 769 769 769 769 769 769 769 771 771 771 771 771 771 771 771 771 771 771 771 771 771 771 771 771 771 771 771 836 836 836 836 836 836 836 836 836 836 836 836 836 836 836 836 836 836 836 836 849 849 849 849 849 849 849 849 849 849 849 849 849 849 849 849 849 849 849 849 856 856 856 856 856 856 856 856 856 856 856 856 856 856 856 856 856 856 856 856 857 857 857 857 857 857 857 857 857 857 857 857 857 857 857 857 857 857 857 857 866 866 866 866 866 866 866 866 866 866 866 866 866 866 866 866 866 866 866 866 882 882 882 882 882 882 882 882 882 882 882 882 882 882 882 882 882 882 882 882 884 884 884 884 884 884 884 884 884 884 884 884 884 884 884 884 884 884 884 884 896 896 896 896 896 896 896 896 896 896 896 896 896 896 896 896 896 896 896 896 928 928 928 928 928 928 928 928 928 928 928 928 928 928 928 928 928 928 928 928 934 934 934 934 934 934 934 934 934 934 934 934 934 934 934 934 934 934 934 934 949 949 949 949 949 949 949 949 949 949 949 949 949 949 949 949 949 949 949 949 958 958 958 958 958 958 958 958 958 958 958 958 958 958 958 958 958 958 958 958 960 960 960 960 960 960 960 960 960 960 960 960 960 960 960 960 960 960 960 960 978 978 978 978 978 978 978 978 978 978 978 978 978 978 978 978 978 978 978 978 1020 1020 1020 1020 1020 1020 1020 1020 1020 1020 1020 1020 1020 1020 1020 1020 1020 1020 1020 1020 1034 1034 1034 1034 1034 1034 1034 1034 1034 1034 1034 1034 1034 1034 1034 1034 1034 1034 1034 1034 1044 1044 1044 1044 1044 1044 1044 1044 1044 1044 1044 1044 1044 1044 1044 1044 1044 1044 1044 1044 1049 1049 1049 1049 1049 1049 1049 1049 1049 1049 1049 1049 1049 1049 1049 1049 1049 1049 1049 1049 1064 1064 1064 1064 1064 1064 1064 1064 1064 1064 1064 1064 1064 1064 1064 1064 1064 1064 1064 1064 1075 1075 1075 1075 1075 1075 1075 1075 1075 1075 1075 1075 1075 1075 1075 1075 1075 1075 1075 1075 1077 1077 1077 1077 1077 1077 1077 1077 1077 1077 1077 1077 1077 1077 1077 1077 1077 1077 1077 1077 1102 1102 1102 1102 1102 1102 1102 1102 1102 1102 1102 1102 1102 1102 1102 1102 1102 1102 1102 1102 1120 1120 1120 1120 1120 1120 1120 1120 1120 1120 1120 1120 1120 1120 1120 1120 1120 1120 1120 1120 1143 1143 1143 1143 1143 1143 1143 1143 1143 1143 1143 1143 1143 1143 1143 1143 1143 1143 1143 1143 1163 1163 1163 1163 1163 1163 1163 1163 1163 1163 1163 1163 1163 1163 1163 1163 1163 1163 1163 1163 1174 1174 1174 1174 1174 1174 1174 1174 1174 1174 1174 1174 1174 1174 1174 1174 1174 1174 1174 1174 1235 1235 1235 1235 1235 1235 1235 1235 1235 1235 1235 1235 1235 1235 1235 1235 1235 1235 1235 1235 1247 1247 1247 1247 1247 1247 1247 1247 1247 1247 1247 1247 1247 1247 1247 1247 1247 1247 1247 1247 1270 1270 1270 1270 1270 1270 1270 1270 1270 1270 1270 1270 1270 1270 1270 1270 1270 1270 1270 1270 1290 1290 1290 1290 1290 1290 1290 1290 1290 1290 1290 1290 1290 1290 1290 1290 1290 1290 1290 1290 1350 1350 1350 1350 1350 1350 1350 1350 1350 1350 1350 1350 1350 1350 1350 1350 1350 1350 1350 1350 1377 1377 1377 1377 1377 1377 1377 1377 1377 1377 1377 1377 1377 1377 1377 1377 1377 1377 1377 1377 1383 1383 1383 1383 1383 1383 1383 1383 1383 1383 1383 1383 1383 1383 1383 1383 1383 1383 1383 1383 1421 1421 1421 1421 1421 1421 1421 1421 1421 1421 1421 1421 1421 1421 1421 1421 1421 1421 1421 1421 1463 1463 1463 1463 1463 1463 1463 1463 1463 1463 1463 1463 1463 1463 1463 1463 1463 1463 1463 1463 1520 1520 1520 1520 1520 1520 1520 1520 1520 1520 1520 1520 1520 1520 1520 1520 1520 1520 1520 1520 207 207 207 207 207 207 207 207 207 207 207 207 207 207 207 207 207 207 207 551 551 551 551 551 551 551 551 551 551 551 551 551 551 551 551 551 551 551 569 569 569 569 569 569 569 569 569 569 569 569 569 569 569 569 569 569 569 573 573 573 573 573 573 573 573 573 573 573 573 573 573 573 573 573 573 573 681 681 681 681 681 681 681 681 681 681 681 681 681 681 681 681 681 681 681 989 989 989 989 989 989 989 989 989 989 989 989 989 989 989 989 989 989 989 1207 1207 1207 1207 1207 1207 1207 1207 1207 1207 1207 1207 1207 1207 1207 1207 1207 1207 1207 5 5 5 5 5 5 5 5 5 5 5 5 5 5 5 5 5 5 9 9 9 9 9 9 9 9 9 9 9 9 9 9 9 9 9 9 68 68 68 68 68 68 68 68 68 68 68 68 68 68 68 68 68 68 70 70 70 70 70 70 70 70 70 70 70 70 70 70 70 70 70 70 95 95 95 95 95 95 95 95 95 95 95 95 95 95 95 95 95 95 105 105 105 105 105 105 105 105 105 105 105 105 105 105 105 105 105 105 171 171 171 171 171 171 171 171 171 171 171 171 171 171 171 171 171 171 173 173 173 173 173 173 173 173 173 173 173 173 173 173 173 173 173 173 221 221 221 221 221 221 221 221 221 221 221 221 221 221 221 221 221 221 263 263 263 263 263 263 263 263 263 263 263 263 263 263 263 263 263 263 272 272 272 272 272 272 272 272 272 272 272 272 272 272 272 272 272 272 280 280 280 280 280 280 280 280 280 280 280 280 280 280 280 280 280 280 282 282 282 282 282 282 282 282 282 282 282 282 282 282 282 282 282 282 284 284 284 284 284 284 284 284 284 284 284 284 284 284 284 284 284 284 320 320 320 320 320 320 320 320 320 320 320 320 320 320 320 320 320 320 379 379 379 379 379 379 379 379 379 379 379 379 379 379 379 379 379 379 426 426 426 426 426 426 426 426 426 426 426 426 426 426 426 426 426 426 444 444 444 444 444 444 444 444 444 444 444 444 444 444 444 444 444 444 454 454 454 454 454 454 454 454 454 454 454 454 454 454 454 454 454 454 460 460 460 460 460 460 460 460 460 460 460 460 460 460 460 460 460 460 499 499 499 499 499 499 499 499 499 499 499 499 499 499 499 499 499 499 511 511 511 511 511 511 511 511 511 511 511 511 511 511 511 511 511 511 515 515 515 515 515 515 515 515 515 515 515 515 515 515 515 515 515 515 525 525 525 525 525 525 525 525 525 525 525 525 525 525 525 525 525 525 527 527 527 527 527 527 527 527 527 527 527 527 527 527 527 527 527 527 531 531 531 531 531 531 531 531 531 531 531 531 531 531 531 531 531 531 535 535 535 535 535 535 535 535 535 535 535 535 535 535 535 535 535 535 596 596 596 596 596 596 596 596 596 596 596 596 596 596 596 596 596 596 624 624 624 624 624 624 624 624 624 624 624 624 624 624 624 624 624 624 632 632 632 632 632 632 632 632 632 632 632 632 632 632 632 632 632 632 646 646 646 646 646 646 646 646 646 646 646 646 646 646 646 646 646 646 683 683 683 683 683 683 683 683 683 683 683 683 683 683 683 683 683 683 706 706 706 706 706 706 706 706 706 706 706 706 706 706 706 706 706 706 708 708 708 708 708 708 708 708 708 708 708 708 708 708 708 708 708 708 712 712 712 712 712 712 712 712 712 712 712 712 712 712 712 712 712 712 723 723 723 723 723 723 723 723 723 723 723 723 723 723 723 723 723 723 748 748 748 748 748 748 748 748 748 748 748 748 748 748 748 748 748 748 749 749 749 749 749 749 749 749 749 749 749 749 749 749 749 749 749 749 759 759 759 759 759 759 759 759 759 759 759 759 759 759 759 759 759 759 768 768 768 768 768 768 768 768 768 768 768 768 768 768 768 768 768 768 800 800 800 800 800 800 800 800 800 800 800 800 800 800 800 800 800 800 818 818 818 818 818 818 818 818 818 818 818 818 818 818 818 818 818 818 830 830 830 830 830 830 830 830 830 830 830 830 830 830 830 830 830 830 841 841 841 841 841 841 841 841 841 841 841 841 841 841 841 841 841 841 861 861 861 861 861 861 861 861 861 861 861 861 861 861 861 861 861 861 881 881 881 881 881 881 881 881 881 881 881 881 881 881 881 881 881 881 903 903 903 903 903 903 903 903 903 903 903 903 903 903 903 903 903 903 924 924 924 924 924 924 924 924 924 924 924 924 924 924 924 924 924 924 950 950 950 950 950 950 950 950 950 950 950 950 950 950 950 950 950 950 969 969 969 969 969 969 969 969 969 969 969 969 969 969 969 969 969 969 974 974 974 974 974 974 974 974 974 974 974 974 974 974 974 974 974 974 979 979 979 979 979 979 979 979 979 979 979 979 979 979 979 979 979 979 1008 1008 1008 1008 1008 1008 1008 1008 1008 1008 1008 1008 1008 1008 1008 1008 1008 1008 1022 1022 1022 1022 1022 1022 1022 1022 1022 1022 1022 1022 1022 1022 1022 1022 1022 1022 1046 1046 1046 1046 1046 1046 1046 1046 1046 1046 1046 1046 1046 1046 1046 1046 1046 1046 1047 1047 1047 1047 1047 1047 1047 1047 1047 1047 1047 1047 1047 1047 1047 1047 1047 1047 1122 1122 1122 1122 1122 1122 1122 1122 1122 1122 1122 1122 1122 1122 1122 1122 1122 1122 1146 1146 1146 1146 1146 1146 1146 1146 1146 1146 1146 1146 1146 1146 1146 1146 1146 1146 1147 1147 1147 1147 1147 1147 1147 1147 1147 1147 1147 1147 1147 1147 1147 1147 1147 1147 1150 1150 1150 1150 1150 1150 1150 1150 1150 1150 1150 1150 1150 1150 1150 1150 1150 1150 1204 1204 1204 1204 1204 1204 1204 1204 1204 1204 1204 1204 1204 1204 1204 1204 1204 1204 1230 1230 1230 1230 1230 1230 1230 1230 1230 1230 1230 1230 1230 1230 1230 1230 1230 1230 1250 1250 1250 1250 1250 1250 1250 1250 1250 1250 1250 1250 1250 1250 1250 1250 1250 1250 1253 1253 1253 1253 1253 1253 1253 1253 1253 1253 1253 1253 1253 1253 1253 1253 1253 1253 1262 1262 1262 1262 1262 1262 1262 1262 1262 1262 1262 1262 1262 1262 1262 1262 1262 1262 1277 1277 1277 1277 1277 1277 1277 1277 1277 1277 1277 1277 1277 1277 1277 1277 1277 1277 1279 1279 1279 1279 1279 1279 1279 1279 1279 1279 1279 1279 1279 1279 1279 1279 1279 1279 1282 1282 1282 1282 1282 1282 1282 1282 1282 1282 1282 1282 1282 1282 1282 1282 1282 1282 1286 1286 1286 1286 1286 1286 1286 1286 1286 1286 1286 1286 1286 1286 1286 1286 1286 1286 1288 1288 1288 1288 1288 1288 1288 1288 1288 1288 1288 1288 1288 1288 1288 1288 1288 1288 1293 1293 1293 1293 1293 1293 1293 1293 1293 1293 1293 1293 1293 1293 1293 1293 1293 1293 1336 1336 1336 1336 1336 1336 1336 1336 1336 1336 1336 1336 1336 1336 1336 1336 1336 1336 1343 1343 1343 1343 1343 1343 1343 1343 1343 1343 1343 1343 1343 1343 1343 1343 1343 1343 1379 1379 1379 1379 1379 1379 1379 1379 1379 1379 1379 1379 1379 1379 1379 1379 1379 1379 1392 1392 1392 1392 1392 1392 1392 1392 1392 1392 1392 1392 1392 1392 1392 1392 1392 1392 1449 1449 1449 1449 1449 1449 1449 1449 1449 1449 1449 1449 1449 1449 1449 1449 1449 1449 1454 1454 1454 1454 1454 1454 1454 1454 1454 1454 1454 1454 1454 1454 1454 1454 1454 1454 1478 1478 1478 1478 1478 1478 1478 1478 1478 1478 1478 1478 1478 1478 1478 1478 1478 1478 1480 1480 1480 1480 1480 1480 1480 1480 1480 1480 1480 1480 1480 1480 1480 1480 1480 1480 367 367 367 367 367 367 367 367 367 367 367 367 367 367 367 367 367 923 923 923 923 923 923 923 923 923 923 923 923 923 923 923 923 923 1091 1091 1091 1091 1091 1091 1091 1091 1091 1091 1091 1091 1091 1091 1091 1091 1091 1259 1259 1259 1259 1259 1259 1259 1259 1259 1259 1259 1259 1259 1259 1259 1259 1259 1317 1317 1317 1317 1317 1317 1317 1317 1317 1317 1317 1317 1317 1317 1317 1317 1317 1357 1357 1357 1357 1357 1357 1357 1357 1357 1357 1357 1357 1357 1357 1357 1357 1357 19 19 19 19 19 19 19 19 19 19 19 19 19 19 19 19 104 104 104 104 104 104 104 104 104 104 104 104 104 104 104 104 151 151 151 151 151 151 151 151 151 151 151 151 151 151 151 151 223 223 223 223 223 223 223 223 223 223 223 223 223 223 223 223 231 231 231 231 231 231 231 231 231 231 231 231 231 231 231 231 268 268 268 268 268 268 268 268 268 268 268 268 268 268 268 268 302 302 302 302 302 302 302 302 302 302 302 302 302 302 302 302 308 308 308 308 308 308 308 308 308 308 308 308 308 308 308 308 334 334 334 334 334 334 334 334 334 334 334 334 334 334 334 334 341 341 341 341 341 341 341 341 341 341 341 341 341 341 341 341 355 355 355 355 355 355 355 355 355 355 355 355 355 355 355 355 431 431 431 431 431 431 431 431 431 431 431 431 431 431 431 431 486 486 486 486 486 486 486 486 486 486 486 486 486 486 486 486 520 520 520 520 520 520 520 520 520 520 520 520 520 520 520 520 564 564 564 564 564 564 564 564 564 564 564 564 564 564 564 564 642 642 642 642 642 642 642 642 642 642 642 642 642 642 642 642 666 666 666 666 666 666 666 666 666 666 666 666 666 666 666 666 676 676 676 676 676 676 676 676 676 676 676 676 676 676 676 676 702 702 702 702 702 702 702 702 702 702 702 702 702 702 702 702 780 780 780 780 780 780 780 780 780 780 780 780 780 780 780 780 789 789 789 789 789 789 789 789 789 789 789 789 789 789 789 789 790 790 790 790 790 790 790 790 790 790 790 790 790 790 790 790 791 791 791 791 791 791 791 791 791 791 791 791 791 791 791 791 796 796 796 796 796 796 796 796 796 796 796 796 796 796 796 796 806 806 806 806 806 806 806 806 806 806 806 806 806 806 806 806 821 821 821 821 821 821 821 821 821 821 821 821 821 821 821 821 839 839 839 839 839 839 839 839 839 839 839 839 839 839 839 839 848 848 848 848 848 848 848 848 848 848 848 848 848 848 848 848 862 862 862 862 862 862 862 862 862 862 862 862 862 862 862 862 876 876 876 876 876 876 876 876 876 876 876 876 876 876 876 876 878 878 878 878 878 878 878 878 878 878 878 878 878 878 878 878 891 891 891 891 891 891 891 891 891 891 891 891 891 891 891 891 895 895 895 895 895 895 895 895 895 895 895 895 895 895 895 895 922 922 922 922 922 922 922 922 922 922 922 922 922 922 922 922 935 935 935 935 935 935 935 935 935 935 935 935 935 935 935 935 940 940 940 940 940 940 940 940 940 940 940 940 940 940 940 940 970 970 970 970 970 970 970 970 970 970 970 970 970 970 970 970 971 971 971 971 971 971 971 971 971 971 971 971 971 971 971 971 976 976 976 976 976 976 976 976 976 976 976 976 976 976 976 976 1011 1011 1011 1011 1011 1011 1011 1011 1011 1011 1011 1011 1011 1011 1011 1011 1015 1015 1015 1015 1015 1015 1015 1015 1015 1015 1015 1015 1015 1015 1015 1015 1018 1018 1018 1018 1018 1018 1018 1018 1018 1018 1018 1018 1018 1018 1018 1018 1023 1023 1023 1023 1023 1023 1023 1023 1023 1023 1023 1023 1023 1023 1023 1023 1063 1063 1063 1063 1063 1063 1063 1063 1063 1063 1063 1063 1063 1063 1063 1063 1066 1066 1066 1066 1066 1066 1066 1066 1066 1066 1066 1066 1066 1066 1066 1066 1073 1073 1073 1073 1073 1073 1073 1073 1073 1073 1073 1073 1073 1073 1073 1073 1074 1074 1074 1074 1074 1074 1074 1074 1074 1074 1074 1074 1074 1074 1074 1074 1079 1079 1079 1079 1079 1079 1079 1079 1079 1079 1079 1079 1079 1079 1079 1079 1082 1082 1082 1082 1082 1082 1082 1082 1082 1082 1082 1082 1082 1082 1082 1082 1096 1096 1096 1096 1096 1096 1096 1096 1096 1096 1096 1096 1096 1096 1096 1096 1109 1109 1109 1109 1109 1109 1109 1109 1109 1109 1109 1109 1109 1109 1109 1109 1133 1133 1133 1133 1133 1133 1133 1133 1133 1133 1133 1133 1133 1133 1133 1133 1149 1149 1149 1149 1149 1149 1149 1149 1149 1149 1149 1149 1149 1149 1149 1149 1166 1166 1166 1166 1166 1166 1166 1166 1166 1166 1166 1166 1166 1166 1166 1166 1171 1171 1171 1171 1171 1171 1171 1171 1171 1171 1171 1171 1171 1171 1171 1171 1178 1178 1178 1178 1178 1178 1178 1178 1178 1178 1178 1178 1178 1178 1178 1178 1190 1190 1190 1190 1190 1190 1190 1190 1190 1190 1190 1190 1190 1190 1190 1190 1197 1197 1197 1197 1197 1197 1197 1197 1197 1197 1197 1197 1197 1197 1197 1197 1223 1223 1223 1223 1223 1223 1223 1223 1223 1223 1223 1223 1223 1223 1223 1223 1246 1246 1246 1246 1246 1246 1246 1246 1246 1246 1246 1246 1246 1246 1246 1246 1256 1256 1256 1256 1256 1256 1256 1256 1256 1256 1256 1256 1256 1256 1256 1256 1260 1260 1260 1260 1260 1260 1260 1260 1260 1260 1260 1260 1260 1260 1260 1260 1302 1302 1302 1302 1302 1302 1302 1302 1302 1302 1302 1302 1302 1302 1302 1302 1367 1367 1367 1367 1367 1367 1367 1367 1367 1367 1367 1367 1367 1367 1367 1367 1464 1464 1464 1464 1464 1464 1464 1464 1464 1464 1464 1464 1464 1464 1464 1464 1504 1504 1504 1504 1504 1504 1504 1504 1504 1504 1504 1504 1504 1504 1504 1504 395 395 395 395 395 395 395 395 395 395 395 395 395 395 395 729 729 729 729 729 729 729 729 729 729 729 729 729 729 729 795 795 795 795 795 795 795 795 795 795 795 795 795 795 795 885 885 885 885 885 885 885 885 885 885 885 885 885 885 885 110 110 110 110 110 110 110 110 110 110 110 110 110 110 141 141 141 141 141 141 141 141 141 141 141 141 141 141 153 153 153 153 153 153 153 153 153 153 153 153 153 153 197 197 197 197 197 197 197 197 197 197 197 197 197 197 278 278 278 278 278 278 278 278 278 278 278 278 278 278 339 339 339 339 339 339 339 339 339 339 339 339 339 339 377 377 377 377 377 377 377 377 377 377 377 377 377 377 458 458 458 458 458 458 458 458 458 458 458 458 458 458 464 464 464 464 464 464 464 464 464 464 464 464 464 464 502 502 502 502 502 502 502 502 502 502 502 502 502 502 506 506 506 506 506 506 506 506 506 506 506 506 506 506 508 508 508 508 508 508 508 508 508 508 508 508 508 508 518 518 518 518 518 518 518 518 518 518 518 518 518 518 529 529 529 529 529 529 529 529 529 529 529 529 529 529 587 587 587 587 587 587 587 587 587 587 587 587 587 587 660 660 660 660 660 660 660 660 660 660 660 660 660 660 665 665 665 665 665 665 665 665 665 665 665 665 665 665 701 701 701 701 701 701 701 701 701 701 701 701 701 701 719 719 719 719 719 719 719 719 719 719 719 719 719 719 733 733 733 733 733 733 733 733 733 733 733 733 733 733 737 737 737 737 737 737 737 737 737 737 737 737 737 737 804 804 804 804 804 804 804 804 804 804 804 804 804 804 842 842 842 842 842 842 842 842 842 842 842 842 842 842 890 890 890 890 890 890 890 890 890 890 890 890 890 890 901 901 901 901 901 901 901 901 901 901 901 901 901 901 908 908 908 908 908 908 908 908 908 908 908 908 908 908 926 926 926 926 926 926 926 926 926 926 926 926 926 926 938 938 938 938 938 938 938 938 938 938 938 938 938 938 939 939 939 939 939 939 939 939 939 939 939 939 939 939 942 942 942 942 942 942 942 942 942 942 942 942 942 942 977 977 977 977 977 977 977 977 977 977 977 977 977 977 997 997 997 997 997 997 997 997 997 997 997 997 997 997 1002 1002 1002 1002 1002 1002 1002 1002 1002 1002 1002 1002 1002 1002 1004 1004 1004 1004 1004 1004 1004 1004 1004 1004 1004 1004 1004 1004 1009 1009 1009 1009 1009 1009 1009 1009 1009 1009 1009 1009 1009 1009 1030 1030 1030 1030 1030 1030 1030 1030 1030 1030 1030 1030 1030 1030 1036 1036 1036 1036 1036 1036 1036 1036 1036 1036 1036 1036 1036 1036 1053 1053 1053 1053 1053 1053 1053 1053 1053 1053 1053 1053 1053 1053 1062 1062 1062 1062 1062 1062 1062 1062 1062 1062 1062 1062 1062 1062 1090 1090 1090 1090 1090 1090 1090 1090 1090 1090 1090 1090 1090 1090 1094 1094 1094 1094 1094 1094 1094 1094 1094 1094 1094 1094 1094 1094 1100 1100 1100 1100 1100 1100 1100 1100 1100 1100 1100 1100 1100 1100 1140 1140 1140 1140 1140 1140 1140 1140 1140 1140 1140 1140 1140 1140 1145 1145 1145 1145 1145 1145 1145 1145 1145 1145 1145 1145 1145 1145 1153 1153 1153 1153 1153 1153 1153 1153 1153 1153 1153 1153 1153 1153 1159 1159 1159 1159 1159 1159 1159 1159 1159 1159 1159 1159 1159 1159 1169 1169 1169 1169 1169 1169 1169 1169 1169 1169 1169 1169 1169 1169 1181 1181 1181 1181 1181 1181 1181 1181 1181 1181 1181 1181 1181 1181 1191 1191 1191 1191 1191 1191 1191 1191 1191 1191 1191 1191 1191 1191 1192 1192 1192 1192 1192 1192 1192 1192 1192 1192 1192 1192 1192 1192 1304 1304 1304 1304 1304 1304 1304 1304 1304 1304 1304 1304 1304 1304 1308 1308 1308 1308 1308 1308 1308 1308 1308 1308 1308 1308 1308 1308 1347 1347 1347 1347 1347 1347 1347 1347 1347 1347 1347 1347 1347 1347 1381 1381 1381 1381 1381 1381 1381 1381 1381 1381 1381 1381 1381 1381 1393 1393 1393 1393 1393 1393 1393 1393 1393 1393 1393 1393 1393 1393 1417 1417 1417 1417 1417 1417 1417 1417 1417 1417 1417 1417 1417 1417 1563 1563 1563 1563 1563 1563 1563 1563 1563 1563 1563 1563 1563 1563 1589 1589 1589 1589 1589 1589 1589 1589 1589 1589 1589 1589 1589 1589 1605 1605 1605 1605 1605 1605 1605 1605 1605 1605 1605 1605 1605 1605 167 167 167 167 167 167 167 167 167 167 167 167 167 351 351 351 351 351 351 351 351 351 351 351 351 351 357 357 357 357 357 357 357 357 357 357 357 357 357 1203 1203 1203 1203 1203 1203 1203 1203 1203 1203 1203 1203 1203 1305 1305 1305 1305 1305 1305 1305 1305 1305 1305 1305 1305 1305 54 54 54 54 54 54 54 54 54 54 54 54 92 92 92 92 92 92 92 92 92 92 92 92 118 118 118 118 118 118 118 118 118 118 118 118 191 191 191 191 191 191 191 191 191 191 191 191 205 205 205 205 205 205 205 205 205 205 205 205 254 254 254 254 254 254 254 254 254 254 254 254 292 292 292 292 292 292 292 292 292 292 292 292 318 318 318 318 318 318 318 318 318 318 318 318 373 373 373 373 373 373 373 373 373 373 373 373 407 407 407 407 407 407 407 407 407 407 407 407 410 410 410 410 410 410 410 410 410 410 410 410 442 442 442 442 442 442 442 442 442 442 442 442 450 450 450 450 450 450 450 450 450 450 450 450 456 456 456 456 456 456 456 456 456 456 456 456 466 466 466 466 466 466 466 466 466 466 466 466 474 474 474 474 474 474 474 474 474 474 474 474 488 488 488 488 488 488 488 488 488 488 488 488 523 523 523 523 523 523 523 523 523 523 523 523 539 539 539 539 539 539 539 539 539 539 539 539 553 553 553 553 553 553 553 553 553 553 553 553 557 557 557 557 557 557 557 557 557 557 557 557 561 561 561 561 561 561 561 561 561 561 561 561 567 567 567 567 567 567 567 567 567 567 567 567 579 579 579 579 579 579 579 579 579 579 579 579 610 610 610 610 610 610 610 610 610 610 610 610 612 612 612 612 612 612 612 612 612 612 612 612 618 618 618 618 618 618 618 618 618 618 618 618 630 630 630 630 630 630 630 630 630 630 630 630 640 640 640 640 640 640 640 640 640 640 640 640 644 644 644 644 644 644 644 644 644 644 644 644 648 648 648 648 648 648 648 648 648 648 648 648 650 650 650 650 650 650 650 650 650 650 650 650 664 664 664 664 664 664 664 664 664 664 664 664 677 677 677 677 677 677 677 677 677 677 677 677 699 699 699 699 699 699 699 699 699 699 699 699 709 709 709 709 709 709 709 709 709 709 709 709 735 735 735 735 735 735 735 735 735 735 735 735 739 739 739 739 739 739 739 739 739 739 739 739 743 743 743 743 743 743 743 743 743 743 743 743 747 747 747 747 747 747 747 747 747 747 747 747 755 755 755 755 755 755 755 755 755 755 755 755 757 757 757 757 757 757 757 757 757 757 757 757 764 764 764 764 764 764 764 764 764 764 764 764 773 773 773 773 773 773 773 773 773 773 773 773 802 802 802 802 802 802 802 802 802 802 802 802 812 812 812 812 812 812 812 812 812 812 812 812 822 822 822 822 822 822 822 822 822 822 822 822 852 852 852 852 852 852 852 852 852 852 852 852 858 858 858 858 858 858 858 858 858 858 858 858 860 860 860 860 860 860 860 860 860 860 860 860 868 868 868 868 868 868 868 868 868 868 868 868 870 870 870 870 870 870 870 870 870 870 870 870 897 897 897 897 897 897 897 897 897 897 897 897 912 912 912 912 912 912 912 912 912 912 912 912 929 929 929 929 929 929 929 929 929 929 929 929 954 954 954 954 954 954 954 954 954 954 954 954 957 957 957 957 957 957 957 957 957 957 957 957 961 961 961 961 961 961 961 961 961 961 961 961 964 964 964 964 964 964 964 964 964 964 964 964 990 990 990 990 990 990 990 990 990 990 990 990 1021 1021 1021 1021 1021 1021 1021 1021 1021 1021 1021 1021 1050 1050 1050 1050 1050 1050 1050 1050 1050 1050 1050 1050 1051 1051 1051 1051 1051 1051 1051 1051 1051 1051 1051 1051 1052 1052 1052 1052 1052 1052 1052 1052 1052 1052 1052 1052 1065 1065 1065 1065 1065 1065 1065 1065 1065 1065 1065 1065 1078 1078 1078 1078 1078 1078 1078 1078 1078 1078 1078 1078 1080 1080 1080 1080 1080 1080 1080 1080 1080 1080 1080 1080 1101 1101 1101 1101 1101 1101 1101 1101 1101 1101 1101 1101 1114 1114 1114 1114 1114 1114 1114 1114 1114 1114 1114 1114 1135 1135 1135 1135 1135 1135 1135 1135 1135 1135 1135 1135 1136 1136 1136 1136 1136 1136 1136 1136 1136 1136 1136 1136 1176 1176 1176 1176 1176 1176 1176 1176 1176 1176 1176 1176 1188 1188 1188 1188 1188 1188 1188 1188 1188 1188 1188 1188 1199 1199 1199 1199 1199 1199 1199 1199 1199 1199 1199 1199 1201 1201 1201 1201 1201 1201 1201 1201 1201 1201 1201 1201 1218 1218 1218 1218 1218 1218 1218 1218 1218 1218 1218 1218 1229 1229 1229 1229 1229 1229 1229 1229 1229 1229 1229 1229 1234 1234 1234 1234 1234 1234 1234 1234 1234 1234 1234 1234 1272 1272 1272 1272 1272 1272 1272 1272 1272 1272 1272 1272 1275 1275 1275 1275 1275 1275 1275 1275 1275 1275 1275 1275 1284 1284 1284 1284 1284 1284 1284 1284 1284 1284 1284 1284 1289 1289 1289 1289 1289 1289 1289 1289 1289 1289 1289 1289 1291 1291 1291 1291 1291 1291 1291 1291 1291 1291 1291 1291 1296 1296 1296 1296 1296 1296 1296 1296 1296 1296 1296 1296 1330 1330 1330 1330 1330 1330 1330 1330 1330 1330 1330 1330 1331 1331 1331 1331 1331 1331 1331 1331 1331 1331 1331 1331 1333 1333 1333 1333 1333 1333 1333 1333 1333 1333 1333 1333 1341 1341 1341 1341 1341 1341 1341 1341 1341 1341 1341 1341 1346 1346 1346 1346 1346 1346 1346 1346 1346 1346 1346 1346 1348 1348 1348 1348 1348 1348 1348 1348 1348 1348 1348 1348 1364 1364 1364 1364 1364 1364 1364 1364 1364 1364 1364 1364 1366 1366 1366 1366 1366 1366 1366 1366 1366 1366 1366 1366 1532 1532 1532 1532 1532 1532 1532 1532 1532 1532 1532 1532 1548 1548 1548 1548 1548 1548 1548 1548 1548 1548 1548 1548 745 745 745 745 745 745 745 745 745 745 745 775 775 775 775 775 775 775 775 775 775 775 777 777 777 777 777 777 777 777 777 777 777 951 951 951 951 951 951 951 951 951 951 951 1117 1117 1117 1117 1117 1117 1117 1117 1117 1117 1117 1409 1409 1409 1409 1409 1409 1409 1409 1409 1409 1409 1551 1551 1551 1551 1551 1551 1551 1551 1551 1551 1551 482 482 482 482 482 482 482 482 482 482 490 490 490 490 490 490 490 490 490 490 492 492 492 492 492 492 492 492 492 492 554 554 554 554 554 554 554 554 554 554 563 563 563 563 563 563 563 563 563 563 594 594 594 594 594 594 594 594 594 594 656 656 656 656 656 656 656 656 656 656 707 707 707 707 707 707 707 707 707 707 715 715 715 715 715 715 715 715 715 715 738 738 738 738 738 738 738 738 738 738 751 751 751 751 751 751 751 751 751 751 820 820 820 820 820 820 820 820 820 820 855 855 855 855 855 855 855 855 855 855 864 864 864 864 864 864 864 864 864 864 869 869 869 869 869 869 869 869 869 869 877 877 877 877 877 877 877 877 877 877 915 915 915 915 915 915 915 915 915 915 917 917 917 917 917 917 917 917 917 917 945 945 945 945 945 945 945 945 945 945 952 952 952 952 952 952 952 952 952 952 953 953 953 953 953 953 953 953 953 953 965 965 965 965 965 965 965 965 965 965 968 968 968 968 968 968 968 968 968 968 1010 1010 1010 1010 1010 1010 1010 1010 1010 1010 1013 1013 1013 1013 1013 1013 1013 1013 1013 1013 1016 1016 1016 1016 1016 1016 1016 1016 1016 1016 1025 1025 1025 1025 1025 1025 1025 1025 1025 1025 1040 1040 1040 1040 1040 1040 1040 1040 1040 1040 1048 1048 1048 1048 1048 1048 1048 1048 1048 1048 1069 1069 1069 1069 1069 1069 1069 1069 1069 1069 1070 1070 1070 1070 1070 1070 1070 1070 1070 1070 1081 1081 1081 1081 1081 1081 1081 1081 1081 1081 1103 1103 1103 1103 1103 1103 1103 1103 1103 1103 1119 1119 1119 1119 1119 1119 1119 1119 1119 1119 1128 1128 1128 1128 1128 1128 1128 1128 1128 1128 1144 1144 1144 1144 1144 1144 1144 1144 1144 1144 1155 1155 1155 1155 1155 1155 1155 1155 1155 1155 1156 1156 1156 1156 1156 1156 1156 1156 1156 1156 1172 1172 1172 1172 1172 1172 1172 1172 1172 1172 1182 1182 1182 1182 1182 1182 1182 1182 1182 1182 1187 1187 1187 1187 1187 1187 1187 1187 1187 1187 1211 1211 1211 1211 1211 1211 1211 1211 1211 1211 1220 1220 1220 1220 1220 1220 1220 1220 1220 1220 1237 1237 1237 1237 1237 1237 1237 1237 1237 1237 1242 1242 1242 1242 1242 1242 1242 1242 1242 1242 1245 1245 1245 1245 1245 1245 1245 1245 1245 1245 1251 1251 1251 1251 1251 1251 1251 1251 1251 1251 1258 1258 1258 1258 1258 1258 1258 1258 1258 1258 1266 1266 1266 1266 1266 1266 1266 1266 1266 1266 1273 1273 1273 1273 1273 1273 1273 1273 1273 1273 1278 1278 1278 1278 1278 1278 1278 1278 1278 1278 1310 1310 1310 1310 1310 1310 1310 1310 1310 1310 1353 1353 1353 1353 1353 1353 1353 1353 1353 1353 1355 1355 1355 1355 1355 1355 1355 1355 1355 1355 1359 1359 1359 1359 1359 1359 1359 1359 1359 1359 1403 1403 1403 1403 1403 1403 1403 1403 1403 1403 1404 1404 1404 1404 1404 1404 1404 1404 1404 1404 1430 1430 1430 1430 1430 1430 1430 1430 1430 1430 1434 1434 1434 1434 1434 1434 1434 1434 1434 1434 1462 1462 1462 1462 1462 1462 1462 1462 1462 1462 1479 1479 1479 1479 1479 1479 1479 1479 1479 1479 1505 1505 1505 1505 1505 1505 1505 1505 1505 1505 1522 1522 1522 1522 1522 1522 1522 1522 1522 1522 1591 1591 1591 1591 1591 1591 1591 1591 1591 1591 577 577 577 577 577 577 577 577 577 937 937 937 937 937 937 937 937 937 955 955 955 955 955 955 955 955 955 1183 1183 1183 1183 1183 1183 1183 1183 1183 1349 1349 1349 1349 1349 1349 1349 1349 1349 1375 1375 1375 1375 1375 1375 1375 1375 1375 1603 1603 1603 1603 1603 1603 1603 1603 1603 1635 1635 1635 1635 1635 1635 1635 1635 1635 421 421 421 421 421 421 421 421 438 438 438 438 438 438 438 438 543 543 543 543 543 543 543 543 636 636 636 636 636 636 636 636 638 638 638 638 638 638 638 638 651 651 651 651 651 651 651 651 674 674 674 674 674 674 674 674 814 814 814 814 814 814 814 814 824 824 824 824 824 824 824 824 832 832 832 832 832 832 832 832 838 838 838 838 838 838 838 838 840 840 840 840 840 840 840 840 889 889 889 889 889 889 889 889 902 902 902 902 902 902 902 902 910 910 910 910 910 910 910 910 919 919 919 919 919 919 919 919 967 967 967 967 967 967 967 967 983 983 983 983 983 983 983 983 1014 1014 1014 1014 1014 1014 1014 1014 1042 1042 1042 1042 1042 1042 1042 1042 1110 1110 1110 1110 1110 1110 1110 1110 1121 1121 1121 1121 1121 1121 1121 1121 1129 1129 1129 1129 1129 1129 1129 1129 1142 1142 1142 1142 1142 1142 1142 1142 1194 1194 1194 1194 1194 1194 1194 1194 1227 1227 1227 1227 1227 1227 1227 1227 1254 1254 1254 1254 1254 1254 1254 1254 1265 1265 1265 1265 1265 1265 1265 1265 1440 1440 1440 1440 1440 1440 1440 1440 1450 1450 1450 1450 1450 1450 1450 1450 1456 1456 1456 1456 1456 1456 1456 1456 1460 1460 1460 1460 1460 1460 1460 1460 1470 1470 1470 1470 1470 1470 1470 1470 1496 1496 1496 1496 1496 1496 1496 1496 1534 1534 1534 1534 1534 1534 1534 1534 1550 1550 1550 1550 1550 1550 1550 1550 1567 1567 1567 1567 1567 1567 1567 1567 1576 1576 1576 1576 1576 1576 1576 1576 537 537 537 537 537 537 537 329 329 329 329 329 329 369 369 369 369 369 369 428 428 428 428 428 428 476 476 476 476 476 476 725 725 725 725 725 725 731 731 731 731 731 731 754 754 754 754 754 754 798 798 798 798 798 798 825 825 825 825 825 825 826 826 826 826 826 826 854 854 854 854 854 854 899 899 899 899 899 899 911 911 911 911 911 911 925 925 925 925 925 925 931 931 931 931 931 931 941 941 941 941 941 941 981 981 981 981 981 981 984 984 984 984 984 984 1041 1041 1041 1041 1041 1041 1071 1071 1071 1071 1071 1071 1089 1089 1089 1089 1089 1089 1095 1095 1095 1095 1095 1095 1115 1115 1115 1115 1115 1115 1126 1126 1126 1126 1126 1126 1127 1127 1127 1127 1127 1127 1139 1139 1139 1139 1139 1139 1152 1152 1152 1152 1152 1152 1158 1158 1158 1158 1158 1158 1202 1202 1202 1202 1202 1202 1208 1208 1208 1208 1208 1208 1215 1215 1215 1215 1215 1215 1222 1222 1222 1222 1222 1222 1236 1236 1236 1236 1236 1236 1243 1243 1243 1243 1243 1243 1248 1248 1248 1248 1248 1248 1252 1252 1252 1252 1252 1252 1264 1264 1264 1264 1264 1264 1268 1268 1268 1268 1268 1268 1280 1280 1280 1280 1280 1280 1295 1295 1295 1295 1295 1295 1312 1312 1312 1312 1312 1312 1321 1321 1321 1321 1321 1321 1322 1322 1322 1322 1322 1322 1329 1329 1329 1329 1329 1329 1340 1340 1340 1340 1340 1340 1344 1344 1344 1344 1344 1344 1361 1361 1361 1361 1361 1361 1365 1365 1365 1365 1365 1365 1373 1373 1373 1373 1373 1373 1406 1406 1406 1406 1406 1406 1418 1418 1418 1418 1418 1418 1428 1428 1428 1428 1428 1428 1437 1437 1437 1437 1437 1437 1442 1442 1442 1442 1442 1442 1444 1444 1444 1444 1444 1444 1446 1446 1446 1446 1446 1446 1448 1448 1448 1448 1448 1448 1466 1466 1466 1466 1466 1466 1472 1472 1472 1472 1472 1472 1475 1475 1475 1475 1475 1475 1477 1477 1477 1477 1477 1477 1489 1489 1489 1489 1489 1489 1494 1494 1494 1494 1494 1494 1502 1502 1502 1502 1502 1502 1527 1527 1527 1527 1527 1527 1535 1535 1535 1535 1535 1535 1547 1547 1547 1547 1547 1547 1553 1553 1553 1553 1553 1553 1561 1561 1561 1561 1561 1561 1565 1565 1565 1565 1565 1565 1569 1569 1569 1569 1569 1569 1592 1592 1592 1592 1592 1592 1607 1607 1607 1607 1607 1607 1609 1609 1609 1609 1609 1609 1664 1664 1664 1664 1664 1664 1690 1690 1690 1690 1690 1690 1706 1706 1706 1706 1706 1706 1083 1083 1083 1083 1083 1579 1579 1579 1579 1579 240 240 240 240 405 405 405 405 440 440 440 440 541 541 541 541 589 589 589 589 667 667 667 667 724 724 724 724 741 741 741 741 752 752 752 752 767 767 767 767 828 828 828 828 844 844 844 844 846 846 846 846 851 851 851 851 853 853 853 853 927 927 927 927 933 933 933 933 988 988 988 988 1028 1028 1028 1028 1057 1057 1057 1057 1068 1068 1068 1068 1087 1087 1087 1087 1097 1097 1097 1097 1123 1123 1123 1123 1137 1137 1137 1137 1154 1154 1154 1154 1165 1165 1165 1165 1196 1196 1196 1196 1200 1200 1200 1200 1209 1209 1209 1209 1213 1213 1213 1213 1214 1214 1214 1214 1224 1224 1224 1224 1225 1225 1225 1225 1226 1226 1226 1226 1240 1240 1240 1240 1267 1267 1267 1267 1269 1269 1269 1269 1307 1307 1307 1307 1316 1316 1316 1316 1319 1319 1319 1319 1326 1326 1326 1326 1337 1337 1337 1337 1378 1378 1378 1378 1385 1385 1385 1385 1390 1390 1390 1390 1395 1395 1395 1395 1423 1423 1423 1423 1435 1435 1435 1435 1453 1453 1453 1453 1461 1461 1461 1461 1468 1468 1468 1468 1482 1482 1482 1482 1488 1488 1488 1488 1539 1539 1539 1539 1541 1541 1541 1541 1543 1543 1543 1543 1562 1562 1562 1562 1575 1575 1575 1575 1676 1676 1676 1676 887 887 887 1085 1085 1085 1111 1111 1111 1549 1549 1549 353 353 389 389 654 654 727 727 913 913 982 982 986 986 998 998 1000 1000 1024 1024 1026 1026 1032 1032 1038 1038 1039 1039 1054 1054 1055 1055 1113 1113 1151 1151 1167 1167 1168 1168 1198 1198 1210 1210 1216 1216 1228 1228 1232 1232 1297 1297 1301 1301 1311 1311 1313 1313 1314 1314 1315 1315 1325 1325 1327 1327 1335 1335 1339 1339 1342 1342 1345 1345 1351 1351 1369 1369 1371 1371 1388 1388 1410 1410 1412 1412 1413 1413 1414 1414 1426 1426 1427 1427 1429 1429 1436 1436 1438 1438 1439 1439 1451 1451 1452 1452 1491 1491 1508 1508 1511 1511 1526 1526 1564 1564 1566 1566 1581 1581 1640 1640 1648 1648 1663 1663 1678 1678 1680 1680 1309 1323 1401 1503 1519 1583 1777'"
            ],
            "application/vnd.google.colaboratory.intrinsic+json": {
              "type": "string"
            }
          },
          "metadata": {},
          "execution_count": 68
        }
      ]
    },
    {
      "cell_type": "markdown",
      "source": [
        "## [BA4I](https://rosalind.info/problems/ba4i/) - Implement ConvolutionCyclopeptideSequencing"
      ],
      "metadata": {
        "id": "8yR52Ot58SjK"
      }
    },
    {
      "cell_type": "code",
      "source": [
        "# BA4E\n",
        "def cyclospectrum(peptide): # definicija ciklospektra\n",
        "  n = len(peptide) # peptid duljine n\n",
        "  mass = get_mass() # dohvatimo mase\n",
        "  # prolazi i do  -2 -> abcd -> abcdab -> ciklicnost\n",
        "  extended_peptide = peptide + peptide[:-1] # prosirimo peptid\n",
        "  spectrum = [0, sum(peptide)] # u spektar dodamo nulu i cijelu sumu\n",
        "  for l in range(n): # iteriramo po listi\n",
        "    for k in range(1, n): # dujine peptida\n",
        "      subpeptide = extended_peptide[l : l + k] # trazimo sve podpeptide\n",
        "      spectrum.append(sum(subpeptide)) # dodajemo sumu u spektar\n",
        "  return sorted(spectrum) # vracamo sortirani spektar"
      ],
      "metadata": {
        "id": "swlqS6f99_JT"
      },
      "execution_count": 69,
      "outputs": []
    },
    {
      "cell_type": "code",
      "source": [
        "# BA4H\n",
        "def convolution(spectrum):\n",
        "  spectrum.sort() # sortiraj spektar\n",
        "  conv = [] # konvolucija\n",
        "  # sve kombinacije elemenata spektra i njihove razlike\n",
        "  for i in range(len(spectrum) - 1): # za svaku poziciju u spektru\n",
        "    for j in range(i, len(spectrum)): # za svaku poziciju od i do kraja spektra\n",
        "      # ako je razlika od i-tog elementa spektra i j-tog elementa\n",
        "      # masenog spektra razlicita od nula\n",
        "      if spectrum[j] - spectrum[i] != 0:\n",
        "        # u listu konv. dodaj njihovu razliku\n",
        "        conv.append(spectrum[j] - spectrum[i])\n",
        "  freq_dict = {} # rijecnik frekvencija\n",
        "  for mass in set(conv): # za svaku masu u konv koja nema duplih elemenata\n",
        "    # dodaj kao kljuc masu, a kao vrijednost prebroji mase iz konv.\n",
        "    freq_dict[mass] = conv.count(mass)\n",
        "  # stvori popis kljuceva iz rjecnika freq_dict, sortiranih silaznim\n",
        "  # redoslijedom prema njihovim odgovarajucim vrijednostima.\n",
        "  sorted_mass_list = [k for k, _ in sorted(freq_dict.items(),\n",
        "                                           key=lambda item: item[1],\n",
        "                                           reverse=True)]\n",
        "  conv = []\n",
        "  for mass in sorted_mass_list: # za svaku masu u listi sortiranih masa\n",
        "    # na conv nadodaj masu onoliko puta kolika joj je frekvenvija\n",
        "    conv += [mass] * freq_dict[mass]\n",
        "  return conv # vrati mase"
      ],
      "metadata": {
        "id": "kUhyGFsxCEsY"
      },
      "execution_count": 70,
      "outputs": []
    },
    {
      "cell_type": "code",
      "source": [
        "# iz BA4E -> candidates\n",
        "def Expand(peptides, masses):\n",
        "  # novi peptidi -> dodajemo pocetnim peptidima sve\n",
        "  # moguce mase za svaki peptid iz liste peptida\n",
        "  # na pocetku lista prazna pa sve se mase dodaju\n",
        "  new_peptides = [peptide + [mass] for mass\n",
        "                  in masses for peptide in peptides]\n",
        "  return new_peptides # vrati nove peptidea"
      ],
      "metadata": {
        "id": "5p_ySPzhCfrv"
      },
      "execution_count": 71,
      "outputs": []
    },
    {
      "cell_type": "code",
      "source": [
        "# BA4G\n",
        "def Score(peptide, spectrum):\n",
        "    pep_spec = cyclospectrum(peptide) # mase u ciklospektru\n",
        "    result = 0 # postavi rezultat na 0\n",
        "    # jedinstvene mase su skup (brojevi se ne ponavljaju)\n",
        "    # teoretskog spektra i dobivenog spektra\n",
        "    unique_masses = set(pep_spec + spectrum)\n",
        "    for mass in unique_masses: # za svaku masu u jedinstvenim masama\n",
        "      # u rezultat pribroji -> prebroji pojavljivanja u teoretskom spektru\n",
        "      # ciklopeptida i dobivenom spektru te izmedu ta dva odaberi minimalni\n",
        "      # broj pojavljivanja\n",
        "      result += min(pep_spec.count(mass), spectrum.count(mass))\n",
        "    return result # vrati rezultat"
      ],
      "metadata": {
        "id": "Skw3fiP9CfsV"
      },
      "execution_count": 72,
      "outputs": []
    },
    {
      "cell_type": "code",
      "source": [
        "# BA4G\n",
        "def Trim(leaderboard, spectrum, N):\n",
        "  if len(leaderboard) <= N: # ako je duzina ljestvice manja ili  jednaka N\n",
        "    return leaderboard # vrati ljestvicu\n",
        "  scores = {} # rijecnik postignuca\n",
        "  # za svaku poziciju i i masu peptida u ljestvici\n",
        "  for i, peptide in enumerate(leaderboard):\n",
        "    # postavi index kao kljuc, a vrijednost Score peptida u spektru\n",
        "    scores[i] = Score(peptide, spectrum)\n",
        "  # napravi sortianu listu vrijednosti iz scores silazno\n",
        "  sorted_scores = sorted(scores.values(), reverse=True)\n",
        "  # postavi kao prag N-1-vi element iz sortiranih postignuca\n",
        "  threshold = sorted_scores[N - 1]\n",
        "  # vrati mase peptida iz ljestvice koji imaju veci score od praga\n",
        "  # pronadi index, score iz originalne ljestvice unutar scores i\n",
        "  # usporedi s granciom\n",
        "  return [leaderboard[idx] for idx, score\n",
        "          in scores.items() if score >= threshold]"
      ],
      "metadata": {
        "id": "7_WcXo2HCfsW"
      },
      "execution_count": 73,
      "outputs": []
    },
    {
      "cell_type": "code",
      "source": [
        "def find_masses(spectrum, M):\n",
        "  conv = convolution(spectrum) # napravi konvoluciju spektra\n",
        "  # samo ostavi one elemente iz konvolucije koji su veci ili jednaki 57\n",
        "  # i koji su manji ili jednaki 200\n",
        "  conv = [x for x in conv if 57 <= x <= 200]\n",
        "  freq_dict = {}\n",
        "  for mass in set(conv): # za svaku jedinstvenz masu iz konvolucije\n",
        "    # prebroji frekvencije pojavljivanja mase u konvoluciji\n",
        "    freq_dict[mass] = conv.count(mass)\n",
        "  # stvori popis kljuceva iz rjecnika freq_dict, sortiranih silaznim\n",
        "  # redoslijedom prema njihovim odgovarajucim vrijednostima\n",
        "  sorted_elems = sorted(freq_dict.items(), key=lambda kv: kv[1], reverse=True)\n",
        "  # uzima popis torki sorted_elems kao ulaz i vraća popis masa gdje je\n",
        "  # frekvencija mase veca ili jednaka frekvenciji M-tog najcesceg\n",
        "  # elementa u sorted_elems\n",
        "  masses = [mass for mass, freq in sorted_elems if freq >= sorted_elems[M-1][1]]\n",
        "  masses.sort() # sortiraj mase\n",
        "  return masses # vrati mase"
      ],
      "metadata": {
        "id": "lNHGUDRH9f2M"
      },
      "execution_count": 74,
      "outputs": []
    },
    {
      "cell_type": "code",
      "source": [
        "# slicno iz BA4G\n",
        "def convolution_cyclopeptide_sequencing(spectrum, M, N):\n",
        "  masses = find_masses(spectrum, M) # pronadi mase\n",
        "  leaderboard = [[]] # ljestvica je matrica\n",
        "  leader_peptide = [] # vodeci peptid\n",
        "  while leaderboard:\n",
        "    leaderboard = Expand(leaderboard, masses) # prosiri ljestvicu\n",
        "    for peptide in leaderboard: # za svaki peptid u ljestvici\n",
        "      # zbroji mase peptida i ako su one jednake\n",
        "      # zadnjoj masi spektra(ukupna masa spektra)\n",
        "      if sum(peptide) == spectrum[-1]:\n",
        "        # ako je score peptida napram spektru vece od score-a vodeceg peptida\n",
        "        # napram spektru\n",
        "        if Score(peptide, spectrum) > Score(leader_peptide, spectrum):\n",
        "          # postavi da je vodeci peptid onaj peptid koji ima veci score\n",
        "          leader_peptide = peptide\n",
        "      # inace ako je suma masa veca od ukupne sume spektra\n",
        "      elif sum(peptide) > spectrum[-1]:\n",
        "        # ljestvica je jednaka svim peptidima u ljestvici koji su\n",
        "        # razliciti od trenutnog peptida koji ima vecu masu\n",
        "        leaderboard = [pep for pep in leaderboard if pep != peptide]\n",
        "    # vrati N peptida\n",
        "    leaderboard = Trim(leaderboard, spectrum, N)\n",
        "  return \"-\".join(str(el) for el in leader_peptide) # vrati vodeci peptid\n",
        "\n",
        "ans = convolution_cyclopeptide_sequencing([57, 57, 71, 99, 129, 137, 170,\n",
        "                                           186, 194, 208, 228, 265, 285,\n",
        "                                           299, 307, 323, 356, 364, 394,\n",
        "                                           422, 493], 20, 60)\n",
        "print(ans)"
      ],
      "metadata": {
        "colab": {
          "base_uri": "https://localhost:8080/"
        },
        "id": "Wxd4rLgfDIWV",
        "outputId": "41273d37-c018-4012-e326-3bda69420226"
      },
      "execution_count": 76,
      "outputs": [
        {
          "output_type": "stream",
          "name": "stdout",
          "text": [
            "137-71-99-57-72-57\n"
          ]
        }
      ]
    },
    {
      "cell_type": "code",
      "source": [
        "with open(\"rosalind_ba4i.txt\", \"r\") as f:\n",
        "  M = int(f.readline().strip())\n",
        "  N = int(f.readline().strip())\n",
        "  spect = f.readline().split()\n",
        "spectrum_ = [int(x) for x in spect]\n",
        "res = convolution_cyclopeptide_sequencing(spectrum_, M, N)\n",
        "res"
      ],
      "metadata": {
        "id": "dbqD0vY9Gulw",
        "colab": {
          "base_uri": "https://localhost:8080/",
          "height": 36
        },
        "outputId": "4db824e3-b2da-466d-b69d-6ce320365144"
      },
      "execution_count": 77,
      "outputs": [
        {
          "output_type": "execute_result",
          "data": {
            "text/plain": [
              "'57-113-113-103-129-147-113-101-71-184-57-71-115'"
            ],
            "application/vnd.google.colaboratory.intrinsic+json": {
              "type": "string"
            }
          },
          "metadata": {},
          "execution_count": 77
        }
      ]
    },
    {
      "cell_type": "markdown",
      "source": [
        "## [BA4J](https://rosalind.info/problems/ba4j/) - Generate the Theoretical Spectrum of a Linear Peptide"
      ],
      "metadata": {
        "id": "Vv7sVyUS9DjI"
      }
    },
    {
      "cell_type": "code",
      "source": [
        "def linearSpectrum(peptide, external = False):\n",
        "  masses = get_mass() # dohvati mase\n",
        "  spectrum = [0] # postavi nulu u spektar\n",
        "  n = len(peptide) # dohvati duljinu peptida\n",
        "  for i in range(n):\n",
        "    for j in range(1, n-i+1):\n",
        "      subpeptide = peptide[i: i+j] # uzmi subpeptide linearnog peptida\n",
        "      # zbroji mase subpeptida i dodaj ih u spektar\n",
        "      spectrum.append(sum([masses[x] for x in subpeptide]))\n",
        "  spectrum.sort() # sortiraj spektar\n",
        "  if external:\n",
        "    return spectrum\n",
        "  return ' '.join(str(x) for x in spectrum)\n",
        "\n",
        "peptide = 'NQEL'\n",
        "linearSpectrum(peptide)"
      ],
      "metadata": {
        "colab": {
          "base_uri": "https://localhost:8080/",
          "height": 36
        },
        "id": "NxjsxbBNKqVr",
        "outputId": "79d723a8-b2ee-4c95-ef1d-66a5997f2a8c"
      },
      "execution_count": 79,
      "outputs": [
        {
          "output_type": "execute_result",
          "data": {
            "text/plain": [
              "'0 113 114 128 129 242 242 257 370 371 484'"
            ],
            "application/vnd.google.colaboratory.intrinsic+json": {
              "type": "string"
            }
          },
          "metadata": {},
          "execution_count": 79
        }
      ]
    },
    {
      "cell_type": "code",
      "source": [
        "with open(\"rosalind_ba4j.txt\", \"r\") as f:\n",
        "  peptide = f.readline().strip()\n",
        "res = linearSpectrum(peptide)\n",
        "res"
      ],
      "metadata": {
        "colab": {
          "base_uri": "https://localhost:8080/",
          "height": 109
        },
        "id": "pbZr_uJ-CMQE",
        "outputId": "367ba03a-cf92-4418-f126-13a3aa225a75"
      },
      "execution_count": 81,
      "outputs": [
        {
          "output_type": "execute_result",
          "data": {
            "text/plain": [
              "'0 57 57 71 71 71 97 97 97 97 97 99 101 101 101 113 115 115 128 128 128 128 128 128 128 128 129 129 129 131 137 137 137 137 147 154 156 163 163 163 163 168 186 194 194 194 198 199 199 199 218 225 225 225 226 229 229 230 230 234 234 241 243 243 246 251 255 256 258 264 264 265 265 269 274 276 278 287 291 291 293 296 296 296 300 322 323 326 326 344 345 346 347 348 349 353 354 355 362 362 365 371 371 374 378 380 383 392 392 392 393 393 393 393 393 397 402 405 406 406 424 433 443 449 450 454 456 463 464 468 473 475 476 477 477 477 481 482 483 489 490 493 494 499 499 502 502 507 507 515 520 521 530 534 534 540 546 551 555 569 570 572 573 577 578 578 578 587 591 592 597 599 601 604 605 608 611 611 612 618 619 622 627 627 630 644 652 667 669 670 671 671 679 679 683 688 689 692 697 698 698 701 701 701 706 706 709 726 728 732 737 739 740 740 740 741 741 745 747 755 758 764 768 771 789 794 795 798 798 807 808 811 816 826 827 829 829 834 836 842 842 842 846 846 848 857 860 860 868 869 869 869 873 873 892 892 895 896 900 903 905 908 926 931 943 944 945 956 957 957 961 963 965 966 967 970 970 970 970 971 971 973 983 988 988 997 997 1002 1004 1005 1020 1023 1028 1032 1033 1040 1054 1058 1064 1068 1071 1071 1072 1075 1085 1089 1091 1094 1094 1094 1094 1099 1102 1103 1104 1110 1115 1125 1133 1133 1133 1134 1139 1151 1151 1156 1161 1165 1169 1169 1174 1186 1186 1191 1196 1196 1199 1201 1203 1204 1222 1222 1222 1226 1231 1231 1234 1238 1239 1243 1248 1252 1262 1266 1267 1270 1289 1293 1296 1298 1300 1302 1309 1314 1319 1319 1323 1325 1328 1337 1349 1350 1350 1351 1359 1359 1360 1362 1363 1364 1367 1368 1380 1380 1397 1397 1399 1420 1426 1426 1430 1433 1437 1438 1447 1447 1456 1460 1460 1461 1465 1465 1468 1477 1477 1480 1487 1496 1496 1497 1507 1517 1517 1525 1527 1534 1539 1548 1548 1557 1558 1562 1566 1567 1574 1584 1588 1589 1589 1593 1593 1596 1609 1614 1624 1636 1640 1640 1644 1654 1655 1659 1660 1662 1667 1676 1685 1690 1693 1695 1699 1702 1703 1706 1711 1711 1721 1721 1742 1751 1752 1752 1756 1756 1765 1773 1777 1792 1803 1803 1804 1807 1808 1813 1818 1823 1830 1830 1834 1836 1839 1840 1849 1853 1853 1862 1874 1879 1880 1902 1910 1929 1931 1931 1933 1936 1936 1937 1940 1941 1950 1950 1951 1962 1964 1967 1967 1970 1981 1990 1999 2002 2007 2007 2011 2038 2046 2047 2052 2059 2065 2065 2066 2068 2077 2078 2095 2096 2098 2099 2104 2104 2118 2127 2135 2136 2139 2144 2149 2162 2166 2167 2174 2194 2196 2199 2201 2201 2205 2206 2208 2209 2227 2228 2233 2233 2237 2255 2272 2280 2290 2295 2296 2302 2307 2311 2325 2328 2329 2329 2330 2333 2334 2337 2343 2353 2356 2364 2370 2400 2400 2408 2408 2418 2425 2430 2430 2431 2448 2453 2453 2457 2458 2463 2474 2482 2490 2497 2501 2501 2529 2533 2536 2545 2545 2547 2554 2554 2558 2559 2581 2581 2594 2598 2600 2611 2611 2619 2629 2630 2651 2664 2673 2673 2676 2676 2682 2682 2695 2696 2708 2708 2709 2722 2726 2744 2748 2763 2777 2779 2779 2793 2805 2805 2810 2810 2823 2823 2824 2827 2836 2836 2841 2845 2894 2902 2906 2907 2907 2907 2907 2925 2926 2934 2938 2940 2951 2955 2964 2973 2978 3004 3022 3022 3030 3031 3035 3035 3041 3054 3056 3066 3069 3075 3079 3101 3101 3106 3132 3137 3153 3155 3158 3159 3169 3170 3172 3198 3203 3210 3216 3229 3252 3260 3273 3284 3287 3295 3298 3299 3300 3300 3300 3309 3347 3371 3388 3396 3402 3404 3413 3423 3427 3428 3446 3447 3499 3503 3503 3518 3524 3524 3533 3542 3551 3576 3632 3634 3639 3646 3647 3652 3652 3666 3705 3733 3767 3767 3775 3776 3780 3797 3802 3873 3895 3895 3896 3898 3904 3930 3997 4001 4001 4010 4026 4058 4125 4129 4129 4141 4173 4240 4244 4257 4304 4372 4375 4403 4474 4503 4602'"
            ],
            "application/vnd.google.colaboratory.intrinsic+json": {
              "type": "string"
            }
          },
          "metadata": {},
          "execution_count": 81
        }
      ]
    },
    {
      "cell_type": "markdown",
      "source": [
        "## [BA4K](https://rosalind.info/problems/ba4k/) - Compute the Score of a Linear Peptide"
      ],
      "metadata": {
        "id": "ZcIwA4gw9HXf"
      }
    },
    {
      "cell_type": "code",
      "source": [
        "def linear_score(peptide, spectrum):\n",
        "  # napravi linearni spektar peptida\n",
        "  pep_spec = linearSpectrum(peptide, external = True)\n",
        "  result = 0 # postavi rezultat na 0\n",
        "  # pronadi sve jedinstvene mase u linearnom spektru i dobivenom spektru\n",
        "  unique_masses = set(pep_spec + spectrum)\n",
        "  for mass in unique_masses: # za svaku masu u jedinstvenim masama\n",
        "    # dodaj (zbroji) minimum pojavljivanja odredene mase izmedu pojavljivanja\n",
        "    # u linearnom spektru peptida i dobivenom spektru\n",
        "    result += min(pep_spec.count(mass), spectrum.count(mass))\n",
        "  return result # vrati rezultat\n",
        "\n",
        "ans = linear_score('NQEL', [0, 99, 113, 114, 128, 227, 257,\n",
        "                            299, 355, 356, 370, 371, 484])\n",
        "print(ans)"
      ],
      "metadata": {
        "id": "nuQ5Gf72-jIG",
        "colab": {
          "base_uri": "https://localhost:8080/"
        },
        "outputId": "e06f9c92-ea77-497d-87c7-5651ed284305"
      },
      "execution_count": 82,
      "outputs": [
        {
          "output_type": "stream",
          "name": "stdout",
          "text": [
            "8\n"
          ]
        }
      ]
    },
    {
      "cell_type": "code",
      "source": [
        "with open(\"rosalind_ba4k.txt\", \"r\") as f:\n",
        "  peptide = f.readline().strip()\n",
        "  spect = f.readline().split()\n",
        "spectrum_ = [int(x) for x in spect]\n",
        "res = linear_score(peptide, spectrum_)\n",
        "res"
      ],
      "metadata": {
        "colab": {
          "base_uri": "https://localhost:8080/"
        },
        "id": "O-fXGHcpEtM6",
        "outputId": "1723b78a-f4f4-40b1-fbb6-e9639bd21a22"
      },
      "execution_count": 83,
      "outputs": [
        {
          "output_type": "execute_result",
          "data": {
            "text/plain": [
              "340"
            ]
          },
          "metadata": {},
          "execution_count": 83
        }
      ]
    },
    {
      "cell_type": "markdown",
      "source": [
        "## [BA4L](https://rosalind.info/problems/ba4l/) - Trim a Peptide Leaderboard"
      ],
      "metadata": {
        "id": "lYxIMcNR9K1i"
      }
    },
    {
      "cell_type": "code",
      "source": [
        "#BA4J\n",
        "def LinearSpectrum(Peptide):\n",
        "  mass_table = get_mass() # dohvati mase aminokiselina\n",
        "  PrefixMass = [0] # postavi prefiks na niz koji sadrzi 0 -> uvijek krece s 0\n",
        "  for i in range(len(Peptide)): # za svaki element u duljini peptida\n",
        "    # na prefiks nadodaj masu peptida koji se nalazi na i-tom indeksu\n",
        "    temp = PrefixMass[i] + mass_table[Peptide[i]]\n",
        "    # nadodaj u listu temp\n",
        "    PrefixMass.append(temp)\n",
        "  linearSpectrum = [0]  # postavi linearni spektar na niz koji sadrzi 0\n",
        "  for i in range(len(Peptide)): # za svaki element u peptidu\n",
        "    # za svaki element u peptidu od i+1 pozicije\n",
        "    for j in range(i + 1, len(Peptide) + 1):\n",
        "      # nadodaj u linearni spektar razliku masa od i-tog i j-tog\n",
        "      # elementa prefiks masa\n",
        "      linearSpectrum.append(PrefixMass[j] - PrefixMass[i])\n",
        "  linearSpectrum.sort() # sortiraj uzlazno\n",
        "  return linearSpectrum # vrati linearni spektar"
      ],
      "metadata": {
        "id": "klphOQfnHmDx"
      },
      "execution_count": 84,
      "outputs": []
    },
    {
      "cell_type": "code",
      "source": [
        "# BA4K\n",
        "def linear_score(peptide, spectrum):\n",
        "  pep_spec = LinearSpectrum(peptide) # napravi linearni spektar peptida\n",
        "  result = 0 # postavi rezultat na 0\n",
        "  # pronadi sve jedinstvene mase u linearnom spektru i dobivenom spektru\n",
        "  unique_masses = set(pep_spec + spectrum)\n",
        "  for mass in unique_masses: # za svaku masu u jedinstvenim masama\n",
        "    # dodaj (zbroji) minimum pojavljivanja odredene mase izmedu pojavljivanja\n",
        "    # u linearnom spektru peptida i dobivenom spektru\n",
        "    result += min(pep_spec.count(mass), spectrum.count(mass))\n",
        "  return result # vrati rezultat"
      ],
      "metadata": {
        "id": "kzLfjC-kHmDz"
      },
      "execution_count": 85,
      "outputs": []
    },
    {
      "cell_type": "code",
      "source": [
        "def Trim(leaderboard, spectrum, N):\n",
        "  if len(leaderboard) <= N: # ako je duzina ljestvice manja ili  jednaka N\n",
        "    return leaderboard # vrati ljestvicu\n",
        "  scores = {} # rijecnik postignuca\n",
        "  # za svaku poziciju i i masu peptida u ljestvici\n",
        "  for i, peptide in enumerate(leaderboard):\n",
        "    # postavi index kao kljuc, a vrijednost linearnog Score-a peptida u spektru\n",
        "    scores[i] = linear_score(peptide, spectrum)\n",
        "  # napravi sortianu listu vrijednosti iz scores silazno\n",
        "  sorted_scores = sorted(scores.values(), reverse=True)\n",
        "  # postavi kao prag N-1-vi element iz sortiranih postignuca\n",
        "  threshold = sorted_scores[N - 1]\n",
        "  # vrati mase peptida iz ljestvice koji imaju veci score od praga\n",
        "  # pronadi index, score iz originalne ljestvice unutar scores i\n",
        "  # usporedi s granciom\n",
        "  return \" \".join([leaderboard[idx] for idx, score\n",
        "          in scores.items() if score >= threshold])\n",
        "\n",
        "ans = Trim(['LAST', 'ALST', 'TLLT', 'TQAS'],\n",
        " [0, 71, 87, 101, 113, 158, 184, 188, 259, 271, 372], 2)\n",
        "print(ans)"
      ],
      "metadata": {
        "id": "bCjsDc9r_FpT",
        "colab": {
          "base_uri": "https://localhost:8080/"
        },
        "outputId": "6574e99b-fab9-4a38-f2f7-b50cdf7b4a74"
      },
      "execution_count": 87,
      "outputs": [
        {
          "output_type": "stream",
          "name": "stdout",
          "text": [
            "LAST ALST\n"
          ]
        }
      ]
    },
    {
      "cell_type": "code",
      "source": [
        "with open(\"rosalind_ba4l.txt\", \"r\") as f:\n",
        "  leaderboard = f.readline().split()\n",
        "  spect = f.readline().split()\n",
        "  N = int(f.readline().strip())\n",
        "spectrum_ = [int(x) for x in spect]\n",
        "res = Trim(leaderboard, spectrum_, N)\n",
        "res"
      ],
      "metadata": {
        "colab": {
          "base_uri": "https://localhost:8080/",
          "height": 54
        },
        "outputId": "cccbd9c9-e8e1-4a18-e299-a3e60791dfce",
        "id": "RoNudwdMHmD0"
      },
      "execution_count": 88,
      "outputs": [
        {
          "output_type": "execute_result",
          "data": {
            "text/plain": [
              "'AYWQTVEDWNRQPKDQVEDNTQFPYGNNQAPVTNYPTEVHDIRFTSQADN PPILRCDSKDTQHALMSIEDLGGEMQRNHDYDHIRHNPRVEAQTYYESQT RRTCCDITHILYKGFMCLQAKCTCTEKDLFPHIYYGHGGGELAVTPSTLL FTTPHLGPCEPVGTFVYFFLDFFVFVLADLGDPAAAYVRGLIERGSWTEW CPWWWWKLKFTISKMPTPTPKKATQKNQAESGPLWTESCPKYHMGMGYTN'"
            ],
            "application/vnd.google.colaboratory.intrinsic+json": {
              "type": "string"
            }
          },
          "metadata": {},
          "execution_count": 88
        }
      ]
    },
    {
      "cell_type": "markdown",
      "source": [
        "## [BA4M](https://rosalind.info/problems/ba4m/) - Solve the Turnpike Problem"
      ],
      "metadata": {
        "id": "HlLnFSv99O-c"
      }
    },
    {
      "cell_type": "markdown",
      "source": [
        "**Turnpike problem:** D = 2 2 3 3 4 5 6 7 8 10 ->dobijemo listu međusobnih udaljenosti između točaka\n",
        "\n",
        "- prvo označimo najudaljenije točke na pravcu (uvijek postavljamo 0 kao početni)\n",
        "\n",
        "  0----**10**\n",
        "  \n",
        "  - D = 2 2 3 3 4 5 6 7 8 **10** -> D = 2 2 3 3 4 5 6 7 8\n",
        "\n",
        "- uzmemo sljedeći najveći i pokušamo ga umetnuni s lijeva (od 0)\n",
        "\n",
        "  0---**8**-10 -> udaljenosti: od 8 do 10 -> **2**, od 8 do 0 -> **8**\n",
        "  \n",
        "  - D = **2** 2 3 3 4 5 6 7 **8** ->  D = 2 3 3 4 5 6 7\n",
        "\n",
        "- uzimamo sljedeći najveći i pokušamo ga umetnuti s lijeva (od 0)\n",
        "\n",
        "  0--**7**-8-10 -> udaljenosti: od 7 do 10 -> **3**, od 7 do 0 -> **7**, od 7 do 8 -> **1** -> u D ne postoji 1 -> pokušat ćemo umetnuti 7 s desna\n",
        "\n",
        "  0-**3**--8-10 -> udaljenosti : od 3 do 10 -> **7**, od 3 do 0 -> **3**, od 3 do 8 -> **5**\n",
        "\n",
        "  - D = 2 **3** 3 4 **5** 6 **7** -> D = 2 3 4 6\n",
        "\n",
        "- uzimamo sljedeći najveći i pokušamo ga umetnuti s lijeva (od 0)\n",
        "\n",
        "  0-3-**6**-8-10 -> udaljenosti: od 6 do 10 -> **4**, od 6 do 0 -> **6**, od 6 do 8 -> **2**, od 6 do 3 -> **3**\n",
        "\n",
        "  - D = **2** **3** **4** **6** -> D = /\n",
        "\n",
        "**Rješenje:** 0 3 6 8"
      ],
      "metadata": {
        "id": "_YA_w61iMYqn"
      }
    },
    {
      "cell_type": "code",
      "source": [
        "def delta(point, line):\n",
        "  line = list(line) # skup udaljenosti\n",
        "  dist = []\n",
        "  for line_point in line: # za svaku tocku\n",
        "    # izracunaj udaljenost od odabrane tocke i tocke na liniji\n",
        "    dist.append(abs(line_point-point))\n",
        "  return dist # vrati udaljenosti"
      ],
      "metadata": {
        "id": "Jk4OGGCzSB5r"
      },
      "execution_count": 112,
      "outputs": []
    },
    {
      "cell_type": "code",
      "source": [
        "def is_subset(temp, L):\n",
        "  for dist in temp: # za svaku udaljenost iz temp\n",
        "    # provjeri nalazi li se u pocetnim udaljenostima\n",
        "    if temp.count(dist) > L.count(dist):\n",
        "      return False\n",
        "  return True"
      ],
      "metadata": {
        "id": "QqQG-2ZkSpuv"
      },
      "execution_count": 113,
      "outputs": []
    },
    {
      "cell_type": "code",
      "source": [
        "def difference(temp, L):\n",
        "  diffset = [] # azurirani skup udaljenosti\n",
        "  c_temp = Counter(temp) # prebroji sve udaljenosti iz temp\n",
        "  c_L = Counter(L) # prebroji sve udaljenosti u pocetnom skupu\n",
        "  for dist, count in c_L.items(): # za svaku udaljenost u pocetnom\n",
        "    diff = count - c_temp.get(dist, 0) # izracunaj razliku pojavljivanja\n",
        "    if diff > 0: # ako je razlika veca od nula\n",
        "      # nadodaj udaljenost onoliko puta kolika je razlika\n",
        "      for i in range(diff):\n",
        "        diffset.append(dist)\n",
        "  diffset.sort() # sortiaj\n",
        "  return diffset"
      ],
      "metadata": {
        "id": "D9kJlbk8TRNO"
      },
      "execution_count": 122,
      "outputs": []
    },
    {
      "cell_type": "code",
      "source": [
        "def PlaceDot(L, line, width):\n",
        "  if len(L) == 0: # ako nema udaljensoti\n",
        "    return line # vrati liniju\n",
        "  ## pokusaj umetnuti tocku s lijeva\n",
        "  point = L[-1] # uzmi najvecu vrijednost iz udaljenosti\n",
        "  temp = delta(point, line) # izracunaj udaljenosti od tocke i tocaka na pravcu\n",
        "  # ako se udaljenosti od tocke nalaze u pocetnim udaljenostima\n",
        "  if is_subset(temp, L):\n",
        "    line.add(point) # dodaj tocku\n",
        "    # azuriranje stanja s udaljenostima nakon dodavanja nove tocke\n",
        "    L_left = difference(temp, L)\n",
        "    L_res = PlaceDot(L_left, line, width) # rekurzivno smjestanje s novim stanjem\n",
        "    if L_res:# ako skup tocaka nije prazan\n",
        "      return L_res # vrati skup kao rjesenje\n",
        "    line.remove(point) # inace ukloni tocku\n",
        "  ## pokusaj umetnuti tocku s desna\n",
        "  temp = delta(width - point, line)\n",
        "  if is_subset(temp, L):\n",
        "    line.add(width - point)\n",
        "    L_right = difference(temp, L)\n",
        "    R_res = PlaceDot(L_right, line, width)\n",
        "    if R_res:\n",
        "      return R_res\n",
        "    line.remove(width - point)\n",
        "  return {}"
      ],
      "metadata": {
        "id": "PgYfxDR5RenZ"
      },
      "execution_count": 123,
      "outputs": []
    },
    {
      "cell_type": "code",
      "source": [
        "def turnpike(L):\n",
        "  L = [int(x) for x in L.split(' ') if int(x) > 0]\n",
        "  L.sort()\n",
        "  width = L.pop(-1) # najudaljenija tocka od 0\n",
        "  line = {0, width} # postavi pocetni raspored\n",
        "  res = PlaceDot(L, line, width) # smjesti tocke\n",
        "  return ' '.join(str(x) for x in res)\n",
        "\n",
        "L = '-10 -8 -7 -6 -5 -4 -3 -3 -2 -2 0 0 0 0 0 2 2 3 3 4 5 6 7 8 10'\n",
        "turnpike(L)"
      ],
      "metadata": {
        "colab": {
          "base_uri": "https://localhost:8080/",
          "height": 36
        },
        "id": "PvtU8yzARUh7",
        "outputId": "2b1c4e3a-49f8-4682-ca0a-752455035ce9"
      },
      "execution_count": 124,
      "outputs": [
        {
          "output_type": "execute_result",
          "data": {
            "text/plain": [
              "'0 3 6 8 10'"
            ],
            "application/vnd.google.colaboratory.intrinsic+json": {
              "type": "string"
            }
          },
          "metadata": {},
          "execution_count": 124
        }
      ]
    },
    {
      "cell_type": "code",
      "source": [
        "with open(\"rosalind_ba4m.txt\", \"r\") as f:\n",
        "  L = f.readline()\n",
        "\n",
        "turnpike(L)"
      ],
      "metadata": {
        "colab": {
          "base_uri": "https://localhost:8080/",
          "height": 72
        },
        "id": "r9J4vxJ5W4Ez",
        "outputId": "47b4698c-2a14-4401-e4ac-6a4ccaa63323"
      },
      "execution_count": 127,
      "outputs": [
        {
          "output_type": "execute_result",
          "data": {
            "text/plain": [
              "'0 1024 514 1283 515 1288 264 781 270 18 1042 1044 788 22 1303 534 25 282 536 1309 1055 34 1061 294 807 1064 551 43 304 817 51 564 1081 571 829 64 320 576 323 68 580 839 1100 1102 79 336 595 84 85 343 855 91 861 1119 607 354 100 613 359 105 1131 1132 109 878 1135 375 887 631 122 892 1149 893 130 387 648 397 654 1167 912 145 403 405 661 408 921 155 1180 924 162 1187 419 677 1190 935 680 426 428 1197 173 1201 182 953 698 957 1214 446 1218 197 965 969 457 717 1230 975 1232 211 471 220 733 991 735 994 1251 230 1255 490 236 749 494 748 1265 241 1010 244 755 1015 248 1017 763 510 1023'"
            ],
            "application/vnd.google.colaboratory.intrinsic+json": {
              "type": "string"
            }
          },
          "metadata": {},
          "execution_count": 127
        }
      ]
    }
  ]
}