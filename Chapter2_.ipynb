{
  "nbformat": 4,
  "nbformat_minor": 0,
  "metadata": {
    "colab": {
      "provenance": [],
      "collapsed_sections": [
        "h9H-xC6NQIN0",
        "TrzQ1D-Mc6l8",
        "A9t7Dra7c85C"
      ]
    },
    "kernelspec": {
      "name": "python3",
      "display_name": "Python 3"
    },
    "language_info": {
      "name": "python"
    }
  },
  "cells": [
    {
      "cell_type": "markdown",
      "source": [
        "#Chapter2"
      ],
      "metadata": {
        "id": "h9H-xC6NQIN0"
      }
    },
    {
      "cell_type": "code",
      "source": [
        "from google.colab import drive\n",
        "drive.mount('drive')"
      ],
      "metadata": {
        "colab": {
          "base_uri": "https://localhost:8080/"
        },
        "id": "JEQjI2ksXKse",
        "outputId": "a7bf3efc-a4ab-4608-944e-b5e6c3790281"
      },
      "execution_count": 1,
      "outputs": [
        {
          "output_type": "stream",
          "name": "stdout",
          "text": [
            "Mounted at drive\n"
          ]
        }
      ]
    },
    {
      "cell_type": "code",
      "source": [
        "%cd /content/drive/MyDrive/bioinf/podaci/"
      ],
      "metadata": {
        "colab": {
          "base_uri": "https://localhost:8080/"
        },
        "id": "zxjHroVyXMSI",
        "outputId": "ee2fe7fe-3df3-4174-82df-6974b4a0f966"
      },
      "execution_count": 2,
      "outputs": [
        {
          "output_type": "stream",
          "name": "stdout",
          "text": [
            "/content/drive/MyDrive/bioinf/podaci\n"
          ]
        }
      ]
    },
    {
      "cell_type": "code",
      "source": [
        "import numpy as np\n",
        "import random\n",
        "from random import randint"
      ],
      "metadata": {
        "id": "cqwqAwaoVNGr"
      },
      "execution_count": 40,
      "outputs": []
    },
    {
      "cell_type": "markdown",
      "source": [
        "#    "
      ],
      "metadata": {
        "id": "g78bAb57QkNc"
      }
    },
    {
      "cell_type": "markdown",
      "source": [
        "## [BA2A](https://rosalind.info/problems/ba2a/) - Implement MotifEnumeration"
      ],
      "metadata": {
        "id": "TrzQ1D-Mc6l8"
      }
    },
    {
      "cell_type": "code",
      "source": [
        "def neighbour(pattern, mismatch, words): # BA1I\n",
        "  if mismatch == 0: # ako ako je preostali broj mogucih razlicitih 0\n",
        "    # dodaj sam uzorak\n",
        "    words.add(pattern)\n",
        "  # popis baza\n",
        "  bases = ['A', 'C', 'G', 'T']\n",
        "  for i in range(len(pattern)): # iteriraj po dobivenom uzorku\n",
        "    for j in range(len(bases)): # iteriraj po bazama\n",
        "      # novi uzorak je onaj s promjenutom bazom na nekoj od lokacija\n",
        "      new_pattern = pattern[:i] + bases[j] + pattern[i+1:]\n",
        "      if mismatch <= 1: # ako je preostali broj mogucih razlicitih manji od 1\n",
        "        words.add(new_pattern) # dodaj novi dobiveni uzorak\n",
        "        # inace\n",
        "      else:\n",
        "        # rekurzivno pozovi pretragu al sa smanjenim brojem dopustenih razlika\n",
        "        neighbour(new_pattern, mismatch - 1, words)"
      ],
      "metadata": {
        "id": "ysNE4TRuuZ2n"
      },
      "execution_count": 3,
      "outputs": []
    },
    {
      "cell_type": "code",
      "source": [
        "def motifEnumeration(dna, k, d):\n",
        "  patterns = []\n",
        "  for n in range(len(dna)): # za svaki dna u redu\n",
        "    pattern = set() # postavi prazan skup\n",
        "    for i in range(len(dna[n]) - k + 1): # iteriraj po jednom dna\n",
        "      kmerspattern = set() # prazan skup za spremanje \"susjeda\"\n",
        "      # pronadi susjede s navjise d razlika od svakog substringa\n",
        "      neighbour(dna[n][i:i + k], d, kmerspattern)\n",
        "      # za svaku dobivenu \"rijec\" - kmer iz dobivenog skupa\n",
        "      for words in kmerspattern:\n",
        "        # dodaj \"rijeci\" - kmere u skup\n",
        "        pattern.add(words)\n",
        "    for j in pattern: # za svaki k-mer u dobivenom skupu\n",
        "      patterns.append(j) # dodaj u niz s pocetka\n",
        "  motifpattern = [] # lista za konacni rezultat\n",
        "  for element in patterns: # za svaki k-mer u listi\n",
        "    # ako je broj pojavljivanja k-mera jednak broju elemenata u listi DNA\n",
        "    if patterns.count(element) == len(dna):\n",
        "      # dodaj element\n",
        "      motifpattern.append(element)\n",
        "  # stavi u listu skup jer on izbacuje duplikate\n",
        "  motifpattern = list(set(motifpattern))\n",
        "  motifpattern.sort()\n",
        "  return ' '.join(motifpattern)\n",
        "\n",
        "dna = ['ATTTGGC', 'TGCCTTA', 'CGGTATC', 'GAAAATT']\n",
        "motifEnumeration(dna, 3,1)"
      ],
      "metadata": {
        "id": "ZEZEJrXgf4Ex",
        "colab": {
          "base_uri": "https://localhost:8080/",
          "height": 36
        },
        "outputId": "df0e9763-e7eb-440d-a283-4f5dbdf7aef5"
      },
      "execution_count": 6,
      "outputs": [
        {
          "output_type": "execute_result",
          "data": {
            "text/plain": [
              "'ATA ATT GTT TTT'"
            ],
            "application/vnd.google.colaboratory.intrinsic+json": {
              "type": "string"
            }
          },
          "metadata": {},
          "execution_count": 6
        }
      ]
    },
    {
      "cell_type": "code",
      "source": [
        "with open(\"rosalind_ba2a.txt\", \"r\") as f:\n",
        "  k, d = map(int, f.readline().strip().split())\n",
        "  dna = [line.strip() for line in f]\n",
        "motifEnumeration(dna, k, d)"
      ],
      "metadata": {
        "colab": {
          "base_uri": "https://localhost:8080/",
          "height": 36
        },
        "id": "mDxaaSZFvJk-",
        "outputId": "d8df1dc0-6778-43ce-ac2a-fa6dc0dac146"
      },
      "execution_count": 9,
      "outputs": [
        {
          "output_type": "execute_result",
          "data": {
            "text/plain": [
              "'GACAA GACCA GACGA GACTA'"
            ],
            "application/vnd.google.colaboratory.intrinsic+json": {
              "type": "string"
            }
          },
          "metadata": {},
          "execution_count": 9
        }
      ]
    },
    {
      "cell_type": "markdown",
      "source": [
        "## [BA2B](https://rosalind.info/problems/ba2b/) - Find a Median String"
      ],
      "metadata": {
        "id": "A9t7Dra7c85C"
      }
    },
    {
      "cell_type": "code",
      "source": [
        "# Hamming Distance - BA1G\n",
        "def minHammingDistance(pattern, string):\n",
        "  # postavi minimalnu udaljenost na cijelu duljinu uzorka\n",
        "  min_distance = len(pattern)\n",
        "  for i in range(len(string) - len(pattern) + 1): # iteriranje po stringu\n",
        "    # izracunaj Hamming udaljenost\n",
        "    # zbroji sve jedinice koje dobivamo pri usporedbi substringa  i patterna\n",
        "    substring = string[i: i + len(pattern)]\n",
        "    distance = sum([1 for j in range(len(pattern))\n",
        "                    if pattern[j] != substring[j]])\n",
        "    # ako je Hamming udaljenost manja od minimalne udaljenosti\n",
        "    # (pocetna je duljina uzorka)\n",
        "    if distance < min_distance:\n",
        "      min_distance = distance # postavi minimalnu udaljenost na novo izracunatu\n",
        "  return min_distance # vrati minimalnu Hamming udaljenost"
      ],
      "metadata": {
        "id": "4W957Qwh9Fiu"
      },
      "execution_count": 10,
      "outputs": []
    },
    {
      "cell_type": "code",
      "source": [
        "def generateArray(k): # sve perm duljine k\n",
        "  bases = ['A', 'C', 'G', 'T'] # lista bazi\n",
        "  array = bases.copy() # lista bazi\n",
        "  for n in range(k-1): # za svaki n do k-1\n",
        "    # spoji i-ti i j-ti element iz array i bases i dodaj u niz\n",
        "    # bases ce uvijek dodati samo jedan element na postojece\n",
        "    array = [i+j for i in array for j in bases]\n",
        "  return array"
      ],
      "metadata": {
        "id": "-dOZovHS9awU"
      },
      "execution_count": 11,
      "outputs": []
    },
    {
      "cell_type": "code",
      "source": [
        "# dvostruki min\n",
        "def findMedianString(k, dna):\n",
        "  patterns = generateArray(k)\n",
        "  distances = {}\n",
        "  min_distance = len(dna) * len(patterns) # najveca moguca udaljenost\n",
        "  output=[]\n",
        "  for pattern in patterns: # za svaki uzorak\n",
        "    sum_distance = 0 # ukupna udaljenost je 0\n",
        "    for j in range(len(dna)): # za svaki DNA u nizu\n",
        "      # zbroji minimalne Hamming udaljenosti izmedu uzorka iz perm i DNA u nizu\n",
        "      sum_distance += minHammingDistance(pattern, dna[j])\n",
        "    # spremi min udaljenost za odredenu perm\n",
        "    distances[pattern] = sum_distance\n",
        "    if sum_distance < min_distance: # ako je dobivena najmanja Hamming udaljenost\n",
        "      # postavi ju kao minimalnu\n",
        "      min_distance = sum_distance\n",
        "  for pattern, distance in distances.items(): # za svaku perm iz rijecnika\n",
        "    # ako je zabiljezena vrijednost minimalna\n",
        "    if distance == min_distance:\n",
        "      # dodaj je u ispis\n",
        "      output.append(pattern)\n",
        "  return ' '.join(output) # rjesenja moze biti vise - vrati bilo koji\n",
        "\n",
        "dnas = ['AAATTGACGCAT','GACGACCACGTT','CGTCAGCGCCTG','GCTGAGCACCGG','AGTACGGGACAG']\n",
        "findMedianString(3, dnas)"
      ],
      "metadata": {
        "id": "mb-RG9bxhdJP",
        "colab": {
          "base_uri": "https://localhost:8080/",
          "height": 36
        },
        "outputId": "854fed9f-a2a1-4453-95f4-95372be0bc72"
      },
      "execution_count": 16,
      "outputs": [
        {
          "output_type": "execute_result",
          "data": {
            "text/plain": [
              "'ACG GAC'"
            ],
            "application/vnd.google.colaboratory.intrinsic+json": {
              "type": "string"
            }
          },
          "metadata": {},
          "execution_count": 16
        }
      ]
    },
    {
      "cell_type": "code",
      "source": [
        "with open(\"rosalind_ba2b.txt\", \"r\") as f:\n",
        "  k = int(f.readline().strip())\n",
        "  dna = [line.strip() for line in f]\n",
        "findMedianString(k, dna)"
      ],
      "metadata": {
        "colab": {
          "base_uri": "https://localhost:8080/",
          "height": 36
        },
        "id": "jqtr5IJz8zdK",
        "outputId": "4770d2cf-4315-47dd-d3e3-05e1d3a9678a"
      },
      "execution_count": 15,
      "outputs": [
        {
          "output_type": "execute_result",
          "data": {
            "text/plain": [
              "'AATGTG'"
            ],
            "application/vnd.google.colaboratory.intrinsic+json": {
              "type": "string"
            }
          },
          "metadata": {},
          "execution_count": 15
        }
      ]
    },
    {
      "cell_type": "markdown",
      "source": [
        "## [BA2C](https://rosalind.info/problems/ba2c/) - Find a Profile-most Probable k-mer in a String"
      ],
      "metadata": {
        "id": "u3VNwC4UdD3V"
      }
    },
    {
      "cell_type": "code",
      "source": [
        "def probability(kmer, profile):\n",
        "  lex = {'A': 0, 'C': 1, 'G': 2, 'T': 3} # red u matrici\n",
        "  prob = 1\n",
        "  for i in range(len(kmer)): # za svaku nukleotidu u kmeru\n",
        "    row = lex.get(kmer[i]) # pronadi red u matrici za slovo\n",
        "    prob *= profile[row][i] # pronadi poziciju u matrici profila\n",
        "  return prob"
      ],
      "metadata": {
        "id": "c910KZDwVDXo"
      },
      "execution_count": 21,
      "outputs": []
    },
    {
      "cell_type": "code",
      "source": [
        "def mostProbableKmer(string, k , profile):\n",
        "  probs = {} # vjerojatnosti\n",
        "  most_probable = [] # najvjerojatniji\n",
        "  for i in range(len(string) - k + 1): # iteriranje po stringu\n",
        "    pattern = string[i: i+k] # uzmi uzorak\n",
        "    # dodaj u rjecnik vjerojatnost uzorka\n",
        "    probs[pattern] = probability(pattern, profile)\n",
        "  for kmer, prob in probs.items(): # za svaki uzorak\n",
        "    if prob == max(probs.values()): # ako je vjerojatnost jednaka maksimalnoj\n",
        "      most_probable.append(kmer) # dodaj kmer u listu\n",
        "  # vrati najvjerojatnije\n",
        "  return most_probable[0] if len(most_probable) == 1 else ' '.join(most_probable)\n",
        "\n",
        "string = 'ACCTGTTTATTGCCTAAGTTCCGAACAAACCCAATATAGCCCGAGGGCCT'\n",
        "k = 5\n",
        "profile =[\n",
        "[0.2, 0.2, 0.3, 0.2, 0.3],\n",
        "[0.4, 0.3, 0.1, 0.5, 0.1],\n",
        "[0.3, 0.3, 0.5, 0.2, 0.4],\n",
        "[0.1, 0.2, 0.1, 0.1, 0.2]]\n",
        "mostProbableKmer(string, k, profile)"
      ],
      "metadata": {
        "colab": {
          "base_uri": "https://localhost:8080/",
          "height": 36
        },
        "id": "G1Iwcy4uTwRH",
        "outputId": "639149bd-9aa5-4ab4-b8e5-96e51d2ba43c"
      },
      "execution_count": 18,
      "outputs": [
        {
          "output_type": "execute_result",
          "data": {
            "text/plain": [
              "'CCGAG'"
            ],
            "application/vnd.google.colaboratory.intrinsic+json": {
              "type": "string"
            }
          },
          "metadata": {},
          "execution_count": 18
        }
      ]
    },
    {
      "cell_type": "code",
      "source": [
        "with open(\"rosalind_ba2c.txt\", \"r\") as f:\n",
        "  dna = f.readline().strip()\n",
        "  k = int(f.readline().strip())\n",
        "  matrix =[[float(l) for l in line.strip().split()] for line in f]\n",
        "mostProbableKmer(dna, k, matrix)"
      ],
      "metadata": {
        "colab": {
          "base_uri": "https://localhost:8080/",
          "height": 36
        },
        "id": "JXkqq8gdUscr",
        "outputId": "5705994a-e010-441b-bf3a-513f7792b2d6"
      },
      "execution_count": 20,
      "outputs": [
        {
          "output_type": "execute_result",
          "data": {
            "text/plain": [
              "'TTGAGTT'"
            ],
            "application/vnd.google.colaboratory.intrinsic+json": {
              "type": "string"
            }
          },
          "metadata": {},
          "execution_count": 20
        }
      ]
    },
    {
      "cell_type": "markdown",
      "source": [
        "## [BA2D](https://rosalind.info/problems/ba2d/) - Implement GreedyMotifSearch"
      ],
      "metadata": {
        "id": "qeM_1pBWdSKS"
      }
    },
    {
      "cell_type": "code",
      "source": [
        "lex = {'A': 0, 'C': 1, 'G': 2, 'T': 3} # red profil matrice"
      ],
      "metadata": {
        "id": "h9h-howFVo5p"
      },
      "execution_count": 24,
      "outputs": []
    },
    {
      "cell_type": "code",
      "source": [
        "def countMatrix(motifs, laplace):\n",
        "  # inicijalizacija matrice\n",
        "  if laplace:\n",
        "    matrix = np.ones((4, len(motifs[0])))\n",
        "  else:\n",
        "    matrix = np.zeros((4, len(motifs[0])))\n",
        "  # za svaki motiv u motivima\n",
        "  for motif in motifs:\n",
        "    # za svaki znak u motivu\n",
        "    for i in range(len(motif)):\n",
        "      # dodaj u matricu +1 za odgovorajauci red za znak\n",
        "      matrix[lex.get(motif[i])][i] += 1\n",
        "  return matrix"
      ],
      "metadata": {
        "id": "FXRHWki7VURr"
      },
      "execution_count": 25,
      "outputs": []
    },
    {
      "cell_type": "code",
      "source": [
        "def createProfile(motifs, t, laplace = False):\n",
        "  counts = countMatrix(motifs, laplace) # napravi matricu prebrojavanja\n",
        "  devider = t + 4 if laplace else t # broj elemenata\n",
        "  matrix = np.zeros((4, len(motifs[0]))) # inicijalizacija matrice profila\n",
        "  for i in range(4): # za svaki red\n",
        "    for j in range(len(motifs[0])): # za svaki stupac\n",
        "      matrix[i][j] = counts[i][j] / devider # podijeli\n",
        "  return matrix"
      ],
      "metadata": {
        "id": "3swjg8UHVYN3"
      },
      "execution_count": 26,
      "outputs": []
    },
    {
      "cell_type": "code",
      "source": [
        "def mostProbableKmer(k, profile, dna):\n",
        "  max_prob = 0\n",
        "  kmer = dna[0: k]\n",
        "  for i in range(len(dna)-k+1): # iteriranje po dna\n",
        "    pattern = dna[i: i+k] # uzorak duljine k\n",
        "    prob = 1\n",
        "    for j in range(k): # za svaki znak uzmi vjerojatnost iz matrice profila\n",
        "      prob *= profile[lex.get(pattern[j])][j]\n",
        "    if prob > max_prob: # ako je vjerojatnost veca od maksimalne\n",
        "      max_prob = prob # postavi vjerojatnost kao maksimalnu\n",
        "      kmer = pattern # postavi uzorak kao najvjerojatniji kmer\n",
        "  return kmer"
      ],
      "metadata": {
        "id": "uwn9wN-wVbA7"
      },
      "execution_count": 27,
      "outputs": []
    },
    {
      "cell_type": "code",
      "source": [
        "def createConcensus(profile):\n",
        "  bases = ['A', 'C', 'G', 'T'] # baze\n",
        "  concensus = ''\n",
        "  for col in range(len(profile[0])): # za svaki stupac u matrici profila\n",
        "    max_row, max_prob = 0, 0\n",
        "    for row in range(len(profile)): # za svaki red u matrici profila\n",
        "      # ako je vjerojatnost iz matrice profila veca od maksimalne\n",
        "      if profile[row][col] > max_prob:\n",
        "        max_prob = profile[row][col] # postavi novu vjerojatnost kao maksimalnu\n",
        "        max_row = row # zapamti u kojem je redu najveca vjerojatnost\n",
        "    concensus += bases[max_row] # u koncenzus dodaj odgovarajuce slovo\n",
        "  return concensus"
      ],
      "metadata": {
        "id": "6jCA0KURVeB6"
      },
      "execution_count": 28,
      "outputs": []
    },
    {
      "cell_type": "code",
      "source": [
        "def Score(motifs, t):\n",
        "  profile = createProfile(motifs, t) # profil motiva\n",
        "  concensus = createConcensus(profile)  # koncenzus\n",
        "  sc = 0 # inicijalizacija score\n",
        "  for motif in motifs: # za svaki motiv u motivima\n",
        "    for i in range(len(motif)): # za svaki znak u motivu\n",
        "      if motif[i] != concensus[i]: # ako je znak razlicit od znaka u koncenzusu\n",
        "        sc+=1 # povecaj score\n",
        "  return sc"
      ],
      "metadata": {
        "id": "A3MydPo8Vf5Q"
      },
      "execution_count": 29,
      "outputs": []
    },
    {
      "cell_type": "code",
      "source": [
        "def greedyMotifSearch(k, t, dnas, laplace = False):\n",
        "  # najbolji motivi su prvih k znakova svakog dna\n",
        "  bestMotifs = [dna[0:k] for dna in dnas]\n",
        "  # kmeri su svi k-meri prvog dna\n",
        "  kmers = [dnas[0][i: i+k] for i in range(len(dnas[0])-k+1)]\n",
        "  for kmer in kmers: # za svaki kmer iz prvog dna\n",
        "    motifs = [kmer] # dodaj kmer u motive\n",
        "    for dna in dnas[1:]: # za svaki dna u skupu dna (osim prvog)\n",
        "      # napravi matricu profila sa dosadasnjim motivima\n",
        "      profile = createProfile(motifs, t, laplace)\n",
        "      # nadodaj najvjerojatnije motive po matrici profila\n",
        "      motifs.append(mostProbableKmer(k, profile, dna))\n",
        "    # ako je score dobivenih motiva u ovom koraku bolji od score dosadasnjih\n",
        "    if Score(motifs, t) < Score(bestMotifs, t):\n",
        "      # postavi dobivene motive u ovom koraku kao najbolji izbor\n",
        "      bestMotifs = motifs\n",
        "  return '\\n'.join(bestMotifs) # vrati najvjerojatnije motive"
      ],
      "metadata": {
        "id": "dQ-uM45YVi0q"
      },
      "execution_count": 30,
      "outputs": []
    },
    {
      "cell_type": "code",
      "source": [
        "greedyMotifSearch(3, 5,['GGCGTTCAGGCA',\n",
        "                        'AAGAATCAGTCA',\n",
        "                        'CAAGGAGTTCGC',\n",
        "                        'CACGTCAATCAC',\n",
        "                        'CAATAATATTCG'])"
      ],
      "metadata": {
        "colab": {
          "base_uri": "https://localhost:8080/",
          "height": 36
        },
        "id": "s7y2XZ1XbPBf",
        "outputId": "0298e077-07fd-4999-c59f-0c226bc6cfae"
      },
      "execution_count": 31,
      "outputs": [
        {
          "output_type": "execute_result",
          "data": {
            "text/plain": [
              "'CAG\\nCAG\\nCAA\\nCAA\\nCAA'"
            ],
            "application/vnd.google.colaboratory.intrinsic+json": {
              "type": "string"
            }
          },
          "metadata": {},
          "execution_count": 31
        }
      ]
    },
    {
      "cell_type": "code",
      "source": [
        "with open(\"rosalind_ba2d_2.txt\", \"r\") as f:\n",
        "  k, t = map(int, f.readline().strip().split())\n",
        "  dna = [line.strip() for line in f]\n",
        "\n",
        "greedyMotifSearch(k, t, dna)"
      ],
      "metadata": {
        "colab": {
          "base_uri": "https://localhost:8080/",
          "height": 54
        },
        "id": "Bo8jglyTbZh4",
        "outputId": "9574a9e5-d470-43ee-a710-993e7b0cfdbb"
      },
      "execution_count": 34,
      "outputs": [
        {
          "output_type": "execute_result",
          "data": {
            "text/plain": [
              "'TACTTACGCAAT\\nTCATTTTTCCGA\\nGTTTTACGTTTC\\nGTTTTCCGTGCG\\nTCGTATGTTGAA\\nGGCTGAAATGTG\\nGCATTCAGCGAC\\nGGTTGACGCAAG\\nGAGTTCAGCGAT\\nGGGTTCATCGAC\\nGGCTTCAGCGAC\\nGGATTCAGCGAT\\nGATTTCATCGAC\\nGAATTCAACGAA\\nGCATTCAGCGAA\\nGTCTTCATCGAA\\nGGCTTCATCGAC\\nGGTTTCATCGAA\\nGATTTCAACGAA\\nGAATTCAGCGAG\\nGCGTTCAACGAG\\nGACTTCAGCCGA\\nGAATTCAACGAT\\nGGGTTCAACGAC\\nGACTTCAGCGAA'"
            ],
            "application/vnd.google.colaboratory.intrinsic+json": {
              "type": "string"
            }
          },
          "metadata": {},
          "execution_count": 34
        }
      ]
    },
    {
      "cell_type": "markdown",
      "source": [
        "## [BA2E](https://rosalind.info/problems/ba2e/) - Implement GreedyMotifSearch with Pseudocounts"
      ],
      "metadata": {
        "id": "XgHx71AjdVFS"
      }
    },
    {
      "cell_type": "code",
      "source": [
        "#BA2D\n",
        "dna = [\n",
        "'GGCGTTCAGGCA',\n",
        "'AAGAATCAGTCA',\n",
        "'CAAGGAGTTCGC',\n",
        "'CACGTCAATCAC',\n",
        "'CAATAATATTCG']\n",
        "k = 3\n",
        "t = 5\n",
        "greedyMotifSearch(k, t, dna, True)"
      ],
      "metadata": {
        "colab": {
          "base_uri": "https://localhost:8080/",
          "height": 36
        },
        "id": "uPKt7lBQb2rl",
        "outputId": "1e5c3763-0e52-4875-fdbc-19a913c4ab73"
      },
      "execution_count": 35,
      "outputs": [
        {
          "output_type": "execute_result",
          "data": {
            "text/plain": [
              "'TTC\\nATC\\nTTC\\nATC\\nTTC'"
            ],
            "application/vnd.google.colaboratory.intrinsic+json": {
              "type": "string"
            }
          },
          "metadata": {},
          "execution_count": 35
        }
      ]
    },
    {
      "cell_type": "code",
      "source": [
        "with open(\"rosalind_ba2e.txt\", \"r\") as f:\n",
        "  k, t = map(int, f.readline().strip().split())\n",
        "  dna = [line.strip() for line in f]\n",
        "greedyMotifSearch(k, t, dna, True)"
      ],
      "metadata": {
        "colab": {
          "base_uri": "https://localhost:8080/",
          "height": 54
        },
        "id": "AhX20ViRcGt3",
        "outputId": "711fb3a7-192f-4530-abb9-062b6d48feb4"
      },
      "execution_count": 39,
      "outputs": [
        {
          "output_type": "execute_result",
          "data": {
            "text/plain": [
              "'ACCGAATATCAC\\nAACCAATAACAA\\nAACTAATATCAC\\nAGCGAATAACAT\\nAACAAATAACAG\\nATCAAATAGCAC\\nAGCAAATAGCAT\\nAACTAATAGCAC\\nAACTAATAGCAA\\nAACGAATAGCAC\\nAACAAATAGCAA\\nAACGAATAGCAC\\nAACTAATACCAC\\nATCAAATACCAA\\nAACCAATAACAG\\nAACGAATAGCAT\\nACCGAATATCAC\\nACCTAATAACAA\\nAGCAAATAGCAC\\nAACGAATAGCAT\\nAGCGAATAGCAG\\nAACTAATACCAG\\nATCTAATATCAG\\nATCCAATATCAG\\nATCAAATACCAA'"
            ],
            "application/vnd.google.colaboratory.intrinsic+json": {
              "type": "string"
            }
          },
          "metadata": {},
          "execution_count": 39
        }
      ]
    },
    {
      "cell_type": "markdown",
      "source": [
        "## [BA2F](https://rosalind.info/problems/ba2f/) - Implement RandomizedMotifSearch"
      ],
      "metadata": {
        "id": "OS2QhGZ3dm9w"
      }
    },
    {
      "cell_type": "code",
      "source": [
        "def getRandom(n): # slucajni broj od 0 do n\n",
        "  return randint(0, n)"
      ],
      "metadata": {
        "id": "OhCf79UMczI4"
      },
      "execution_count": 42,
      "outputs": []
    },
    {
      "cell_type": "code",
      "source": [
        "def getRandomMotifs(k,dnas):\n",
        "  kmers = []\n",
        "  for dna in dnas: # za svaki dna u skupu dna uzoraka\n",
        "    i = getRandom(len(dna)-k) # i je slucajan broj\n",
        "    kmers.append(dna[i:i+k]) # dohvati kmer od slucajnog broja duljine k\n",
        "  return kmers"
      ],
      "metadata": {
        "id": "_wj6-S1dc02e"
      },
      "execution_count": 43,
      "outputs": []
    },
    {
      "cell_type": "code",
      "source": [
        "def getMotifs(profile,dnas, k):\n",
        "  motifs = []\n",
        "  for dna in dnas: # za svaki dna u skupu dna uzoraka\n",
        "    # BA2D\n",
        "    motif = mostProbableKmer(k, profile, dna) # dohvati najvjerojatnije motive\n",
        "    motifs.append(motif)\n",
        "  return motifs"
      ],
      "metadata": {
        "id": "sbwitOJjc3K9"
      },
      "execution_count": 44,
      "outputs": []
    },
    {
      "cell_type": "code",
      "source": [
        "def randomizedMotifSearch_atom(k, t, dnas):\n",
        "  bestMotifs = getRandomMotifs(k, dnas) # najbolji motivi su slucajni motivi\n",
        "  motifs = bestMotifs\n",
        "  while True:\n",
        "    profile = createProfile(motifs, t, True) # kreiraj matricu profila (BA2D)\n",
        "    motifs = getMotifs(profile, dnas, k) # dohvati motive\n",
        "    if Score(motifs, t) < Score(bestMotifs, t): # ako je score manji (BA2D)\n",
        "      bestMotifs = motifs\n",
        "    else:\n",
        "      return bestMotifs"
      ],
      "metadata": {
        "id": "piYju9odc5yb"
      },
      "execution_count": 45,
      "outputs": []
    },
    {
      "cell_type": "code",
      "source": [
        "def randomizedMotifSearch(k, t, dnas, n_repeats = 1000):\n",
        "  bestMotifs = randomizedMotifSearch_atom(k, t, dnas)\n",
        "  for repeat in range(1, n_repeats):\n",
        "    motifs = randomizedMotifSearch_atom(k, t, dnas)\n",
        "    if Score(motifs, t) < Score(bestMotifs, t):\n",
        "      bestMotifs = motifs\n",
        "  return '\\n'.join(bestMotifs)"
      ],
      "metadata": {
        "id": "Ep6pyJgzcsdD"
      },
      "execution_count": 46,
      "outputs": []
    },
    {
      "cell_type": "code",
      "source": [
        "k = 8\n",
        "t = 5\n",
        "dnas = [\n",
        "'CGCCCCTCTCGGGGGTGTTCAGTAAACGGCCA',\n",
        "'GGGCGAGGTATGTGTAAGTGCCAAGGTGCCAG',\n",
        "'TAGTACCGAGACCGAAAGAAGTATACAGGCGT',\n",
        "'TAGATCAAGTTTCAGGTGCACGTCGGTGAACC',\n",
        "'AATCCACCAGCTCCACGTGCAATGTTGGCCTA']\n",
        "\n",
        "randomizedMotifSearch(k, t, dnas)"
      ],
      "metadata": {
        "colab": {
          "base_uri": "https://localhost:8080/",
          "height": 36
        },
        "id": "_r0ypeV3eA4u",
        "outputId": "5c410369-ffda-4cd8-fad3-6e0ad8dd8eb9"
      },
      "execution_count": 47,
      "outputs": [
        {
          "output_type": "execute_result",
          "data": {
            "text/plain": [
              "'TCTCGGGG\\nCCAAGGTG\\nTACAGGCG\\nTTCAGGTG\\nTCCACGTG'"
            ],
            "application/vnd.google.colaboratory.intrinsic+json": {
              "type": "string"
            }
          },
          "metadata": {},
          "execution_count": 47
        }
      ]
    },
    {
      "cell_type": "code",
      "source": [
        "with open(\"rosalind_ba2f.txt\", \"r\") as f:\n",
        "  k, t = map(int, f.readline().strip().split())\n",
        "  dna = [line.strip() for line in f]\n",
        "randomizedMotifSearch(k, t, dna, 1000)"
      ],
      "metadata": {
        "id": "YkSuqaFwgGha",
        "colab": {
          "base_uri": "https://localhost:8080/",
          "height": 54
        },
        "outputId": "7d90793e-7b49-4855-bd92-18c6047c8f08"
      },
      "execution_count": 50,
      "outputs": [
        {
          "output_type": "execute_result",
          "data": {
            "text/plain": [
              "'TACGATGTCATAGGA\\nTACCGTTACATATCG\\nTACGTATACATCCTG\\nTACGTACGGATATCG\\nTACGTATACAGGGCG\\nTTGATATACATATCG\\nTACACCTACATATCG\\nTACGTAACGATATCG\\nTACGTCCCCATATCG\\nTACGTATACCGGTCG\\nAACGTATACATATGT\\nATCGTATACATATCT\\nTACGTATTGCTATCG\\nTACGTCGGCATATCG\\nGGAGTATACATATCG\\nTACGTATACATACTA\\nTAGTCATACATATCG\\nTACGCTGACATATCG\\nTACGACAACATATCG\\nTACGTATATGCATCG'"
            ],
            "application/vnd.google.colaboratory.intrinsic+json": {
              "type": "string"
            }
          },
          "metadata": {},
          "execution_count": 50
        }
      ]
    },
    {
      "cell_type": "markdown",
      "source": [
        "## [BA2G](https://rosalind.info/problems/ba2g/) - Implement GibbsSampler?"
      ],
      "metadata": {
        "id": "eFEw4-g0dqbS"
      }
    },
    {
      "cell_type": "code",
      "source": [
        "# vjerojatnost kmera po profilu\n",
        "def probability(kmer, profile):\n",
        "  prob = 1.0\n",
        "  for i in range(len(kmer)):\n",
        "    prob *= profile[lex.get(kmer[i])][i]\n",
        "  return prob"
      ],
      "metadata": {
        "id": "Xa9kfGkTfOj2"
      },
      "execution_count": 51,
      "outputs": []
    },
    {
      "cell_type": "code",
      "source": [
        "# kmer po slucajnoj vjerojatnosti\n",
        "def weigtedKmer(probs, dna, k):\n",
        "  r = random.random()\n",
        "  counter = 0.0\n",
        "  prob_sum = sum(probs) # zbroji vjerojatnosti kmera\n",
        "  for i in range(len(probs)):\n",
        "    counter += probs[i] # dodaj vjerojatnost\n",
        "    if counter / prob_sum > r: # ako je vjerojatnost veca od r\n",
        "      return dna[i: i + k]"
      ],
      "metadata": {
        "id": "40f3aUJQfQoX"
      },
      "execution_count": 57,
      "outputs": []
    },
    {
      "cell_type": "code",
      "source": [
        "def formRandomMotif(k, dna, profile):\n",
        "  probs = []\n",
        "  for i in range(len(dna)-k+1):\n",
        "    pattern = dna[i: i+k]\n",
        "    probs.append(probability(pattern, profile)) # vjerojatnost kmera\n",
        "  kmer = weigtedKmer(probs, dna, k)\n",
        "  return kmer"
      ],
      "metadata": {
        "id": "SclX7LGOfC0y"
      },
      "execution_count": 54,
      "outputs": []
    },
    {
      "cell_type": "code",
      "source": [
        "def gibbsSampler_atom(k, t,N, dnas):\n",
        "  bestMotifs = randomizedMotifSearch_atom(k, t, dnas) #BA2F\n",
        "  motifs = bestMotifs\n",
        "  for j in range(1,N):\n",
        "    i = getRandom(t-1) # izbacujemo jedan (nasumicni) dna\n",
        "    profile = createProfile(motifs[:i]+motifs[i+1:], t-1, True)\n",
        "    motifs[i] = formRandomMotif(k, dnas[i], profile) # motiv za izbaceni dna\n",
        "    if Score(motifs, t) < Score(bestMotifs, t):\n",
        "      bestMotifs = motifs\n",
        "    else:\n",
        "      return bestMotifs"
      ],
      "metadata": {
        "id": "A-bOShSZfL2A"
      },
      "execution_count": 55,
      "outputs": []
    },
    {
      "cell_type": "code",
      "source": [
        "def gibbsSampler(k, t, N, dnas, random_starts = 20):\n",
        "  bestKmers = gibbsSampler_atom(k, t, N, dnas)\n",
        "  bestScore = Score(bestKmers, t)\n",
        "  for i in range(1, random_starts):\n",
        "    motifs = gibbsSampler_atom(k, t, N, dnas)\n",
        "    if Score(motifs,t ) < bestScore:\n",
        "      bestScore = Score(motifs, t)\n",
        "      bestMotifs = motifs\n",
        "  return '\\n'.join(bestMotifs)"
      ],
      "metadata": {
        "id": "_vu1g5rTfKH9"
      },
      "execution_count": 60,
      "outputs": []
    },
    {
      "cell_type": "code",
      "source": [
        "ans = gibbsSampler(8, 5, 100,['CGCCCCTCTCGGGGGTGTTCAGTAAACGGCCA',\n",
        " 'GGGCGAGGTATGTGTAAGTGCCAAGGTGCCAG',\n",
        " 'TAGTACCGAGACCGAAAGAAGTATACAGGCGT',\n",
        " 'TAGATCAAGTTTCAGGTGCACGTCGGTGAACC',\n",
        " 'AATCCACCAGCTCCACGTGCAATGTTGGCCTA'], 20*20)\n",
        "print(ans)"
      ],
      "metadata": {
        "colab": {
          "base_uri": "https://localhost:8080/"
        },
        "id": "X2RomYTugF7w",
        "outputId": "4977f1e9-db4b-4053-b47f-1f5fece1a61e"
      },
      "execution_count": 66,
      "outputs": [
        {
          "output_type": "stream",
          "name": "stdout",
          "text": [
            "TCTCGGGG\n",
            "CCAAGGTG\n",
            "TACAGGCG\n",
            "TTCAGGTG\n",
            "TCCACGTG\n"
          ]
        }
      ]
    },
    {
      "cell_type": "code",
      "source": [
        "with open(\"rosalind_ba2g.txt\", \"r\") as f:\n",
        "  k, t, N= map(int, f.readline().strip().split())\n",
        "  dna = [line.strip() for line in f]\n",
        "gibbsSampler(k, t, N, dna, 20)"
      ],
      "metadata": {
        "colab": {
          "base_uri": "https://localhost:8080/",
          "height": 54
        },
        "id": "7wOq2gn_geHr",
        "outputId": "80d087b6-b34e-435c-b4f6-4a8aeaaf6ae9"
      },
      "execution_count": 69,
      "outputs": [
        {
          "output_type": "execute_result",
          "data": {
            "text/plain": [
              "'GCGGACCTGTCGGGC\\nGCGGACCTGTCGGGC\\nGTGCACGAGTATGCG\\nGTTCGAATTTCAGCG\\nATACAGCTGTCAGAG\\nATGGGCAATTGACAT\\nATGGGCCCGTCAGGT\\nGCGCGCTCGCCTGGG\\nCCTCATCCGTCAACG\\nACTTACGCGACAGCC\\nGTTGACTTGCCGGCG\\nGTGAGCGCGACAGGG\\nGTGCACTCGACAGAT\\nACGGTCTTGACCGCG\\nGTGGGCGGGTGAGAG\\nGTCAACCTGTCGGAG\\nGTTCACCTCGGAGCC\\nACGCAGATTTCAGCT\\nGTTCGCAAGGCAGGG\\nATACACCTGGCGGCA'"
            ],
            "application/vnd.google.colaboratory.intrinsic+json": {
              "type": "string"
            }
          },
          "metadata": {},
          "execution_count": 69
        }
      ]
    },
    {
      "cell_type": "markdown",
      "source": [
        "## [BA2H](https://rosalind.info/problems/ba2h/) - Implement DistanceBetweenPatternAndStrings"
      ],
      "metadata": {
        "id": "oqkHY8bvd2ph"
      }
    },
    {
      "cell_type": "code",
      "source": [
        "def hammingDistance(p, q):\n",
        "  if len(p) != len(q):\n",
        "    return -1\n",
        "  return sum([1 for j in range(len(p))\n",
        "                    if p[j] != q[j]])"
      ],
      "metadata": {
        "id": "pul405FjhVgK"
      },
      "execution_count": 70,
      "outputs": []
    },
    {
      "cell_type": "code",
      "source": [
        "def distanceBetweenPatternAndStrings(pattern, dna):\n",
        "  distance = 0 # postavi udaljenost na nula\n",
        "  k = len(pattern) # postavi k na duljinu uzorka\n",
        "  for string in dna: # za svaki string u dna\n",
        "    hamming_dist = float('inf') # postavi hamming udaljenost na beskonacno\n",
        "    for i in range(len(string)-k+1): # iteriraj po stringu\n",
        "      # izracunaj hamming udaljenost izmedu pocetnog uzorka i substringa\n",
        "      new_dist = hammingDistance(pattern, string[i:i+k])\n",
        "      if hamming_dist > new_dist: # ako je nova udaljenost manja od prosle\n",
        "        # postavi novu hamming udaljenost na najnoviju\n",
        "        hamming_dist = new_dist\n",
        "    # povecaj ukupnu udaljenost za minimalnu udaljenost za svaki string iz dna\n",
        "    distance = distance + hamming_dist\n",
        "  return distance\n",
        "\n",
        "distanceBetweenPatternAndStrings('AAA', ['TTACCTTAAC', 'GATATCTGTC', 'ACGGCGTTCG', 'CCCTAAAGAG', 'CGTCAGAGGT'])"
      ],
      "metadata": {
        "id": "WKJM23u-p-LG",
        "colab": {
          "base_uri": "https://localhost:8080/"
        },
        "outputId": "e523cf3c-5c91-46a5-852b-e11a1a296824"
      },
      "execution_count": 71,
      "outputs": [
        {
          "output_type": "execute_result",
          "data": {
            "text/plain": [
              "5"
            ]
          },
          "metadata": {},
          "execution_count": 71
        }
      ]
    },
    {
      "cell_type": "code",
      "source": [
        "with open(\"rosalind_ba2h.txt\", \"r\") as f:\n",
        "  pattern = f.readline().strip()\n",
        "  strings = f.readline().strip().split(\" \")\n",
        "distanceBetweenPatternAndStrings(pattern, strings)"
      ],
      "metadata": {
        "colab": {
          "base_uri": "https://localhost:8080/"
        },
        "id": "phpcg-TJtlo9",
        "outputId": "adede91e-6c32-4a5e-9eeb-8f8b7b6291c3"
      },
      "execution_count": 72,
      "outputs": [
        {
          "output_type": "execute_result",
          "data": {
            "text/plain": [
              "41"
            ]
          },
          "metadata": {},
          "execution_count": 72
        }
      ]
    }
  ]
}