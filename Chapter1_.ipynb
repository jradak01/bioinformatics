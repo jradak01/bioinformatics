{
  "nbformat": 4,
  "nbformat_minor": 0,
  "metadata": {
    "colab": {
      "provenance": []
    },
    "kernelspec": {
      "name": "python3",
      "display_name": "Python 3"
    },
    "language_info": {
      "name": "python"
    }
  },
  "cells": [
    {
      "cell_type": "markdown",
      "source": [
        "#Chapter 1"
      ],
      "metadata": {
        "id": "LjFJtEG586Ml"
      }
    },
    {
      "cell_type": "code",
      "source": [
        "from google.colab import drive\n",
        "drive.mount('drive')"
      ],
      "metadata": {
        "colab": {
          "base_uri": "https://localhost:8080/"
        },
        "id": "7FyQ7oNg9YHV",
        "outputId": "2942fb4c-3362-4fa9-86de-3db15239c5d2"
      },
      "execution_count": 1,
      "outputs": [
        {
          "output_type": "stream",
          "name": "stdout",
          "text": [
            "Drive already mounted at drive; to attempt to forcibly remount, call drive.mount(\"drive\", force_remount=True).\n"
          ]
        }
      ]
    },
    {
      "cell_type": "code",
      "source": [
        "%cd /content/drive/MyDrive/bioinf/podaci/"
      ],
      "metadata": {
        "colab": {
          "base_uri": "https://localhost:8080/"
        },
        "id": "U04XOrPz9l75",
        "outputId": "2e2020c2-c8e3-4608-8ebd-29c4d62e1bdb"
      },
      "execution_count": 2,
      "outputs": [
        {
          "output_type": "stream",
          "name": "stdout",
          "text": [
            "/content/drive/MyDrive/bioinf/podaci\n"
          ]
        }
      ]
    },
    {
      "cell_type": "code",
      "source": [
        "from collections import defaultdict"
      ],
      "metadata": {
        "id": "xEl6vX7t-Trj"
      },
      "execution_count": 7,
      "outputs": []
    },
    {
      "cell_type": "markdown",
      "source": [
        "#   "
      ],
      "metadata": {
        "id": "zOYI0Ysk-FXM"
      }
    },
    {
      "cell_type": "markdown",
      "source": [
        "##[BA1A](https://rosalind.info/problems/ba1a/) - Compute the Number of Times a Pattern Appears in a Text"
      ],
      "metadata": {
        "id": "MoivHvHs89rl"
      }
    },
    {
      "cell_type": "code",
      "execution_count": 3,
      "metadata": {
        "colab": {
          "base_uri": "https://localhost:8080/"
        },
        "id": "RNsin8G67mYa",
        "outputId": "5fbd1f07-dbf4-4459-dccc-1ab838a7b743"
      },
      "outputs": [
        {
          "output_type": "execute_result",
          "data": {
            "text/plain": [
              "2"
            ]
          },
          "metadata": {},
          "execution_count": 3
        }
      ],
      "source": [
        "def countPattern(pattern, text):\n",
        "  counter = 0\n",
        "  for i in range(len(text)-len(pattern)+1):\n",
        "    text_pattern = text[i : i + len(pattern)] # ako je substring jednak uzorku\n",
        "    if text_pattern == pattern:\n",
        "      counter += 1 # povecaj brojac\n",
        "  return counter\n",
        "\n",
        "text = 'GCGCG'\n",
        "pattern = 'GCG'\n",
        "countPattern(pattern, text)"
      ]
    },
    {
      "cell_type": "code",
      "source": [
        "with open(\"rosalind_ba1a.txt\", \"r\") as f:\n",
        "  text = f.readline().strip()\n",
        "  pattern = f.readline().strip()\n",
        "countPattern(pattern, text)"
      ],
      "metadata": {
        "colab": {
          "base_uri": "https://localhost:8080/"
        },
        "id": "hy-Lyylq9ZK5",
        "outputId": "b5efffa4-e86d-4805-c707-9fff6919c3a2"
      },
      "execution_count": 6,
      "outputs": [
        {
          "output_type": "execute_result",
          "data": {
            "text/plain": [
              "31"
            ]
          },
          "metadata": {},
          "execution_count": 6
        }
      ]
    },
    {
      "cell_type": "markdown",
      "source": [
        "##[BA1B](https://rosalind.info/problems/ba1b/) - Find the Most Frequent Words in a String"
      ],
      "metadata": {
        "id": "5HOHIzjv-Db4"
      }
    },
    {
      "cell_type": "code",
      "source": [
        "def frequentWords(genome, k):\n",
        "  D = defaultdict(int) # rjecnik\n",
        "  # iteriranje po genomu\n",
        "  for i in range(len(genome) - k + 1):\n",
        "    pattern = genome[i : i + k] # uzorak velicine k\n",
        "    D[pattern] += 1 # povecaj brojac\n",
        "  res = []\n",
        "  # za svaki uzorak i njegov broj pojavljivanja u rjecniku\n",
        "  for pattern, counter in D.items():\n",
        "    if counter == max(D.values()): # ako je broj pojavljivanja maksimalan\n",
        "      res.append(pattern) # dodaj u listu\n",
        "  res.sort() # sortiraj  listu\n",
        "  return ' '.join(res)\n",
        "\n",
        "genome = 'ACGTTGCATGTCGCATGATGCATGAGAGCT'\n",
        "k = 4\n",
        "frequentWords(genome, k)"
      ],
      "metadata": {
        "colab": {
          "base_uri": "https://localhost:8080/",
          "height": 36
        },
        "id": "25xZpweS-M9J",
        "outputId": "9f5d138a-6ad2-463b-f5c8-3a89bcfb2751"
      },
      "execution_count": 27,
      "outputs": [
        {
          "output_type": "execute_result",
          "data": {
            "text/plain": [
              "'CATG GCAT'"
            ],
            "application/vnd.google.colaboratory.intrinsic+json": {
              "type": "string"
            }
          },
          "metadata": {},
          "execution_count": 27
        }
      ]
    },
    {
      "cell_type": "code",
      "source": [
        "with open(\"rosalind_ba1b.txt\", \"r\") as f:\n",
        "  text = f.readline().strip()\n",
        "  k = f.readline().strip()\n",
        "frequentWords(str(text), int(k))"
      ],
      "metadata": {
        "colab": {
          "base_uri": "https://localhost:8080/",
          "height": 36
        },
        "id": "7uOF7nsf-rF0",
        "outputId": "e2b5610d-e03d-405b-e9f0-0f296b1a8f50"
      },
      "execution_count": 20,
      "outputs": [
        {
          "output_type": "execute_result",
          "data": {
            "text/plain": [
              "'AGAGCAGTGGCGA AGCAGTGGCGAGG AGCGCGTAGCGCG AGGCCAGAGCAGT CAGTGGCGAGGCC CGAGGCCAGAGCA GAGCAGTGGCGAG GAGGCCAGAGCAG GCAGTGGCGAGGC GCGAGGCCAGAGC GGCCAGAGCAGTG TAGCGCGTAGCGC'"
            ],
            "application/vnd.google.colaboratory.intrinsic+json": {
              "type": "string"
            }
          },
          "metadata": {},
          "execution_count": 20
        }
      ]
    },
    {
      "cell_type": "markdown",
      "source": [
        "##[BA1C](https://rosalind.info/problems/ba1c/) - Find the Reverse Complement of a String"
      ],
      "metadata": {
        "id": "WiThe2lf_bQc"
      }
    },
    {
      "cell_type": "markdown",
      "source": [
        "**Komplementi:**\n",
        "- Adenin - Timin (A - T)\n",
        "- Citozin - Guanin (C - G)"
      ],
      "metadata": {
        "id": "y7cRHJKGBVry"
      }
    },
    {
      "cell_type": "code",
      "source": [
        "def reverseComplement(pattern):\n",
        "  complements = {'A': 'T', 'C': 'G', 'G': 'C', 'T': 'A'}\n",
        "  # dohvacanje komplementa za svaki znak u obrnutom uzorku\n",
        "  return ''.join([complements.get(char) for char in pattern[::-1]])\n",
        "\n",
        "pattern = 'AAAACCCGGT'\n",
        "reverseComplement(pattern)"
      ],
      "metadata": {
        "colab": {
          "base_uri": "https://localhost:8080/",
          "height": 36
        },
        "id": "7AUfTQzx_gUa",
        "outputId": "5b093046-a3f7-4178-eac9-8420fcc25d6b"
      },
      "execution_count": 28,
      "outputs": [
        {
          "output_type": "execute_result",
          "data": {
            "text/plain": [
              "'ACCGGGTTTT'"
            ],
            "application/vnd.google.colaboratory.intrinsic+json": {
              "type": "string"
            }
          },
          "metadata": {},
          "execution_count": 28
        }
      ]
    },
    {
      "cell_type": "code",
      "source": [
        "with open(\"rosalind_ba1c.txt\", \"r\") as f:\n",
        "  text = f.readline().strip()\n",
        "reverseComplement(str(text))"
      ],
      "metadata": {
        "colab": {
          "base_uri": "https://localhost:8080/",
          "height": 109
        },
        "id": "AjetMb6rAJsb",
        "outputId": "dde1ba0f-7f82-44eb-ae05-61c8e9e89e9d"
      },
      "execution_count": 26,
      "outputs": [
        {
          "output_type": "execute_result",
          "data": {
            "text/plain": [
              "'CGCGTAACCCCTCAGGTTGGAATAAGGGTTTTTGTGTGCATGTTAGACAGGACCGAGGAACCAGAACATTGCCAGCAATTCTTGGTACGATTTAATGATAATCGACGGGGTCGCTACGCTGTACACATGACGTTTATCTTTTGAAGCCGTTCAATGTAGTGGACAAGTCCAAAAGGAGTTAGGCTCACGCTGTTGAGTTACACGAGTACCTTAAAGTGAATGCGCACCAATCCGCCGTCTTACCTTGAGGATTTATCCACGCTATAGGAAGGTTTCTTAGAGGGCATTATTATCTGAGTGCTCGTGTGACAGTCTAATGCAAACGATCCATTTGTGTCATCAGAGCAATTTGGAGGCGTTAAAATCTGTCCCCTCAATCCATCTACGAGCAGAACCAAACCTGAAGCAATCCCTCCCCCTCAGCCTTTGCTGAGGTATCTGCGGAACATGAATTACCTAACATTTTGAAGCAACAACTGCATGTCCGTAAAGCCTGGCCTCGCCTCGGAGTCGTGATGCGGGCAGACTAGGAAGCTGAGGCAGTTGATGCCCGAGAAACTGCCCTCACATGGACGGTTAGACATTCGCATGTGAACGCGGATTGCAGACTTTCCGGACTAAAGCTATACTCTTGGTCAGACTGTCAGGTGATTAATCCCTATCACTTGGACGACATAATTAGCTTGGTAGCAAATTCGGTAGCATTACGAATCTAAGGGGGGCCCCGCCACAAGTTCAACTTCATTATGCCCACCTCTATGGAGGGAAACTTTGGTTGAATCAGCAACGAAACAGGTATCTCTCGCGGTATCAGACTAAACTACGTAAGATTCCGCATACGAAACGCTCACCTCGCAAGCCCGCGAATAGGTATCACGGCCTTGATAAGGTATTGGTTGTCATTACAGGCTTATACTACTATGGCGCGGTCGAAAAAACTGGGACGTAGTGTGGAACATTACAATTGTATCACCCGTTCCTACCGTGCCATGAATGTCACACGAATCTGGACTGAAGGGGAATCGGTGGATCAAAGTAGTTAGTTTGTGAATGCGATTCACTTAGGAGAGCTTTTCCCGAAAACAAGGATAAAGACACCCCACTATATCTCTTAAAATAAAGCTAGCAGGCTCGGGGGGTTGATCAAATCCCTTCGAGAAAACTAGACGCGGTGGGGGATAGACACCTACATGCGCTCATGTCCAACAGGAGCTATAGACGCCCTCATCTCAGCTCGCTCGACCCTGATTTGTATAGGACTGGCTTCCTCATATCATCCACTCGTTTGTTGCGGAAGCCTGTCGTCAAAGAAGTCTGTAATTTTCTCGGGTCGCTGGCTCGGAGAAAGGCTTTTAGAGCCATTAGTTCTTACTCCTGGAGACGGCGCGTGGGCGGAATAGTGGACCAGTCGTTACTAGAGAAAGACAACCTTAGCCCATAATTTTGGAAAGACAGGTTGCATGCACAAGTGTAGGAGAAAGGACGCTAAGGTCTGGGTTTGGACCCACTCATGCTCGTGCATCCCAATCTGTGGCACCGAACACAATTGGCACAAGGCCGGCGTTATAGAACATGACGGATTAGTTTTCAGAGTCCATTGTGCATCCAAGACATTGTGGTTGGCTCCAGTACGACCCCGACCACCAAGCCGTGGAATATGCAGTCCACTACGATGAAAAGTCCGGGCAAAGGACGTTCATTCCACGCCTAACACATGAACAACCATTAGTCAGTGAAACTTTTTCCATTTGAATTATTTTCGTAGGAGGTGCGCGGGCTCCGCTCTCACCACTGAAACAGCTGAACCGTCGTAAGTTAGTACACGTTGTTCACATGACTGAGGGCAGTCGTATATTCCAATGAGATTTTAGCATCCAGCATCGTTGTCTCCTATAGTTTGTACTCCGAGACCCCCGGTCGCGCTAATAAGGCTGGCATACTTATCATGATGTGGTTTTGCAACGTATAAAGATGGCGAGGATACACCTCGGGCTCAACATACCCGAGCAGGTGCGACTATGTTGTAGAGGGTTTGGGAACCACGAAGTGGTGTCGCTATGACCGTGCACCGAAAGGGTAACGACGCCCGAGTGGTATGATATGCTCGCATACATCTCGCTTATGCTAAAAGCTGAAAACGCAGTCAGGCTAGTAAGTGAAGTGGTCGCTGATTCGACAATAAACGAAGGAATATAGTTAGGGCGAAAACAGATAAGACCAATTTATCGTGCGGCGCGAACCTGCGAAGAGGGGCGGCCTGGAGAGAAACAGGAGCCTTCAATTTACTCGATTTTGCTCACGGGCAGCAGGGACTGGGCTATCTTACCTTCATTCTGTTTCCCTATGAACATGCTGCTATTTTGCTGGATACCTTGCCGAGAGAGATATATATAATACTGCCTTAAAACACGTTGTGCCGATCGGCTAATGCGTGTAGGGGATAGGTTCGTTGCCGGATACGGTACTTAACCATATTGGATAGTCAAGGCTTACGTTACGAAATGCTTCGCTAGGACCTTCATACTCTAGGAGACGCTCCGTGCTCAACAAGAGATTTACAGACAGGAATATAAATCCACTTCTAGATGTGCCGCCTGGAATGACGTCTACGTTATCGTACAGTGACGCGCGAGTCTAATTGCTCTCCATTATTGTTGCACATTTTACGGTCGACTTCTTCCAGTCATCGTCAGACCATCCGATCAAGACGAAATGATTATGGGGTCATCCGGGACTTCTACAGGCAATTGATCACCATAGGAACCCACCCAAAATATCTGATCACTCCGAGGAATCCAAAAAGCCCTAAGCAGATGGCACGTGGTCATTACGACGTTCATAGGAGGCAAGCGTGTAATAGGACGGGTCCGGATAAGGGGATGTCGAGCCTTACGATCCCTCTAAGCACGGTATCTGAAGGATCGCGGCCACGGGACCTTTAGAGATGCATCCGGAAGGCTTTCCTTTTTACGAACCTTAAGCGATATTGCTATAGCGAAGCACAAAGACCTGATCTCGGAGCGAACGACTTGGAGTAGCAGTCTCCATGTACGGATCCGACGGACTCATTTGCAGAGTGTGATAGGACACACTCCGACGTCGATCACTGGCAGTTGCTAATTCTATACGGATGTGTACAAGTCCATCACGGAGATTCTGTATATCGGTCGTGATGGCGAGGCTGGGCCCGGGCAAACCCCTAAATAGTACCGCAGGGATAGGCCTACGATGGCCTCTAACATAGTTACTCATTTATCAAGGGATGATCAGTCCTCGTTGTACAACACGCAAAGCCTTTGGATTAACTGACACACATGAACAGGAAACTTGTCACGAGGATAGCGGATACCGGCTTATTTATCCCTCTAACTCCAGAAGGTGGGCACTTATAGGTGCTACGAGAGCCAGGACATACGGGTCGGCGGAGATGGCCCTACTACGTGGGCACAGACAGCAACCAAACCGCTTAAAGAGGCTATTCGGGTGCACATCAGATTTCATTTCACACAGGCGTTCCACTATTCACGGCGAGGTCGTATCTTGGCGCCCTTATATGTTTGTGTCGTACTATGTGATACGATTATAGATCACAATGGGATCGAGTGCCCTCTCGGCTATTCACACTTCTCAGGCACCTGGTTTATGATTTGAATCTCACGTGGCCTTGATTTTCGATCGGCTACAAACTCCATTTAAAGTTCTGGTTGCATAGGCCAACCTAGAATGCACCCATGTCGAGGGGCGGACGGACCTGGCGCAACATAAGGGTGCCCAGGTTCTGGTGGACGGATCAGAGCGTGATGGACATGAACGGCATCTCGTGGGCTTTGCTGGGGTACAGAGTACTGATCTAGTAAGAATTCTCCAGATGAGTTCTATACATCAGCGTCGATGACATAAATGACCCTCACTACGTGGGCAGGTTTCGGCGGATTCAAGAGGAGTCCCCATTGTGGCAGTAATTTCCGAGTAGTCGGTAGTTCGATAGCTATCATACATGGAAGTAGTGTCCGCTTTGGCCATGCATCGGTAGTGGCCCTTTGGACAGACGCGTTCAAGCGGCTTCTTGTCTCGCGCAGTGCTTGAGACATCCCTCGGTCCATGTGGTGTTTCCTTCTCAGTTACCTCCGAGATACAGCTGGGCTAAGTGAGAAAGGGGGGGATATTCGGTACAGTAATTTTGCTGCGCTGAATAGTCCAAGAATTTCGCCCTTCGCCTATATCCAGAGGGCTCAGTGGGTGGTCTGCTCGTCGTGTAAGTGCCATTGCCATCTTTTATGACGGGGCTTACGATAATACAGTGCGTCCGACACGCCCGACTCAACGCTGTCCTCCTTCAGAGAGTACAGAATGGCACTAGCCCGTATTACCTGTCATAGAAACGGTATTATGTACAATTGAATGGACTCGTGTATTCAACAGTCAGGTCTGGGCCACGGGGTCCCTCGGAAATAAACCTAGAGGTAGTGCTGCGACATGTCTGGGCAGTGTGCATCACTAACGAAAACCAACACCTCGCCTAGGGTATCATGGACCTCCAATATAGGCTTACGGTCCGGTAGAGAATCCGTTCCTACTCTTAAACGACTTCCATCTCGTAGAGGGCACTGACTAGCATGAACTTAGCGGACCAAATGCATCTGATCCACGCACAGCGTTCCTTAAAAGGTGCTGTAGAGGATAACTAAGAGGGCACAGCCAGGTCATTTTCGGACGGACCCACCCTATAGAAGGAAGCGGCGAGGACGCGTCAAGTAGGCGTGGAGGGACGAGATATGAGTGCCTCGGACGAACAAGGAGACGCCGTTTTATTCATAATGTATATCAAAGGCGTACGAACGAGTTAGAAGAAGGGGTATAGGAGACGAGGTGACACGATCTCTACGCTTGTCAGAGCGATATCCGAAGATCTAGACCAGAGCGGATAGGAATGACGAGGCCATAAGTCACCAACAAATGGTGAATACCCCGGAGCTTGCAGGCTTGCCCGGTTTCATTAAAGTCAGGCTGGTGTCTTCATGTATTACACTGTTCGACTGGCAGTGGTAACGTACTATAAACAGGACGGGTACCCAAGCCCGTGTTAGTGAGCGTGGTCCTTGAAACAAGGTCGGGCAGACGGTATTTACTCCCGTTCCACTTGAGGATAGGGAAACCGCCCTCGATAACACTACAACCGGTTTCGAGATTCATGCTGAGGTGCGTATTACGGTCTCCAGCAGTATTCCGGAAACGGATTACTGTAAACTAGAATAGCTAGTTCACCGTTTGACTAGGAACCCGGAGGACTCAGACCTGAGTCCATGTGCCTTGGGATAAGAGGCACCCATCTGATCCAGCATTTTTCGCCGGTTAGTGTAAACCCCCTTAGATTTACCACGAATGAATGCGCTCTCCATAGAATCTCCTACGCGTATAACTAACAAGCGTGTGATGCACCCTAGGTTTTCTAGCGTTATCGCGAATGTTCAGGCAGAGGCAACTCGGTAGTGTCGTTACTTAAAAAACCTTCGGCGCCACCTGCTTGGATGACGCCCCGTCGATGCGCAGATTGGTCCGGTGAAGGTGTGTGTAATTGGTCCTCTTCCTTCGCGACTCCGATCTCGGTAGACAAGCACGCCTCTTTTAGAGCGCATAATGCGCGTTAGGAAAAACCTCATCGAATTAAATCTGACGGTCCAACTTCTCAATAGGCCTTCAAGACTGGGCTTCGCATTTTTCAGACTTACGAAGATTGTCGGCTATGTGACCGTTACAGATGCGCGATGTTGTAGACGTGGCCAGTCTAACCCACCCACCGTTAGCAACTCAGCTGTGCATACGTTTCAAGGTACGGGCTGGAGCCCTTCGGACCTTAAAAAGCTAGCTATTTTGGGAAGGGTGTGATACCAGGCTACAATCGAAAGCGGGCGTGGATTGGAGCACTGGCCGAAATTCCTTTCCTCGTACGAAAAAAATCTTGATTGTCAAATGTTCCTTTATGAATTAAGGTGACCTTGTGTAGCGGACCCGACGAGTGGTGTTTAACAACTAACTTACAACAGTAGATTGTGCGTGGCACGGAATAGGATACGCATACTCCGATCTAATGTCAAAGTCCGAGTTTCGTTATCGTCAAGATTGAACAGCGGCCAGTTTTGGCGTCAGCTGACTATATTTAAACCTCCGATAAACCATGTCCCGTAATCGCACTTTTAAAACCGTCCGCTAAAGACGCGGCGTCGACTAGTACGATTGCACGCGGGGCATACCCAAATGTTTATACTTGATAGGTGTGTTAAGATATAATTTACGTACATTGCATTTGCTGGTTTAGGTCCAACGGCACGAGGTTGATTAGCACTTTTAATTGACTTGCTTATAATGCACCGGGATCCGCTAAGATATAATAGGGTGGGGGCGTAGTTGTGAAAATAGTCATGGTAATCTTCACCCTTCTGCCCTCCGAAGCGGCAATAAGTAAGCTAGTCGTTACACATCACTTATGCTACGCTAGTGTCTGTTGTAAGAGGATAGATACTGAGTGAGCAGACGTATGGGTCCGTGATTTTGTTCTCTATCCTCCGACGGGGAATAATACCAACATAGAGTTCGGAGCATGCAGGCCCAGGTAGTCTGCGAACCACGCTCCGTTCGCCTCATTTCGCACCAGGCCCCACCTAATAGGTGGGGTGATAAGCAATCAATGGTACCAAAGAGGAGCGCGCTTACAACCGGGGAGTCGCGTCAACGCGTTGCGCCGCCCATCGGTTGAATCCCATACCAGGGTCAGTCAGAAATTCACGGTTTTATATAGGATATTACTTATGGAGGCTCTGAGCATCACCTTTGCCATTCTCAGCGACGGGCTCGTGCTGTTATACGGAATCTTAGGATTCGTCAAGGGGGCGGTTCAAACAATGTCCCCGCTGCTTGGAGGCAGTCCATTTCAGTAAGGGCGCGCGAACTACGTTCCCTCTTGACGGCTACCATGTCTTTCTCGGGCATTTAATCTTGATCCCTGACCCATCGTCACGACAAGGTGTCCGGTTCCACAGTGAGTAGAGCCTCGAATCGTCCCAGCCAACCTTGCTCGAAGTAACAGAATGCATCTTTGATCTTTGCGTTTTAGGTTCCGTTACCCACCAGAAATATGACGCTTGGACGATCGAGTCGGGATAACACCGTGTCTTTGTCTTTACCTGTGACCACCGCGTCGTGGACAGATCCGCAAGTACCAGATCGGCTTCCTCAGTCACCGAGTCCAATACGTATCACCTATGGAATGGAATCCTTGTGGATGGTAGTCAATTGGACCTGAGCCTATTAGGGTGCTCCAGTGCCGTTCAATACTTGCGGCACATTTACACCGTGAGCTTGTGCGCTACGCGCGTCAGTACATCGCACGTAATTCTCATGAGAGATCTATTTCTAACGCGCGTCGTCGCGCCGCATCCCTTCCGTGTCAATGAATCGAGTCTATAAAGGAAACACGGCAAAGAGGTTGCTAGATCGACCATCAATATGCCAGCGACTCACAATCCCTGCCTCGCCTGTGCTTGACTCGCGCGGCCATTGGCTAGTGCATAAAATAGTGCGGCCACTAACCCGTCCGAATACTATTGACGAAGACGAACTTATTTTTCTGGTCTCCCCGGAATTGGCGCGCTACCGCGCAGGTCTGGGTCATAGAATGGTACTAGGTACGACCGAAAGCACGCAAACACGCGCAATGGAGGGGAGGGCAGTTTTTCTCATGTTCACAGGGACATAGTCAGGCCTGGGCTTGACTAGTTACAAAGCTAGTTCGTGTTAGCAGGTTGCTGTTCACCCATCAGTATATAATAATGTCCGCATGCCGTCTTCCAGCTCGGTGGCTAGCGCATATTCGTTAGCACTGGCTCTTATAGCGGCGGGGCAGCGCTAGTGACTCTCTAACTTCCGAACCCCGCGCTTTTGCCCGAATATGTCAGGTTGGTACATCAGGGGCAATTATTTGGTTATGGACTACCTTACACAAAACTAGTCCATACGCGGGTCCGGCACCAGTGCCACAAAGTGCCGCCACTTCACTAAAAGATAATTCAAGAATACGACCGACCCTCCATGGCGTTTTGTTTTAGAGGGCCGTAGGCGCAAGGCCCAATGCTCACAGCGGATGCGATTACGACGGTTGGTAACTTGTGGCGCTTAGAGAATGAATCTTGACGCATATATGGGTTGAAGTCGTCATATCATTTTAGGTCCTATACCAGCTTCCCTAGGAGTCTGGGCAATGCGTCCGACGTTCTGCACATACTCTTCTTCGTCTGGTAATGTAATATGAATACATATCAAGATTGCATAGGCGCGCCTTGACGCATCGACTACTACCATGGGGATTGCTGACTCGGTATAAGTCCGCACCTAAATCGGGTTGGATTCCTGTAATTATGTACGTTCTTTCTGCTATGATTATGCGTCTTAGTCACCGCAGCT'"
            ],
            "application/vnd.google.colaboratory.intrinsic+json": {
              "type": "string"
            }
          },
          "metadata": {},
          "execution_count": 26
        }
      ]
    },
    {
      "cell_type": "markdown",
      "source": [
        "##[BA1D](https://rosalind.info/problems/ba1d/) - Find All Occurrences of a Pattern in a String"
      ],
      "metadata": {
        "id": "WaFffSMvCETu"
      }
    },
    {
      "cell_type": "code",
      "source": [
        "def patternOccurrences(pattern, text):\n",
        "  positions = [] # spremanje svih pojavljivanja\n",
        "  for i in range(len(text) - len(pattern) + 1):\n",
        "    if text[i:i+len(pattern)] == pattern: # ako je substring jednak uzorku\n",
        "      positions.append(str(i)) # dodaj index\n",
        "  return ' '.join(positions)\n",
        "\n",
        "patternOccurrences('ATAT', 'GATATATGCATATACTT')"
      ],
      "metadata": {
        "colab": {
          "base_uri": "https://localhost:8080/",
          "height": 36
        },
        "id": "_dSwE3ocCIsU",
        "outputId": "b7b54e9e-07b8-48a7-f5d2-50d36d88e4d8"
      },
      "execution_count": 30,
      "outputs": [
        {
          "output_type": "execute_result",
          "data": {
            "text/plain": [
              "'1 3 9'"
            ],
            "application/vnd.google.colaboratory.intrinsic+json": {
              "type": "string"
            }
          },
          "metadata": {},
          "execution_count": 30
        }
      ]
    },
    {
      "cell_type": "code",
      "source": [
        "with open(\"rosalind_ba1d.txt\", \"r\") as f:\n",
        "  pattern = f.readline().strip()\n",
        "  text = f.readline().strip()\n",
        "patternOccurrences(str(pattern), str(text))"
      ],
      "metadata": {
        "colab": {
          "base_uri": "https://localhost:8080/",
          "height": 109
        },
        "id": "2CKnapyXCuVO",
        "outputId": "fdccd8fd-d5be-41cc-fccb-e49dd4e6edc9"
      },
      "execution_count": 31,
      "outputs": [
        {
          "output_type": "execute_result",
          "data": {
            "text/plain": [
              "'75 91 169 196 224 231 259 303 339 346 373 415 463 492 599 607 614 650 703 710 717 773 793 812 830 846 904 1051 1108 1115 1122 1217 1224 1289 1296 1303 1340 1351 1358 1366 1423 1447 1543 1550 1579 1586 1593 1601 1632 1669 1768 1775 1817 1856 1867 1943 1979 2004 2065 2126 2154 2171 2196 2215 2255 2262 2270 2278 2355 2374 2404 2477 2492 2558 2585 2592 2600 2627 2634 2692 2803 2810 2869 2894 2910 2935 2950 2957 2997 3065 3073 3098 3144 3164 3251 3258 3296 3323 3346 3371 3395 3402 3488 3523 3624 3640 3657 3693 3708 3767 3801 3822 3849 3869 3876 3883 3890 3952 4027 4054 4061 4068 4075 4082 4170 4258 4265 4272 4279 4286 4318 4325 4344 4388 4416 4474 4608 4615 4646 4654 4671 4689 4696 4852 4870 4877 4924 4949 4965 4984 5002 5032 5098 5130 5137 5205 5212 5233 5251 5281 5345 5360 5390 5397 5404 5443 5468 5475 5482 5585 5592 5622 5637 5664 5671 5678 5725 5732 5762 5827 5842 5849 5866 5906 5969 6050 6159 6166 6209 6216 6223 6271 6304 6311 6332 6372 6379 6397 6412 6419 6426 6433 6503 6528 6536 6554 6583 6590 6597 6605 6617 6624 6647 6671 6690 6869 6876 6923 6946 6978 6985 7061 7104 7134 7143 7175 7182 7190 7197 7205 7238 7284 7311 7338 7382 7389 7397 7459 7533 7540 7562 7569 7611 7665 7693 7718 7741 7756 7763 7770 7814 7840 7880 7887 7895 7903 7920 7953 7960 7977 7984 8040 8047 8081 8154 8161 8181 8215 8233 8251 8258 8305 8342 8368 8383 8390 8445 8460 8488 8495 8525 8548 8636 8689 8719 8760 8806 8813 8834 8841 8863 8910 8945 8964 8994 9033 9056 9128 9156 9195 9213 9292 9339 9355 9362 9387 9397 9419 9441 9469 9507 9514 9542 9579 9588'"
            ],
            "application/vnd.google.colaboratory.intrinsic+json": {
              "type": "string"
            }
          },
          "metadata": {},
          "execution_count": 31
        }
      ]
    },
    {
      "cell_type": "markdown",
      "source": [
        "##[BA1E](https://rosalind.info/problems/ba1e/) - Find Patterns Forming Clumps in a String"
      ],
      "metadata": {
        "id": "FvBvTnNWC071"
      }
    },
    {
      "cell_type": "code",
      "source": [
        "def t_kmers(text, k, t):\n",
        "    count_kmers={} # rijecnik za spremanje kmer-a i njihovog pojavljivanja\n",
        "    for i in range(len(text) - k + 1):\n",
        "        kmer = text[i : i + k] # kmer duzine k\n",
        "        if kmer not in count_kmers: # ako kmer ne postoji u rijecniku\n",
        "            count_kmers[kmer] = 1 # dodaj kmer u rijecnik\n",
        "        else: # inace\n",
        "            count_kmers[kmer] += 1 # povecaj broj pojavljivanja za kmer\n",
        "    max_kmers = max(count_kmers.values())\n",
        "    if max_kmers < t:\n",
        "      return []\n",
        "    # vrati niz kmer-a kojima je broj pojavljivanja najmanje jednak t\n",
        "    return [kmer for kmer, count in count_kmers.items() if count >= t]"
      ],
      "metadata": {
        "id": "8DLcw4v1C9z_"
      },
      "execution_count": 32,
      "outputs": []
    },
    {
      "cell_type": "code",
      "source": [
        "def findClumps(text, k, L, t):\n",
        "    result = set()\n",
        "    for i in range(len(text) - L + 1): # pomicanje prozora\n",
        "        window = text[i : i + L] # prozor duzine l\n",
        "        win_kmers = t_kmers(window, k, t) # pronadi sve kmere\n",
        "        for kmer in win_kmers: # za sve kmere u prozoru\n",
        "            result.add(kmer) # dodaj rezultat\n",
        "    return ' '.join(result)\n",
        "\n",
        "findClumps('CGGACTCGACAGATGTGAAGAAATGTGAAGACTGAGTGAAGAGAAGAGGAAACACGACACGACATTGCGACATAATGTACGAATGTAATGTGCCTATGGC',\n",
        "            5, 75, 4)"
      ],
      "metadata": {
        "colab": {
          "base_uri": "https://localhost:8080/",
          "height": 36
        },
        "id": "AgF5vpHqC5ZV",
        "outputId": "6f657d51-b4aa-4e04-ff04-b762bb3d4b1e"
      },
      "execution_count": 42,
      "outputs": [
        {
          "output_type": "execute_result",
          "data": {
            "text/plain": [
              "'CGACA AATGT GAAGA'"
            ],
            "application/vnd.google.colaboratory.intrinsic+json": {
              "type": "string"
            }
          },
          "metadata": {},
          "execution_count": 42
        }
      ]
    },
    {
      "cell_type": "code",
      "source": [
        "with open(\"rosalind_ba1e.txt\", \"r\") as f:\n",
        "  text = f.readline().strip()\n",
        "  k, L, t = f.readline().split(\" \")\n",
        "findClumps(text, int(k), int(L), int(t))"
      ],
      "metadata": {
        "colab": {
          "base_uri": "https://localhost:8080/",
          "height": 36
        },
        "id": "G12-NFVGDUyR",
        "outputId": "39462367-d7c2-41c8-f0ba-a530284cf1e1"
      },
      "execution_count": 50,
      "outputs": [
        {
          "output_type": "execute_result",
          "data": {
            "text/plain": [
              "'GCGCGAGACCT ACAGAAACTCC TCTGAAGAATT GACTTCAACTA GGCAAGTACAC GAGATTACCTC'"
            ],
            "application/vnd.google.colaboratory.intrinsic+json": {
              "type": "string"
            }
          },
          "metadata": {},
          "execution_count": 50
        }
      ]
    },
    {
      "cell_type": "markdown",
      "source": [
        "##[BA1F](https://rosalind.info/problems/ba1f/) - Find a Position in a Genome Minimizing the Skew"
      ],
      "metadata": {
        "id": "B9zG5rSAE-Af"
      }
    },
    {
      "cell_type": "code",
      "source": [
        "# kada je vrijednost C -> smanjujemo za 1, kada je G -> povecavamo za 1, inace 0\n",
        "skew = {'A': 0, 'C': -1, 'G': 1, 'T': 0}\n",
        "def minimumSkew(text):\n",
        "  positions = [] # lista za pamcenje pozicija\n",
        "  sum_by_positions= [0] # suma po poziciji\n",
        "  for i in range(len(text)): # setanje po genomu\n",
        "    # na prijasnju poziciju dodaj vrijednost za trenutno slovo\n",
        "    sum_by_positions.append(sum_by_positions[-1] + skew.get(text[i]))\n",
        "  for i in range(len(sum_by_positions)):\n",
        "    # ako je suma za trenutnu poziciju jednaka minimumu\n",
        "    if sum_by_positions[i] == min(sum_by_positions):\n",
        "      positions.append(str(i)) # dodaj poziciju\n",
        "  positions.sort() # sortiraj pozicije\n",
        "  return ' '.join(positions)\n",
        "\n",
        "genome = 'CCTATCGGTGGATTAGCATGTCCCTGTACGTTTCGCCGCGAACTAGTTCACACGGCTTGATGGCAAATGGTTTTTCCGGCGACCGTAATCGTCCACCGAG'\n",
        "minimumSkew(genome)"
      ],
      "metadata": {
        "colab": {
          "base_uri": "https://localhost:8080/",
          "height": 36
        },
        "id": "HKdkmHDUFBjR",
        "outputId": "631ebc10-b144-4401-b090-78e00ec43e2c"
      },
      "execution_count": 53,
      "outputs": [
        {
          "output_type": "execute_result",
          "data": {
            "text/plain": [
              "'53 97'"
            ],
            "application/vnd.google.colaboratory.intrinsic+json": {
              "type": "string"
            }
          },
          "metadata": {},
          "execution_count": 53
        }
      ]
    },
    {
      "cell_type": "code",
      "source": [
        "with open(\"rosalind_ba1f.txt\", \"r\") as f:\n",
        "  dna_seq = f.readline().strip()\n",
        "minimumSkew(dna_seq)"
      ],
      "metadata": {
        "colab": {
          "base_uri": "https://localhost:8080/",
          "height": 36
        },
        "id": "DnFPUT41GcR8",
        "outputId": "60b1befb-c012-4699-8658-0657b2866df2"
      },
      "execution_count": 54,
      "outputs": [
        {
          "output_type": "execute_result",
          "data": {
            "text/plain": [
              "'27 28 72'"
            ],
            "application/vnd.google.colaboratory.intrinsic+json": {
              "type": "string"
            }
          },
          "metadata": {},
          "execution_count": 54
        }
      ]
    },
    {
      "cell_type": "markdown",
      "source": [
        "##[BA1G](https://rosalind.info/problems/ba1g/) - Compute the Hamming Distance Between Two Strings"
      ],
      "metadata": {
        "id": "3uhy8wo6GrpQ"
      }
    },
    {
      "cell_type": "code",
      "source": [
        "def hammingDistance(p, q):\n",
        "  if len(p) != len(q): # ako su stringovi razlicite duljine\n",
        "    return -1 # ne mozemo izracunati hamming udaljenost\n",
        "  # inace dodaj jedan za sve razlicite znakove na istim pozicijama u stringu\n",
        "  return sum([1 for i in range(len(p)) if p[i] != q[i]])\n",
        "\n",
        "p = 'GGGCCGTTGGT'\n",
        "q = 'GGACCGTTGAC'\n",
        "hammingDistance(p, q)"
      ],
      "metadata": {
        "colab": {
          "base_uri": "https://localhost:8080/"
        },
        "id": "2ZBNl03RG4HZ",
        "outputId": "5b426a38-4fc5-46ba-983d-98e4ad7b6510"
      },
      "execution_count": 56,
      "outputs": [
        {
          "output_type": "execute_result",
          "data": {
            "text/plain": [
              "3"
            ]
          },
          "metadata": {},
          "execution_count": 56
        }
      ]
    },
    {
      "cell_type": "code",
      "source": [
        "with open(\"rosalind_ba1g.txt\", \"r\") as f:\n",
        "  p = f.readline().strip()\n",
        "  q = f.readline().strip()\n",
        "hammingDistance(p, q)"
      ],
      "metadata": {
        "colab": {
          "base_uri": "https://localhost:8080/"
        },
        "id": "fH1-2N1xHzEo",
        "outputId": "cd52a4b0-ee4e-4734-d070-d98f3d03dbf1"
      },
      "execution_count": 57,
      "outputs": [
        {
          "output_type": "execute_result",
          "data": {
            "text/plain": [
              "849"
            ]
          },
          "metadata": {},
          "execution_count": 57
        }
      ]
    },
    {
      "cell_type": "markdown",
      "source": [
        "## [BA1H](https://rosalind.info/problems/ba1h/) - Find All Approximate Occurrences of a Pattern in a String"
      ],
      "metadata": {
        "id": "5yrnXhuAH372"
      }
    },
    {
      "cell_type": "code",
      "source": [
        "def approximatePattern(pattern, text, d):\n",
        "  positions = [] # niz za spremanje pozicija\n",
        "  for i in range(len(text)-len(pattern)+1): # iteriranje po textu\n",
        "    # ako je hamming udaljenost izmedu uzorka i\n",
        "    # komada iz teksta iste duljine manja od d\n",
        "    if hammingDistance(pattern, text[i:i+len(pattern)]) <= int(d):\n",
        "      positions.append(str(i)) # dodaj pocetnu poziciju\n",
        "  return ' '.join(positions)\n",
        "\n",
        "pattern = 'ATTCTGGA'\n",
        "text = 'CGCCCGAATCCAGAACGCATTCCCATATTTCGGGACCACTGGCCTCCACGGTACGGACGTCAATCAAATGCCTAGCGGCTTGTGGTTTCTCCTACGCTCC'\n",
        "d = 3\n",
        "approximatePattern(pattern, text, d)"
      ],
      "metadata": {
        "colab": {
          "base_uri": "https://localhost:8080/",
          "height": 36
        },
        "id": "t4Ya6I1yH7k5",
        "outputId": "f585fe41-6841-404b-fe66-33938391df7b"
      },
      "execution_count": 59,
      "outputs": [
        {
          "output_type": "execute_result",
          "data": {
            "text/plain": [
              "'6 7 26 27 78'"
            ],
            "application/vnd.google.colaboratory.intrinsic+json": {
              "type": "string"
            }
          },
          "metadata": {},
          "execution_count": 59
        }
      ]
    },
    {
      "cell_type": "code",
      "source": [
        "with open(\"rosalind_ba1h.txt\", \"r\") as f:\n",
        "  pattern = f.readline().strip()\n",
        "  text = f.readline().strip()\n",
        "  d = f.readline().strip()\n",
        "approximatePattern(pattern, text, d)"
      ],
      "metadata": {
        "colab": {
          "base_uri": "https://localhost:8080/",
          "height": 109
        },
        "id": "1iLPzVuVIiHD",
        "outputId": "f07ddec3-13ae-4c89-fe8d-7a78c11a2653"
      },
      "execution_count": 62,
      "outputs": [
        {
          "output_type": "execute_result",
          "data": {
            "text/plain": [
              "'10 13 28 29 31 33 35 40 53 65 70 72 85 94 99 102 109 130 134 150 152 156 158 161 164 166 174 179 181 210 213 240 244 246 249 254 269 274 277 279 281 286 297 300 302 310 319 322 328 330 335 340 346 355 367 374 383 388 391 415 425 444 449 456 464 474 479 482 484 494 496 499 503 505 508 510 513 518 519 526 533 536 538 543 558 579 580 604 606 613 616 618 620 626 631 633 638 640 681 709 713 717 721 726 731 740 745 747 752 754 757 761 764 767 772 779 780 782 784 793 794 801 804 806 814 818 830 835 844 845 847 849 857 862 870 872 874 877 886 895 905 925 926 927 929 932 936 938 949 958 960 962 963 965 967 968 970 982 1001 1002 1004 1006 1007 1009 1017 1032 1050 1054 1059 1061 1063 1072 1087 1098 1103 1105 1107 1108 1112 1130 1131 1135 1138 1139 1143 1146 1148 1151 1173 1179 1180 1183 1184 1194 1202 1212 1217 1232 1236 1250 1266 1275 1285 1294 1296 1299 1301 1304 1308 1311 1316 1319 1324 1328 1335 1337 1339 1350 1354 1355 1364 1373 1378 1387 1389 1390 1413 1416 1433 1435 1437 1438 1443 1448 1461 1463 1466 1468 1472 1487 1493 1496 1497 1499 1501 1509 1510 1511 1513 1515 1518 1523 1530 1571 1573 1599 1604 1611 1635 1651 1654 1665 1667 1669 1670 1686 1691 1693 1719 1736 1737 1741 1760 1761 1764 1778 1786 1789 1793 1794 1811 1816 1821 1823 1831 1836 1859 1864 1871 1884 1886 1887 1899 1901 1903 1904 1907 1914 1924 1926 1927 1944 1947 1975 1977 1979 1980 1992 1998 2000 2001 2009 2010 2025 2034 2035 2042 2065 2066 2069 2071 2073 2076 2091 2093 2094 2095 2105 2107 2108 2113 2115 2118 2123 2128 2146 2155 2174 2181 2183 2188 2192 2200 2203 2205 2214 2219 2222 2225 2227 2235 2236 2238 2239 2242 2249 2251 2253 2265 2266 2274 2276 2280 2291 2292 2295 2297 2302 2304 2311 2314 2316 2319 2321 2326 2336 2341 2346 2348 2357 2361 2362 2364 2371 2375 2380 2411 2418 2423 2429 2441 2455 2460 2461 2462 2464 2467 2474 2479 2490 2500 2503 2525 2538 2541 2549 2555 2560 2571 2572 2590 2595 2597 2602 2608 2613 2617 2621 2624 2626 2629 2642 2652 2659 2662 2663 2677 2678 2679 2681 2687 2697 2699 2700 2703 2705 2706 2708 2712 2713 2738 2745 2759 2762 2786 2788 2795 2796 2799 2808 2825 2826 2849 2852 2862 2866 2872 2894 2897 2898 2899 2900 2902 2907 2909 2918 2920 2923 2930 2935 2954 2963 2980 2987 2989 2994 2999 3004 3008 3011 3018 3023 3027 3028 3037 3052 3059 3064 3065 3069 3075 3078 3084 3111 3115 3116 3120 3122 3124 3129 3137 3140 3142 3159 3163 3166 3191 3195 3197 3202 3214 3216 3219 3235 3246 3256 3268 3272 3302 3305 3307 3321 3343 3347 3355 3383 3384 3400 3411 3413 3418 3423 3424 3425 3467 3472 3475 3479 3486 3491 3495 3497 3504 3507 3525 3527 3529 3530 3539 3543 3546 3550 3555 3559 3572 3581 3583 3594 3598 3602 3604 3607 3610 3614 3617 3619 3631 3636 3639 3647 3652 3653 3656 3660 3665 3669 3680 3681 3683 3706 3736 3739 3741 3747 3756 3771 3773 3780 3792 3793 3795 3811 3814 3816 3817 3825 3826 3833 3838 3843 3845 3849 3853 3856 3858 3869 3894 3897 3898 3905 3923 3924 3933 3935 3937 3938 3940 3942 3943 3947 3957 3966 3975 3978 3981 3984 3986 3989 3991 4000 4003 4005 4008 4010 4013 4023 4044 4047 4049 4051 4056 4058 4060 4063 4065 4068 4073 4074 4078 4090 4103 4105 4110 4125 4135 4139 4140 4144 4146 4148 4151 4152 4156 4157 4162 4176 4178 4184 4186 4189 4191 4200 4202 4203 4207 4208 4212 4213 4218 4219 4227 4230 4247 4269 4270 4275 4277 4279 4280 4282 4284 4287 4289 4293 4302 4307 4314 4328 4329 4332 4337 4346 4349 4351 4353 4354 4355 4356 4357 4372 4374 4376 4381 4394 4399 4400 4403 4408 4416 4424 4427 4433 4436 4441 4458 4460 4496 4504 4514 4518 4522 4525 4541 4556 4559 4561 4564 4580 4581 4603 4606 4618 4623 4626 4631 4639 4644 4646 4649 4656 4658 4674 4692 4703 4708 4725 4730 4733 4747 4750 4764 4767 4770 4771 4775 4780 4784 4790 4798 4803 4810 4814 4817 4822 4825 4827 4829 4834 4838 4839 4844 4849 4861 4867 4874 4885 4889 4900 4901 4912 4913 4917 4922 4929 4934 4936 4961 4965 4974 4979 4984 4999 5002 5011 5012 5027 5029 5032 5034 5049 5053 5056 5058 5068 5071 5078 5081 5087 5093 5098 5101 5103 5105 5108 5112 5117 5119 5121 5124 5126 5128 5141 5144 5152 5155 5158 5161 5163 5166 5167 5170 5181 5184 5185 5186 5190 5226 5231 5234 5236 5238 5240 5241 5254 5256 5265 5267 5270 5272 5279 5282 5284 5289 5296 5298 5299 5307 5316 5318 5319 5332 5341 5342 5346 5349 5361 5365 5367 5383 5384 5388 5390 5395 5408 5414 5418 5424 5429 5431 5436 5438 5440 5443 5445 5459 5460 5471 5483 5495 5500 5504 5514 5548 5551 5560 5564 5566 5571 5573 5584 5586 5591 5593 5596 5598 5616 5625 5630 5633 5647 5651 5655 5658 5660 5682 5687 5691 5706 5708 5717 5721 5723 5726 5728 5730 5736 5743 5761 5768 5773 5774 5775 5786 5787 5790 5791 5810 5815 5817 5835 5849 5854 5865 5884 5885 5890 5892 5895 5905 5910 5923 5932 5937 5939 5942 5944 5951 5962 5984 5988 5990 5993 6001 6004 6024 6031 6035 6040 6048 6051 6058 6071 6072 6088 6093 6096 6099 6106 6110 6115 6124 6133 6138 6141 6144 6146 6161 6163 6165 6171 6181 6186 6196 6197 6199 6205 6225 6230 6243 6258 6269 6272 6274 6276 6288 6292 6297 6304 6314 6319 6322 6333 6339 6351 6353 6356 6358 6365 6371 6388 6395 6406 6408 6410 6411 6426 6430 6445 6447 6449 6451 6455 6456 6461 6474 6476 6479 6485 6486 6488 6490 6492 6497 6502 6507 6511 6512 6514 6516 6532 6535 6537 6539 6542 6563 6565 6567 6568 6577 6579 6586 6596 6599 6601 6604 6606 6609 6613 6621 6625 6627 6632 6646 6651 6664 6671 6673 6675 6676 6680 6708 6710 6711 6713 6732 6737 6741 6744 6746 6749 6753 6758 6763 6768 6782 6787 6788 6793 6797 6800 6802 6804 6806 6818 6828 6831 6835 6854 6867 6881 6884 6892 6895 6896 6897 6900 6901 6905 6907 6909 6920 6922 6925 6927 6939 6940 6942 6945 6958 6960 6969 6972 6984 7006 7008 7013 7018 7023 7032 7035 7037 7042 7046 7057 7058 7060 7070 7072 7073 7083 7084 7086 7088 7089 7091 7092 7093 7096 7098 7103 7106 7108 7123 7132 7137 7159 7161 7163 7164 7166 7176 7179 7181 7184 7187 7194 7198 7211 7217 7219 7242 7244 7246 7251 7254 7263 7265 7271 7273 7279 7282 7286 7289 7294 7299 7305 7307 7324 7327 7329 7330 7334 7341 7346 7349 7351 7364 7367 7372 7374 7380 7382 7386 7395 7397 7400 7401 7403 7406 7408 7420 7434 7436 7441 7471 7474 7482 7497 7499 7512 7532 7537 7548 7550 7553 7558 7570 7572 7580 7583 7612 7614 7630 7640 7645 7647 7656 7659 7664 7668 7671 7673 7686 7688 7690 7700 7705 7731 7736 7741 7745 7746 7749 7753 7764 7778 7786 7794 7799 7801 7804 7806 7808 7812 7816 7820 7825 7829 7830 7835 7844 7848 7860 7870 7878 7887 7890 7892 7897 7902 7920 7946 7949 7959 7960 7962 7983 7997 8006 8016 8021 8023 8028 8030 8040 8043 8048 8062 8072 8074 8076 8077 8079 8080 8081 8094 8097 8126 8131 8141 8146 8156 8161 8166 8171 8174 8177 8182 8185 8187 8202 8212 8214 8219 8221 8229 8249 8252 8260 8271 8273 8275 8278 8286 8295 8306 8307 8309 8311 8321 8331 8332 8337 8339 8364 8370 8374 8393 8395 8398 8408 8419 8421 8422 8424 8426 8427 8430 8466 8468 8508 8534 8535 8541 8542 8550 8555 8566 8569 8586 8607 8621 8622 8624 8633 8642 8646 8652 8663 8664 8668 8681 8698 8700 8702 8716 8727 8732 8733 8737 8743 8753 8757 8758 8760 8769 8780 8782 8784 8787 8791 8799 8802 8807 8808 8838 8840 8846 8847 8850 8853 8873 8875 8878 8882 8889 8894 8900 8902 8905 8907 8911 8914 8918 8923 8935 8941 8950 8951 8955 8963 8970 8974 8984 8997 9013 9023 9025 9031 9037 9043 9046 9048 9049 9051 9057 9062 9064 9066 9071 9073 9076 9078 9081 9083 9086 9088 9090 9107 9110 9113 9115 9118 9120 9125 9130 9132 9133 9145 9147 9154 9159 9175 9180 9187 9192 9194 9199 9205 9225 9236 9249 9252 9261 9273 9278 9279 9280 9307 9309 9312 9326 9331 9333 9336 9344 9357 9359 9362 9377 9389 9393 9394 9400 9404 9407 9414 9421 9423 9433 9438 9439 9440 9445 9452 9456 9457 9461 9470 9472 9474 9475 9484 9486 9489 9491 9496 9497 9502 9538 9543 9565 9567 9580 9584 9590 9595 9597 9601 9602 9605 9606 9609 9618 9629 9633 9634 9636 9638 9644 9649 9651 9653 9656 9660 9667 9669 9674 9685 9690 9697 9698 9704 9721 9734 9744 9747 9755 9760 9762 9767 9779 9786 9802 9813 9815 9817 9820 9823 9828 9830 9852 9854 9857 9859 9864 9868 9869 9871 9883 9888 9894 9899 9901 9903 9906 9913 9927 9930 9943 9947 9951 9969 9974 9976 9992 9997 10029 10035 10040 10043 10044 10048 10054 10056 10059 10067 10070 10077 10083 10094 10096 10107 10112 10115 10117 10120 10123 10125 10128 10131 10133 10135 10138 10140 10142 10145 10149 10151 10154 10158 10194 10199 10202 10204 10212 10214 10237 10241 10242 10246 10247 10250 10252 10255 10257 10268 10273 10279 10286 10289 10291 10294 10296 10297 10298 10303 10316 10319 10322 10338 10355 10360 10363 10365 10367 10377 10382 10384 10394 10423 10427 10428 10434 10448 10449 10463 10468 10485 10490 10495 10500 10505 10513 10525 10530 10532 10539 10545 10547 10550 10572 10573 10577 10578 10580 10582 10598 10600 10605 10610 10617 10618 10622 10634 10640 10644 10645 10648 10653 10663 10668 10671 10674 10676 10677 10681 10682 10684 10689 10690 10692 10694 10696 10697 10718 10720 10722 10723 10725 10727 10741 10744 10746 10752 10755 10759 10764 10770 10775 10778 10784 10797 10800 10820 10824 10827 10832 10835 10853 10858 10863 10880 10885 10890 10899 10905 10908 10910 10913 10918 10920 10922 10923 10942 10949 10950 10952 10953 10955 10960 10975 10977 10978 10980 10981 10982 10985 10986 10987 10992 11009 11013 11019 11025 11030 11031 11032 11035 11045 11053 11058 11065 11068 11073 11091 11105 11107 11109 11111 11117 11122 11127 11135 11154 11158 11173 11175 11176 11180 11188 11193 11201 11206 11217 11222 11226 11239 11249 11252 11254 11261 11270 11274 11283 11285 11289 11308 11328 11333 11340 11384 11387 11390 11391 11400 11419 11430 11431 11436 11441 11446 11464 11480 11485 11491 11494 11496 11499 11504 11506 11509 11517 11520 11525 11530 11536 11555 11558 11560 11563 11569 11580 11583 11594 11599 11601 11615 11616 11624 11626 11634 11635 11639 11648 11655 11660 11665 11683 11688 11692 11705 11710 11712 11725 11728 11731 11737 11747 11749 11753 11754 11756 11758 11762 11767 11779 11782 11787 11795 11797 11799 11801 11804 11806 11811 11815 11817 11822 11825 11830 11833 11841 11861 11862 11867 11869 11870 11872 11874 11875 11877 11880 11882 11887 11895 11896 11897 11902 11907 11909 11913 11922 11924 11929 11930 11934 11939 11944 11951 11955 11960 11961 11988 11996 12003 12005 12007 12008 12009 12010 12011 12015 12020 12025 12029 12032 12037 12039 12040 12048 12065 12077 12079 12087 12092 12096 12099 12101 12104 12112 12114 12120 12123 12125 12130 12139 12145 12147 12148 12150 12151 12172 12177 12196 12252 12257 12276 12278 12281 12283 12287 12292 12316 12328 12343 12345 12348 12350 12352 12367 12372 12376 12385 12387 12402 12403 12419 12442 12456 12461 12465 12466 12468 12470 12475 12478 12480 12483 12485 12495 12497 12499 12500 12503 12508 12511 12523 12524 12526 12528 12534 12537 12544 12545 12547 12555 12562 12564 12567 12569 12586 12591 12593 12598 12600 12611 12628 12634 12636 12638 12641 12654 12657 12659 12666 12668 12677 12679 12683 12686 12691 12696 12698 12700 12705 12729 12730 12731 12732 12733 12734 12739 12744 12761 12763 12765 12766 12767 12780 12785 12787 12788 12792 12794 12797 12800 12812 12814 12817 12826 12831 12833 12841 12846 12857 12860 12861 12863 12865 12870 12875 12877 12880 12882 12883 12885 12888 12890 12896 12901 12902 12904 12909 12915 12918 12920 12932 12941 12944 12952 12957 12965 12968 12993 12994 12996 12999 13005 13010 13012 13015 13017 13020 13022 13049 13051 13056 13067 13070 13074 13079 13102 13111 13113 13115 13117 13118 13120 13122 13123 13125 13127 13128 13135 13138 13140 13142 13159 13162 13164 13167 13169 13172 13177 13186 13201 13229 13232 13237 13260 13262 13263 13268 13273 13276 13278 13280 13287 13293 13304 13306 13308 13314 13318 13327 13330 13345 13363 13367 13371 13374 13394 13397 13402 13404 13406 13407 13409 13410 13411 13416 13428 13453 13454 13455 13470 13484 13494 13497 13498 13499 13501 13502 13504 13508 13511 13513 13518 13523 13525 13530 13534 13535 13537 13539 13544 13547 13550 13555 13566 13574 13577 13579 13604 13605 13607 13639 13642 13647 13649 13669 13674 13682 13686 13706 13709 13711 13721 13731 13733 13741 13750 13766 13770 13775 13780 13791 13793 13796 13798 13800 13801 13803 13805 13816 13818 13827 13835 13836 13838 13843 13855 13857 13869 13870 13887 13894 13898 13908 13910 13917 13919 13923 13928 13936 13939 13956 13959 13961 13964 13966 13976 13979 13991 13993 13994 13995 13996 13997 13999 14001 14004 14006 14011 14012 14016 14019 14021 14024 14026 14028 14029 14031 14041 14048 14050 14057 14065 14077 14080 14083 14085 14090 14092 14096 14103 14107 14112 14114 14116 14122 14126 14134 14136 14140 14141 14149 14160 14164 14165 14170 14183 14188 14211 14222 14226 14235 14238 14262 14265 14267 14270 14272 14281 14286 14289 14290 14294 14299 14308 14309 14314 14350 14352 14355 14364 14369 14374 14391 14403 14405 14411 14416 14435 14442 14455 14466 14469 14471 14474 14482 14484 14498 14499 14504 14505 14509 14516 14527 14539 14542 14550 14555 14576 14583 14586 14602 14605 14607 14617 14620 14622 14636 14638 14640 14643 14644 14655 14660 14665 14666 14673 14676 14678 14690 14695 14715 14721 14725 14728 14730 14733 14755 14757 14761 14772 14777 14791 14798 14800 14806 14811 14822 14825 14827 14829 14830 14888 14890 14893 14915 14920 14927 14928 14929 14932 14945 14949 14952 14954 14958 14963 14964 14966 14976 14994 15001 15003 15006 15010 15013 15015 15021 15026 15028 15033 15040 15043 15057 15064 15066 15068 15072 15099 15121 15124 15127 15134 15139 15155 15163 15165 15167 15176 15178 15180 15182 15185 15187 15188 15197 15200 15204 15210 15215 15218 15219 15221 15224 15231 15234 15235 15236 15241 15253 15255 15258 15259 15266 15271 15282 15295 15305 15312 15332 15342 15348 15359 15367 15368 15374 15385 15388 15390 15393 15395 15397 15402 15406 15409 15411 15413 15414 15426 15437 15453 15457 15467 15478 15481 15492 15515 15520 15529 15535 15545 15547 15550 15552 15554 15557 15582 15586 15601 15606 15617 15619 15622 15624 15628 15643 15648 15656 15658 15662 15664 15667 15669 15672 15686 15703 15726 15728 15730 15731 15733 15759 15772 15774 15780 15783 15785 15787 15800 15802 15805 15826 15829 15831 15834 15839 15846 15864 15869 15872 15874 15881 15896 15900 15914 15919 15933 15948 15952 15957 15959 15987 16007 16009 16012 16013 16020 16025 16030 16033 16038 16043 16053 16065 16070 16111 16114 16116 16119 16121 16124 16128 16135 16149 16159 16162 16164 16166 16167 16188 16193 16201 16206 16208 16216 16228 16235 16247 16264 16266 16274 16290 16295 16299 16301 16303 16305 16306 16308 16313 16318 16322 16327 16339 16340 16344 16346 16347 16349 16351 16352 16354 16360 16364 16367 16369 16372 16373 16374 16376 16378 16381 16387 16389 16394 16395 16399 16401 16404 16412 16422 16426 16427 16431 16433 16435 16440 16443 16448 16456 16459 16463 16467 16472 16477 16479 16490 16493 16507 16508 16509 16510 16511 16513 16519 16544 16556 16579 16591 16610 16620 16628 16630 16631 16632 16636 16638 16644 16646 16651 16672 16677 16679 16682 16684 16687 16693 16695 16698 16700 16702 16703 16715 16723 16725 16727 16731 16740 16742 16755 16758 16760 16763 16766 16789 16793 16795 16804 16808 16809 16814 16835 16840 16847 16850 16860 16863 16865 16871 16882 16889 16903 16913 16915 16918 16920 16927 16929 16945 16947 16950 16952 16960 16963 16965 16969 16971 16974 16976 16985 16990 16996 17000 17014 17024 17027 17029 17031 17033 17034 17044 17045 17055 17057 17062 17063 17064 17067 17070 17077 17082 17084 17087 17089 17091 17096 17098 17101 17103 17104 17106 17108 17113 17117 17127 17132 17133 17142 17147 17150 17157 17172 17182 17183 17194 17217 17219 17228 17233 17267 17272 17274 17278 17279 17283 17285 17287 17292 17309 17310 17312 17314 17316 17321 17336 17342 17366 17372 17374 17377 17379 17390 17392 17397 17398 17400 17403 17418 17435 17437 17447 17463 17473 17502 17507 17521 17529 17532 17544 17547 17550 17560 17564 17567 17569 17584 17593 17599 17602 17604 17612 17623 17635 17642 17647 17650 17653 17657 17662 17666 17669 17671 17676 17678 17680 17696 17697 17700 17702 17718 17723 17776 17803 17828 17834 17862 17866 17867 17872 17875 17876 17877 17878 17880 17882 17887 17904 17906 17907 17909 17915 17926 17992 18003 18012 18015 18017 18020 18025 18029 18033 18036 18038 18042 18044 18051 18056 18058 18060 18062 18065 18070 18075 18109 18116 18120 18123 18128 18147 18152 18161 18166 18171 18178 18192 18207 18212 18217 18219 18222 18230 18238 18241 18246 18251'"
            ],
            "application/vnd.google.colaboratory.intrinsic+json": {
              "type": "string"
            }
          },
          "metadata": {},
          "execution_count": 62
        }
      ]
    },
    {
      "cell_type": "markdown",
      "source": [
        "## [BA1I](https://rosalind.info/problems/ba1i/) - Find the Most Frequent Words with Mismatches in a String"
      ],
      "metadata": {
        "id": "tP-GsG0nIwAk"
      }
    },
    {
      "cell_type": "code",
      "source": [
        "def neighbour(pattern, mismatch, words):\n",
        "  # popis baza\n",
        "  bases = ['A', 'C', 'G', 'T']\n",
        "  for i in range(len(pattern)): # iteriraj po dobivenom uzorku\n",
        "    for j in range(len(bases)): # iteriraj po bazama\n",
        "      # novi uzorak je onaj s promijenjenom bazom na nekoj od lokacija\n",
        "      new_pattern = pattern[:i] + bases[j] + pattern[i+1:]\n",
        "      if mismatch <= 1: # ako je preostali broj mogucih razlicitih manji od 1\n",
        "        words.add(new_pattern) # dodaj novi dobiveni uzorak\n",
        "      # inace\n",
        "      else:\n",
        "        # rekurzivno pozovi pretragu ali sa smanjenim brojem dopustenih razlika\n",
        "        neighbour(new_pattern, mismatch - 1, words)"
      ],
      "metadata": {
        "id": "kORSf016I1Z_"
      },
      "execution_count": 63,
      "outputs": []
    },
    {
      "cell_type": "code",
      "source": [
        "def FindMostFrequentWords(text, k, d):\n",
        "  res = [] # lista u kojoj spremamo rezultat\n",
        "  # rjecnik u kojeg spremamo sve k-mere i njihove frekvencije\n",
        "  allFrequentWords = dict()\n",
        "  for i in range(len(text) - k + 1): # za svaki substring duzine k\n",
        "      # skup u kojeg spremamo sve k-mere koji se\n",
        "      # razlikuju najvise d znakova od substringa\n",
        "      frequentWords = set()\n",
        "      # pretraga k-mera koji se razlikuju najvise za d znakova\n",
        "      neighbour(text[i:i + k], d, frequentWords)\n",
        "      # za svaki k-mer dobiven pretragom\n",
        "      for words in frequentWords:\n",
        "        # ako se ne nalazi u rjecniku\n",
        "        if words not in allFrequentWords:\n",
        "          # dodaj k-mer u rjecnik\n",
        "          allFrequentWords[words] = 0\n",
        "        # ako se nalazi u rjecniku povecaj brojac k-mera\n",
        "        allFrequentWords[words] += 1\n",
        "  # za svaki k-mer\n",
        "  for t in allFrequentWords.keys():\n",
        "    # provjeri ima li najveci broj pojavljivanja\n",
        "    if allFrequentWords[t] == max(allFrequentWords.values()):\n",
        "      # ako ima, dodaj k-mer u listu\n",
        "      res.append(t)\n",
        "  # vrati ispis\n",
        "  return ' '.join(res)\n",
        "\n",
        "FindMostFrequentWords('ACGTTGCATGTCGCATGATGCATGAGAGCT', 4, 1)"
      ],
      "metadata": {
        "colab": {
          "base_uri": "https://localhost:8080/",
          "height": 36
        },
        "id": "sotFWyiLJMxn",
        "outputId": "5407d7c7-6888-4448-f905-4f5dd56a4074"
      },
      "execution_count": 64,
      "outputs": [
        {
          "output_type": "execute_result",
          "data": {
            "text/plain": [
              "'ATGT GATG ATGC'"
            ],
            "application/vnd.google.colaboratory.intrinsic+json": {
              "type": "string"
            }
          },
          "metadata": {},
          "execution_count": 64
        }
      ]
    },
    {
      "cell_type": "code",
      "source": [
        "with open(\"rosalind_ba1i.txt\", \"r\") as f:\n",
        "  text = f.readline().strip()\n",
        "  k, d = f.readline().split()\n",
        "FindMostFrequentWords(text, int(k), int(d))"
      ],
      "metadata": {
        "colab": {
          "base_uri": "https://localhost:8080/",
          "height": 36
        },
        "id": "Rqf7HoyMJ70f",
        "outputId": "38a00469-f6e0-42c3-957a-112b00c55398"
      },
      "execution_count": 65,
      "outputs": [
        {
          "output_type": "execute_result",
          "data": {
            "text/plain": [
              "'CGGGCCT'"
            ],
            "application/vnd.google.colaboratory.intrinsic+json": {
              "type": "string"
            }
          },
          "metadata": {},
          "execution_count": 65
        }
      ]
    },
    {
      "cell_type": "markdown",
      "source": [
        "## [BA1J](https://rosalind.info/problems/ba1j/) - Find Frequent Words with Mismatches and Reverse Complements"
      ],
      "metadata": {
        "id": "6qQ_JXYhKJrH"
      }
    },
    {
      "cell_type": "code",
      "source": [
        "def FindMostFrequentWords_reverse(text, k, d):\n",
        "  # rjecnik u kojeg spremamo sve k-mer i njihove frekvencije\n",
        "  allFrequentWords = dict()\n",
        "  for i in range(len(text) - k + 1): # za svaki substring duzine k\n",
        "      # skup u kojeg spremamo sve k-mere koji se\n",
        "      # razlikuju najvise d znakova od substringa\n",
        "      frequentWords = set()\n",
        "      # pretraga k-mera koji se razlikuju najvise za d znakova\n",
        "      neighbour(text[i:i + k], d, frequentWords)\n",
        "      # za svaki k-mer dobiven pretragom\n",
        "      for words in frequentWords:\n",
        "        # ako se ne nalazi u rjecniku\n",
        "        if words not in allFrequentWords:\n",
        "          # dodaj k-mer u rjecnik\n",
        "          allFrequentWords[words] = 0\n",
        "        # ako se nalazi u rjecniku povecaj brojac k-mera\n",
        "        allFrequentWords[words] += 1\n",
        "  # za svaki k-mer\n",
        "  for t in allFrequentWords.keys():\n",
        "    reverse_k = reverseComplement(t) # napravi obrnuti komplement (BA1C)\n",
        "    for i in range(len(text) - k + 1): # iteriraj po pocetnom stringu\n",
        "      # ako je Hamming udaljenost (BA1G) od nekog substringa\n",
        "      # i obrnutog komplementa manja od d znakova\n",
        "      if hammingDistance(text[i:i + k], reverse_k) <= d:\n",
        "        # povecaj brojac za taj k-mer za 1\n",
        "        allFrequentWords[t] += 1\n",
        "  result = set()\n",
        "  # za svaki k-mer\n",
        "  for t in allFrequentWords.keys():\n",
        "    # provjeri ima li najveci broj pojavljivanja\n",
        "    if allFrequentWords[t] == max(allFrequentWords.values()):\n",
        "      # u rezultate dodaj k-mer\n",
        "      result.add(t)\n",
        "      # u rezultate dodaj obrnuti komplement\n",
        "      result.add(reverseComplement(t))\n",
        "  # vrati ispis rezultata\n",
        "  return ' '.join(result)\n",
        "\n",
        "FindMostFrequentWords_reverse('ACGTTGCATGTCGCATGATGCATGAGAGCT', 4, 1)"
      ],
      "metadata": {
        "colab": {
          "base_uri": "https://localhost:8080/",
          "height": 36
        },
        "id": "1ncrdFxBKT_Y",
        "outputId": "396f86a5-aa5f-4283-deb6-c11e2510189b"
      },
      "execution_count": 67,
      "outputs": [
        {
          "output_type": "execute_result",
          "data": {
            "text/plain": [
              "'ACAT ATGT'"
            ],
            "application/vnd.google.colaboratory.intrinsic+json": {
              "type": "string"
            }
          },
          "metadata": {},
          "execution_count": 67
        }
      ]
    },
    {
      "cell_type": "code",
      "source": [
        "with open(\"rosalind_ba1j.txt\", \"r\") as f:\n",
        "  text = f.readline().strip()\n",
        "  k, d = f.readline().split()\n",
        "FindMostFrequentWords_reverse(text, int(k), int(d))"
      ],
      "metadata": {
        "colab": {
          "base_uri": "https://localhost:8080/",
          "height": 36
        },
        "id": "5jAuNlDcLEz2",
        "outputId": "2a700ffe-9a68-4ff6-be9c-c4146cbe96a0"
      },
      "execution_count": 68,
      "outputs": [
        {
          "output_type": "execute_result",
          "data": {
            "text/plain": [
              "'GCCGGC'"
            ],
            "application/vnd.google.colaboratory.intrinsic+json": {
              "type": "string"
            }
          },
          "metadata": {},
          "execution_count": 68
        }
      ]
    },
    {
      "cell_type": "markdown",
      "source": [
        "## [BA1K](https://rosalind.info/problems/ba1k/) - Generate the Frequency Array of a String"
      ],
      "metadata": {
        "id": "KC6jnLo8LNUv"
      }
    },
    {
      "cell_type": "code",
      "source": [
        "# generiranje svih kombinacija kmera\n",
        "def getCombinations(k):\n",
        "  bases = ['A', 'C', 'G', 'T']\n",
        "  array = bases.copy()\n",
        "  for n in range(k-1):\n",
        "    array = [i + j for i in array for j in bases]\n",
        "  return array"
      ],
      "metadata": {
        "id": "bkmaLAag9jwI"
      },
      "execution_count": 72,
      "outputs": []
    },
    {
      "cell_type": "code",
      "source": [
        "def frequencyArray(text, k):\n",
        "  # napravi sve moguce k-mere duljine k\n",
        "  all_kmers = getCombinations(k)\n",
        "  all_kmers.sort()\n",
        "  freq_arr = [] # niz za spremanje rezultata\n",
        "  for kmer in all_kmers: # za svaki k-mer u dobivenom nizu\n",
        "    # dodaj frekvencije pojavljivanja u textu odredenog kmera\n",
        "    freq_arr.append(str(countPattern(kmer, text)))\n",
        "  return ' '.join(freq_arr)\n",
        "\n",
        "frequencyArray('ACGCGGCTCTGAAA', 2)"
      ],
      "metadata": {
        "colab": {
          "base_uri": "https://localhost:8080/",
          "height": 36
        },
        "id": "ipgHcEPX7P-i",
        "outputId": "b0f85350-8df7-477f-b259-0f422fd1304e"
      },
      "execution_count": 80,
      "outputs": [
        {
          "output_type": "execute_result",
          "data": {
            "text/plain": [
              "'2 1 0 0 0 0 2 2 1 2 1 0 0 1 1 0'"
            ],
            "application/vnd.google.colaboratory.intrinsic+json": {
              "type": "string"
            }
          },
          "metadata": {},
          "execution_count": 80
        }
      ]
    },
    {
      "cell_type": "code",
      "source": [
        "with open(\"rosalind_ba1k.txt\", \"r\") as f:\n",
        "  text = f.readline().strip()\n",
        "  k = int(f.readline().strip())\n",
        "frequencyArray(text, k)"
      ],
      "metadata": {
        "colab": {
          "base_uri": "https://localhost:8080/",
          "height": 109
        },
        "id": "QQ7_Mjrm_YPY",
        "outputId": "5f588ce0-9bf4-429f-bc78-b7d4dbd9c7f7"
      },
      "execution_count": 83,
      "outputs": [
        {
          "output_type": "execute_result",
          "data": {
            "text/plain": [
              "'0 0 0 0 0 0 0 0 0 0 0 0 0 0 0 0 0 1 0 1 0 0 0 0 0 0 0 0 0 0 0 0 0 1 0 0 0 0 0 0 0 0 0 0 0 0 0 0 0 0 0 0 0 0 0 1 0 0 0 0 0 0 0 0 0 0 0 0 0 0 1 1 0 0 0 0 1 0 0 0 0 0 0 0 0 0 0 0 0 0 0 0 0 0 0 0 0 0 0 0 0 0 0 0 0 0 0 0 0 0 0 0 0 0 0 0 0 0 0 0 0 0 0 0 0 0 0 0 0 0 0 0 0 0 0 1 0 0 0 0 0 0 0 0 0 0 0 1 2 0 0 0 0 0 0 0 0 0 0 0 0 0 0 0 0 0 0 0 0 0 0 0 0 0 0 0 0 1 0 0 0 0 0 0 0 0 0 0 0 0 0 0 0 0 0 0 0 0 0 0 0 0 0 0 0 0 0 0 0 1 0 0 0 0 0 0 0 0 0 0 0 1 0 0 0 0 0 0 0 1 0 0 0 1 0 0 0 0 0 0 0 0 0 0 0 0 0 0 0 0 0 0 0 0 0 0 0 0 0 0 0 0 0 0 0 1 0 0 0 0 0 0 0 0 0 0 0 0 0 0 0 0 1 0 1 0 0 0 0 0 0 0 0 0 0 0 0 0 0 0 0 0 0 0 0 1 0 0 0 0 0 0 0 0 0 0 0 0 0 0 0 0 0 0 0 0 0 0 0 0 0 0 0 0 0 0 0 0 0 0 0 0 0 0 0 0 0 1 0 0 0 0 0 0 0 0 0 0 0 0 0 0 0 0 0 0 0 0 0 0 0 0 0 0 0 0 0 0 0 0 0 0 0 0 0 0 0 0 0 0 0 0 0 1 0 0 0 0 0 0 0 0 0 0 0 0 0 0 0 1 0 0 0 0 0 0 0 0 0 0 0 0 0 0 0 0 0 0 0 0 0 0 0 0 0 0 0 0 0 0 0 0 0 0 0 0 0 0 0 0 0 0 0 0 0 0 0 0 0 0 0 0 0 0 0 0 0 0 0 0 0 0 0 0 1 0 0 0 0 0 0 0 0 0 0 0 0 0 0 0 0 0 0 0 0 0 0 0 0 0 0 0 0 0 0 0 0 0 0 0 0 0 0 0 0 0 0 0 0 0 0 0 0 0 0 0 0 0 0 0 0 0 0 0 0 0 0 0 0 0 0 0 1 0 0 0 0 0 0 0 0 0 0 0 0 0 0 0 0 0 0 0 0 0 0 0 0 0 0 0 0 0 0 1 0 0 1 0 1 0 0 0 0 0 0 0 0 0 1 0 0 0 1 0 0 1 0 0 1 0 0 0 0 0 0 0 0 0 0 0 0 0 1 0 0 0 0 0 0 0 0 0 0 0 0 0 0 0 0 0 0 0 0 0 0 0 0 0 0 0 0 0 0 0 0 0 0 0 0 0 0 0 0 0 0 0 0 0 0 0 0 0 0 0 0 0 0 0 0 0 0 0 0 0 0 0 0 0 0 0 0 0 0 0 0 0 0 0 0 0 0 0 0 1 0 0 0 0 0 0 0 0 0 0 0 0 0 0 1 1 0 0 0 0 0 0 0 0 0 0 0 0 0 0 0 0 0 0 0 0 0 0 0 0 0 0 0 0 0 0 0 0 0 0 0 0 0 0 0 0 0 0 0 0 0 0 0 0 0 0 0 0 0 0 0 0 0 0 0 0 0 0 0 0 0 0 0 0 0 0 0 0 0 0 0 0 0 0 0 0 0 0 0 0 0 0 0 0 0 0 0 0 0 1 0 0 0 0 1 0 0 0 0 0 0 0 0 0 0 0 0 0 0 0 0 0 0 0 0 0 0 0 0 0 0 0 0 0 0 2 0 0 0 0 0 0 0 0 0 0 0 0 0 0 0 0 0 0 0 0 0 0 0 0 0 0 0 0 0 0 0 0 0 0 0 0 1 0 0 0 0 0 0 0 1 0 1 0 0 0 0 0 0 0 0 0 0 0 0 0 0 0 0 0 0 0 0 0 0 0 0 0 0 0 0 0 0 1 0 0 0 0 1 0 0 0 0 0 0 0 0 0 0 1 0 0 0 0 0 0 0 0 0 0 0 0 0 0 0 0 0 0 0 0 0 0 0 0 0 0 0 0 0 0 0 0 0 0 0 0 0 0 0 0 0 1 0 0 0 0 0 0 0 0 0 0 0 0 0 0 0 0 0 0 1 0 0 0 0 0 0 0 0 0 0 0 0 0 0 0 0 0 0 0 0 0 0 0 0 0 0 0 0 0 0 0 0 0 0 0 0 0 0 0 0 0 0 0 0 0 1 0 0 0 0 0 0 0 0 0 0 0 0 0 0 0 0 0 0 0 0 0 1 0 0 0 0 0 0 0 0 0 0 0 0 0 0 0 0 0 0 0 0 0 0 0 0 0 0 0 0 0 0 0 1 0 0 0 0 0 0 0 0 1 0 0 0 0 0 0 0 0 0 0 0 0 0 0 0 0 0 0 0 0 0 0 1 0 0 0 0 1 0 0 0 0 0 0 1 0 0 0 0 0 0 0 0 0 0 0 0 0 0 0 0 0 0 0 0 0 0 0 0 0 0 0 0 0 0 0 0 0 0 0 0 0 0 0 0 0 0 0 0 0 0 0 0 0 0 0 0 0 0 0 0 0 0 0 0 0 0 0 0 0 0 0 0 0 0 0 0 0 0 0 0 0 0 0 0 0 0 0 0 1 0 0 0 0 0 0 0 0 0 0 0 0 0 0 0 0 0 0 0 0 0 0 0 0 0 0 0 0 0 0 0 0 0 0 0 0 0 0 0 0 0 0 0 0 0 0 0 0 0 0 0 0 0 1 0 0 0 0 0 0 0 0 1 0 0 0 0 0 0 0 0 0 0 0 0 0 0 0 0 0 0 0 0 0 0 0 0 0 0 0 0 0 0 0 0 0 0 0 0 0 0 0 0 0 0 0 0 0 0 0 0 0 0 0 0 0 0 0 0 0 0 0 0 0 0 0 0 0 0 0 0 0 0 0 0 0 0 0 0 0 0 0 0 0 0 0 0 0 0 0 0 0 0 0 1 1 0 0 0 0 0 0 0 0 0 0 0 1 0 0 0 0 0 0 0 0 0 0 0 0 0 0 0 0 0 0 0 0 0 0 0 0 0 0 0 0 0 0 0 0 0 0 0 0 0 0 0 0 0 0 0 0 0 0 0 0 1 0 0 0 0 0 0 0 0 0 0 0 0 0 0 0 0 0 0 0 0 0 0 0 0 0 0 0 0 0 0 0 0 0 0 0 0 0 0 0 0 0 0 0 0 0 0 0 0 0 0 0 0 0 0 0 0 0 0 0 0 0 0 0 0 0 0 0 0 0 0 0 0 0 0 0 0 0 0 0 0 0 0 0 0 0 0 0 0 0 0 0 0 0 0 0 0 0 0 0 0 0 0 0 0 0 0 0 0 1 0 0 0 0 0 0 0 0 0 0 0 0 0 0 0 0 0 0 0 0 0 0 0 0 0 1 0 0 0 0 0 0 0 0 0 0 0 0 0 0 0 1 0 0 0 0 0 1 0 0 0 0 0 0 0 0 0 0 0 0 0 0 0 0 0 0 0 0 0 0 0 0 0 0 0 0 0 0 0 0 0 0 0 0 1 0 0 0 1 0 0 0 0 0 0 0 0 0 0 0 0 0 0 0 0 0 0 0 0 0 0 0 0 0 0 0 0 0 0 0 0 0 0 0 0 0 0 0 0 0 0 0 0 0 0 0 0 0 0 0 0 0 0 0 0 0 0 0 0 0 0 0 0 0 0 0 0 0 0 0 0 0 0 0 0 0 0 0 0 1 0 0 0 0 0 0 0 0 0 0 0 0 0 0 0 0 0 0 0 0 0 0 0 0 0 0 0 0 0 0 0 0 0 0 0 0 1 0 0 0 0 0 0 0 0 0 0 0 0 0 0 0 0 0 0 0 0 0 0 0 0 0 0 0 0 0 0 0 0 0 0 0 0 0 0 0 0 0 0 0 0 0 0 0 0 0 0 0 0 0 0 0 0 0 0 0 0 0 0 0 0 0 0 0 0 0 0 0 0 0 0 0 0 0 0 0 0 0 0 1 0 0 0 0 0 0 0 0 0 0 0 0 0 0 0 0 0 0 0 0 0 0 1 0 0 0 0 0 0 0 0 0 0 0 0 0 0 0 0 0 0 0 0 0 0 0 0 0 0 0 0 0 0 0 0 0 1 0 0 0 0 0 0 0 0 0 0 0 0 0 0 0 0 0 0 0 0 0 0 0 0 0 0 0 0 0 0 0 0 0 0 0 0 0 0 0 0 1 0 0 0 0 0 0 0 0 0 0 0 0 0 0 0 1 0 0 0 0 0 0 0 0 1 0 0 0 0 1 1 0 0 0 0 0 0 0 0 0 0 0 0 0 0 0 0 0 0 0 0 0 0 0 0 1 0 0 0 0 0 0 0 0 0 0 0 0 0 0 0 0 1 0 0 0 0 0 0 0 0 0 0 0 0 0 0 0 0 0 0 0 0 0 0 0 0 0 0 0 0 0 0 0 0 0 0 0 0 0 0 0 0 0 0 0 0 0 0 1 0 1 0 0 1 0 0 0 0 0 0 0 0 0 0 0 0 0 0 0 0 0 0 0 0 0 0 0 0 0 0 0 0 0 0 0 0 0 0 0 1 0 0 0 0 0 0 0 0 0 0 0 0 0 0 0 0 0 0 0 0 0 0 0 0 0 0 0 0 0 1 0 0 0 0 0 0 0 0 0 0 0 0 0 0 0 0 0 0 0 0 0 0 0 0 0 0 0 0 0 0 0 0 0 0 0 0 0 0 0 0 0 1 0 0 0 0 0 0 0 0 0 0 0 0 0 0 0 0 0 0 0 0 0 0 0 0 0 0 0 0 0 0 0 0 0 0 0 0 0 0 0 0 0 0 0 0 0 0 0 0 0 0 0 0 0 0 0 0 0 0 0 0 0 0 0 0 0 0 0 0 0 0 0 0 0 0 0 0 0 0 0 0 0 0 0 0 0 0 0 0 0 0 0 0 0 0 1 0 0 0 0 0 0 0 0 0 0 0 0 0 0 0 0 0 0 0 0 1 0 0 0 0 0 1 0 0 0 0 0 0 0 0 0 0 0 0 0 1 0 0 0 0 0 0 1 0 0 0 0 0 0 0 0 0 0 0 0 1 0 0 0 0 0 0 0 1 0 0 0 0 0 0 1 0 0 0 0 0 0 0 0 0 1 0 0 0 1 0 0 0 0 0 0 0 0 0 0 0 0 0 0 1 0 0 0 0 0 1 0 0 0 0 0 0 1 0 0 0 0 0 0 0 0 0 0 0 1 0 0 0 0 0 1 0 0 0 0 0 0 0 0 0 0 0 1 0 0 0 0 0 0 0 0 0 0 0 0 0 0 0 0 0 0 0 0 0 0 0 0 0 0 0 0 0 0 1 0 0 0 0 0 1 0 0 0 0 0 0 0 0 0 0 1 0 0 0 0 0 0 0 0 0 0 0 0 0 0 0 0 0 0 0 0 0 0 0 0 0 0 0 0 0 0 0 0 0 0 0 0 0 0 0 0 0 0 0 0 0 0 0 0 0 0 0 0 0 0 0 0 0 0 0 0 0 1 0 0 0 0 0 0 0 0 0 0 1 0 0 0 0 0 1 0 0 0 0 0 0 0 0 0 0 0 0 0 0 0 0 0 0 0 0 0 0 1 0 0 0 1 0 0 0 0 0 0 0 0 0 0 0 0 0 0 0 0 0 0 0 0 0 0 0 0 0 0 0 0 0 0 0 0 0 0 0 0 0 0 0 0 0 0 0 0 0 0 0 0 0 0 0 0 0 0 0 0 0 0 0 0 0 0 0 0 0 0 0 0 0 0 0 0 0 0 0 0 0 0 0 0 0 0 0 0 0 0 0 0 0 0 0 0 0 0 0 0 0 0 0 0 1 0 0 0 0 0 0 0 0 0 0 0 0 0 0 0 0 0 0 0 0 0 0 0 0 0 0 0 0 1 0 0 0 0 0 0 0 0 0 0 0 1 0 0 0 0 0 0 0 0 0 0 0 0 0 0 0 0 0 0 0 0 0 0 0 0 0 0 0 0 0 0 0 0 0 0 1 0 0 0 0 0 0 0 0 0 0 0 0 0 0 0 0 0 0 0 0 0 0 0 0 0 0 0 0 0 1 0 0 0 0 0 0 0 0 0 0 0 0 0 0 0 0 0 0 0 0 0 0 0 0 0 0 0 0 0 0 0 0 0 0 0 0 0 0 0 0 0 0 0 0 0 0 0 0 0 0 0 0 0 0 0 0 0 1 0 0 0 0 1 0 0 0 0 0 0 0 0 0 0 0 0 0 0 0 0 0 0 0 0 0 0 0 0 0 0 0 0 0 0 0 0 0 0 0 0 0 0 0 0 0 0 0 0 0 0 0 0 0 0 0 0 0 0 0 0 0 0 0 0 0 0 0 0 0 0 0 0 0 0 0 0 0 0 0 0 0 0 0 0 0 0 0 0 0 0 0 0 0 0 0 0 0 0 0 0 0 0 0 0 0 0 0 0 0 0 0 0 0 0 0 0 0 0 0 0 0 0 0 0 0 0 0 0 0 0 0 0 0 0 0 0 0 0 0 0 0 0 0 0 0 0 0 0 0 0 0 0 0 0 0 0 1 0 0 0 0 0 0 0 0 0 0 0 0 0 0 0 0 0 0 0 0 0 0 0 0 0 0 0 0 0 0 0 0 0 0 0 0 0 0 0 0 0 0 0 0 1 0 0 0 1 0 0 0 0 0 0 0 0 0 0 0 0 0 0 0 0 0 1 0 0 0 0 0 0 0 0 0 0 0 0 0 0 0 0 0 0 0 0 0 0 0 0 0 0 0 0 0 0 0 0 0 0 0 0 0 0 0 0 0 0 0 0 0 0 0 0 0 0 1 0 0 0 0 0 0 0 0 0 0 0 0 0 0 0 0 0 0 0 0 0 0 0 0 0 0 0 0 0 0 0 0 0 0 0 0 0 0 0 0 0 0 0 0 0 0 0 0 0 0 0 0 0 0 0 0 0 0 0 0 0 0 0 0 0 0 0 0 0 0 0 0 0 0 0 0 0 0 0 1 0 0 0 0 0 0 0 0 0 0 0 0 0 0 0 0 0 0 0 0 0 0 0 0 0 1 0 0 0 0 0 0 0 1 0 0 0 0 0 0 0 0 0 1 0 0 0 0 0 0 0 0 0 0 1 0 0 0 0 0 0 0 0 0 0 0 0 0 0 0 0 0 0 0 0 0 0 0 0 0 0 0 0 0 0 0 0 0 0 0 0 0 0 0 0 0 0 0 0 0 0 0 0 0 0 0 0 0 0 0 0 0 0 0 0 0 0 0 1 0 0 0 0 0 0 0 0 0 0 0 1 0 0 0 0 0 1 0 0 0 0 0 0 0 0 0 0 0 0 0 0 0 0 0 0 0 0 0 0 0 0 0 0 0 0 0 0 0 0 1 1 1 0 0 0 1 0 0 0 0 0 0 0 0 0 0 0 0 0 0 0 0 0 0 0 0 0 0 0 0 0 0 0 0 0 0 0 0 0 0 0 0 0 0 0 0 0 0 0 0 0 0 0 0 0 0 0 0 0 0 0 0 0 0 0 0 0 0 0 0 0 0 0 0 0 0 0 0 0 0 0 0 0 0 0 0 0 0 0 0 0 0 0 1 0 0 0 0 0 0 0 0 0 0 0 0 0 0 0 0 0 0 0 0 0 0 0 0 0 0 1 0 0 0 0 0 0 0 0 0 0 0 0 0 0 0 0 0 0 0 0 0 0 0 0 1 0 0 0 0 0 0 0 0 0 0 0 0 0 0 0 0 0 0 0 0 0 0 0 0 0 0 0 0 0 0 0 0 0 1 0 0 0 0 0 0 0 2 0 0 0 0 0 0 0 0 0 0 0 0 0 0 0 0 0 0 0 0 0 0 0 0 0 0 0 0 0 0 0 0 0 0 0 0 0 0 0 0 0 0 0 0 0 0 0 0 0 0 0 0 0 0 0 0 0 0 0 0 0 0 0 0 0 0 0 0 0 1 0 0 0 0 0 0 0 0 0 0 0 0 0 0 0 0 0 0 0 0 0 0 0 0 0 0 0 0 0 0 0 0 0 0 0 0 0 0 0 0 0 0 0 0 0 0 0 0 0 0 0 1 0 0 0 0 0 0 0 0 0 0 0 0 0 0 0 0 0 0 0 0 1 0 0 0 0 0 0 0 0 0 0 0 0 0 0 0 0 0 0 0 0 0 0 0 0 0 1 0 0 0 0 0 0 0 0 0 0 0 0 0 0 0 0 0 1 0 0 0 0 0 0 0 0 0 0 0 0 0 0 0 0 0 0 0 0 0 0 0 0 0 0 1 0 1 0 0 0 1 0 0 0 0 0 0 0 0 0 0 0 0 0 0 0 0 0 0 0 0 0 0 0 0 0 0 0 0 0 0 0 0 0 0 0 0 0 0 0 0 0 0 0 0 0 0 0 0 1 0 0 0 0 0 0 0 0 0 0 0 0 0 0 0 0 0 0 0 0 0 0 0 0 0 0 0 0 0 0 0 0 0 0 0 0 0 0 0 0 0 0 0 0 0 0 0 0 0 0 0 0 0 0 0 0 0 0 0 0 0 0 0 0 0 0 0 0 0 0 0 0 0 0 0 0 0 0 0 0 0 0 1 0 0 0 1 0 0 0 0 1 0 0 0 0 0 0 0 0 0 0 0 0 0 0 0 0 0 0 0 0 0 0 0 0 0 0 0 1 0 0 0 0 0 0 0 0 0 0 0 0 0 0 0 0 0 0 0 0 0 0 1 0 0 0 0 0 0 1 0 0 0 0 0 0 0 0 0 0 0 1 0 1 0 0 0 0 0 0 0 0 0 0 0 0 0 0 0 0 0 0 0 0 0 0 0 0 0 0 0 0 0 0 0 0 0 0 0 0 0 0 0 0 0 0 0 0 0 1 0 0 0 0 0 0 0 0 0 0 0 0 0 0 0 0 0 0 0 0 0 0 0 0 0 0 0 0 1 0 0 0 0 0 0 0 1 0 0 0 0 0 0 0 0 0 0 0 0 0 0 0 0 0 0 0 0 0 0 0 0 0 0 0 0 0 0 0 0 0 0 0 0 0 1 0 0 0 0 0 0 0 0 0 0 0 0 0 0 0 0 0 0 0 0 0 0 0 0 0 0 0 0 0 0 0 1 0 0 0 0 0 0 0 0 0 0 0 0 0 0 0 0 0 0 0 0 0 0 0 0 0 0 0 0 0 1 0 0 0 0 0 0 0 0 0 0 0 0 0 0 0 0 0 0 0 1 0 0 0 0 0 0 0 0 0 0 0 1 0 0 0 0 0 0 0 0 0 0 0 0 0 0 0 0 0 0 0 0 0 0 0 0 0 0 0 0 0 0 0 0 0 0 0 0 0 0 0 0 0 0 0 0 0 1 0 0 0 0 1 0 0 0 1 0 0 0 0 0 0 0 0 0 0 0 0 0 0 0 0 0 0 0 1 0 0 0 1 0 0 0 0 0 0 0 0 0 0 0 0 0 0 0 0 0 0 0 0 0 0 0 0 0 0 0 0 0 0 0 0 0 0 0 0 0 0 0 0 0 0 0 0 0 0 0 0 0 0 0 0 0 0 0 0 0 0 0 0 0 0 0 0 0 1 0 0 0 0 1 0 0 0 0 0 0 0 0 0 0 0 0 0 0 0 0 0 0 0 0 0 0 0 0 1 0 1 0 0 0 0 0 1 0 0 0 0 0 0 0 0 0 0 0 0 0 0 0 0 0 0 0 0 0 0 0 0 0 0 0 0 0 0 0 0 0 0 0 0 0 1 0 0 0 0 0 0 0 0 0 0 0 0 0 0 0 0 0 0 0 0 0 0 0 0 1 0 0 0 0 0 0 0 0 0 0 0 0 0 0 0 1 0 0 0 0 0 0 0 0 0 0 0 0 0 0 0 0 0 0 0 0 0 0 0 0 0 0 1 0 0 0 0 0 0 0 0 0 0 0 1 0 0 0 0 0 0 0 0 1 0 0 0 0 0 0 0 0 0 0 0 0 0 0 0 0 0 0 0 0 1 0 0 0 0 0 0 0 0 0 0 0 0 0 0 0 0 0 0 0 0 0 0 0 0 0 0 0 0 0 1 0 0 0 0 0 0 0 0 0 0 0 0 0 0 0 0 0 0 0 0 0 0 0 0 0 0 0 0 0 0 1 0 1 0 0 0 0 0 0 0 0 0 1 0 0 0 0 0 0 0 0 0 0 0 2 0 0 0 0 0 0 0 0 0 1 0 0 0 0 0 0 0 0 0 0 0 0 0 0 0 0 0 0 0 0 0 0 0 0 0 0 0 0 0 0 0 0 0 0 0 0 0 0 0 0 0 0 0 0 0 0 0 0 0 0 0 0 0 0 0 0 1 0 0 0 0 0 0 0 0 0 0 0 0 0 0 0 0 0 0 1 0 0 0 0 0 0 0 0 0 0 1 0 0 0 0 0 0 0 0 0 0 0 0 0 0 0 0 0 0 0 0 0 0 0 0 0 0 0 0 0 0 0 0 0 0 0 0 0 0 0 0 0 0 0 0 0 0 0 0 0 0 0 0 0 0 0 0 0 0 0 0 0 0 0 0 0 0 0 0 0 0 0 0 0 0 0 0 0 0 0 0 0 0 0 0 0 0 0 0 0 0 0 0 0 0 0 0 0 0 0 0 0 0 0 0 0 0 0 0 0 0 0 0 0 0 0 0 0 0 0 0 0 0 0 0 0 0 0 0 0 0 0 0 0 0 0 0 0 0 0 0 0 0 0 0 0 0 1 1 0 0 0 0 0 0 0 0 0 0 0 0 0 0 0 0 0 0 0 0 0 0 0 0 0 0 0 0 0 0 0 0 0 0 0 0 0 1 0 0 0 0 0 0 0 0 0 0 0 0 0 0 0 0 0 0 0 0 0 0 0 0 0 0 0 0 1 0 0 0 0 0 0 0 0 0 0 0 0 0 0 0 0 0 0 0 0 0 0 0 0 0 0 0 0 0 0 0 0 0 0 0 0 1 0 0 0 0 0 0 0 0 0 0 0 0 0 0 0 0 0 0 0 0 0 0 0 0 0 0 0 0 0 0 0 0 0 0 0 0 0 0 0 0 0 0 0 0 0 0 0 0 0 0 0 0 0 0 0 0 0 0 0 0 0 0 0 0 0 0 0 0 0 0 0 0 0 0 0 0 0 0 0 0 0 0 0 0 0 0 0 0 0 0 0 0 0 0 0 0 0 0 0 0 0 0 0 0 0 0 0 0 0 0 0 0 0 0 0 0 0 0 0 0 0 0 0 0 0 0 0 0 0 0 0 0 0 0 0 0 0 0 0 0 0 0 1 0 0 0 0 0 0 1 0 0 0 0 0 0 0 0 0 0 0 1 0 0 0 0 0 0 0 0 0 0 0 0 0 0 0 0 0 0 0 1 0 0 1 0 0 0 0 0 0 0 0 0 0 0 0 0 0 0 0 0 0 1 0 0 0 0 0 0 0 0 0 0 0 0 0 0 0 0 0 0 1 0 0 0 0 0 0 0 0 0 0 0 0 0 0 0 0 0 0 0 0 0 0 0 0 0 0 0 0 0 0 0 0 0 0 0 0 1 0 0 0 0 0 0 0 0 0 0 0 0 0 0 0 0 0 0 0 0 0 0 0 0 0 0 0 0 1 0 0 0 0 0 0 0 0 0 0 0 0 0 0 0 0 0 0 0 0 0 0 0 0 0 0 0 0 0 0 0 0 0 0 0 0 0 0 0 0 0 0 0 0 0 0 0 0 0 0 0 0 0 0 0 0 0 0 0 0 0 0 0 0 0 0 0 0 0 0 0 0 0 0 0 0 0 0 0 0 0 0 0 0 0 0 1 0 0 0 0 0 0 0 0 0 0 0 0 0 0 0 0 0 0 0 0 0 0 0 0 0 0 0 0 0 0 0 0 0 0 0 1 0 0 0 0 1 0 0 0 0 1 0 0 0 0 0 0 0 0 0 1 0 0 0 0 0 0 0 0 0 0 0 0 0 0 0 0 0 0 0 0 0 0 0 0 0 0 0 0 0 0 0 0 0 0 0 0 0 0 0 0 0 0 0 0 0 0 0 0 0 0 0 0 0 0 0 0 0 0 0 0 0 0 0 0 0 0 0 0 0 0 0 0 0 0 0 0 0 0 0 0 0 0 0 0 0 0 0 0 0 0 0 0 0 0 0 0 0 0 0 0 0 0 0 0 0 0 0 0 0 0 0 0 0 0 0 0 0 0 0 0 1 0 0 0 0 0 1 0 0 0 0 0 0 0 0 0 0 0 0 0 0 0 0 0 0 0 0 0 0 0 0 0 0 0 0 0 0 0 0 0 0 0 1 0 0 0 0 0 0 0 0 0 1 0 0 0 0 0 0 0 0 0 0 0 0 0 0 0 0 0 0 0 0 0 0 0 0 0 0 0 0 0 0 0 0 0 0 0 0 0 0 0 0 0 0 0 0 0 0 0 0 0 0 0 0 0 0 1 0 0 1 0 0 0 0 0 0 0 0 0 0 0 0 0 0 0 0 0 0 0 0 0 0 0 0 0 0 0 0 0 0 0 0 0 0 0 0 0 0 0 1 1 0 0 0 1 0 0 0 0 0 0 0 0 0 0 0 0 0 0 0 0 0 0 0 0 0 0 1 0 0 0 0 0 0 0 0 0 0 0 0 0 0 0 0 0 0 0 0 0 0 0 0 0 0 0 0 0 0 0 0 0 0 0 0 0 0 0 0 0 0 0 0 0 0 0 0 0 0 0 0 0 0 0 0 0 0 0 0 0 0 0 0 0 0 0 0 0 0 0 1 0 0 0 0 0 0 0 1 0 1 0 0 0 0 0 0 0 1 0 0 0 0 0 0 0 0 0 0 0 0 0 0 0 0 0 0 0 0 0 0 0 0 0 0 0 0 0 0 0 0 0 0 0 0 0 0 0 0 0 0 0 0 0 0 0 0 0 0 0 0 0 1 0 0 0 0 0 0 0 0 0 0 1 0 0 0 0 0 0 0 0 0 0 0 0 0 0 0 0 0 0 0 0 0 0 0 0 0 0 1 0 0 0 0 0 0 0 0 0 0 0 0 0 0 0 0 0 0 0 0 0 0 0 0 0 0 0 0 0 0 0 0 0 0 0 0 0 0 0 0 0 0 0 0 0 0 0 0 0 0 0 0 0 0 0 0 0 0 0 0 0 0 0 0 0 0 0 0 0 0 0 0 0 0 0 0 1 0 0 0 0 0 0 0 0 0 0 0 0 0 0 0 0 0 0 0 0 0 0 0 0 0 0 0 0 0 0 0 0 0 0 0 0 0 0 0 0 0 0 0 0 0 0 0 0 0 0 0 0 0 0 0 0 0 0 0 0 0 0 0 0 0 0 0 0 0 0 0 0 0 0 0 0 0 0 0 0 0 0 0 0 0 0 0 0 0 0 0 0 0 0 0 0 0 0 0 0 0 0 0 0 0 0 0 0 0 0 0 0 0 0 0 0 0 0 0 0 0 0 0 0 0 0 0 0 0 0 0 0 0 0 0 0 1 0 0 1 0 0 0 1 0 1 0 0 0 0 0 0 0 0 0 0 0 1 0 0 0 0 0 0 0 0 0 0 0 0 0 0 0 0 0 0 0 0 0 0 0 0 0 0 0 0 0 0 0 0 0 0 0 0 0 0 0 0 0 0 0 0 0 0 0 0 0 0 0 0 0 0 0 0 0 0 0 0 0 0 0 0 0 0 0 0 0 0 0 0 0 0 0 0 0 0 0 0 0 0 0 0 0 0 0 0 0 0 0 1 0 0 0 0 0 0 0 0 0 0 0 0 0 0 0 0 0 0 0 0 0 0 0 0 0 0 0 0 0 0 0 0 0 0 0 0 0 0 0 0 0 0 0 0 0 0 0 0 0 0 0 0 0 0 0 0 0 0 0 0 0 0 0 0 0 1 0 0 1 0 0 0 0 0 0 0 0 0 0 0 0 0 0 0 0 1 0 0 0 0 0 0 0 0 0 0 0 0 0 0 0 0 1 0 0 0 0 0 0 0 0 0 0 1 0 0 0 0 0 0 0 0 0 0 0 0 0 0 0 0 0 0 0 0 0 0 0 0 0 0 0 0 0 0 0 1 0 0 0 0 0 0 0 0 0 0 0 0 0 0 0 0 0 0 0 1 0 0 0 0 0 0 0 0 0 0 0 0 0 1 0 0 0 0 0 0 0 0 0 1 0 0 0 0 0 0 0 0 0 0 0 0 0 0 0 0 0 0 0 0 0 0 0 0 0 0 0 0 0 0 0 0 0 0 0 0 0 0 0 0 0 0 0 0 0 0 0 0 1 0 0 0 0 0 0 0 0 0 0 0 0 0 0 0 0 0 0 0 0 0 0 0 0 0 0 0 0 0 0 0 0 0 0 0 0 0 0 0 0 0 0 0 0 0 0 0 0 0 0 0 0 0 0 0 0 0 0 0 0 0 0 0 0 0 0 0 0 0 0 0 0 0 0 0 0 1 0 0 0 0 0 0 0 0 0 0 0 0 0 0 0 0 0 0 0 0 0 0 1 0 0 0 0 0 0 0 0 0 0 0 0 0 0 0 0 1 0 0 0 0 0 0 0 0 0 0 0 0 0 0 0 0 0 0 0 0 1 0 0 0 0 0 0 0 0 0 0 0 0 0 0 0 0 0 0 0 0 0 0 0 0 0 0 0 1 0 1 0 0 0 1 0 0 0 0 0 0 0 0 0 0 0 0 0 0 0 0 0 0 0 0 0 0 0 0 0 0 0 0 0 0 0 0 0 0 0 0 0 0 0 0 0 0 0 0 0 0 0 0 0 0 0 0 0 1 0 0 0 0 0 0 0 0 0 0 0 0 0 0 0 0 0 0 0 0 0 0 0 0 0 0 0 0 0 0 0 0 0 1 0 0 0 0 0 1 0 0 1 0 0 0 0 0 0 0 0 0 0 0 0 0 0 0 0 1 1 0 0 0 0 0 0 0 0 0 0 0 0 0 1 0 0 0 0 0 0 0 0 0 0 0 0 0 0 0 0 0 0 0 0 0 0 0 0 0 0 1 0 0 0 0 0 0 0 0 0 0 0 0 0 0 0 0 0 0 0 0 0 0 0 0 0 0 1 0 0 0 0 0 0 0 0 0 0 0 0 0 0 0 0 0 1 0 0 0 0 0 0 0 0 0 0 0 0 0 1 0 0 0 0 0 0 0 0 0 0 0 0 0 0 0 0 0 0 0 0 0 0 0 0 0 0 0 0 0 0 0 0 0 0 0 0 0 0 0 0 0 0 0 0 0 0 0 0 0 0 0 0 1 0 0 0 0 0 0 0 0 0 0 0 0 0 0 0 0 0 0 0 0 0 0 0 0 0 0 0 0 0 0 0 0 0 0 0 1 0 0 0 0 0 0 0 0 0 0 1 0 0 0 0 0 0 0 0 0 0 0 0 0 0 0 0 0 0 0 0 0 0 0 0 1 0 0 1 0 0 0 0 0 0 0 0 1 0 0 0 0 0 0 0 0 0 0 0 0 0 0 0 0 0 0 0 0 0 0 0 0 0 0 0 0 0 0 0 0 0 0 0 0 1 0 0 0 0 0 0 0 0 0 0 0 0 0 0 0 0 0 0 0 0 0 0 0 0 0 0 0 1 0 0 0 0 0 0 0 1 0 0 0 0 0 0 0 0 0 0 0 0 1 0 0 0 0 0 0 0 0 0 0 0 1 0 0 0 0 0 0 0 0 0 0 0 0 0 0 0 0 0 0 0 0 0 0 0 0 0 0 0 0 0 0 0 0 0 0 0 0 0 0 0 0 1 0 0 1 0 0 1 0 0 0 0 0 0 0 0 0 0 0 0 1 0 0 0 0 1 0 0 0 0 0 0 0 0 0 0 0 0 0 0 0 0 0 0 0 0 0 0 0 0 0 0 0 0 0 0 0 0 0 0 0 0 0 0 0 0 0 0 0 0 0 0 0 0 0 0 0 0 0 0 0 1 0 0 0 0 0 0 0 0 0 0 0 0 0 0 0 0 0 0 0 0 0 0 0 0 0 0 0 0 0 0 0 0 0 0 0 0 0 0 0 0 0 0 0 0 0 0 0 0 0 0 0 0 0 0 0 0 0 0 0 0 0 0 0 0 0 0 0 0 0 0 0 0 0 0 0 0 0 0 0 0 0 0 0 0 0 0 0 0 0 0 0 0 0 0 0 0 0 0 0 0 0 0 0 0 0 0 0 0 0 0 0 0 0 0 0 0 0 0 0 0 0 0 0 0 0 0 0 0 0 0 0 0 0 0 0 0 0 0 0 0 0 0 0 0 0 0 0 0 0 0 0 0 0 0 0 0 0 0 0 0 0 0 0 0 0 0 0 0 0 0 0 0 0 0 0 0 0 1 0 0 0 0 0 0 0 0 0 0 0 0 0 0 0 1 0 0 0 0 0 0 0 0 0 0 0 0 0 0 0 0 0 0 1 0 0 0 0 0 0 0 0 1 0 1 0 0 0 0 0 0 0 0 0 1 0 0 0 0 0 0 0 0 0 0 0 0 0 0 0 0 0 0 0 0 0 0 0 0 0 0 0 0 0 0 0 0 1 0 0 0 0 0 0 0 1 0 0 0 0 0 0 0 0 0 0 0 0 0 0 1 0 0 0 0 0 0 0 0 0 0 0 0 0 0 0 0 0 0 0 0 0 0 0 0 0 0 0 0 0 0 0 0 0 0 0 0 0 0 0 0 0 0 0 0 0 0 0 0 0 0 0 0 0 0 0 0 0 0 0 0 0 0 0 0 0 0 0 0 0 0 0 0 0 0 0 0 0 0 0 0 0 0 0 0 0 0 0 0 0 0 0 0 0 0 0 0 0 0 0 0 0 0 0 0 0 0 0 0 0 0 0 0 0 0 0 1 1 0 1 0 1 1 0 0 0 0 0 0 0 0 0 0 0 0 0 0 0 0 0 0 0 1 0 0 0 0 0 0 0 0 0 0 0 0 0 0 0 0 0 0 0 0 0 0 0 0 0 0 0 0 0 0 0 0 0 0 0 0 0 0 0 0 0 0 0 0 0 0 0 0 0 0 0 0 1 0 0 0 0 0 0 0 0 0 0 0 0 0 0 0 0 0 0 0 0 0 0 0 0 0 0 0 0 0 0 0 0 0 0 0 0 0 0 0 0 0 0 0 0 0 0 0 0 0 0 0 0 0 0 0 0 0 0 0 0 0 0 0 0 0 0 0 0 0 0 0 0 0 0 0 0 0 0 0 0 0 1 0 0 0 0 0 0 0 0 0 0 0 0 0 0 0 0 0 0 0 0 0 1 0 0 0 0 0 0 0 0 0 0 0 0 0 0 0 0 0 0 1 0 0 1 0 0 0 0 0 0 0 0 0 0 0 0 0 0 0 0 0 0 0 0 0 1 0 0 0 0 0 0 0 0 0 0 0 0 0 0 0 0 0 0 0 0 0 0 0 0 0 0 0 0 0 0 1 0 0 0 1 0 0 0 0 0 0 0 0 0 0 0 0 0 0 0 0 0 0 0 0 1 0 2 0 0 1 0 0 0 0 0 0 0 0 0 0 0 0 0 0 0 0 0 0 0 0 0 0 0 0 0 0 0 0 0 0 0 0 0 0 0 0 0 0 0 0 0 0 0 0 0 0 0 0 0 0 0 0 0 0 0 0 0 0 0 0 0 0 0 0 0 0 0 0 0 0 0 0 0 0 0 0 0 0 0 0 0 0 0 0 0 0 0 1 0 0 0 0 0 0 0 0 2 1 0 0 0 0 0 0 0 0 0 0 0 0 0 0 2 0 0 0 0 0 0 0 1 0 0 0 0 0 0 0 0 0 0 0 0 0 0 0 0 0 0 0 0 0 0 0 0 0 0 0 0 0 0 0 0 0 0 0 0 0 0 0 0 0 0 0 0 0 1 0 1 0 0 0 0 0 0 0 0 0 0 1 0 1 0 0 0 0 0 0 0 0 0 0 0 0 0 0 0 0 0 0 0 0 0 0 0 0 0 0 0 0 0 0 0 0 0 0 0 0 0 0 0 0 0 0 0 0 0 0 0 0 0 0 0 0 0 0 0 0 0 0 0 0 0 0 0 0 0 0 0 0 0 0 0 0 0 0 0 0 0 0 0 0 0 0 0 0 0 0 0 0 0 0 0 0 0 0 0 0 0 0 0 0 0 0 0 0 0 0 0 0 0 0 0 0 0 0 0 0 0 0 0 0 0 0 0 0 0 0 0 0 0 0 0 0 0 0 0 0 0 0 0 0 0 0 0 0 0 0 0 0 0 0 0 1 0 0 0 0 0 0 0 0 0 0 0 0 0 0 0 0 0 0 0 1 0 0 0 0 0 0 1 0 0 0 0 0 0 0 0 0 0 0 0 1 1 0 0 0 0 0 0 0 0 0 0 0 0 0 0 0 0 0 0 0 0 0 0 0 0 0 0 0 0 0 0 0 0 0 0 0 0 0 0 0 0 0 0 0 0 0 0 0 0 0 0 0 0 0 0 0 0 0 0 0 1 0 0 0 0 0 0 0 0 0 0 0 0 0 0 0 0 0 0 0 0 0 0 0 0 1 0 0 0 0 0 0 0 0 0 0 0 0 0 0 0 0 0 0 0 0 0 0 0 0 0 0 0 0 0 0 0 0 0 0 0 0 0 0 0 0 0 0 0 0 0 0 0 0 0 0 0 0 0 0 0 0 0 0 1 0 0 0 0 0 0 0 0 0 0 0 0 0 0 0 0 0 0 1 0 0 0 0 0 0 0 0 1 0 0 0 0 0 0 0 0 0 0 0 0 0 0 0 0 0 0 0 0 0 0 0 0 0 0 0 0 0 0 0 0 0 0 0 0 0 0 0 0 0 0 0 0 0 0 0 0 0 0 0 0 0 0 0 0 0 0 0 0 0 0 0 0 0 0 0 0 0 0 0 0 0 0 0 0 0 0 0 0 0 0 0 0 0 0 0 0 0 0 1 0 0 0 0 0 0 0 0 0 0 0 0 0 0 0 0 0 0 0 0 0 0 0 0 0 0 0 0 0 0 0 0 0 0 0 0 0 0 0 0 0 0 0 0 0 0 0 0 0 0 0 0 0 0 0 0 0 0 0 0 0 0 0 0 0 0 0 0 0 0 0 0 0 0 0 1 0 0 0 0 0 0 0 0 0 0 0 0 0 0 0 0 0 0 0 0 0 0 0 0 0 0 0 0 0 0 0 0 0 0 0 0 0 0 0 0 0 0 0 0 0 0 0 0 0 0 0 0 0 0 0 0 0 0 0 0 0 0 0 0 0 0 0 0 0 0 0 0 0 0 0 0 0 0 0 0 0 0 0 0 0 0 1 0 0 0 1 0 0 0 0 0 0 0 0 0 1 0 0 0 0 0 0 0 0 0 0 0 0 0 0 0 0 1 0 0 0 0 0 0 0 0 0 0 0 0 0 0 0 0 1 0 0 0 0 0 0 0 0 0 0 0 0 0 0 0 0 0 0 0 0 0 0 0 0 0 0 0 0 0 0 0 0 0 1 0 0 0 0 0 0 0 0 0 0 0 0 0 0 0 0 0 0 0 0 1 0 0 0 0 0 0 0 0 0 0 0 0 0 0 0 0 0 0 0 0 0 0 0 0 0 0 0 0 0 0 0 0 0 0 0 0 0 0 0 0 0 0 1 0 0 1 0 1 0 0 0 0 0 0 0 0 0 0 0 0 0 0 0 0 0 0 0 0 0 0 0 0 0 0 0 0 0 0 0 0 0 0 0 0 0 0 1 0 0 1 0 0 0 0 0 0 0 0 0 0 0 0 0 0 0 0 0 0 0 0 0 0 0 0 0 0 0 0 0 0 0 0 0 0 0 0 0 0 0 0 0 0 0 0 0 0 0 0 0 0 0 0 0 0 0 0 0 0 0 0 0 0 0 0 0 0 0 0 0 1 0 0 0 0 0 0 0 0 0 0 0 0 0 0 0 0 0 0 0 0 0 0 0 0 0 0 0 0 0 1 0 0 0 0 0 0 0 0 0 0 0 0 0 0 0 0 0 0 0 0 0 0 0 0 0 0 0 1 0 0 0 0 0 0 0 0 0 0 0 0 0 0 0 0 0 0 0 0 0 0 0 0 0 1 0 0 0 0 0 0 0 0 0 0 0 0 0 0 0 0 0 0 0 0 0 0 0 0 0 0 0 0 0 0 0 0 0 0 0 0 0 1 0 0 0 0 0 0 0 0 0 0 0 0 0 0 0 0 1 0 0 0 0 0 0 0 0 0 0 0 0 0 0 0 0 0 0 0 0 0 0 0 0 0 0 0 0 0 0 0 0 0 0 0 0 0 0 0 0 0 0 0 0 0 0 0 0 0 0 0 0 0 0 1 0 0 0 0 0 0 0 0 0 0 0 1 0 0 0 0 0 0 0 0 0 0 0 0 0 0 0 0 0 0 0 0 0 0 1 0 0 0 0 0 0 1 0 0 0 0 0 0 0 0 0 0 0 0 0 0 0 0 0 0 0 0 0 0 0 0 0 0 0 0 0 0 0 0 0 0 0 0 0 0 0 0 0 0 0 0 0 0 0 0 0 1 0 0 0 0 0 0 0 0 0 0 0 0 0 0 0 0 0 0 0 0 0 0 0 0 0 0 1 0 0 0 0 0 0 0 1 0 0 0 0 0 0 0 0 0 0 0 0 0 0 0 0 0 0 0 0 0 0 0 2 0 0 0 0 0 0 0 0 0 0 0 0 0 0 0 0 0 1 0 0 0 1 0 0 0 0 0 0 0 0 0 0 0 0 0 0 0 0 0 0 0 0 0 0 0 0 0 0 0 0 0 0 0 1 0 0 0 0 0 0 0 0 0 0 0 0 0 0 0 0 0 0 0 0 0 0 0 0 0 0 0 1 0 1 0 0 0 0 0 0 0 0 0 0 0 0 0 0 0 0 0 0 0 0 0 0 0 0 0 0 0 0 0 0 0 0 0 0 0 0 1 0 0 0 0 0 0 0 0 0 0 0 0 0 0 0 0 1 0 0 0 0 0 0 0 0 0 0 0 0 0 0 0 0 0 0 0 0 0 0 0 0 0 0 0 0 0 0 0 0 0 0 0 0 0 0 0 0 0 0 0 0 0 0 0 0 0 0 0 0 0 0 0 0 0 0 0 1 0 0 0 0 0 0 0 0 0 0 0 0 0 1 0 0 0 0 0 0 0 1 0 0 0 0 0 0 0 0 0 0 0 0 0 0 0 0 0 0 0 0 1 0 0 0 0 0 0 0 0 1 0 0 1 0 1 0 0 0 0 0 0 0 0 0 0 0 0 0 0 0 0 0 0 0 0 0 0 0 0 0 0 0 0 0 0 0 0 0 0 0 0 0 0 0 0 1 0 0 0 0 0 0 0 0 0 0 0 0 0 0 0 1 0 0 0 0 0 0 0 0 0 0 1 0 0 0 0 0 0 0 0 0 0 0 0 0 0 0 0 0 0 0 0 0 0 0 0 0 0 0 1 0 1 0 0 0 0 0 0 0 0 0 0 0 0 0 0 0 1 0 0 0 0 0 0 0 0 0 0 0 0 0 0 0 0 0 0 0 0 0 0 0 0 0 1 0 0 0 0 0 0 0 0 0 0 0 0 0 0 0 0 0 0 0 0 0 0 0 0 0 0 0 0 0 0 0 0 0 0 0 0 0 0 0 0 0 0 0 0 0 0 0 0 0 0 0 0 0 0 0 0 0 0 0 0 0 0 0 0 0 0 0 0 0 0 0 0 0 0 0 0 0 0 0 0 0 0 0 0 0 0 0 0 0 0 1 0 0 0 0 0 0 0 1 0 0 0 0 0 0 0 0 0 0 0 0 0 0 0 0 0 0 0 0 0 0 1 0 0 0 0 0 0 0 0 0 0 0 0 0 0 0 0 0 0 0 0 0 0 0 0 0 0 0 0 0 0 0 0 0 0 1 0 0 0 0 0 0 1 1 0 0 0 0 0 0 0 0 0 0 0 0 0 0 0 0 0 0 0 0 0 0 0 0 0 0 0 0 1 0 0 0 0 0 0 0 0 0 0 0 0 0 0 0 0 0 0 0 0 0 0 0 0 0 0 0 0 0 0 0 0 0 0 0 0 0 0 0 0 0 0 0 0 0 0 0 0 0 1 0 0 0 0 0 1 0 0 0 0 0 0 0 0 0 0 0 0 0 0 0 0 0 0 0 0 1 0 0 0 1 0 0 0 0 0 0 0 0 0 0 0 0 1 1 0 0 0 0 0 0 0 0 0 0 0 0 0 0 0 0 0 0 1 0 0 0 0 0 0 0 0 0 0 0 0 0 0 0 0 0 0 0 0 0 0 0 0 0 0 0 0 0 0 0 0 0 0 0 0 0 0 0 0 0 0 0 0 0 0 0 1 0 0 0 0 1 0 0 1 0 0 0 0 0 0 0 0 0 0 0 0 1 0 0 0 0 0 0 0 0 0 0 0 0 0 0 0 0 0 0 0 0 0 0 0 0 0 0 0 0 0 0 0 0 1 0 0 0 0 0 1 0 0 0 0 0 0 0 0 0 0 0 0 0 0 0 0 0 0 0 0 0 0 0 0 0 0 0 0 0 0 0 0 0 0 0 0 0 0 0 0 0 0 0 1 0 0 0 0 0 0 0 0 0 0 0 0 0 0 0 0 0 0 0 0 1 0 0 0 0 0 0 0 0 0 0 0 0 0 0 0 0 0 0 0 0 0 0 0 0 0 0 0 0 1 0 0 0 0 0 0 0 0 0 0 0 0 0 0 0 0 0 0 0 0 0 0 0 0 0 0 0 0 0 0 0 0 0 0 0 0 0 0 0 0 0 0 0 0 0 0 0 0 0 0 0 0 0 0 0 0 0 0 0 0 0 0 0 0 1 0 0 0 0 0 0 0 0 0 0 0 0 0 0 1 0 0 0 0 0 1 0 0 0 0 0 0 0 0 0 0 0 0 0 0 0 0 0 0 0 0 0 1 0 0 0 0 0 0 0 0 0 0 0 0 0 0 0 0 0 0 0 0 0 0 0 0 0 0 0 0 0 0 0 0 0 0 0 0 0 0 0 0 0 1 0 0 0 0 0 0 0 0 0 0 0 0 0 0 0 0 0 0 0 0 0 0 0 0 0 0 0 0 0 0 0 0 0 0 0 0 0 0 0 0 0 0 0 0 0 0 1 0 0 0 0 0 0 0 0 0 0 1 0 0 0 0 0 0 0 0 0 0 1 0 0 0 0 0 0 0 0 0 0 0 0 0 0 0 0 0 0 0 0 0 0 0 0 0 1 0 0 0 0 0 0 0 0 0 0 0 0 1 0 0 0 0 0 0 0 0 0 0 0 0 0 0 0 0 0 0 0 0 0 0 0 0 0 0 0 0 0 0 0 0 0 0 0 0 0 0 0 0 0 0 0 0 0 0 0 0 0 0 0 0 0 0 0 0 0 0 0 0 0 0 0 0 0 1 0 0 0 1 0 0 0 0 0 0 0 0 0 0 0 0 0 0 0 0 0 0 0 0 0 0 0 0 0 0 0 0 0 0 0 0 0 0 0 0 0 0 0 0 0 0 0 0 0 0 0 0 0 0 0 0 0 0 0 1 0 0 1 0 0 0 0 0 0 0 0 0 0 0 0 0 0 1 0 0 0 0 0 0 0 0 0 1 0 0 0 0 0 0 0 0 0 0 0 0 0 0 0 0 0 0 0 0 0 0 0 0 0 0 0 0 0 0 0 0 0 0 0 0 0 0 0 0 0 0 0 0 0 0 0 0 0 0 1 0 0 0 0 0 0 0 0 0 0 0 0 0 0 0 0 0 0 0 0 0 1 0 0 0 0 0 1 0 0 1 1 0 0 0 0 0 0 0 0 0 0 0 0 0 0 0 0 0 1 0 0 0 0 0 0 0 0 0 0 0 0 0 0 0 0 0 0 0 0 0 0 0 0 0 0 0 0 0 0 0 0 0 0 0 0 0 0 0 0 0 0 0 0 0 0 0 0 0 0 0 0 0 0 0 0 0 0 0 0 0 0 0 0 0 0 0 0 0 0 0 0 0 0 0 0 0 0 0 0 0 0 0 0 0 1 0 0 1 0 0 0 0 0 0 0 0 0 0 0 0 0 0 0 0 0 0 0 0 0 0 0 0 0 0 0 0 0 0 0 0 0 0 0 0 0 0 0 0 0 0 0 0 0 0 0 1 0 0 1 0 0 0 0 0 0 0 0 0 0 0 0 1 0 0 0 0 0 0 1 1 0 0 0 0 0 0 0 0 0 0 0 0 0 0 0 0 0 0 0 0 0 0 0 0 0 0 0 0 0 0 0 0 0 0 0 0 0 0 0 0 0 1 0 1 0 0 0 0 0 0 0 0 0 0 1 0 0 0 0 0 0 0 0 0 0 0 0 0 0 0 0 0 0 0 0 0 0 0 0 0 0 0 0 0 0 0 0 0 0 0 0 0 0 0 0 0 0 0 0 0 0 0 0 0 0 0 0 0 0 0 0 0 1 0 0 0 0 0 0 0 0 0 0 0 0 0 0 0 0 0 0 0 0 0 0 0 0 0 0 0 0 0 0 0 0 0 0 0 0 0 1 0 0 0 0 0 0 0 0 0 0 0 0 0 0 0 0 0 0 0 0 0 0 0 0 0 0 0 0 0 0 0 0 0 1 0 0 0 0 0 0 0 0 0 0 0 0 0 0 0 0 0 0 0 0 0 0 0 0 0 0 0 0 0 0 0 0 0 0 0 0 0 0 0 0 0 0 0 0 0 0 0 1 0 0 0 0 0 0 1 0 0 0 0 0 0 0 0 0 0 0 0 0 0 1 0 0 0 0 0 0 0 0 0 0 0 1 0 0 0 0 0 1 0 0 0 0 0 0 0 0 0 0 0 0 0 0 0 0 0 0 0 0 0 0 0 0 0 0 0 0 0 0 0 0 0 0 0 0 0 0 1 0 0 0 0 0 0 0 0 0 0 0 0 0 0 0 0 0 0 0 0 0 0 0 0 0 0 0 0 0 0 0 0 0 0 0 0 0 0 0 0 0 0 0 0 0 0 0 0 0 0 0 0 0 0 0 0 0 0 0 0 1 0 0 0 0 0 0 0 0 0 0 0 0 0 0 0 0 0 0 0 0 0 0 0 0 0 0 0 0 0 1 1 0 0 0 0 0 1 0 0 0 0 0 0 0 0 0 0 0 0 0 0 0 1 0 0 0 0 0 0 0 0 0 0 0 0 0 0 0 0 0 0 0 0 0 0 0 0 1 0 0 0 1 0 0 0 0 0 0 0 0 0 0 1 0 0 0 0 0 0 0 0 0 0 0 0 0 0 0 0 0 0 0 0 1 0 0 0 0 0 0 0 0 0 0 0 0 0 0 0 0 0 0 0 0 0 0 0 0 0 0 0 0 0 0 0 0 0 0 0 0 0 0 0 0 0 0 0 0 0 0 0 0 0 0 0 0 0 0 0 0 0 0 0 0 0 0 0 0 0 0 1 0 0 0 0 0 0 1 0 0 0 0 0 1 0 0 0 0 0 0 0 0 0 0 0 0 0 0 0 0 0 0 0 0 0 0 0 0 0 0 0 0 0 0 0 0 0 0 0 1 0 0 0 0 0 0 0 0 0 0 0 0 0 0 0 0 0 0 0 0 0 0 0 0 0 0 0 0 0 0 0 0 0 0 0 0 0 0 0 0 0 0 0 0 0 0 0 0 0 0 0 0 0 0 0 0 0 0 0 0 0 0 0 0 0 0 0 0 0 0 0 0 0 0 0 0 0 0 0 0 0 0 0 0 0 0 0 0 0 0 0 0 0 0 0 0 0 0 0 0 0 0 0 0 0 0 0 0 0 0 0 0 0 0 0 0 0 0 0 0 0 0 0 0 0 0 0 0 0 0 0 0 0 0 0 0 0 0 0 0 0 0 0 0 0 0 0 0 1 0 1 0 0 0 0 0 0 0 0 0 0 0 0 0 0 0 0 0 0 0 0 0 0 0 0 0 0 1 0 0 0 0 0 0 0 0 0 0 0 0 0 0 0 0 0 0 0 0 0 0 0 0 0 0 0 0 0 0 0 0 0 0 0 0 0 0 0 0 0 0 0 0 0 0 0 0 0 0 0 0 0 0 0 0 0 0 0 0 1 0 0 0 0 0 0 0 0 0 0 0 0 0 0 0 0 0 0 0 0 1 0 0 0 0 0 0 0 0 0 0 0 0 0 0 0 0 0 0 0 0 0 0 0 0 0 0 0 1 0 1 0 0 0 0 0 0 0 0 0 0 0 0 0 0 0 0 0 0 0 0 1 0 0 0 0 0 0 0 0 0 0 0 0 0 0 0 0 0 0 0 0 0 0 0 0 0 0 0 0 0 0 0 1 0 0 0 0 0 0 0 0 0 0 0 0 0 0 0 0 0 0 0 0 0 0 0 0 0 0 0 0 0 0 0 0 0 0 0 0 0 0 0 0 0 0 0 0 0 0 0 1 0 0 0 0 0 0 0 0 0 0 0 0 0 0 0 0 0 0 0 0 0 0 0 0 0 0 0 0 0 0 0 0 0 0 0 0 1 0 0 0 0 0 1 0 0 0 0 0 0 0 0 0 0 0 0 0 0 0 0 0 0 0 0 0 0 0 0 0 0 0 0 0 0 0 1 0 0 0 0 0 0 0 0 0 0 0 0 0 0 0 0 0 0 0 0 0 0 0 0 0 0 0 0 0 1 0 0 0 0 0 0 0 0 0 0 0 0 0 0 0 0 0 0 0 0 0 0 0 0 0 0 0 0 0 0 0 0 0 0 0 0 0 0 0 0 0 0 0 0 0 0 0 0 0 0 0 0 0 0 0 0 0 0 0 1 0 0 0 0 0 0 0 0 0 1 0 0 0 0 0 0 0 0 0 0 0 0 1 0 0 0 0 0 0 0 0 0 0 0 0 0 0 0 0 0 0 0 0 0 0 0 0 0 0 0 0 0 0 0 0 0 0 0 0 0 0 0 0 0 0 0 0 0 0 0 0 0 0 0 0 1 0 0 0 0 0 0 0 0 0 0 0 0 0 0 0 0 0 1 0 0 0 0 0 0 0 0 0 0 0 0 0 0 0 0 0 0 1 0 0 0 0 0 0 0 1 0 0 0 0 0 0 0 0 0 0 0 0 0 1 0 0 0 0 0 0 0 0 0 0 0 0 0 0 0 0 0 0 1 0 0 0 0 0 0 0 0 0 0 0 0 0 0 0 0 0 0 0 0 0 0 0 0 0 0 0 0 0 0 0 0 0 0 0 0 0 0 0 0 0 0 0 0 0 0 0 0 0 0 0 0 0 0 1 0 0 0 0 0 0 0 0 0 0 0 0 0 0 0 0 0 0 0 0 0 0 0 0 0 0 0 0 0 0 0 0 0 0 0 0 0 0 0 0 0 0 0 0 0 0 0 0 0 0 0 0 0 0 0 0 0 0 0 0 1 0 0 0 1 0 0 0 0 1 0 0 0 0 0 0 0 0 0 0 0 0 0 0 0 0 0 0 0 0 0 0 0 1 0 0 0 0 0 0 0 0 0 0 0 0 0 0 1 0 0 0 0 0 0 0 0 0 0 0 0 0 0 0 0 0 0 0 0 0 0 0 0 0 0 0 0 0 0 0 0 0 0 0 0 0 0 0 0 0 0 0 0 0 0 0 0 0 1 0 0 0 0 0 0 0 0 0 0 0 0 0 0 0 0 0 0 0 0 0 0 0 0 0 0 0 0 0 0 0 0 0 0 0 0 0 0 0 0 0 1 0 0 0 0 0 0 0 0 0 0 0 0 0 0 0 0 0 0 0 0 0 0 0 0 0 0 0 0 0 0 0 0 0 0 0 0 0 0 0 0 0 0 0 0 0 0 0 0 0 0 0 0 0 0 0 1 0 0 0 0 0 0 0 0 1 0 0 0 0 0 0 0 0 0 1 0 0 0 0 0 0 0 0 0 0 0 0 0 0 0 0 0 0 0 0 0 0 0 0 0 0 0 0 0 0 0 0 0 0 0 0 0 0 0 0 1 0 0 0 0 0 0 0 0 0 0 0 0 0 0 0 0 0 0 0 0 0 0 0 0 0 0 0 0 0 0 0 0 0 0 0 0 0 0 0 0 0 0 0 0 0 0 0 0 0 0 0 0 0 0 0 0 0 0 0 0 0 0 0 0 0 0 0 0 0 0 0 0 0 0 0 0 0 0 0 0 0 0 0 1 0 0 0 0 0 0 0 0 0 0 0 0 0 0 0 0 0 0 0 0 0 0 0 0 0 0 0 0 0 0 0 0 0 0 0 0 0 0 0 0 0 0 0 0 0 0 0 0 0 0 0 0 0 0 0 0 0 0 0 0 0 0 0 0 0 0 0 0 0 0 0 0 0 0 0 0 0 0 0 0 0 0 0 0 0 0 0 0 0 0 0 0 0 0 1 0 0 0 0 0 0 0 0 0 0 0 0 0 0 0 0 0 0 0 0 0 0 0 0 0 1 0 0 0 0 0 0 0 0 0 0 0 0 0 0 0 0 0 0 0 0 0 0 0 0 0 1 0 0 0 0 0 0 0 0 0 0 0 0 0 0 0 0 0 0 0 0 0 0 0 0 0 0 0 0 0 0 0 0 0 0 0 0 0 0 0 0 0 0 0 0 0 0 0 0 0 0 0 0 0 0 0 0 0 0 0 0 0 0 0 0 0 0 0 0 0 0 0 0 0 0 0 0 0 0 0 1 0 0 0 0 0 0 0 0 0 0 0 1 0 1 0 0 0 0 0 0 0 0 1 0 0 0 0 0 0 0 0 1 0 0 0 0 0 0 0 0 0 0 0 1 0 0 0 0 0 0 0 0 0 0 0 0 0 0 0 0 0 0 0 0 0 0 0 0 1 1 0 0 0 0 0 0 0 0 0 0 0 0 0 0 0 0 0 0 0 0 0 0 0 0 0 1 0 0 0 0 0 0 0 0 0 0 0 0 0 0 0 0 0 0 1 0 0 0 0 0 0 0 0 0 0 0 0 0 0 0 0 0 0 0 0 0 0 0 0 0 0 0 0 0 0 0 0 0 0 0 0 0 0 0 0 0 0 0 0 0 0 0 0 0 0 0 0 0 0 0 0 0 0 0 0 0 0 0 0 0 0 0 0 0 0 0 0 0 0 0 0 0 1 0 0 0 0 0 0 0 0 0 0 0 0 0 0 0 0 0 0 0 0 0 0 0 0 0 0 0 0 0 0 0 0 0 0 0 0 0 0 0 0 0 0 0 0 0 1 0 0 0 0 0 0 0 0 0 0 0 0 0 0 0 0 0 0 1 0 0 0 0 0 0 0 0 0 0 1 1 0 0 0 0 0 0 0 0 0 0 0 0 0 0 0 0 0 0 0 0 0 0 0 0 0 0 0 0 0 0 0 0 0 0 0 0 0 0 0 0 0 0 0 0 0 0 0 0 0 0 0 0 0 0 0 0 0 0 0 0 0 0 1 0 0 0 0 0 0 0 0 0 0 0 0 0 0 0 0 0 0 0 0 0 0 0 1 0 0 0 0 0 0 0 0 0 0 0 2 0 0 0 0 0 0 0 0 0 0 0 0 0 0 0 0 0 0 0 0 0 0 0 0 0 0 0 0 0 0 0 0 0 1 0 0 0 0 0 0 0 0 0 0 0 0 0 0 1 0 1 0 0 1 0 0 0 0 0 0 0 0 0 0 0 0 0 0 0 0 0 0 0 0 1 0 0 0 0 0 0 0 0 0 0 0 0 0 0 0 0 0 0 0 0 0 0 0 0 0 0 0 0 0 0 0 0 0 0 0 0 0 0 0 0 0 0 0 0 0 1 0 0 0 0 0 0 0 0 0 0 0 0 0 0 0 0 0 0 0 0 0 0 1 0 0 0 0 0 0 0 0 0 0 0 0 0 0 0 0 0 0 0 0 0 0 0 0 0 0 0 0 0 0 0 0 0 0 0 1 0 0 0 0 0 0 0 0 0 0 0 0 0 0 0 0 0 0 0 0 0 0 0 0 0 0 1 0 1 0 0 1 0 0 1 0 0 0 0 0 0 0 0 0 0 0 0 0 1 0 0 0 0 0 0 0 0 0 0 0 0 0 0 0 0 0 0 0 0 0 0 0 0 0 0 0 0 0 0 0 0 0 0 0 0 0 0 0 0 0 0 0 1 0 0 0 0 0 0 0 0 0 0 0 0 0 0 0 0 0 0 0 0 0 0 0 0 0 0 0 0 0 0 0 0 0 0 0 0 0 0 0 0 0 0 0 0 0 0 0 0 0 0 0 0 0 0 0 0 0 0 0 0 0 0 0 0 0 0 0 0 0 0 0 0 0 0 0 0 0 0 0 0 0 0 0 0 0 0 0 0 0 0 0 0 0 0 0 0 0 0 0 0 0 0 0 0 0 0 0 0 0 0 0 0 0 0 0 0 0 0 0 0 0 0 0 0 0 0 0 0 0 0 1 0 0 0 0 0 0 0 0 0 0 0 0 0 0 0 0 0 0 0 0 0 0 0 0 0 0 0 0 0 0 0 0 0 0 0 0 0 0 0 0 0 0 0 0 0 0 0 0 0 0 0 0 0 0 0 0 0 0 0 0 1 0 0 0 0 0 0 0 0 0 1 0 0 0 0 0 0 0 0 0 0 0 0 0 0 0 0 0 0 0 0 0 0 0 0 0 0 1 0 0 0 0 0 0 0 0 0 0 0 0 0 0 0 0 0 0 0 0 0 0 0 0 0 0 0 0 0 0 0 0 0 0 0 0 0 0 0 0 0 0 0 0 0 0 0 0 0 0 0 0 0 0 0 0 0 0 0 0 0 0 0 0 0 0 0 0 0 0 0 0 0 0 0 0 0 0 1 1 1 0 0 0 0 0 0 0 0 0 0 0 0 0 0 0 0 0 0 0 0 0 0 0 0 0 0 0 0 0 0 0 0 0 0 0 0 0 0 0 0 0 0 0 0 0 0 0 0 0 0 0 0 0 0 0 0 0 0 0 0 0 0 0 0 0 0 0 0 0 0 0 0 0 0 0 0 0 0 0 0 0 0 0 0 0 0 0 0 0 0 0 0 0 0 0 0 0 0 0 0 0 0 0 0 1 0 0 0 0 0 0 0 0 0 0 0 0 0 0 0 0 0 0 0 0 0 0 1 0 0 0 0 0 0 0 0 0 0 0 0 0 0 0 0 0 0 0 0 0 0 0 0 1 0 0 0 0 1 0 0 0 0 0 0 0 0 0 1 0 0 0 0 0 0 1 0 0 0 1 0 0 0 1 0 0 0 0 0 0 0 0 0 0 0 0 0 0 0 0 0 0 0 0 0 1 0 0 0 0 0 0 0 0 0 0 0 1 0 0 0 0 0 0 0 0 0 0 0 0 0 0 0 0 0 0 0 0 0 0 0 0 1 0 0 0 0 0 0 0 0 0 0 0 0 0 0 1 1 0 0 0 0 0 0 0 0 0 0 0 0 0 0 0 0 0 0 0 0 0 0 0 0 0 0 0 0 0 0 0 0 0 0 0 0 0 0 0 0 0 0 0 0 0 0 0 0 0 0 0 0 0 0 0 0 0 0 0 0 0 0 0 0 0 0 0 0 1 0 0 0 0 0 0 0 0 0 0 0 0 0 0 0 0 1 0 0 0 0 0 0 0 0 0 0 0 0 0 0 0 0 0 0 0 0 0 0 0 0 0 0 0 0 0 1 2 0 0 0 0 0 0 0 0 0 0 0 0 0 0 0 0 0 1 0 0 0 0 0 0 0 0 0 0 0 0 0 0 0 0 0 0 0 0 0 0 0 0 0 1 0 0 0 0 0 1 0 0 0 0 0 0 0 0 0 0 0 0 1 0 0 0 0 0 0 1 0 0 0 0 0 0 0 0 0 0 0 0 0 0 0 0 0 0 0 0 0 0 0 0 1 0 0 0 0 0 0 0 0 0 0 0 0 0 0 0 0 0 0 0 1 1 0 0 0 0 0 0 0 0 0 0 0 0 0 0 0 0 0 0 0 0 0 0 0 0 0 0 0 0 0 0 0 0 0 0 0 0 0 1 0 0 0 0 0 0 0 0 0 0 0 0 0 0 0 0 0 0 0 0 0 0 0 0 0 0 0 0 0 0 0 0 0 0 0 0 0 0 0 0 0 0 0 0 0 0 0 0 0 0 0 0 0 0 0 0 0 0 0 0 0 0 0 0 0 0 0 0 0 0 0 0 0 0 0 0 0 0 0 0 0 0 0 0 0 0 0 0 0 0 0 0 0 0 0 0 0 0 0 0 0 0 0 0 0 0 0 0 0 0 0 0 0 0 0 0 0 0 0 0 0 0 0 1 0 0 0 0 1 0 0 0 0 0 0 0 0 0 0 0 0 0 0 0 0 0 0 0 0 0 0 0 0 1 0 0 0 0 0 0 0 0 0 0 0 0 0 0 0 0 0 0 0 0 0 0 0 0 0 0 0 1 0 0 0 0 0 0 0 0 0 0 0 0 0 0 0 0 0 0 0 0 0 0 0 0 0 0 0 0 0 0 0 0 0 0 0 0 0 0 0 0 0 0 0 0 0 0 0 0 0 0 0 0 0 0 0 0 0 0 0 0 0 0 0 0 0 0 0 0 0 0 0 0 0 0 0 0 0 0 0 0 1 0 0 0 0 0 1 0 0 0 0 0 0 0 0 0 0 0 0 0 0 0 0 0 0 0 0 0 0 0 0 0 0 0 0 0 0 0 0 0 0 0 0 0 0 0 0 0 0 0 0 0 0 0 0 0 0 0 0 1 0 0 0 0 0 0 0 0 0 1 0 0 0 0 0 0 0 0 0 0 0 0 0 0 0 0 0 0 0 0 0 0 0 1 0 0 0 0 0 0 0 0 0 0 0 0 0 0 0 0 0 0 0 0 0 0 0 0 0 0 0 0 0 0 0 0 0 0 0 0 0 0 0 0 0 0 0 0 0 0 0 0 0 0 0 0 0 0 0 0 0 0 0 1 0 0 0 0 0 0 0 0 0 0 0 0 0 0 0 0 0 0 1 0 0 0 0 0 0 0 0 1 0 0 0 0 0 0 0 0 0 0 0 0 0 0 0 0 0 0 0 0 0 0 0 0 0 1 0 0 0 0 0 0 0 0 0 0 0 0 0 0 0 0 0 0 0 0 0 0 0 0 1 0 0 0 0 0 0 0 0 0 0 0 0 0 0 0 0 0 0 0 0 0 0 0 0 0 0 1 0 0 0 0 0 0 0 0 0 1 0 0 0 0 0 0 0 0 0 0 0 0 0 0 0 0 0 0 0 0 0 0 0 0 0 0 0 0 0 0 0 0 0 0 0 0 0 0 0 0 0 0 0 0 0 0 0 0 0 0 0 0 0 0 0 0 0 0 0 1 0 0 0 0 0 0 0 0 0 0 0 0 0 0 0 0 0 0 0 0 0 0 0 0 0 0 0 0 0 0 1 0 0 0 0 0 0 0 0 0 0 0 0 0 0 0 0 0 0 0 0 0 0 0 0 0 0 0 0 0 0 0 0 0 0 1 0 0 0 0 0 0 0 0 0 0 0 0 0 0 0 1 0 0 0 0 0 0 0 0 0 0 0 0 0 0 0 0 0 0 0 0 0 0 0 0 0 0 1 0 0 0 0 0 0 0 0 1 0 0 0 0 0 0 0 0 0 0 0 0 0 0 0 0 1 0 0 0 0 0 0 0 0 0 0 0 0 0 1 0 0 0 0 0 0 0 0 0 0 0 0 0 0 0 1 0 0 0 0 0 0 2 0 0 0 0 0 0 0 0 0 0 0 1 0 0 0 0 0 0 0 0 0 0 0 0 0 0 0 0 0 0 0 0 0 0 0 0 0 0 0 0 0 0 0 0 0 0 0 0 0 0 0 0 0 0 0 0 0 0 0 0 0 0 0 0 0 0 0 0 0 0 0 0 0 0 0 0 0 0 0 0 0 0 0 0 0 0 0 0 0 0 0 0 0 0 0 0 0 0 0 0 0 0 0 0 0 0 0 0 0 0 0 0 0 0 0 0 0 0 0 0 0 0 0 0 0 0 0 0 0 0 0 0 0 0 0 0 0 0 0 0 0 0 0 0 0 0 0 0 0 0 0 0 0 0 0 0 1 0 1 0 0 0 0 0 0 0 0 0 0 0 0 0 0 0 0 0 0 0 0 0 0 0 0 0 0 0 0 0 0 0 0 0 0 0 0 0 0 0 0 0 0 0 0 0 0 0 0 0 0 0 0 0 0 0 0 0 1 0 0 0 0 0 0 0 0 0 0 0 0 0 0 0 0 0 0 0 0 0 0 0 0 0 0 0 0 0 0 0 0 0 0 0 0 0 0 0 1 0 0 0 0 0 0 0 0 0 0 0 0 0 0 0 0 0 0 0 0 0 0 0 0 0 0 0 0 0 0 0 0 0 0 0 0 0 0 0 0 0 0 0 0 0 0 0 0 0 0 1 0 0 0 0 0 0 0 0 0 0 0 0 0 0 0 0 0 0 0 0 0 0 0 0 0 0 0 0 0 0 0 0 0 0 0 0 0 0 0 0 0 0 0 0 0 0 0 0 0 0 0 0 0 0 0 0 1 0 0 0 0 0 0 0 0 0 0 0 0 1 0 0 0 0 0 0 0 0 0 0 0 0 0 0 0 0 0 0 0 0 0 0 1 1 0 1 0 0 0 0 0 0 0 0 0 0 0 0 0 0 0 0 0 0 0 0 0 0 0 0 0 0 0 0 0 0 0 0 0 0 0 0 0 0 0 0 0 0 0 0 0 0 0 0 0 0 0 0 0 0 0 0 0 0 0 0 0 2 0 0 0 0 0 0 0 0 0 0 0 0 0 0 0 0 0 0 0 0 0 1 0 0 0 0 0 0 0 0 0 0 1 0 0 0 0 1 0 0 0 0 0 0 0 0 0 0 0 0 0 0 0 0 1 0 0 0 0 0 1 0 0 0 0 0 0 0 0 0 0 0 0 0 0 0 0 0 0 0 0 0 0 0 0 0 0 0 0 0 0 0 0 0 0 0 0 0 0 0 0 0 0 0 0 0 0 0 0 0 0 0 0 0 0 0 0 0 0 0 0 0 0 0 0 1 0 0 0 0 0 0 0 0 0 0 0 0 0 0 0 0 0 0 0 0 0 0 0 1 0 0 0 0 0 0 0 0 0 0 0 0 0 0 0 0 0 0 0 1 0 0 0 0 0 0 0 0 0 0 0 0 0 0 0 0 0 0 0 0 0 0 0 0 0 0 0 0 0 0 0 1 0 0 0 0 0 0 0 0 0 0 0 0 0 1 0 0 0 0 0 0 0 0 1 0 0 0 0 0 0 0 0 0 1 0 0 0 0 0 0 0 0 0 0 0 0 0 0 0 0 0 0 0 0 0 0 0 0 0 0 0 0 1 0 0 0 0 1 0 0 0 0 0 1 0 1 0 0 0 0 0 0 0 0 0 0 0 0 0 0 0 2 0 0 0 0 0 0 0 0 0 0 0 0 0 0 0 0 0 0 0 0 0 0 0 0 0 0 0 0 0 0 0 0 0 0 0 0 0 0 0 0 0 0 0 0 0 0 0 1 0 0 0 0 0 0 1 0 0 0 0 0 0 0 0 0 0 0 0 0 0 0 0 0 0 0 1 0 0 0 0 0 0 0 0 0 0 0 0 0 0 0 0 0 0 0 0 0 0 0 0 0 0 0 0 0 0 0 0 0 0 0 0 0 0 0 0 0 0 0 0 0 0 0 0 0 0 0 0 0 0 0 0 0 0 0 0 0 0 0 0 0 0 0 0 0 0 0 0 0 0 0 0 0 0 0 0 0 0 0 0 0 0 0 0 0 0 0 0 0 0 0 0 0 0 0 0 0 0 0 0 0 0 0 0 0 0 0 0 0 0 0 0 0 0 0 0 0 0 0 0 0 0 0 0 0 0 0 0 0 0 0 0 0 0 0 0 0 0 0 0 0 0 0 0 0 0 0 0 0 0 0 0 0 0 0 0 0 0 0 0 1 0 0 0 0 0 0 0 0 0 0 0 0 0 0 0 0 0 0 0 0 0 0 0 0 0 0 0 0 0 0 0 0 0 0 0 0 0 0 0 0 0 0 0 0 0 0 0 0 0 0 0 0 0 0 1 0 0 0 0 0 0 0 0 0 0 0 0 0 0 0 0 0 0 0 0 0 0 0 0 0 0 0 0 0 0 0 0 0 0 0 0 0 0 0 0 0 0 0 0 0 0 0 0 0 0 0 0 0 0 0 0 0 0 0 1 0 0 0 0 0 0 0 0 0 0 0 0 0 0 0 0 0 0 0 0 0 0 0 0 0 0 0 0 0 0 1 0 0 0 0 0 0 0 0 0 0 0 0 0 0 0 0 0 0 0 0 0 0 0 0 0 0 0 0 0 0 0 0 0 0 0 0 0 0 0 0 0 0 0 0 0 0 0 0 0 0 0 0 0 0 0 0 0 0 0 0 0 0 0 0 0 0 0 0 0 0 0 0 0 0 0 0 0 0 0 0 0 0 0 0 0 0 0 0 0 0 0 0 0 0 0 0 0 0 0 0 0 0 0 0 0 0 0 0 0 0 0 0 0 0 0 0 0 0 0 0 0 0 0 0 0 0 0 0 0 0 0 0 0 0'"
            ],
            "application/vnd.google.colaboratory.intrinsic+json": {
              "type": "string"
            }
          },
          "metadata": {},
          "execution_count": 83
        }
      ]
    },
    {
      "cell_type": "markdown",
      "source": [
        "## [BA1L](https://rosalind.info/problems/ba1l/) - Implement PatternToNumber"
      ],
      "metadata": {
        "id": "woViHilqNEll"
      }
    },
    {
      "cell_type": "code",
      "source": [
        "seq = {'A':0, 'C':1, 'G':2, 'T':3} # leksikografski po abecedi\n",
        "def patternToNumber(pattern):\n",
        "  if pattern == \"\": # ako je pattern prazan vrati 0\n",
        "    return 0\n",
        "  k = len(pattern) # duljina stringa\n",
        "  num = 0\n",
        "  for i in range(k): # za svaki i u duljini k\n",
        "   # dodaj za svako slovo koje je po redu u uzorku vrijednost\n",
        "   # puta baza 4 na potenciju k-i-1\n",
        "    num += seq[pattern[i]] * 4**(k-i-1)\n",
        "  return num\n",
        "\n",
        "patternToNumber('AGT')"
      ],
      "metadata": {
        "colab": {
          "base_uri": "https://localhost:8080/"
        },
        "id": "LdU2OAgXNQlU",
        "outputId": "5872f3f2-a5ea-4217-cc85-ce3cf911e81f"
      },
      "execution_count": 86,
      "outputs": [
        {
          "output_type": "execute_result",
          "data": {
            "text/plain": [
              "11"
            ]
          },
          "metadata": {},
          "execution_count": 86
        }
      ]
    },
    {
      "cell_type": "code",
      "source": [
        "with open(\"rosalind_ba1l.txt\", \"r\") as f:\n",
        "  pattern = f.readline().strip()\n",
        "patternToNumber(pattern)"
      ],
      "metadata": {
        "colab": {
          "base_uri": "https://localhost:8080/"
        },
        "id": "31B8WRyFNbhe",
        "outputId": "13b4c80a-dad3-429a-b32d-80c942edd191"
      },
      "execution_count": 89,
      "outputs": [
        {
          "output_type": "execute_result",
          "data": {
            "text/plain": [
              "11419830533752"
            ]
          },
          "metadata": {},
          "execution_count": 89
        }
      ]
    },
    {
      "cell_type": "markdown",
      "source": [
        "## [BA1M](https://rosalind.info/problems/ba1m/) - Implement NumberToPattern"
      ],
      "metadata": {
        "id": "-qdyiuzwNni8"
      }
    },
    {
      "cell_type": "code",
      "source": [
        "def numberToPattern(index, k):\n",
        "  # pozicija odgovara odredenom broju kojeg cemo pridruziti\n",
        "  bases = ['A', 'C', 'G', 'T']\n",
        "  pattern = '' # spremanje uzorka\n",
        "  for i in range(k): # k iteracija\n",
        "    pattern += bases[index % 4] # u uzorak spremi index iz ostatka\n",
        "    index = index // 4 # smanji index\n",
        "  return pattern[::-1] # obrni ispis\n",
        "numberToPattern(45, 4)"
      ],
      "metadata": {
        "colab": {
          "base_uri": "https://localhost:8080/",
          "height": 36
        },
        "id": "NTQUnV4bNsS3",
        "outputId": "4f6d1436-7100-4b1b-808f-37a3655fb782"
      },
      "execution_count": 90,
      "outputs": [
        {
          "output_type": "execute_result",
          "data": {
            "text/plain": [
              "'AGTC'"
            ],
            "application/vnd.google.colaboratory.intrinsic+json": {
              "type": "string"
            }
          },
          "metadata": {},
          "execution_count": 90
        }
      ]
    },
    {
      "cell_type": "code",
      "source": [
        "with open(\"rosalind_ba1m.txt\", \"r\") as f:\n",
        "  index = int(f.readline().strip())\n",
        "  k = int(f.readline().strip())\n",
        "numberToPattern(index, k)"
      ],
      "metadata": {
        "colab": {
          "base_uri": "https://localhost:8080/",
          "height": 36
        },
        "id": "_X6vMLM7NwtP",
        "outputId": "bd4e7bb3-eeb7-4139-f049-b3fd313c7ecf"
      },
      "execution_count": 91,
      "outputs": [
        {
          "output_type": "execute_result",
          "data": {
            "text/plain": [
              "'AAAACTTATAT'"
            ],
            "application/vnd.google.colaboratory.intrinsic+json": {
              "type": "string"
            }
          },
          "metadata": {},
          "execution_count": 91
        }
      ]
    },
    {
      "cell_type": "markdown",
      "source": [
        "## [BA1N](https://rosalind.info/problems/ba1n/) - Generate the d-Neighborhood of a String"
      ],
      "metadata": {
        "id": "ESDHvWyfN6d2"
      }
    },
    {
      "cell_type": "code",
      "source": [
        "def d_neighbors(pattern, d):\n",
        "  if d == 0: # ako je zadani broj mogucih razlika nula\n",
        "    return pattern # vrati uzorak\n",
        "  if len(pattern) == 1: # ako je duzina uzorka samo jedan znak\n",
        "    return [\"A\", \"C\", \"G\", \"T\"] # vrati baze\n",
        "  neighborhood = set() # skup za spremanje rezultata\n",
        "  # rekurzija koja svaki put smanjiva pattern za 1 znak\n",
        "  suffixNeighbors = d_neighbors(pattern[1:], d)\n",
        "  for suffix in suffixNeighbors: # za svaki dobiveni suffix\n",
        "    # ako je broj razlika manja od 1 izmedu uzorka i suffixa\n",
        "    if hammingDistance(pattern[1:], suffix) < d:\n",
        "      for nucleotide in [\"A\", \"C\", \"G\", \"T\"]: # za svaku nukleotidu\n",
        "        neighborhood.add(nucleotide + suffix) # dodaj nukleotida + suffix\n",
        "    # inace\n",
        "    else:\n",
        "      # uzmi od prvog elementa i dodaj sufix\n",
        "      neighborhood.add(pattern[0] + suffix)\n",
        "  return neighborhood\n",
        "\n",
        "def print_neighbors(pattern, d):\n",
        "  ans = d_neighbors(pattern, d)\n",
        "  if d == 0:\n",
        "    return ans\n",
        "  return '\\n'.join(ans)\n",
        "\n",
        "print_neighbors('ACG', 1)"
      ],
      "metadata": {
        "colab": {
          "base_uri": "https://localhost:8080/",
          "height": 36
        },
        "id": "9m_9Wm3xN5W7",
        "outputId": "119c1ac2-2eac-4222-ab00-4422cf9ac8e0"
      },
      "execution_count": 92,
      "outputs": [
        {
          "output_type": "execute_result",
          "data": {
            "text/plain": [
              "'TCG\\nACG\\nCCG\\nGCG\\nATG\\nAGG\\nAAG\\nACA\\nACT\\nACC'"
            ],
            "application/vnd.google.colaboratory.intrinsic+json": {
              "type": "string"
            }
          },
          "metadata": {},
          "execution_count": 92
        }
      ]
    }
  ]
}