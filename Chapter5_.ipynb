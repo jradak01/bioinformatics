{
  "nbformat": 4,
  "nbformat_minor": 0,
  "metadata": {
    "colab": {
      "provenance": []
    },
    "kernelspec": {
      "name": "python3",
      "display_name": "Python 3"
    },
    "language_info": {
      "name": "python"
    }
  },
  "cells": [
    {
      "cell_type": "markdown",
      "source": [
        "# Chapter5"
      ],
      "metadata": {
        "id": "X8uVXskEXxdj"
      }
    },
    {
      "cell_type": "code",
      "source": [
        "from google.colab import drive\n",
        "drive.mount('drive')"
      ],
      "metadata": {
        "colab": {
          "base_uri": "https://localhost:8080/"
        },
        "id": "JEQjI2ksXKse",
        "outputId": "54da14a6-30c4-4d91-ab9c-dc0f9bb0ff11"
      },
      "execution_count": null,
      "outputs": [
        {
          "output_type": "stream",
          "name": "stdout",
          "text": [
            "Mounted at drive\n"
          ]
        }
      ]
    },
    {
      "cell_type": "code",
      "source": [
        "%cd /content/drive/MyDrive/bioinf/podaci"
      ],
      "metadata": {
        "colab": {
          "base_uri": "https://localhost:8080/"
        },
        "id": "zxjHroVyXMSI",
        "outputId": "4050b1f3-b011-426b-dc76-3c6667a18210"
      },
      "execution_count": null,
      "outputs": [
        {
          "output_type": "stream",
          "name": "stdout",
          "text": [
            "/content/drive/MyDrive/bioinf/podaci\n"
          ]
        }
      ]
    },
    {
      "cell_type": "code",
      "source": [
        "from math import inf\n",
        "from copy import deepcopy\n",
        "from collections import defaultdict\n",
        "from math import floor # zaokruzivanje\n",
        "from itertools import product # komb"
      ],
      "metadata": {
        "id": "DQ8o4xKHYM72"
      },
      "execution_count": null,
      "outputs": []
    },
    {
      "cell_type": "code",
      "source": [
        "fp = open(\"/content/drive/MyDrive/bioinf/zadatak/blosum62.scoring\", \"r\")\n",
        "scores = [x.strip(\"\\n\") for x in fp.readlines()] # razdvoji redove iz datoteke\n",
        "Scores = {} # rjecnik\n",
        "names = scores[0].split() # razdvoji prvi red sa samim slovima - niz\n",
        "# za svaku liniju (element liste) od prvog elementa (prvi je names)\n",
        "for line in scores[1:]:\n",
        "  tmp = line.split() # razdvoji elemenete u liniji\n",
        "  letter = tmp[0] # nulti element jer je slovo\n",
        "  # sada od ostatka linije, pretvori ih u brojeve\n",
        "  scoring = [int(x) for x in tmp[1:]]\n",
        "  # u rjecnik za kljuc postavi slovo iz linije, a za vrijednosti\n",
        "  # kombinaciju slova  iz names te score na poziciji iz scoring\n",
        "  Scores[letter] = {k: v for k, v in zip(names, scoring)}\n",
        "# Scores # matica za oznakama redaka kao kljucevima i stupaca u obliku rjecnika"
      ],
      "metadata": {
        "id": "1kQgmomyZokz"
      },
      "execution_count": null,
      "outputs": []
    },
    {
      "cell_type": "code",
      "source": [
        "fp2 = open(\"/content/drive/MyDrive/bioinf/zadatak/pam250.scoring\", \"r\")\n",
        "scores2 = [x.strip(\"\\n\") for x in fp2.readlines()] # razdvoji redove iz datoteke\n",
        "Scores2 = {} # rjecnik\n",
        "names2 = scores2[0].split() # razdvoji prvi red sa samim slovima - niz\n",
        "# za svaku liniju (element liste) od prvog elementa (prvi je names)\n",
        "for line in scores2[1:]:\n",
        "  tmp = line.split() # razdvoji elemenete u liniji\n",
        "  letter = tmp[0] # nulti element jer je slovo\n",
        "  # sada od ostatka linije, pretvori ih u brojeve\n",
        "  scoring = [int(x) for x in tmp[1:]]\n",
        "  # u rjecnik za kljuc postavi slovo iz linije, a za vrijednosti\n",
        "  # kombinaciju slova  iz names te score na poziciji iz scoring\n",
        "  Scores2[letter] = {k: v for k, v in zip(names2, scoring)}\n",
        "# Scores # matica za oznakama redaka kao kljucevima i stupaca u obliku rjecnika"
      ],
      "metadata": {
        "id": "ArYhnBbRiVtD"
      },
      "execution_count": null,
      "outputs": []
    },
    {
      "cell_type": "markdown",
      "source": [
        "#    "
      ],
      "metadata": {
        "id": "mR0eCks2XzyY"
      }
    },
    {
      "cell_type": "markdown",
      "source": [
        "## [BA5A](https://rosalind.info/problems/ba5a/) - Find the Minimum Number of Coins Needed to Make Change"
      ],
      "metadata": {
        "id": "H2wCysvT_sE5"
      }
    },
    {
      "cell_type": "code",
      "source": [
        "def dpChangeMoney(money, coins):\n",
        "  minnumcoins = (money + 1) * [0] # lista samih nula -> za jedan broj veca\n",
        "  for m in range(1, money + 1): # za svaki m od jedan do money\n",
        "    # dovoljno m al moze i infinity, al m je dosta jer necemo ici\n",
        "    # preko m npr za 8 najgori slucaj je 8 ->popunimo sve jedinicima\n",
        "    # zato u svaki stavljamo za vrijednost i index\n",
        "    minnumcoins[m] = m\n",
        "    for coin in coins: # za svaki novcic u novcicima\n",
        "      # ne isplati nam se gledat koine vece od m\n",
        "      if m >= coin: # ako je m veci ili jednak novcicu\n",
        "        # ako je najmanji broj novcica od m-coin pozicije manji od vrijednosti\n",
        "        # na poziciji m\n",
        "        if minnumcoins[m - coin] < minnumcoins[m]:\n",
        "          # postavi da je potrebni broj novcica od te pozicije plus 1\n",
        "          minnumcoins[m] = minnumcoins[m - coin] + 1\n",
        "          # print(minnumcoins)\n",
        "  # vrati najmanji broj novcica za odredenu poziciju\n",
        "  return minnumcoins[money]\n",
        "ans = dpChangeMoney(40, [1,5,10,20,25,50])\n",
        "print(ans)\n",
        "check(ans, 2)"
      ],
      "metadata": {
        "id": "NWChSvrZAE6u",
        "colab": {
          "base_uri": "https://localhost:8080/"
        },
        "outputId": "3d907ac0-58dc-4bd7-c206-01fce0a52b71"
      },
      "execution_count": null,
      "outputs": [
        {
          "output_type": "stream",
          "name": "stdout",
          "text": [
            "2\n"
          ]
        },
        {
          "output_type": "execute_result",
          "data": {
            "text/plain": [
              "True"
            ]
          },
          "metadata": {},
          "execution_count": 23
        }
      ]
    },
    {
      "cell_type": "code",
      "source": [
        "with open(\"rosalind_ba5a.txt\", \"r\", encoding='utf-8') as f:\n",
        "  inlines = [x.strip(\"\\n\") for x in f.readlines()]\n",
        "  money = int(inlines[0])\n",
        "  coins = [int(x) for x in inlines[1].split(\",\")]\n",
        "res = dpChangeMoney(money, coins)\n",
        "res"
      ],
      "metadata": {
        "colab": {
          "base_uri": "https://localhost:8080/"
        },
        "id": "4h5_0H9cwGcw",
        "outputId": "00da5e65-3a00-42da-a8a5-4ad5b40a9bea"
      },
      "execution_count": null,
      "outputs": [
        {
          "output_type": "execute_result",
          "data": {
            "text/plain": [
              "825"
            ]
          },
          "metadata": {},
          "execution_count": 24
        }
      ]
    },
    {
      "cell_type": "markdown",
      "source": [
        "## [BA5B](https://rosalind.info/problems/ba5b/) - Find the Length of a Longest Path in a Manhattan-like Grid"
      ],
      "metadata": {
        "id": "5h5pIUEU_vLT"
      }
    },
    {
      "cell_type": "code",
      "source": [
        "# n predstavlja koliko se moramo pomaknuti dolje, a m prema desno\n",
        "# matrica down sadrzi tezine rubova prema dolje\n",
        "# matrica right tezine rubova prema desno\n",
        "def manhattantourist(n, m, down, right):\n",
        "  s = [] # nova matrica tezina\n",
        "  # ako je m = 4 i n = 4 -> matrica 5*5\n",
        "  for i in range(n + 1): # u rasponu od 0 do n + 1 -> za 4 -> 5\n",
        "    s.append((m + 1) * [0]) # nadodaj m + 1 mjesto -> za 4 -> 5\n",
        "  # za sva lijeva mjesta (u svakom redu prvo mjesto dodaj udaljenost do njega)\n",
        "  for i in range(1, n + 1):\n",
        "    # za prvu poziciju u i-tom redu na vrijednost prijašnje pozicije\n",
        "    # nadodaj vrijednost ruba koji vodi do njega\n",
        "    s[i][0] = s[i - 1][0] + down[i - 1][0] # rubovi\n",
        "  # za prvi red dodaj udaljenosti do svakog elementa u redu\n",
        "  for j in range(1, m + 1):\n",
        "    # za svaki element prvog reda na vrijednost prijašnjeg elementa u redu\n",
        "    # nadodaj vrijednost ruba koji vodi do njega\n",
        "    s[0][j] = s[0][j - 1] + right[0][j - 1] # rubovi\n",
        "  # za svaki red osim nultog pa do kraja\n",
        "  for i in range(1, n + 1):\n",
        "    # za svaki stupac osim nultog pa do kraja\n",
        "    for j in range(1, m + 1):\n",
        "      # za svaku poziciju u matrici pronadi maksimum\n",
        "      # izmedu dolaska od gore i od desno\n",
        "      s[i][j] = max(s[i - 1][j] + down[i - 1][j], s[i][j - 1] + right[i][j - 1])\n",
        "  # vrati trazenu poziciju iz matrice\n",
        "  return s[n][m]\n",
        "\n",
        "ans = manhattantourist(4, 4, [[1, 0, 2, 4, 3],\n",
        "                              [4, 6, 5, 2, 1],\n",
        "                              [4, 4, 5, 2, 1],\n",
        "                              [5, 6, 8, 5, 3]],\n",
        "                             [[3, 2, 4, 0],\n",
        "                              [3, 2, 4, 2],\n",
        "                              [0, 7, 3, 3],\n",
        "                              [3, 3, 0, 2],\n",
        "                              [1, 3, 2, 2]])\n",
        "\n",
        "print(ans)"
      ],
      "metadata": {
        "colab": {
          "base_uri": "https://localhost:8080/"
        },
        "id": "0x6WLkZCYgIN",
        "outputId": "623ffb0e-8f74-4db3-945a-c64994267768"
      },
      "execution_count": null,
      "outputs": [
        {
          "output_type": "stream",
          "name": "stdout",
          "text": [
            "34\n"
          ]
        }
      ]
    },
    {
      "cell_type": "code",
      "source": [
        "with open(\"rosalind_ba5b.txt\", \"r\", encoding='utf-8') as f:\n",
        "  inlines = [x.strip(\"\\n\") for x in f.readlines()]\n",
        "  n, m = [int(x) for x in inlines[0].split()]\n",
        "  down = []\n",
        "  right = []\n",
        "  for i in range(n):\n",
        "    down.append([int(x) for x in inlines[1 + i].split()])\n",
        "  for i in range(n + 1):\n",
        "    right.append([int(x) for x in inlines[n + 2 + i].split()])\n",
        "\n",
        "res = manhattantourist(n, m, down, right)\n",
        "res"
      ],
      "metadata": {
        "colab": {
          "base_uri": "https://localhost:8080/"
        },
        "id": "wpS9m-5lYiYt",
        "outputId": "220badbe-4af0-4263-8b71-9a3dcb379f9b"
      },
      "execution_count": null,
      "outputs": [
        {
          "output_type": "execute_result",
          "data": {
            "text/plain": [
              "96"
            ]
          },
          "metadata": {},
          "execution_count": 5
        }
      ]
    },
    {
      "cell_type": "markdown",
      "source": [
        "## [BA5C](https://rosalind.info/problems/ba5c/) - Find a Longest Common Subsequence of Two Strings"
      ],
      "metadata": {
        "id": "eSY-DS5P4F-r"
      }
    },
    {
      "cell_type": "code",
      "source": [
        "# 2. nacin\n",
        "def longest_common_subsequence(s1, s2):\n",
        "  # m - rjecnik koji predstavlja matricu bodova za poravnanje\n",
        "  # kljucevi u rječniku su parovi (j, i) koji označavaju koordinatu u matrici\n",
        "  # j je indeks za s2 (redak) i i indeks za s1 (stupac)\n",
        "  # vrijednosti u rjecniku predstavljaju bodove za odredenu poziciju u matrici\n",
        "  # p - rjecnik  koji predstavlja putanju u matrici bodova\n",
        "  # kljucevi u rjecniku su isti parovi (j, i) kao u rjecniku m\n",
        "  # a vrijednosti predstavljaju smjer kretanja pri izgradnji poravnanja\n",
        "  m, p = {}, {}\n",
        "  for j in range(len(s2) + 1): # u duzini drugog stringa (visina matrice) +1\n",
        "    m[j, 0] = 0 # u nulti stupac postavi nule\n",
        "    p[j, 0] = \"up\" # u nulti stupac postavi da se mozemo samo popet\n",
        "  for i in range(len(s1) + 1): # u duzini prvog stringa (sirina matrice) +1\n",
        "      m[0, i] = 0 # u nulti redak postavi nule\n",
        "      p[0, i] = \"left\" # u nulti red postavi da se samo mozemo kretat lijevo\n",
        "  # u petljama for prolazimo kroz sve pozicije u matrici bodova,\n",
        "  # osim pocetne pozicije.\n",
        "  for j in range(len(s2)):\n",
        "    for i in range(len(s1)):\n",
        "      if s1[i] == s2[j]:\n",
        "        opt = [\n",
        "            # na trenutnu poziciju u matrici (rjecniku) bodovanja\n",
        "            m[j + 1, i], # od pozicije lijevo\n",
        "            m[j, i + 1], # od pozicije povise\n",
        "            m[j, i] + 1, # od pozicije gore-lijevo +1\n",
        "        ]\n",
        "      else:\n",
        "        opt = [\n",
        "             # na trenutnu poziciju u matrici (rjecniku) bodovanja\n",
        "             m[j + 1, i], # od pozicije lijevo\n",
        "             m[j, i + 1], # od pozicije povise\n",
        "             m[j, i] # od pozicije gore-lijevo\n",
        "            ]\n",
        "      m[j + 1, i + 1] = max(opt) # u m na trenutnu poziciju postavi maksimum opt\n",
        "      # u p postavi smjer koji to predstavlja\n",
        "      p[j + 1, i + 1] = [\"left\", \"up\", \"up-left\"][opt.index(max(opt))]\n",
        "  ss = \"\"\n",
        "  i, j = len(s1), len(s2)\n",
        "  while i > 0 or j > 0: # dok i j nisu nula (krecemo od donjeg desnog kuta)\n",
        "    if p[j, i] == \"up-left\": # ako je na trenutnoj poziciji gore-lijevo\n",
        "      ss += s1[i - 1] # u string nadodaj i-1 el. stringa 1\n",
        "      j, i = j - 1, i - 1 # pomakni se u matrici gore-lijevo\n",
        "    elif p[j, i] == \"left\": # ako je lijevo na trenutnoj poziciji\n",
        "      i = i - 1 # pomakni se lijevo\n",
        "    elif p[j, i] == \"up\": # ako je gore na poziciji\n",
        "      j = j - 1 # pomakni se gore\n",
        "  return ss[::-1] # vrati obrnuti string jer smo krenuli iz donjeg desnog kuta\n",
        "ans = longest_common_subsequence('AACCTTGG', 'ACACTGTGA')\n",
        "ans"
      ],
      "metadata": {
        "colab": {
          "base_uri": "https://localhost:8080/",
          "height": 36
        },
        "id": "SVNeCDxQY66T",
        "outputId": "5487d025-8f9a-4d81-e4ea-f3d372f157bf"
      },
      "execution_count": null,
      "outputs": [
        {
          "output_type": "execute_result",
          "data": {
            "text/plain": [
              "'AACTTG'"
            ],
            "application/vnd.google.colaboratory.intrinsic+json": {
              "type": "string"
            }
          },
          "metadata": {},
          "execution_count": 6
        }
      ]
    },
    {
      "cell_type": "code",
      "source": [
        "with open(\"rosalind_ba5c.txt\", \"r\", encoding='utf-8') as f:\n",
        "  inlines = [x.strip(\"\\n\") for x in f.readlines()]\n",
        "  s = inlines[0]\n",
        "  t = inlines[1]"
      ],
      "metadata": {
        "id": "pN6HuniBY80d"
      },
      "execution_count": null,
      "outputs": []
    },
    {
      "cell_type": "code",
      "source": [
        "longest_common_subsequence(s, t)"
      ],
      "metadata": {
        "colab": {
          "base_uri": "https://localhost:8080/",
          "height": 72
        },
        "id": "MpK3GGixZJDD",
        "outputId": "91ac89d5-42d1-40d1-8fb8-5fc7c228c377"
      },
      "execution_count": null,
      "outputs": [
        {
          "output_type": "execute_result",
          "data": {
            "text/plain": [
              "'TTGGCCTGATCATGGAGGCTTCCCTCGGTATGGATTGCCCAAAGCATCGATGCCCCGCTCCGGGGGCCTTGGGCCCCCGCTGGAGGCAATCGTTTCAGCAATCGTATGGACCCCCCGCATAACGTCCATGGTTTGTACTCCGCCAATAGCACTGGAACTAATCCGCACACCTTCTATCGGGCGAGGGTTTGGTGATCTCTAATTGGGACCCCTGCGAAAGTAGTCCTCTGAGCATATCGTTCCTACGCCATCGCACGCCCTTCAGCAACGGGCAAGTTGTTTATTTATATCTGTGGTGCAGGGCGTTCCAACCTGTACGGAGTCGCGGCTCCAAGGTTTGGTCTGGGGAGATATTATCATCGGTAAGGTCTCTGGTGGGGGACACGAGACCCCAGAGCCTGCAAAGTGGTGTCGACGAGTCTGCGAGATTCAGCCTTCCCCTAGGACGATAGTTCAGGCCGCAGCCGATCGCATCGCTGGGGCGATGGAAGGCTCTTCGAGCAAAATTCGGTCCCATGACTCAGATAAGAAAAGGATATTATCACCGGCATTGCTTACTTTGTCTGTTTCCC'"
            ],
            "application/vnd.google.colaboratory.intrinsic+json": {
              "type": "string"
            }
          },
          "metadata": {},
          "execution_count": 8
        }
      ]
    },
    {
      "cell_type": "markdown",
      "source": [
        "## [BA5D](https://rosalind.info/problems/ba5d/) - Find the Longest Path in a DAG"
      ],
      "metadata": {
        "id": "GKyf45jskVVW"
      }
    },
    {
      "cell_type": "code",
      "source": [
        "def parse_graph(graph):\n",
        "  g = defaultdict(list) # rjecnik koji stvara praznu listu kada ne pronade kljuc\n",
        "  for x in graph: # za svaki element iz liste iz ulaznog grafa\n",
        "    n, o = x.split(\"->\") # n je kljuc (prije strelice), o su vrijednosti iza\n",
        "    # vrijednosti rastavi na cvor sa svojom vrijednosti\n",
        "    node, weight = o.split(\":\")\n",
        "    # nadodaj kljucu ako postoji, ako ne postoji stvara se novi,\n",
        "    # u listu vrijednosti gdje je vrijednost rjecnik za n cvor i za w tezinu\n",
        "    g[n] += [{\"n\": node, \"w\": int(weight)}]\n",
        "  return g # vrati graf (rjecnik)"
      ],
      "metadata": {
        "id": "f7uhJSyGgPd3"
      },
      "execution_count": null,
      "outputs": []
    },
    {
      "cell_type": "code",
      "source": [
        "# incoming prima graf kao ulazni argument i stvara \"obrnuti\" graf\n",
        "# sto su do sada bili kljucevi, sada postaju vrijednosti, a vrijednosti kljucevi\n",
        "def incoming(graph):\n",
        "  x = defaultdict(list) # rjecnik koji predstavlja obrnuti graf\n",
        "  k = list(graph.keys()) # lista kljuceva grafa\n",
        "  # na listu kljuceva iz grafa nadodaj cvorove iz vrijednosti\n",
        "  k += [x[\"n\"] for v in graph.values() for x in v]\n",
        "  for g in list(set(k)): # za svaki ne duplicirani cvor iz liste cvorova\n",
        "    for node in graph[g]:\n",
        "      # postavi kao kljuc cvor iz vrijednosti rjecnika grafa, a\n",
        "      # vrijednosti uz originalnu tezinu, cvor iz neponavljajucih kljuceva\n",
        "      x[node[\"n\"]] += [{\"n\": g, \"w\": node[\"w\"]}]\n",
        "  return x"
      ],
      "metadata": {
        "id": "nTzneaSDf5qE"
      },
      "execution_count": null,
      "outputs": []
    },
    {
      "cell_type": "code",
      "source": [
        "# cvorovi koji nemaju rubove koji vode do njih\n",
        "def sources(graph):\n",
        "  inc = incoming(graph) # preokreni graf\n",
        "  # vrati listu elemenata ako nemaju vrijednosti u grafu\n",
        "  return [g for g in graph if len(inc[g]) == 0]"
      ],
      "metadata": {
        "id": "xaZxQNh9f-8_"
      },
      "execution_count": null,
      "outputs": []
    },
    {
      "cell_type": "code",
      "source": [
        "def topological_order(graph):\n",
        "  graph = deepcopy(graph) # stvori duboku kopiju niza\n",
        "  order = [] # redosljed lista\n",
        "  candidates = sources(graph) # prvi kandidat u grafu\n",
        "  while candidates: # dok ima kandidata\n",
        "    n = candidates[0] # uzmi prvog s reda kandidata\n",
        "    order.append(n) # nadodaj ga u niz\n",
        "    candidates.remove(n) # ukloni kandidata iz kandidata\n",
        "    graph[n] = [] # ukloni vrijednosti iz grafa za cvor n\n",
        "    # kandidati su izvori koji ne postoje u skupu liste poretka\n",
        "    candidates = list(set(sources(graph)) - set(order))\n",
        "  return order # vrati poredak\n"
      ],
      "metadata": {
        "id": "BDN5HmNIgFX2"
      },
      "execution_count": null,
      "outputs": []
    },
    {
      "cell_type": "code",
      "source": [
        "# racuna najduzi put u usmjerenom grafu od izvora (src) do cilja (sink)\n",
        "# prima graf, izvor i cilj\n",
        "# dinamicko programiranje\n",
        "def longest_path(graph, src, sink):\n",
        "  src = str(src) # izvor pretvori u string\n",
        "  sink = str(sink) # dubinu pretvori u string\n",
        "  score = {} # rjecnik za spremanje rezultata\n",
        "  # inicijalna vrijednost su prazne liste,\n",
        "  # a sadrzavat ce putanje od izvora do svakog cvora u grafu.\n",
        "  path = defaultdict(list) # put\n",
        "  for node in graph: # za svaki cvor u grafu (kljuc u rjecniku)\n",
        "    # postavi rezltat za cvor iz grafa na najmanju mogucu vrijednost\n",
        "    score[node] = -inf\n",
        "  # postavi da je rezultat od izvora 0\n",
        "  # jer je duljina puta od izvora do izvora 0\n",
        "  score[src] = 0\n",
        "  path[src] = [src] # postavljanje pocetnog cvora putanje za izvor u path\n",
        "  # kako bi se dobila veza od svakog cvora prema njegovim dolaznim cvorovima\n",
        "  inc = incoming(graph) # obrni kljuceve i vrijendosti\n",
        "  order = topological_order(graph) # vrati topoloksi redosljed\n",
        "  # iterriraj po cvorovima u redosljedu od cvora nakon izvora pa do kraja\n",
        "  for node in order[order.index(src) + 1 :]:\n",
        "    if len(inc[node]): # ako se cvor veze s drugima\n",
        "      # racunanje rezultata kao zbroj rezultata prethodnih\n",
        "      # cvorova i tezina bridova koji vode prema trenutnom cvoru za svaki cvor\n",
        "      scores = [score[pre[\"n\"]] + pre[\"w\"] for pre in inc[node]]\n",
        "      # pronalazenje najveceg zbroja rezultata i\n",
        "      # azuriranje rezultata za trenutni cvor\n",
        "      score[node] = max(scores)\n",
        "      # Pronalazenje indeksa najveceg zbroja rezultata\n",
        "      i = scores.index(max(scores))\n",
        "      # azuriranje putanje za trenutni cvor tako da se kopira putanja prethodnog\n",
        "      # cvora (iz obrnutog grafa) i doda trenutni cvor na kraj putanje\n",
        "      path[node] = path[inc[node][i][\"n\"]] + [node]\n",
        "  # Vracanje rezultata najduzeg puta i putanje od izvora do cilja\n",
        "  return score[sink], path[sink]"
      ],
      "metadata": {
        "id": "ZSCr-gSRgJKU"
      },
      "execution_count": null,
      "outputs": []
    },
    {
      "cell_type": "code",
      "source": [
        "source = 0\n",
        "sink = 4\n",
        "graph = ['0->1:7',\n",
        "         '0->2:4',\n",
        "         '2->3:2',\n",
        "         '1->4:1',\n",
        "         '3->4:3']\n",
        "score, path = longest_path(parse_graph(graph), source, sink)\n",
        "print(score)\n",
        "# zvijezdica za raspakiranje iz liste i pretvaranje u obicne elemenete\n",
        "print(*path, sep=\"->\")"
      ],
      "metadata": {
        "colab": {
          "base_uri": "https://localhost:8080/"
        },
        "id": "qXj5P21DgQPP",
        "outputId": "b2bb65ab-bdef-48aa-8f93-9047073abc38"
      },
      "execution_count": null,
      "outputs": [
        {
          "output_type": "stream",
          "name": "stdout",
          "text": [
            "9\n",
            "0->2->3->4\n"
          ]
        }
      ]
    },
    {
      "cell_type": "code",
      "source": [
        "with open(\"rosalind_ba5d.txt\", \"r\", encoding='utf-8') as f:\n",
        "  lines = [line.rstrip() for line in f]\n",
        "  source = int(lines[0])\n",
        "  sink = int(lines[1])\n",
        "  graph = lines[2:len(lines)]\n",
        "score, path = longest_path(parse_graph(graph), source, sink)\n",
        "print(score)\n",
        "print(*path, sep=\"->\")"
      ],
      "metadata": {
        "colab": {
          "base_uri": "https://localhost:8080/"
        },
        "id": "1lo_Qe1Ab29c",
        "outputId": "1dc7f2a3-e1ca-4586-b238-4d397f8639d5"
      },
      "execution_count": null,
      "outputs": [
        {
          "output_type": "stream",
          "name": "stdout",
          "text": [
            "26\n",
            "3->35\n"
          ]
        }
      ]
    },
    {
      "cell_type": "markdown",
      "source": [
        "## [BA5E](https://rosalind.info/problems/ba5e/) - Find a Highest-Scoring Alignment of Two Strings"
      ],
      "metadata": {
        "id": "QJgr-tDgkfuP"
      }
    },
    {
      "cell_type": "code",
      "source": [
        "def addDirection(m, p, j, i, s1, s2, penalty, scores_ = 1):\n",
        "  # sadrzi vrijednosti kazni ili nagrada za odredene parove znakova\n",
        "  if scores_ == 2:\n",
        "    score = Scores2\n",
        "  else:\n",
        "    score = Scores # score je rjecnik\n",
        "  new = (j + 1, i + 1) # trenutna pozicija u matrici (jer iskljucujemo 0,0)\n",
        "  if scores_ == 2:\n",
        "      opt = [\n",
        "        # na trenutnu poziciju u matrici (rjecniku) bodovanja, nadodaj\n",
        "        # penal iz rjecnika score za odredeni par\n",
        "        m[j, i] + score[s1[i]][s2[j]], # dijagonalno\n",
        "        m[j, i + 1] + penalty,  # od pozicije povise oduzmi penal (-5)\n",
        "        m[j + 1, i] + penalty, # od pozicije lijevo oduzmi penal (-5)\n",
        "        0\n",
        "      ]\n",
        "  else:\n",
        "    opt = [\n",
        "      # na trenutnu poziciju u matrici (rjecniku) bodovanja, nadodaj\n",
        "      # penal iz rjecnika score za odredeni par\n",
        "      m[j, i] + score[s1[i]][s2[j]], # dijagonalno\n",
        "      m[j, i + 1] + penalty,  # od pozicije povise oduzmi penal (-5)\n",
        "      m[j + 1, i] + penalty, # od pozicije lijevo oduzmi penal (-5)\n",
        "    ]\n",
        "  # pronadi maksimum za trenutnu poziciju od prijenavedenih - [-3, -15, -7]\n",
        "  m[new] = max(opt)\n",
        "  # ako je prvi index najveci u opt - onda je put do te tocke od gore-lijevo\n",
        "  # ako je drugi index najveci u opt - onda je put do te tocke od gore\n",
        "  # ako je treci index najveci u opt - onda je put do te tocke od lijevo\n",
        "  if scores_ == 2:\n",
        "    p[new] = [\"diagonal\", \"up\", \"left\", 'diagonal'][opt.index(max(opt))]\n",
        "  else: p[new] = [\"diagonal\", \"up\", \"left\"][opt.index(max(opt))]\n",
        "  return m, p"
      ],
      "metadata": {
        "id": "sW9Lg1yaZ1Np"
      },
      "execution_count": null,
      "outputs": []
    },
    {
      "cell_type": "code",
      "source": [
        "def getWords(p, s1, s2, j, i):\n",
        "  a1, a2 = \"\", \"\" # a1 i a2 su poravnati stringovi na kraju\n",
        "  # krecemo od donjeg desnog kuta prema gornjem lijevom\n",
        "  while i > 0 or j > 0: # dok su ili a ili j veci od nula\n",
        "    if p[j, i] == \"diagonal\": # ako je na poziciji p[j, i] gore-lijevo\n",
        "      a1 += s1[i - 1] # u string 1 nadodaj prijasnju poziciju pocetnog stringa1\n",
        "      a2 += s2[j - 1] # u string 2 nadodaj prijasnju poziciju picetnog stringa2\n",
        "      j, i = j - 1, i - 1 # umanji i *i* i *j*\n",
        "    elif p[j, i] == \"left\": # ako je na poziciji p[j, i] lijevo\n",
        "      a1 += s1[i - 1] # u string 1 nadodaj prijasnju poziciju pocetnog stringa1\n",
        "      a2 += \"-\" # u string 2 nadodaj crticu\n",
        "      i = i - 1 # smanji i\n",
        "    elif p[j, i] == \"up\": # ako je na poziciji p[j, i] gore\n",
        "      a1 += \"-\" # u string 1 nadodaj crticu\n",
        "      a2 += s2[j - 1] # u string 2 nadodaj prijasnju poziciju pocetnog stringa2\n",
        "      j = j - 1 # smanji j\n",
        "  return a1, a2"
      ],
      "metadata": {
        "id": "rxMWQknDgnXL"
      },
      "execution_count": null,
      "outputs": []
    },
    {
      "cell_type": "code",
      "source": [
        "def global_alignment(s1, s2, penalty=-5):\n",
        "  # m - rjecnik koji predstavlja matricu bodova za poravnanje\n",
        "  # kljucevi u rječniku su parovi (j, i) koji označavaju koordinatu u matrici\n",
        "  # j je indeks za s2 (redak) i i indeks za s1 (stupac)\n",
        "  # vrijednosti u rjecniku predstavljaju bodove za odredenu poziciju u matrici\n",
        "  # p - rjecnik  koji predstavlja putanju u matrici bodova\n",
        "  # kljucevi u rjecniku su isti parovi (j, i) kao u rjecniku m\n",
        "  # a vrijednosti predstavljaju smjer kretanja pri izgradnji poravnanja\n",
        "  m, p = {}, {}\n",
        "  for j in range(len(s2) + 1): # u duzini drugog stringa (visina matrice) +1\n",
        "    m[j, 0] = penalty * j # u nulti stupac postavi penale (-5, -10, -15...)\n",
        "    p[j, 0] = \"up\" # u nulti stupac postavi da se mozemo samo popet\n",
        "  for i in range(len(s1) + 1): # u duzini prvog stringa (sirina matrice) +1\n",
        "    m[0, i] = penalty * i # u nulti red postavi penale (-5, -10, -15...)\n",
        "    p[0, i] = \"left\" # u nulti red postavi da se samo mozemo kretat lijevo\n",
        "  m[0, 0] = 0 # nulti element jednak je 0 (gornji lijevi kut)\n",
        "  # U petljama for prolazimo kroz sve pozicije u matrici bodova,\n",
        "  # osim pocetne pozicije\n",
        "  for j in range(len(s2)):\n",
        "    for i in range(len(s1)):\n",
        "      m, p = addDirection(m, p, j, i, s1, s2, penalty, scores_ = 1)\n",
        "  i, j = len(s1), len(s2) # i i j su duzine stringova\n",
        "  a1, a2 = getWords(p, s1, s2, j, i)\n",
        "  # vrati vrijednost iz rjecnika m za poziciju duzine stringa1 i stringa 2\n",
        "  # vrati obrnuti a1 i a2 jer smo ih gradili od kraja prema pocetku\n",
        "  return m[len(s2), len(s1)], a1[::-1], a2[::-1]\n",
        "\n",
        "s1 = 'PLEASANTLY'\n",
        "s2 = 'MEANLY'\n",
        "print(*global_alignment(s1, s2), sep=\"\\n\")"
      ],
      "metadata": {
        "colab": {
          "base_uri": "https://localhost:8080/"
        },
        "id": "nOXH0cCBZv-s",
        "outputId": "a399daa8-f695-4d1c-face-6c64fb6329dc"
      },
      "execution_count": null,
      "outputs": [
        {
          "output_type": "stream",
          "name": "stdout",
          "text": [
            "8\n",
            "PLEASANTLY\n",
            "-ME--AN-LY\n"
          ]
        }
      ]
    },
    {
      "cell_type": "code",
      "source": [
        "with open(\"rosalind_ba5e.txt\", \"r\", encoding='utf-8') as f:\n",
        "  inlines = [x.strip(\"\\n\") for x in f.readlines()]\n",
        "  first_word, second_word = inlines\n",
        "print(*global_alignment(first_word, second_word), sep=\"\\n\")"
      ],
      "metadata": {
        "colab": {
          "base_uri": "https://localhost:8080/"
        },
        "id": "9iNkkTSN84Xv",
        "outputId": "0b7a83fb-ba4d-45ec-f8f5-9da726742e3e"
      },
      "execution_count": null,
      "outputs": [
        {
          "output_type": "stream",
          "name": "stdout",
          "text": [
            "10976\n",
            "EHPNMKHPCQI-HWYDWYDRLFDQSQMTFPNWFYEGELQMNGCAEMMDWD--NHWRGKS-----G-LMRCMQIHQNHTEKELCAKGLAFAVGQIKID---W----HNSKVDGQ-W-L-NRFKQPLRFRCISTE-PLITKMIRLQWKLNDRIVIRWQSQKTSPMFTRTMYEWCDIALSGIEEDQSSEKPATGNPWRYWPYL-KSWLQPLHV-VDTKFVKN-K-HITQHQTTMEFHPFGCSPYWDR---D-GHP-T-QPLHHCSKWLCYYLNGYRPVWVCVYMCLWWHFDKLSF--RMAIRKQSSGQPSSRCYRYPPVIYLCDK--RG---FQCGDES-CQSPREPVEPVKNSQVISHQSWNNDGSARWLFCYADMVLYELGILCPPCPNDPYDMVIVDISQQGMMCNEITYYQDQPRARPWWPCPMERVIVEMWCKIGCHNFLYRLFVPSGLRH--W---PKFNDMFCGQAKDDQSKIRRFLWQREKIEEAAHCI----CI-FDMMIHR-L--WGTNYTQNVNTIITTWERW-E-HERNLTQDHDYSIWVLTKVSKWMYTKIFFSTFAYHEDFMDMFREVWDYAPGVREEYHDDVELTFGYIKDFRMKERHCPDPTIWSTCSHPMMNILKKHQSD-W--YPSQQFNA-YK-H-HQYWAMNQGWRWNGKHSKT--C-C-FC-E---V-KARCWTKCYGYNG---GTQ-NWWTEK---LA-RAWNIVVFVINQDCMYTWMQTQSSCGSTTPAEPWMIFKFDREVSDDHRQHLPIGSHVKSGKVMNYMQWRVWRKTV--ACHFIWNICDRQNDISIAIMTEEPTWTMDWVLHEARDMAVQKWTWHCFNKS-IR---FWFMSQSLPSPIVWWAAYMRLYGEMTWQRPCNQNNCNNMDVMRHTQPFRQKEGMNGCQMGGIFSTMENCKNHRM-----QIDCGHCLATMKCFVMTTAGLEFIYWPFYTYYPSGCCWRHCWRLTMAKASF---V---YSHGSKETHGADMG-----TSVYHVNIMTVHYAPPGDVPCCMVHDPQCGIYVYHWIFVMRLPRQMKHYYIFSWKICYCRFWLLQHPEF-------HIYPWN-EKNQGQYHPYCRFKWDGATDYV----INGLTG----GFDNWYAQPMWCELEYWKEMVWKIDWNNKNCCMVLCMHKCAC--V-YACHYI-----REAHVKDLITF----K-IEN-LVDMIRWLSIHF-LC-MDPCDSMPASY---WYWM-L-LDHPCVMHHEQVWRWCHVDLCQ--PSEYFEYQYLEGG---G----FRR----E-GAGNELFWVF--------GC-KGMLLRVKIELRECVFFTHHNIVTPRKMPDLLMIDTITVGWTFYKTKFGKD--K--HS--HT-WQGQAMNPYSHEHLETQCLVCSYNMC--NVYVFHPNQMPWGAYPRTMNSPKISI-GMCWL-EESVCIFDNIWECCD-PF------QWSTGHVVCDGQKGYGDLQAHWFKAMIALLGSIND-IMW--INQKWGTCQYTMQSESLGLIWNWYRAKISIQFFPFSKRCVYAERAASSCGVPITTGQ-VGWRGSHMSPVCMNGIKCQHKMN-----F--GHCWA---HKRAPPYWR--M----EYENM--HCQGKGRVAYANFQNSIIKWKPGSGHCLIDGFFPSCWPTTAMDARHDFLMRRGRYCWVCTNTAYSYDLNGHHRDLSMVYL-DPISLN-NGANDEIFTHKHVRCCNNCAKVQWHEHDKC-CVLTECQPCQQAQW--GVVNIRNMTYTASAIMHLEARVNLHKTAIRMSWSGVSMWIYWD---K--N-MNPFVPVWIYNDCVRWGNERNAFNPMQEAPMYAAMV--A-EP--EER--QDPEHELSAASYGFPC-D---AY----AYFPERRSYIWNWVLQKCGIMQDSPYYAHITHVVGAFMHAF--YAWMRNHRKCSMKQPDEC--I---PPWKPYSNIVLLFVCSWIVAMLRILWFV------HKQKNL-C--I--LKGNCGKVTNWDTRVRPIELGAQQRKICIMRVCDG--IP--RCD-V-PIF------AFDDMEWQEIETGYQRKWYIDKYKVTE-C--IMDFMRWMMNQSKKIESSSTKPSLLKDDECFDPGCN-KLLAAFCIFNSVEKNHWMSFHEHQDVLRMNMQCCTTNIVRTHTNCDYRNIEKNWGRDIFFNKGWTSHQQVGDSEDHHWCEDNFEMNICMACAEEEMQAQKGDYYIVCRMLRVVVQLKVKWQKDLEVTGT-G-------LAQIQKKRVIYLETYINDDGISTRIFRSDVVQLANEASNKMHAHMFKTLRVHQLLADGVFPCSMDPA-CPCPHLFLF-CKFECHNRAKWPCRGENRGQS-M-WLENAFAFGCMILVGAMWWW--CEK-RCGWYISSY-I--V-K---MHFKMGDWLKHFIN-NIS---K--RITWDQWKQPDRNWSLGIW---EQWPFPVHR--HHRCVRETQRQNWQLQVYAISPDWSYRFGYTTITCGSNMYIFPWWLMFSKYTILSQVGHTDMTDQNNSRLQQFAYWLDYVDLYLYSYKMFQDNNFCD-I---MIMTALS--Q----FMPHNPYPEY-S-YATL--MSYVTQWQCGCHTRP------NSEWMCWMYHSCETLKLC---L-----RRA--TAVTKREDFIL-KLERLSTQ---PNMYIMRDNYN-FFMHY--DPWGDPFDPPLHEADN--K----I--N------YRYFMMQA---F-G--CQYMNCTTDGDTQRVQLGEYMCKCENTLVVQMIKPPCTSTAPGSIEDQSMHHEWG----L-IVHRNGTVAY----N-G-L-AMHIG-KVWSSYVPAHTLRNYSAFQAKYDPSCCCCRPHD-NQATKIHALY---EHMLWR-FAGWEMVDVFHCENWPCQTQDMAMCEWSERSDLGIDIFLKDTANWSRQWKMPPIFQPAEIKFSWAEILLAKTAC-VK-TKK---QEGLFFLELQYFQPQHGDNVGDWRYWYHAD-V--AGRIRNICTYHKSVFVIYKFKSFI-LGDDTHWPKYDYTRWNQHSEVIWHDVWLKAHWMYKQHMHSTCRSGERFWYTNPLAMKTRWT--P----F--SYGMEKALQMVIPHN-A----WLDKKMTQESTYIICMGSICGDQRTANRTAISETKPKGDRV-YTMFIHPFIDFMYGCFMIHGVNFEHYNPCGHFVTCLVQPTACEYTLAMPVFRFG---W--RSELIPK-TQGIPV-QLEMNFLCPWDRH--Q--SHCGYYMTMGDVLQKNFGVMTI-TDGWPSAEALQLSGAPKFKYGTKSCDWTTASEDKWTAREKNMCMHASFRCWDYCESEALASTWEKSILSLRVF---H-VEHCVHWHNHDGQHSTHREFYQPDHTNWYAQPPLSGHSPRMDGHTAYKWWSRIICQ--NPVSWKIPDMLCQYWMCFMEPHKDRAVKESFFLGSHFTWFDWLGYTRLKARLWGYGHVLHVKIS-----FIYIQ-MHKFN--YW--T-ATWCGPSHNK-------CRNTIPYRVMSYIHAWWQVSHRFKNLWTGFVEKPIAIEKLPATWNWMSMNSEIDSGRMLCINSFICIYGWIITYMFNRSIRWIPGKVA-EHATLMVKHFNWMHNWSDTMFNDAQQCACLFDTGTC-CLQAW--N-C--F-------ACHNRWAWHLMSCQTLDWSARKWIWMCTKCDHLCWATCFGLPETLPYASIQWHQAQCRAGHTPIMACTDYTNTLE---QYLHQRGAYRTWRISIAMHTKAIPKIFKCVGMAKSDTCQISYETQWIIRRTCGPVMHIIMILKGAQMWDQMCDYYYNMVLGAFHGMRSFVTELCYYHYKGPFYMPWC-CQVAIHEIKAVCTIGNLVAFTGRDGTDEDQA-V-PNCCQNVHISGPWWNKGDHCPAWSCHW-VMNKLPVVIRLTPRGRQAAWGAYKMLCHGSWLPTKFCTPRMNHECIAWFQYDRDKFDYGEQISDSWEIPKTQKCGCKFAIFFS-QSHVQCLPAHVLKQPIEFMWQCHST-------TSLDHIDGM-M--P--ELHDHIC--VK-GDKMN-MQYTFKTKCMFCRLC-HRMIKWHFPVHWHELYQVDDSHTMQKKTAVPRMETVPMSSEIEIRRELKIKMHDKLGGTKMHMEEWTGQCALECSQYAEFGLWYKWGPWPSWAIVVRQCWHGMPN-DKGKRFMLYYDEMKMQIQE-QPHDKCADTEQHYQFPTHDHTKHFRKASTGYCQKHFEKSEQAQHHYSGLHFNAHGWFMIYMGTRIWKDKTFFLVRGRMNTQSKGKTKPIW--AKWSNIGADPTTHRH--WYLFYKEGICVTYFMHPDHSSVPTFQHWEMPWGAPDQAEWQSCHRQHHHVVK-EKP-ECVQYPYCLSTMTRQSMWGHCRESAMNHGIIWVCFWPGHGWVRSGTNC------PW--GHWNHKETTQWCSNLYVEDNKFR-L-LWFLFEAQRWMPVENPAMLIHMNDEHDGEHTPQSPLHYDKMYEWPLHWCGSAMHMYNE---FKQTP--SSIH--VSSYFYAENHGHVYH---DNQSHTQ-Y---PT-EVDRRKVDPFLTNELHSGLAKELNGWQMFGAFD--K-IH-----KAEWINMFY-MWISLIIKKENYMNFLLWFKSP-HAIVFP----I---EDQECPLRVWPPAIWVRLHFQQA-EIIACKDLDATA----I---VWEWQHCSMFPYHICHFICAQGP-ARFC-YCMFQTEAEILCTDTSLHSYSQMM-KSNCMMCNGATSMYETMGMYLMLQVHNHPKFKGNHCNTKEIS----WF\n",
            "EHRYLK-KTKVNHWYDWYDRLFDQSQMIFPN-----ELQMSGCAEMMDWDHSNHWRGKSCQTFTQLLMRCMYIHQVHTEKELCAKGLAFAVGQIKIDIILYLDETHNSKWDGQRCSQDNRFKCPLRFRCISDDYPL----I-LQWKLNDRIVIRWQSQKTS-N-TDYVL-WMESEI-WC-YSQHPCFGAVFWPWSALSGVEEDQSSSKKLWTDTKFVKNWQYHITQHQTRMDC-TMECSPYWDRAVKSYGHPNTPQPL-SLMEF--YILNQYRPVWVCV------HFDALSFSNEMAIRKQSAG-----CYRYIPVIYLDKKESRGEKIFACNSLGIVDSPRRPVEMVK---VISHQSWNNDGTARWLFCYHDMVLYELGILCPPC-----DMVIVDNSQQGMMCHEITYYQDQPRARPWW-----------WCKIGCHNFLYRHSVPSGLRHMYWCLGPQFNDMFCGQEKDDQSKI-R---QREKIEEAAHCISKQKTLKNDMMIHRNLPHMLTPYTQNVNRIITTWERCDEKHEHDPIQDHDYSIWVFTKVSKWMYTK-FW-CHEIPTYFFSTF--AWDYAPGVREEYHDDVELTFGYI-DFRYKETHC-------TCSHPMMNILKKHQSDMFPEYPSQEFNAPFMVTIAYYWAMNQGWDWPGKHSKTVSAECPMCQEPWGKWKARCWTKCYGYNGIVMGRKTEWWTEKSWDVSYRAFNIMTWMQTFDRSMNMSFLKRHCGSTTPSIPWMIFKFDREVSDDHRQHLPIGSPVKSGKVMNYMQWRVWRKTVREGQHFIWNIC---------I---EPDWTMDW--------AVQKWTWHVFNKERVRYIKFWFHS-VLPS-------YM-LYGEMTWQRPCGQNNCNNQDVMRHTQPF--KEGMNGTFMGGIFQTMENCDNHRMLRKFNQIDCGHCLAHMLCFVMTTA---F-N-GL-E--PSGCCWWHCWRLTMAKASFNGHIPTMYSHGSKRTHGADMGCLKFFQSVYHVNIMTVH-QKASMAPPGDV-D-M--IYVYAWDFVMRLPRQMKHYYIFSWK---CRFWLLQHPEFQCCPLVIRIYPWNAHYQQGYVGKYCRKKMDGATDYVPHKSFNGLMGHDAHAWDNWYAQPIAIQCHGQAERNWKIDWNNKNCCEVLCMHKCACPATGLACHYIPPLGTREAHVKDLITFNSHIEPIEGMLVDMIRELSIHFTFFPMDPCDSKCEDYAMCMWWFGCGDDHPCVMHHEPVWRWCHVDLCQYYPSKYFEYQYLEGGAADSWQTQFRRPSTGDIGAGNELFWVFYPGTRSHVGVNKGMLLFVKI--RECV-FTHHNIVTPRKEPD--MIDTPTVGWTFYKTSFGKDYLQCPHSNDHSIWQGQRNNIYD-EY-NL-VLTCSYNMCTENMSGSYPPRMNCSKDIKYMNECWHNFNSACAKPPESQPIFDNITECCNPPWHGKPNEQWSAMLVFC-LQKGYGDLQAHWFKAMIALLWSINDYATTEKFNQKWGTCQYTMQSE-LGLIVQFF-T--NM-YWCVAHK--KAERAASSCGRPITTGQHMSPRSPHVT--CMNGIKCMHKMNVQQCVFLYGHCWAKNNYTRAPPHIRHAMTKRPEYENMAWACQGKQRVAYANIL-SIIKWKPGSGHC-------SCWPWTAMSARHDFLMRRGRYCWVCTNTAYSYDLNDHHRDLSMVYTPEPSSYPVYSLTGRNMAN-DVRCCNNYAKVIWHEHDKCPC-QQESWTNQWGQYFIGMVNIRNPSFTETQTASQIMHTSYHSKKQRMSWLGVSMWIYWDLQYEHPHTLNPFPPVWHYND------ERNAFNPMQNAPMYAAMVKCSCDSHNKEMIFQDPEHELSAASYGFPCTEPFFVYVMALAYFPERRSYIWNWV---CGIMSDSP-QTYTCHVVGAQMHACEGYKWMRNHRKCSMKAPDECHGFGNWPPYKPNSMIVVCDVVETIVAMLVILWFVCRILTGNKQKFLCCRRASPLKGNCGPVTNRDTRMRPIELHAQQRWICIMRVCDGQQVGFFKGNTITPFYHLMCHCGFCDVPIFAFDDMYQRTWYIDPYKVTEAAILIMFFMRWMMNVEGKYQGSSTWPSDCKCKSRM-PRVRAHTTQAFCIFN--HTNGW-S-RLIEDILRINMQCCTTNIVRTHWNCDYQNIEKNWGRDIFFNKGLTSHQQVGFSVDHHWCEDDSE-HYHMPMAIIMLRVVV-QFW-T-RDISAMRSLG-RWYYDLEVTGAFGMQRWLFWLAQIQKKRVIYLE--IHHTKV---IARSDSVQLANEAS---------TLRVHQLLADGVFPCSMDPADLFLWHVFNHGCYFECHNRAKWHCRAENRGQSWFYWLENALV-NAM---G--WWTRECEKPDCGWYISSYIINWIDEIWMMHFKMGDWLKHFINVTATGPGKSGRITWDQWKQPDRNWSLGIWAPTKDWPL-VHSDYHHRLVRETIRQNLQVDV-AISPDWCYRFGYTTITCGSNMYIFPWWLMFSKYTSLSQVGHTDMTDQNN-----F----P--SM-TY-YKMFQDNNFCEPMPSRMIMKALSPWQAGLWFMPHNPYPSYVTQWCCMHCVAWYT-WQRARHTRPFIHAVYSSEWMCWMYHSCETLKLCYYFMHQNNVRRGEFTAVTKREDFIIYKLERLSTQCRKPSIY-CSPGQNIYFQNVTADDMHDEFDPPLHEADNSANAIWWIHVHMFPYGKYRYFMMQAFPYFANRRCNYMNCTTCGDT-RVQLGEYM--CENT---------CT-TAQGSSEDQSMHHEWGCQKKVPIVHRNGTVAYNAMWNGGPVCAPMVGMKVWSLYVGAH--RIFIWFY--FE-K-AACKQYDPYQA-KIHKLYKLLEHATMNSYLG--VVDVAHCEE-P---------KWG-FSDLGIDIFLKD-----RQWKMPPIFQPAEIKFFWAEILLMKTACWFDGTKKTFRQEGLFFFELQYFQPQHGDNVGDWRYWYHAQWASHAGRIRNICTYHKSYFVIYKFKSFTELGDDTHWPKYAHC--SVIS-IGDHDVWLKAHW-----MHSTCRSGERFWYTNPLNMKARWTPQPSYYLYWVQYRMEKALQMVIPHNKGDRPYWLD-KMTQES-WVY-I--I-GDQRTANREE-GSVMDIGSMTRWRINFEWMIDHMYGCFMIHGVNFA--D--------M---SSCEYTLVMPVFQFGDLMWVTRSECIWRFGHSVNLSQLFMNFLCPWDRHCWWIIDHHNKVRICG-YYQKNAKVMTIWHQEMPHAEALQLSGAFKFKYGTKSCDWTTASE----I----MCMHASFRCWDYCESPWWFS-F-K-IDSLRVFDAMYLVEHCVHWGAHQGQHS--K-L-EKEY-NW--QPFLSGHSPRMDGHTAYKWWSRIICQVKGVVQYPVSWKGCQYWPC---P---MAVKE-----S-F--FDWLGYTRLRARLWGYGHVLHVKISQVCQGHIYIQIMQGCNSMHMKQTNGDYTGPIHRKGAREERWARNTIPYRVMSYIHAWWQVSYRFKKL--------IAIEKL----NW--M-S--DSG-------F--IWGWIITY-----IRWIPIKVACTHATLMVKHFNHMHNWS------AQQCACLFDT-DCRHLRLWELRPLPWFGDIMMREACHNRWAWHLMS------SHEKWVWMCCKCDHLCWATCFGLPETLPYASIQWHQATCRAGHTPIMCCTDNTDEQEDSCEMLHWRGAYRTWRISIAMHYKR-QDCC-CVGMAKSDTCQISYETQWIIRRTCGPYMHIIMILKGAQMWDQ--------VLGAWFGMRSFVTELCYYHYKGPFYMHGCACD--IHEIKAVCTIGNLVAFTGRDMTYEDQANLAPNCMQNV-----WWNKGDHCPAWSCHHVVMNKLPVVIRL---------GAY------SWL-DNFWTPSMNHNCIVWFQYDRDKFDQGEPISDSWEIPKTQPCGCKFAIFFSLWSHVQCRPAHPLKQPIEFMWQTHSTRPILLKDTTSDHIDGMELHYTHGELSNHQCSGMEHRDQMSRMQYTMRNKCMFCRLCVHGSCQ-YLDQR-HELYQVDDSHTMQKKTA----EFCWM----P-RME-PI-I--KL-G---------G----ECS---------K--PWPSWAIVVRQCWHGMPNMAKGKTFM-QIQEQPHDAQDCARQERFVETNQHYQFPTHDHTKHERWASHGYCQKHFEK--------------CHGWAMIYMGTGIWTPKTFFLVRGRMNTFSKGKTKPIWFSAKWSNIGADPTTHRHQLTYLFYKEGI-------PDHSSVPTFQLWEMPWGAPDQAEWQSCHRQHHHVVKMEYPYQLAQEP---STMYRQSMWGHVIESAHNHGANWIWVW-FWGWVRSGTNCPKQEIRPYMDGHWNSKETTQGCSNLKVEDNKFREVTLWFL--AQ-----ENPAML------H-G--C--S-LHYDKGYMWPLHWCGSAMHMYNEMASFVQTPGWASTRGSIHSYFYVEEPGYRMHGGVDNQQHTQGWETDPTREVDRRKVDPFLTNELHSGLAKE---WQMFGAFDLANHINMARILKAEWINMCNDREIP-YDWKENYMQFLLWFK-PFHAIVFPEHTYVYYFEDQECPLRVWPPARWVRLHFGMALQAEICKDLDATAQKCDCSHHVWEWQHCSMF-YHICHFICGQGHIIQEARFC-Y-TEFEILCTATSLHSRSQMMYETMCPHMFG-TAQ-QAQ-LYLMLQVHNHPKFKGNNCNTKEISWAREWW\n"
          ]
        }
      ]
    },
    {
      "cell_type": "markdown",
      "source": [
        "## [BA5F](https://rosalind.info/problems/ba5f/) - Find a Highest-Scoring Local Alignment of Two Strings"
      ],
      "metadata": {
        "id": "8PEzrxyYkk6a"
      }
    },
    {
      "cell_type": "code",
      "source": [
        "def getWords(p, m, s1, s2, j, i):\n",
        "  a1, a2 = \"\", \"\" # a1 i a2 su poravnati stringovi na kraju\n",
        "  # krecemo od donjeg desnog kuta prema gornjem lijevom\n",
        "  while i > 0 or j > 0: # dok su ili a ili j veci od nula\n",
        "    if m[j, i] == 0: # ako je vrijednost jednaka 0 u rjecniku m\n",
        "      break # prekini izvrsavanje\n",
        "    if p[j, i] == \"diagonal\": # ako je na poziciji p[j, i] gore-lijevo\n",
        "      a1 += s1[i - 1] # u string 1 nadodaj prijasnju poziciju pocetnog stringa1\n",
        "      a2 += s2[j - 1] # u string 2 nadodaj prijasnju poziciju picetnog stringa2\n",
        "      j, i = j - 1, i - 1 # umanji i *i* i *j*\n",
        "    elif p[j, i] == \"left\": # ako je na poziciji p[j, i] lijevo\n",
        "      a1 += s1[i - 1] # u string 1 nadodaj prijasnju poziciju pocetnog stringa1\n",
        "      a2 += \"-\" # u string 2 nadodaj crticu\n",
        "      i = i - 1 # smanji i\n",
        "    elif p[j, i] == \"up\": # ako je na poziciji p[j, i] gore\n",
        "      a1 += \"-\" # u string 1 nadodaj crticu\n",
        "      a2 += s2[j - 1] # u string 2 nadodaj prijasnju poziciju pocetnog stringa2\n",
        "      j = j - 1 # smanji j\n",
        "  return a1, a2"
      ],
      "metadata": {
        "id": "G0i_DK8ijRmJ"
      },
      "execution_count": null,
      "outputs": []
    },
    {
      "cell_type": "code",
      "source": [
        "def local_alignment(s1, s2, penalty=-5):\n",
        "  # m - rjecnik koji predstavlja matricu bodova za poravnanje\n",
        "  # kljucevi u rječniku su parovi (j, i) koji označavaju koordinatu u matrici\n",
        "  # j je indeks za s2 (redak) i i indeks za s1 (stupac)\n",
        "  # vrijednosti u rjecniku predstavljaju bodove za odredenu poziciju u matrici\n",
        "  # p - rjecnik  koji predstavlja putanju u matrici bodova\n",
        "  # kljucevi u rjecniku su isti parovi (j, i) kao u rjecniku m\n",
        "  # a vrijednosti predstavljaju smjer kretanja pri izgradnji poravnanja\n",
        "  m, p = {}, {}\n",
        "  for j in range(len(s2) + 1): # u duzini drugog stringa (visina matrice) +1\n",
        "    m[j, 0] = penalty * j # u nulti stupac postavi penale (-5, -10, -15...)\n",
        "    p[j, 0] = \"up\" # u nulti stupac postavi da se mozemo samo popet\n",
        "  for i in range(len(s1) + 1): # u duzini prvog stringa (sirina matrice) +1\n",
        "    m[0, i] = penalty * i # u nulti red postavi penale (-5, -10, -15...)\n",
        "    p[0, i] = \"left\" # u nulti red postavi da se samo mozemo kretat lijevo\n",
        "  m[0, 0] = 0 # nulti element jednak je 0 (gornji lijevi kut)\n",
        "  # U petljama for prolazimo kroz sve pozicije u matrici bodova,\n",
        "  # osim pocetne pozicije.\n",
        "  for j in range(len(s2)):\n",
        "    for i in range(len(s1)):\n",
        "      m, p = addDirection(m, p, j, i, s1, s2, penalty, scores_ = 2)  #BA5E\n",
        "  # pronalazi najvecu vrijednost medu svim vrijednostima u rjecniku m\n",
        "  max_score = max(x for x in m.values())\n",
        "  # pronalazi kljuceve j i i u rjecniku m koji sadrze vrijednost max_score\n",
        "  j, i = [k for k, v in m.items() if v == max_score][0]\n",
        "  a1, a2 = getWords(p, m, s1, s2, j, i)\n",
        "  # vrati najveci score, obrnute stringove a1 i a2\n",
        "  return max_score, a1[::-1], a2[::-1]\n",
        "\n",
        "s1 = 'MEANLY'\n",
        "s2 = 'PENALTY'\n",
        "print(*local_alignment(s1, s2), sep='\\n')"
      ],
      "metadata": {
        "colab": {
          "base_uri": "https://localhost:8080/"
        },
        "id": "vALJB0tqbOSh",
        "outputId": "5b57adeb-6a47-45c2-a60c-d5ba88478d43"
      },
      "execution_count": null,
      "outputs": [
        {
          "output_type": "stream",
          "name": "stdout",
          "text": [
            "15\n",
            "EANL-Y\n",
            "ENALTY\n"
          ]
        }
      ]
    },
    {
      "cell_type": "code",
      "source": [
        "with open(\"rosalind_ba5f (2).txt\", \"r\", encoding='utf-8') as f:\n",
        "  inlines = [x.strip(\"\\n\") for x in f.readlines()]\n",
        "  first_word, second_word = inlines\n",
        "print(*local_alignment(first_word, second_word), sep=\"\\n\")"
      ],
      "metadata": {
        "colab": {
          "base_uri": "https://localhost:8080/"
        },
        "id": "T1N6lSvXXRKU",
        "outputId": "fe333aa6-438f-4e49-8f23-231a9c88d22e"
      },
      "execution_count": null,
      "outputs": [
        {
          "output_type": "stream",
          "name": "stdout",
          "text": [
            "3488\n",
            "YSGYGQ-QRE-QEQVCGHNTSQRAHSKHW-MKKGMISMFYYANT-VSKLHQGPN-CS-A-PVCVSKILQMVVIMPSNKGKW-TFCKI-DDM--H-FWLLSK-WSERDH-ELHTD-HCNTKNHHYTYLKKWTVRTEHMGTCYL-YP-D--DQFK-DIMLMRAVCGTDMG-VML-LMI-V--DFQL-SVECTGM-MYPSCCAAVHWSSWNDAWVPG-WTPAFGFRSNKAPIVGCNAGQHWLVIIII-VSVFFDEQDIFWW-NT--DDKELNHMI-AGKQQWCTFTSSGFYYSFLELAMDAEDHTTTAEHWNGDEQCQD-GKQVPPDKVEF-CEDPPWVQSIQRICDHY-I-QFWGIPMNPFRSNVPTDFHRAMEI-EELGW--AETAI-STHETQFNMQSM-TDFYKNKSW-GMT-FDCPIEGGYQFYAVQDPEHWED-WC-HTIYG-VKKSNW-I-PK--NEM-YQ--LAKCAGCL--Q-GKGCITGQM-KFDWGHASC-PSNKFLMNIRIWHLNQAMTSHYWPTNITNG-MTNYDIHY-MLSREM-RTP-HIVFTAH-VIQVTENMFYIFMGTHS--QMK-CVYSQITNSQNDIFP--YRCWQ--PTMHD----FSICWTYEAK-KV--CLWGRFNLTCPCT-DINSARPTDYFYNQYNVHHEGKMFVP-PQV-MPWSCKVDARAQTYWIINYGKSHLKGPADSAENFH-HGPC-GCPE-ARRNKTFTIY-RVK-NENKALWCRVAAQRVEGDRHQPYMV-HN-LLKCVM-NN-AFEFLFKFDMWSGKYRTNDCPKKWMGKN-FFSKLAPWADVKIM-WGP--R--KGMWSMSQKKAQLHFREHQMLKSKYVYHYLEADMYAFFFTKMIRVPQDYDLNP--EHSLKQDWQLDESDQFATEDMPMHVLESDNIT--C--NGNLNTTHESYNSQCGWCVHGKPGWITRFDGHSNFIVNPNGWHAMAF-GFVHWYPWANVSI--GR-E-LQRS-NMADWG-RKEDRKIHWNEITFNSACLCWNMRRPCAWPDYNVADPDGCFCKGKYCDHLTVGCNNDFV-S--LP-ED-CSIL-Q-MMHIED-ESQN-TDACWGIVYPVDTLSDLP--DDSTDPQPFKFLWCGNAFMTSC-----FHVPQIL--------FDMNPVGEDQLQCST---M-KYMYTNVRQVVQVRYLCIDVFLPSSEPW-M--GFEHGI-VM------RELREQ---I--HLECHEFYWDLQNPNCKS-LDNMQKDTGCGISEMQDNFFSKRQMYKLGSRTFERCHERIICPWEKEGAHYGDMECTRHQDYSVGFFRIIQPWNYDWDQDDGYKCHAFSIISHIQAFFDYNPQQMK----YKKSATRFGI-NQPNHEASPRSPLQMCWACGYGSWYRCPMEHAGWDSTWKKRMHHGRMKTLDAQDMDYQAPKII-PQEW-H-WGY-Y-MPVIKYKK-FNC-NGYTK--DIHGQE-EAF-G-QFCMGHAREEREWFGPGGYLKVLTDASVMCMGFLTYHDMQCHSEGQWMGSPPWENEFYYWC---Y-ACCGGWHWNPCDSMMEMWNMRPYEMFGFEVQDQSIRQQGTMWFNATYADAVVQITPFRCVLMNMVAPLIDNYGSTVGDFNYYFEECMIMVMARYNNCTTWPGCTRQSQLR-AFV-ET-D--IQAVCDMFHAMMCFLPFNLDPYSQGFQYQHHLYCDLEPFPLPVCIIQ-W---L--TG--IMGMNSFQWCYGGYGQWCEVFCNVQAPQCKKPKHFGEHTLIEQMGM-S-RANGGNARHDAFCNEMQNSERCMNEWRPPAHDNICKGYELGDHSCWASTTIGEENNIFINESIYHYRWNPSLWMHLTWLEVWR-IEKAANGAIANLILQDKPARTIEDNQVYYFHCWVHTG--SR-TQMISTFAPRIICCWGVCVFCCRPKEFVVWQFAFMCNKVPKRQTDYEIPMMNP---F---EDYVGK-G--SNWYCRPRAMQIWYIA---MWGTSFMDK-SCD-TMF-R-RVPITRK-A-LIME-RRMLG-EDME-QQEHMQNIYTMNPYCVFACWVYHHSAWSWHD-GC-HAAGWTGMAACGGRSLRTAWVSCVQVARNVSY-ATYGDQQCVHENCVCLQR-IKSKDTKETYNYWHRLLD-E-MCAERQLV-LCRHDCDIATLVESEDCIWQ-PAATVGQFTWHIYKNMNHMRLI-FVDDFNHNYHAFRS-CVQQTMGW-DLTCTYTIKH-RVACGSQQHAQRMADDDMDE-L--WEDVMYWKMRQYYAYYGV--C-VK-ALQKCWEQKIF-AF-ELLMWVNYV-V-I-SPCIFAPFCKHA--HM-WSRCWQNKLWGYW-AW-A-VP-M---KHKDVNCIE-IMCCHGVIRSCWK-ARTGPKGQSYEFFTQKKC--L--VWMVTQTN-H-D-ESQYTCQ-WPMCHRITGKTPVCL--GHA-Y--MTGLVLDMNRFSP--DH-LI--DAHQMTAHCLWFISWLDDLHKDGINIQKRIDVQSRFFYLLMLKIF-PDMK-YTFVHHIMSA-VFVISVDMLVEITG-A-IWGQHWHDTNRPMLDAVSGCSHCTKCHNTAMFLWMEYVYTPYVLGSQRKCNCSQESLHDWFEYLYVGHHKWIAN-H-F-VLFNYNQAHS-CDMENFKVNVCQNRGVYEEASPVIIMI-HYVKSCH-MK-GNKMGKSTTFQVDG-R-YKH-AGVNI-F--NFPFRKN-KWARYDTLKWMTKVVDYFRMRSGFNDNIDKNLITEDNTD--MAQMSVC-RELCLSWHEDGQRPPQPYQH-WDAY-HDYRNKAMN-QEPRVHAKKLYVLTFVNFFWLFFLPYRNIYGQGGMMRLPIHTFFQQCMMEICYGWFMRFD-KT-GQWEQDNASMIWYNDRDSKVQQSAWKKFHFSHG-DEHWRDNMHWIMMCMWLLHCSADYHATVDE-IMFIKALVYARAHFHWSNMSNKY-C--Y--GRANGCAHTDVEFTLDLDLVLTGC\n",
            "YCGDGHYIWQLNERLC-NCGDKLLDWKHMAIDKDAYNMFCITNPRIWQVHAEHDLSPEVWNIGVWAEWQLRAAK-KHMANWPVWCILWPPKCCACIPGHPPYWYDISHFHNQNDATCLPEDVD-MF-DSYEVKTLEAQTCCPGWAKEHGDTWQWQCMADIELCQP-FAYMMISFKVHVYRGFRPDDLGRQGQSKYVP-VSSIRW-HW-D-FIVGLYCHEFHF-SP-TP-M--RK-HQFKVHPGTWTHTYWQHTN-HWMAHTCPDNKG-KTVINEDKME-CRLKLHRTNENAKEMGWKGICPGNSC-VWRSTEMCSQCGKNGPCQ-PAFMNTGPGWYMC---YCPNFEANRFYFQQLDRF-TD-QRQYF-ILEYWMAV-WCFGIHALDGPQHKQ-DSNIVFNRLFGENNWTDMTVYT-G-DDS-TI--MRE-DMREDIRSVEQFYDVVGKQDRLLTAQLIDHVRFQPTISPTDHSVTYRFVKGCFISQIEREQWFTYVCIQCMHYDGTCLTPEKADGMVQEC-GLDDDSTWWHHFSPACEMHQKGVEPTPVAMAITAQEHLRNSAVLYWKMQGPEPKRQKKRCRVKQIMETYIDLINEWFWYWRGGHTGQESCKRYGAHWDHHAHGNGYEC-WTH-RPSCGCNFDWSAAKRSNH-WNH--MNCN-KMWCHFRKTSQHW-Y--GSKFH-LWLMTRCTWALKAYNDSL-GFRWDIQFMGSPQLVKSDRVYESFHKVIWSEPDRVR-QIHLQRRR-TFSNPYMVGYEFLIKCVMNHDWAFEFLFKFDMWCPKQALPQKMRPWMGKTWWFSKDVKIMMLDFSGWGPECWMIKGMWSMSQKKAQLHFREHQMPK-KYVYHCLEAD-YAFFFTKMIRVPQDYDLNPWRTMSLKQDWQLDESDQFATEDMP---LEKANITWFCIFNGNLDCTHESYQ-MCDR--QLQHG--KRFDVHSAFIVNAFGWE---YHNWVIWYPWANVSIRCQRYHPISRELQRSNKGPRPTITKADWHWMRAKYD-HC-NMRRPCAWPDYCFCLNFD-LIWGKYCDHLHVGCNNDFVWGCRKQWEDCCKKMSGYILHIDKCIIQHMMNQSRAMRTGMPAEHNVACWGIYPVGLPFHFLWCENAFMTSCPYLYPYHVPQILNCTTQSHNIDMNPVGEDQLQCSSRKGMKKYSYTNVLQVVQVH-MC---YRKKDGMWRMILGFEHGIWAMCAVNDQRELREQKAATQCHLECHEFYWDLQNPTVRNCVVFCEDNTGCGGSEM------K----S-GSRTFERCHERIICPWEPE--RM-N-D-TRHQD--------VH-WRMRW--SVGYD-R-ID-WDQDRQCFDYNPQQMRIWMVYKKSATRASFRSQMCHE-NLRCQ-DMCWAC--GSW-DSTRKK-G-VSD-KK-MHHGRMKWLDAQDMDYQAPKIIWHHKTGDPNGDGYGMPVIKYKKGYDIEEAFGQFCHMMSSTMSGFAAWEF-EPKTLEEREKFGPGGYLKVLTDASVM-RDMQETMKLNCHSMGQWMGSDPWENEFYYWCQDVYEPNCGGWHWNYCDSMMEMWN-----MFGFKVQDQSIR------FNATYADAVVQI-SLP--W-E-PAP---PFRCVLNN-N-Y--G----VMARYNNETTWPGCTRQSQIRHETVCDRCDCGIQAVCDMFHQMMCFLA-G-DV-TK-FTYVHHKYMDLEPFPTPVCIIQVLCDVFYDVGYPIMGMNSFQWCY-PMG--CEVFC-VQAPQCKKPKHFGEHTLIEQMGMIIYRANMGNARHDAFCKEMQNSERCSAD--APMWQNEARIHRM--YICTASTQIGEQNNIFINESIYHYRHNPSAWMHLTWHEAWRWWEK-QN-IKAALIQQDKPARTIEDFQVYYFVCWVHTGKEGWLVTMWSTFAPRIICCWGVCVFCCRPKKFDVWQFA----KVPKRQTDYEIPMMNPNNWFYMHQDYVGKFGQRCNWYCRPRAM-LWFLAFELMNGTSFMDEYWIDYEMFYGYRVGF-REFACYMMTYIQTYNFYTMQWMIENMVEGDRRQAAKVMGGHK-HRPCFMWKSVAIMDPEQYH-KVLCNDAP-RFAR--CAH-QK-MNFRANWGNAVC-R--CTTMDNLIKHK-FIGG-PF-RRIYQTENRTAMSTLIGWCM--C----LI--E--VWDCPLLQSTNWCWST-KQKTIFWLIRFHKEW-PTWMPFEGMCTINFSHWASIDVDGIVEPIRDTCCGNYRMEFGHDNDFQHPLCGW-D-MTWDHPHDQSHNDMKKCPVNPAFRSP-TETLAGALTESVTTEQYICILIYVVCYF-S-CLQATVTLIHTSC-KVK-WMNWLMRFALMTYTGYGQHWNPTVLARAEACQKLTTG-RNDTMRLVKA-CY-FFNYSYCYFLSNPRFRRSSDWRFSPHIMFKGLFWEF-HIMTVYPGGCFKNDQTRFCILTGIGMDLT-IPPHVEAGWACPENKEMLAHPL-Y-TRTQELVKK-F-VQ-PM-MEC--YY-HRLTAFMPSRTWWCCMCRI-CQWGFNCDWKNYSEYNEMPQDFQQENVHNKRPNSGSKTKCIR-GRCMNAKIY-RMD-MFE-FQLEEGQSIG-WAWVAPDW-KAM-IVCKKNMPPCRSYRPSHRTHDAISRCE-QPF-VNRRTGDCLFVDMNRGFCMISHFKMSPKFIELTDK-AKTTTTKGAGPNAFFHLRMIEMNLGCEF-FQQDSEWEQHGQYKPFEMVL-YF--PCCFRE-MN-IFVEEYLKGYYISHKNHCFYPQNMA-LEDSVKSSQR-QRLWSKCAAEYSMIGMEFKDVQPSDRR-YN-RWISRCCL-KMPDSNQPDDTNCTKMSVDESHDPEQLTGNDAYLMSYEWHPFQQISHGRYSLLHYH-F-ANIAEIK-GRYA-GRDCTDSFPND-Q-VST-QHVDQCNLDI-THVRACYNYL-SMP-MKNECQWSP-DTEYCCFLYIPGHETVCMHLPPDVKVSLNDYSTFC\n"
          ]
        }
      ]
    },
    {
      "cell_type": "markdown",
      "source": [
        "## [BA5G](https://rosalind.info/problems/ba5g/) - Compute the Edit Distance Between Two Strings"
      ],
      "metadata": {
        "id": "BfmJEl12kmyc"
      }
    },
    {
      "cell_type": "code",
      "source": [
        "def edit_distance(s1, s2): # izracunava udaljenost izmedu s1 i s2\n",
        "  m = {} # inicijalizira se prazan rjecnik m za pohranjivanje udaljenosti\n",
        "  for j in range(len(s2) + 1): # u duljini stringa s2 + 1\n",
        "    m[j, 0] = j # prvi stupac matrice popuni indeksima\n",
        "  for i in range(len(s1) + 1): # u duljini stringa s1 + 1\n",
        "    m[0, i] = i # prvi red matrice popuni indeksima\n",
        "  # iteriranje po matrici gdje je j indeks reda, a i indeks stupca\n",
        "  for j in range(len(s2)):\n",
        "    for i in range(len(s1)):\n",
        "       # ako se nalaze isti znakovi na poziciji i u s1 i pozicji j u s2\n",
        "      if s1[i] == s2[j]:\n",
        "        # ako su znakovi jednaki, to znaci da nema potrebe za promjenom\n",
        "        # i kopira se prethodna minimalna udaljenost (od gore lijevo u matrici)\n",
        "        # ova vrijednost predstavlja minimalnu udaljenost izmedu prefiksa\n",
        "        # s1 duljine i + 1 i prefiksa s2 duljine j + 1\n",
        "        m[j + 1, i + 1] = m[j, i]\n",
        "      else: # inace, ako su razliciti\n",
        "        # potrebna promjena i odabire se minimalna vrijednost iz tri\n",
        "        # susjedna elementa u rjecniku - matrici m (lijevo, gore i gore-lijevo)\n",
        "        # te se dodaje 1\n",
        "        m[j + 1, i + 1] = min([m[j + 1, i], m[j, i], m[j, i + 1]]) + 1\n",
        "  # kao rezultat vraca se vrijednost iz m na donjem desnom kutu, a ona\n",
        "  # predstavlja ukupnu minimalnu udaljenost izmedu cijelog niza s1 i niza s2\n",
        "  return m[len(s2), len(s1)]\n",
        "\n",
        "edit_distance('PLEASANTLY','MEANLY')"
      ],
      "metadata": {
        "colab": {
          "base_uri": "https://localhost:8080/"
        },
        "id": "GwFpuVO-mlXV",
        "outputId": "0a481897-1dd1-4c71-d5c4-36811a374933"
      },
      "execution_count": null,
      "outputs": [
        {
          "output_type": "execute_result",
          "data": {
            "text/plain": [
              "5"
            ]
          },
          "metadata": {},
          "execution_count": 29
        }
      ]
    },
    {
      "cell_type": "code",
      "source": [
        "with open(\"rosalind_ba5g.txt\", \"r\", encoding='utf-8') as f:\n",
        "  inlines = [x.strip(\"\\n\") for x in f.readlines()]\n",
        "  first_word, second_word = inlines\n",
        "edit_distance(first_word, second_word)"
      ],
      "metadata": {
        "colab": {
          "base_uri": "https://localhost:8080/"
        },
        "id": "_U4NfuAkmBwB",
        "outputId": "0fe52f28-5cc9-450d-f1d2-9c4f50e9b6a9"
      },
      "execution_count": null,
      "outputs": [
        {
          "output_type": "execute_result",
          "data": {
            "text/plain": [
              "1811"
            ]
          },
          "metadata": {},
          "execution_count": 31
        }
      ]
    },
    {
      "cell_type": "markdown",
      "source": [
        "## [BA5H](https://rosalind.info/problems/ba5h/) - Find a Highest-Scoring Fitting Alignment of Two Strings"
      ],
      "metadata": {
        "id": "pVKGPIc9kpFV"
      }
    },
    {
      "cell_type": "code",
      "source": [
        "def addDirection(m, p, s1, s2, i, j, penalty = -1):\n",
        "  new = (j + 1, i + 1) # trenutna pozicija u matrici (jer iskljucujemo 0,0)\n",
        "  # postavi vrijednost na 1 ako je s1 na i-toj poziciji jednak s2 na j-toj\n",
        "  # inace postavi na -1\n",
        "  match_ = 1 if s1[i] == s2[j] else penalty\n",
        "  opt = [\n",
        "      m[j, i] + match_, # gornjem lijevom elementu dodaj match\n",
        "      m[j, i + 1] + penalty, # gornjem dodaj penal\n",
        "      m[j + 1, i] + penalty, # lijevom dodaj penal\n",
        "  ]\n",
        "  m[new] = max(opt) # na poziciji i+1 i j+1 u matrici je maksimum iz opt\n",
        "  # pronad maksimum izmedu vrijednosti\n",
        "  # gore-lijevo, gore i lijevo od elementa\n",
        "  p[new] = [\"diagonal\", \"up\", \"left\"][opt.index(max(opt))]\n",
        "  return m, p"
      ],
      "metadata": {
        "id": "cSjq5RYolhTY"
      },
      "execution_count": null,
      "outputs": []
    },
    {
      "cell_type": "code",
      "source": [
        "def getWords(p, s1, s2, j, i):\n",
        "  a1, a2 = '',''\n",
        "  while i > 0 and j > 0: # dok su i *i* i *j* veci od 0\n",
        "    if p[j, i] == \"diagonal\": # ako je na putu p na poziciji j,i up-left\n",
        "      a1 += s1[i - 1] # uzmi prijasnji element od s1\n",
        "      a2 += s2[j - 1] # uzmi prijasnji element od s2\n",
        "      j, i = j - 1, i - 1 # samnji oba indeksa\n",
        "    elif p[j, i] == \"left\": # ako je na putu p na poziciji j,i left\n",
        "      a1 += s1[i - 1] # uzmi prijasnji element iz s1\n",
        "      a2 += \"-\" # postavi na s2 crticu\n",
        "      i = i - 1 # smanji indeks i za 1\n",
        "    elif p[j, i] == \"up\": # ako jw na putu p na poziciji j, i up\n",
        "      a1 += \"-\" # postavi na s1 -\n",
        "      a2 += s2[j - 1] # uzmi prijasnji element iz s2\n",
        "      j = j - 1 # smanji indeks j za 1\n",
        "  return a1, a2"
      ],
      "metadata": {
        "id": "DQYl0XyRmX_m"
      },
      "execution_count": null,
      "outputs": []
    },
    {
      "cell_type": "code",
      "source": [
        "def fitting_alignment(s1, s2):\n",
        "  # rjecnici - matrice za pohranjivanje vrijednosti, smjera\n",
        "  m, p = {}, {}\n",
        "  for j in range(len(s2) + 1): # za svaki element u stringu s2 +1\n",
        "    m[j, 0] = -j # vrijednost u prvom stupcu matrice je negativan index\n",
        "    p[j, 0] = \"up\" # u najlijevijem stupcu se samo moze ici prema gore\n",
        "  for i in range(len(s1) + 1): # za svaki element u stringu s1 +1\n",
        "    m[0, i] = 0 # vrojednost u prvom retku matrice su nule\n",
        "    p[0, i] = \"left\" # u prvom retku matrice mozemo samo ici lijevo\n",
        "  m[0, 0] = 0 # postavi 0,0 element matrice na 0\n",
        "  # iteriraj po matrici gdje je j oznaka retka, a i stupca\n",
        "  for j in range(len(s2)):\n",
        "    for i in range(len(s1)):\n",
        "      m, p = addDirection(m, p, s1, s2, i, j, penalty = -1)\n",
        "  # zadnja vrijednost stupca u svakom retku\n",
        "  sc = [m[len(s2), i] for i in range(len(s1) + 1)]\n",
        "  max_score = max(sc) # pronadi maksimum u zadnjem retku\n",
        "  i = sc.index(max_score) # index maksimuma (index stupca)\n",
        "  j = len(s2) # j je velicina s2 - index retka\n",
        "  a1, a2 = getWords(p, s1, s2, j, i)\n",
        "  return max_score, a1[::-1], a2[::-1] # vrati maksimalni score, obrnute a1 i a2\n",
        "\n",
        "s1 = 'GTAGGCTTAAGGTTA'\n",
        "s2 = 'TAGATA'\n",
        "\n",
        "print(*fitting_alignment(s1, s2), sep='\\n')"
      ],
      "metadata": {
        "colab": {
          "base_uri": "https://localhost:8080/"
        },
        "id": "nsZ2wd70vZuO",
        "outputId": "49d3255f-1f35-439a-98d1-018a3a0eae46"
      },
      "execution_count": null,
      "outputs": [
        {
          "output_type": "stream",
          "name": "stdout",
          "text": [
            "2\n",
            "TAGGCTTA\n",
            "TA-G-ATA\n"
          ]
        }
      ]
    },
    {
      "cell_type": "code",
      "source": [
        "with open(\"rosalind_ba5h.txt\", \"r\", encoding='utf-8') as f:\n",
        "  inlines = [x.strip(\"\\n\") for x in f.readlines()]\n",
        "  first_word, second_word = inlines\n",
        "\n",
        "print(*fitting_alignment(first_word, second_word), sep='\\n')"
      ],
      "metadata": {
        "colab": {
          "base_uri": "https://localhost:8080/"
        },
        "id": "DCayhw0I2x9n",
        "outputId": "548672e5-d83c-403d-9a8d-4d2ffd404594"
      },
      "execution_count": null,
      "outputs": [
        {
          "output_type": "stream",
          "name": "stdout",
          "text": [
            "116\n",
            "TAC-G-AGCGTCAGG-TAAACTA-T-GGACT-ACG-AACTACATCCTAAATAATGTCA-T-GACA-GC-TGCGA-ACCA-CGTG-TGTTCTTTATAATGGTGA-CACCGCGT-CTTGTTGCGTCATGCGTCGAAAA-G-----A-T-TT--TTCT-G-GGTATGATC-A-ACTGTT-TACCGCA-CAACTCCA-CCAACC-TTACTCGGAA-CT-CATGTAGCCGAGGCT--CTC-ACTGTCAGCA-CGCGGATTGGTG-T-AA--C-CGCT--GGATAGCCT-TG-TCTGCCG-T-CTCTAAGTA--CAG--TGAC-CCGA-GG----TCTTG-TTGCGGAAACGGCTGAATAGGACTGCCGT-C--AGGTTATCAAGTACAT-CC-GG-T--TG---G-AGCC--CGCT-TTAG--ATGCAGAGGCAC--TAGAGA-AT-AGAGAAGGTCTCGGATCACACTGAATTGTGTGCCGTCC-GCCTGTTGGGCTGACAAC-CTTCGGCCGATACTTCTTGGCACGTAAGTCCAAC-GCCCAACGCTCTAGCCCGGG--AGGGATGCCCTA-AG-ATG-TCCCG-GGGAGCATC-GAGTCT-AC-GGGACG-AGTTTTGTTACGTG-TGGCCTAAACTGGGTGAAAGT-TTGGC-T-G-TTGAAGGTGCGGGA-GCCGT-TCG-C-ACCG---AA-GAC-CTG-A-GCAAGTGCGT--ATCCCGCCCGTGGGC-CCTGCAAGTGAGCCAAT--TC-CATGAGTGTACTAACA-TTTGATTGTTGATTGTGA-CCAGTG-TTC----TACAGAGTA-GC-TT-TA-GTGCGA-GTCA-TACGCAG--TGAC--ACAGTTTGACCG-CTC----ATC-A-GCTCAG-TG-AATCCGCGTGTTCACCAT-CACAATCTGAGAGGTATCTCTAGGGGGTTAA\n",
            "AACAGTAACGGGAGGCT--CCGAGTCCG-CTCTCGTAACTGCA---TAAAT-AGGGCAGTCGTCATCCTTTC-ATACTACCG-GATGTTC-TTA-GACCG-GATC-CTTCATAC-AGTGGCACCA--CGAC-AAAACGCTCAAAGTCTTCCTACTCGAGGT-TTAGCTATAGGGTTGT--GGCATCAA-T-TATCCATCCGTTACT--TAAGCTCCA-G-AG-C-ACGCTCCCTCTA-TGT-AGCATCGCGGGCCGGTGATGAATGCAC-CTCCGG---GGTTATGATC-G-GGATGGGCGAATTACCCAGAATG-CTATGAGGGCCCTTCGTGATTTCGGACA-GGAT--ATACCACT-TTATACAAAGGGT-TC-GGT-TATACCGGGATGGTGCAAGAAACCTGAGCTGTTAGTTATGCCGAGG-ACGTTACA-ACATCAGA-AA---C-C-G-CCCCA-TGAATGGTG-GCTGACCAGCC-CCCACACTGAAAACGC-T---CC-A-AC--C-T--CCCGT-A-T--AACTG-CCAATGCCCT--CCAGGGCCTCGTATTCAC-ATCGCA-GCGCCCGTGGG-CCAACTG-G-CTAACTGCGAAGCAG-TACG--ACAAGCTCGCCT---TTGGGCGCAGGTACAGACATCGCTCG-A-G-AC--AACCCCTTATCGTCTGCCGTCCAACG-CACAGCATG-AACTGCGTGAATCCC-AAAGTGAACGCC--CAGGAGAGCCTGTGATCTCA-G-GTG--CT--CAGTGTGAACGTTGA----GATCCAG-GCTTCGTGTTTCATACTACGCGTTCTACGT-CGACG-CACT-CGAAGCCCGGCGTAC-CTTTG-CTGTCTCGGGAATCAACGC-CGGCCGTCAGCCCCG-GTT-GGCATGC-CAA-C-AAGA-CT-T-TCGA-GGAGCAAA\n"
          ]
        }
      ]
    },
    {
      "cell_type": "markdown",
      "source": [
        "## [BA5I](https://rosalind.info/problems/ba5i/) - Find a Highest-Scoring Overlap Alignment of Two Strings"
      ],
      "metadata": {
        "id": "qUtj6c4dkqfb"
      }
    },
    {
      "cell_type": "code",
      "source": [
        "def overlap_alignment(s1, s2, penalty=-2):\n",
        "  # rjecnici - matrice za pohranjivanje vrijednosti, smjera\n",
        "  m, p = {}, {}\n",
        "  for j in range(len(s2) + 1): # za svaki element u stringu s2 +1\n",
        "    m[j, 0] = j * penalty # vrijednost u prvom stupcu matrice je negativan index\n",
        "    p[j, 0] = \"up\" # u najlijevijem stupcu se samo moze ici prema gore\n",
        "  for i in range(len(s1) + 1): # za svaki element u stringu s1 +1\n",
        "    m[0, i] = 0 # vrojednost u prvom retku matrice su nule\n",
        "    p[0, i] = \"left\" # u prvom retku matrice mozemo samo ici lijevo\n",
        "  m[0, 0] = 0 # postavi 0,0 element matrice na 0\n",
        "  # iteriraj po matrici gdje je j oznaka retka, a i stupca\n",
        "  for j in range(len(s2)):\n",
        "    for i in range(len(s1)):\n",
        "      m, p = addDirection(m, p, s1, s2, i, j, penalty) # BA5H\n",
        "  # zadnja vrijednost retka u svakom u svakom stupcu\n",
        "  sc = [m[j, len(s1)] for j in range(len(s2) + 1)]\n",
        "  max_score = max(sc) # pronadi maksimum u zadnjem stupcu\n",
        "  j = sc.index(max_score) # index maksimuma (index retka)\n",
        "  i = len(s1) # i je velicina s1 - index retka\n",
        "  a1, a2 = getWords(p, s1, s2, j, i) #BA5H\n",
        "  return max_score, a1[::-1], a2[::-1] # vrati maksimalni score, obrnute a1 i a2\n",
        "\n",
        "s1 = 'PAWHEAE'\n",
        "s2 = 'HEAGAWGHEE'\n",
        "print(*overlap_alignment(s1, s2), sep='\\n')"
      ],
      "metadata": {
        "colab": {
          "base_uri": "https://localhost:8080/"
        },
        "id": "CL7w8t1vBCnC",
        "outputId": "cb5d2799-5418-47ae-8769-56458ad176a2"
      },
      "execution_count": null,
      "outputs": [
        {
          "output_type": "stream",
          "name": "stdout",
          "text": [
            "1\n",
            "HEAE\n",
            "HEA-\n"
          ]
        }
      ]
    },
    {
      "cell_type": "code",
      "source": [
        "with open(\"rosalind_ba5i.txt\", \"r\", encoding='utf-8') as f:\n",
        "  inlines = [x.strip(\"\\n\") for x in f.readlines()]\n",
        "  first_word, second_word = inlines\n",
        "\n",
        "print(*overlap_alignment(first_word, second_word), sep='\\n')"
      ],
      "metadata": {
        "colab": {
          "base_uri": "https://localhost:8080/"
        },
        "id": "8VAgqvO7AzAL",
        "outputId": "68064206-3760-4da1-f523-6b8c5c7f87be"
      },
      "execution_count": null,
      "outputs": [
        {
          "output_type": "stream",
          "name": "stdout",
          "text": [
            "29\n",
            "GGGTACTACCTCTTCATCCACCTTCG-AAGCATATCAACGCAAGCTCAGGAGTG-AGCAGAAG-T-TACT--AAAGTCCAGTA-CGTAACAT-TCACCCTTTCCATTTCTACAC-AT-GTAGTCCGTGGGCTACATTACATTTTC-AGGCGGTCTTCAAGTCGTTACCACAT-GCGC-CT--TGATTTGTTTTTGCGAGCGGATACATAC-CAGAGAG-CCGAAGTC-GGC-ATCGGGTTCG\n",
            "GGATACTATATCCTCATCC-GCGTCGAAAGTATATC-AGGC-A-TTC-GGAACGCAGC-GAAGCTCT-CTAAAAAAT-CAGTACCGTACCATCTCACCATCTACGTTGCTACGCAATCGT-GTCAGTTGGCTATATTAC-TTTTCGCGGCGG-CTTCAGGCCG-CACCACATCGTGCACTCCTGATTTTTTTTTGCAAG-TGATA-TTTCGCAGAGCGCCCGAAGTCTATCGATCAGGACCG\n"
          ]
        }
      ]
    },
    {
      "cell_type": "markdown",
      "source": [
        "## [BA5J](https://rosalind.info/problems/ba5j/) - Align Two Strings Using Affine Gap Penalties"
      ],
      "metadata": {
        "id": "ydOtVDWpkxLE"
      }
    },
    {
      "cell_type": "code",
      "source": [
        "def insert_indel(word, i):\n",
        "  return word[:i] + \"-\" + word[i:]"
      ],
      "metadata": {
        "id": "jmo23xBEFNF5"
      },
      "execution_count": null,
      "outputs": []
    },
    {
      "cell_type": "code",
      "source": [
        "def addDirection(x, y, m, px, py, pm, i, j, v, w, epsilon, sigma):\n",
        "  # rjecnik - sadrzi vrijednosti kazni ili nagrada za odredene parove znakova\n",
        "  score = Scores\n",
        "  # s je jednak 2 elementa, gornjem iz x - epsilon\n",
        "  # i gornjem iz m - sigma\n",
        "  s = [x[i - 1, j] + epsilon, m[i - 1, j] + sigma]\n",
        "  x[i, j] = max(s) # x na trenutnoj poziciji je maksimum izmedu 2 matrice\n",
        "  # u px spremi je li vodi do tog elementa x ili m\n",
        "  px[i, j] = s.index(x[i, j])\n",
        "  # s je jednak 2 elementa, lijevom iz x - epsilon\n",
        "  # i lijevom iz m - sigma\n",
        "  s = [y[i, j - 1] + epsilon, m[i, j - 1] + sigma]\n",
        "  y[i, j] = max(s) # trazi se maskimum iz s i postavlja u y na trenutnu poz\n",
        "  # u py spremi je li vodi do tog elementa y ili m\n",
        "  py[i, j] = s.index(y[i, j])\n",
        "  # s sadrzi tri elementa, vrijednost x i y na trenutnoj poziciji\n",
        "  # te m na poziciji gore lijevo (dijagonalno) + vrijednost iz score\n",
        "  # za odredena slova (na odredenoj poziciji -1 -> indeksiranje)\n",
        "  s = [x[i, j], m[i - 1, j - 1] + score[v[i - 1]][w[j - 1]], y[i, j]]\n",
        "  m[i, j] = max(s) # trazi se maksimum iz s i postavlja u m na trenutnu poz\n",
        "  # u pm spremi je li vodi do tog elementa x ili m ili y\n",
        "  pm[i, j] = s.index(m[i, j])\n",
        "  return x, y, m, px, py, pm"
      ],
      "metadata": {
        "id": "lNYqSM_aoVSE"
      },
      "execution_count": null,
      "outputs": []
    },
    {
      "cell_type": "code",
      "source": [
        "def getWords(a1, a2, px, py, pm, i, j, s):\n",
        "  while i * j != 0: # dok je umnozak razlicit od 0\n",
        "   if s == 0: # ako je index scora nula (iz x)\n",
        "     if px[i, j] == 1: # ako je na px na poziciji i,j postavljena vrijednost 1\n",
        "       s = 1 # postavi s na 1\n",
        "     i -= 1 # smanji index i za 1\n",
        "     a2 = insert_indel(a2, j) # umetni prazninu na poziciji j u 2. stringu\n",
        "   elif s == 1: # ako je index scora 1 (iz m)\n",
        "     if pm[i, j] == 1: # i ako je na pm na poziciji i,j postavljena vrijednost 1\n",
        "       i -= 1 # smanji i za 1\n",
        "       j -= 1 # smanji j za 1\n",
        "     else: # inace\n",
        "       s = pm[i, j] # s postavi na vrijednost iz pm na pozciji i,j\n",
        "   else: # inace\n",
        "     if py[i, j] == 1: # ako je na py na poziciji i,j postavljena vrijednos 1\n",
        "       s = 1 # postavi s na 1\n",
        "     j -= 1 # smanji index od j\n",
        "     a1 = insert_indel(a1, i) # u prvom stringu umetni prazninu na poziciju i\n",
        "  # ako i ili j ostanu da su veci od 0, toliko crtica umetni na pocetak\n",
        "  # kako bi se duzine izjednacile\n",
        "  for _ in range(i):\n",
        "    a2 = insert_indel(a2, 0)\n",
        "  for _ in range(j):\n",
        "    a1 = insert_indel(a1, 0)\n",
        "  return a1, a2"
      ],
      "metadata": {
        "id": "UdjTUbCmpedx"
      },
      "execution_count": null,
      "outputs": []
    },
    {
      "cell_type": "code",
      "source": [
        "# epsilon - prosirenje praznine\n",
        "# sigma - otvaranje praznine\n",
        "def global_affine(v, w, sigma=-11, epsilon=-1):\n",
        "  # m sadrzi scores za poravnanje dijagonalno\n",
        "  # x sadrzi scores za poravnanje prema gore\n",
        "  # y sadrzi scores za poravnanje prema lijevo\n",
        "  m, x, y = {}, {}, {}\n",
        "  # rjecnik pm, px, py cuva indekse na koji element matrice m, x, y\n",
        "  # je doprinjeo maksimalnom skoru u trenutnoj poziciji (i, j)\n",
        "  px, pm, py = {}, {}, {}\n",
        "  # postavi prvi lijevi na nulu u sve tri matrice\n",
        "  x[0, 0], m[0, 0], y[0, 0] = 0, 0, 0\n",
        "  # u cijeli prvi stupac postavi\n",
        "  for i in range(1, len(v) + 1): # u duljini prve rijeci +1\n",
        "    # kaznjavamo kako bi svaki sljedeci element imao vecu kaznu od prethonog\n",
        "    # otvaranje praznine, prosirenje praznine i pomicanje\n",
        "    x[i, 0] = sigma + (i - 1) * epsilon\n",
        "    m[i, 0] = sigma + (i - 1) * epsilon\n",
        "    # kako bi se stavila velika kazna\n",
        "    y[i, 0] = 10 * sigma\n",
        "  # u cijeli prvi redak postavi\n",
        "  for j in range(1, len(w) + 1):\n",
        "    # kaznjavamo kako bi svaki sljedeci element imao vecu kaznu od prethonog\n",
        "    # otvaranje praznine, prosirenje praznine i pomicanje\n",
        "    y[0, j] = sigma + (j - 1) * epsilon\n",
        "    m[0, j] = sigma + (j - 1) * epsilon\n",
        "    # kako bi se stavila velika kazna\n",
        "    x[0, j] = 10 * sigma\n",
        "  # iteriraj po matrici od prvog reda i stupca (nulti popunjeni)\n",
        "  for i in range(1, len(v) + 1):\n",
        "    for j in range(1, len(w) + 1):\n",
        "      x, y, m, px, py, pm = addDirection(x, y, m, px, py, pm, i,\n",
        "                                         j, v, w, epsilon, sigma)\n",
        "  i, j = len(v), len(w) # i i j su duzine stringova\n",
        "  a1, a2 = v, w # za sada su a1 i a2 pocetni stringovi\n",
        "  scores = [x[i, j], m[i, j], y[i, j]] # pronadi scorove u donjem desnom rubu\n",
        "  max_score = max(scores) # pronadi maksimum izmedu tih scores\n",
        "  s = scores.index(max_score) # uzmi index najveceg da znamo iz koje je matrice\n",
        "  a1, a2 = getWords(a1, a2, px, py, pm, i, j, s)\n",
        "  # vrati maksimalan dobiveni score , poravnate stringove a1 i a2\n",
        "  return max_score, a1, a2\n",
        "\n",
        "s1 = 'PRTEINS'\n",
        "s2 = 'PRTWPSEIN'\n",
        "print(*global_affine(s1, s2), sep='\\n')"
      ],
      "metadata": {
        "id": "ICyGgtiQFK02",
        "colab": {
          "base_uri": "https://localhost:8080/"
        },
        "outputId": "beb5610c-751f-44b3-daf5-bf125d90296a"
      },
      "execution_count": null,
      "outputs": [
        {
          "output_type": "stream",
          "name": "stdout",
          "text": [
            "8\n",
            "PRT---EINS\n",
            "PRTWPSEIN-\n"
          ]
        }
      ]
    },
    {
      "cell_type": "code",
      "source": [
        "with open(\"rosalind_ba5j.txt\", \"r\", encoding='utf-8') as f:\n",
        "  inlines = [x.strip(\"\\n\") for x in f.readlines()]\n",
        "  first_word, second_word = inlines\n",
        "\n",
        "print(*global_affine(first_word, second_word), sep='\\n')"
      ],
      "metadata": {
        "id": "oULLC1nNFAur",
        "colab": {
          "base_uri": "https://localhost:8080/"
        },
        "outputId": "886b3f58-79c8-41f4-846e-87d543e2df90"
      },
      "execution_count": null,
      "outputs": [
        {
          "output_type": "stream",
          "name": "stdout",
          "text": [
            "133\n",
            "IAYCEQTSKCGIWTDIEQVVKQTNAIGSWQDSWQTGPDLNHYIFQSE--IKFCHLAETVDIMYFQKVN------HGHKWVMST\n",
            "-ALCEQTS--------EQVVKNLSWQGWELESWQTGPGLNHYIFQSEAAVHKHWFLNTVDIMYFQKMREPTVSMRSHARVNST\n"
          ]
        }
      ]
    },
    {
      "cell_type": "markdown",
      "source": [
        "## [BA5K](https://rosalind.info/problems/ba5k/) - Find a Middle Edge in an Alignment Graph in Linear Space"
      ],
      "metadata": {
        "id": "jhoP2IvGkyuV"
      }
    },
    {
      "cell_type": "code",
      "source": [
        "# prima prvu i drugu rijec, matrica skorova koja sadrzi vrijednosti kazni\n",
        "# ili nagrada za odgovarajuce parove znakova te\n",
        "# kaznu za otvaranje praznine ili prosirenje praznine u poravnanju\n",
        "def calculate_scores(s1, s2, scores, penalty):\n",
        "  # sc se inicijalizira kao lista duljine n+1 s vrijednostima od 0 do\n",
        "  # (n+1)*penalty s korakom penalty, ovo predstavlja kazne za otvaranje praznine\n",
        "  # na svakoj poziciji u prvom redu matrice poravnanja\n",
        "  sc = list(range(0, (len(s1) + 1) * penalty, penalty))\n",
        "  # postavi sve vrijednosti nula u niz bt duljine prvog stringa + 1\n",
        "  bt = [0] * (len(s1) + 1)\n",
        "  for j in range(1, len(s2) + 1):\n",
        "    # stvara se privremena kopija liste sc pod nazivom psc koja sadrzi\n",
        "    # prethodne skorove za stupac\n",
        "    psc = sc[:]\n",
        "    # prvi element u novom stupcu sc postavlja se kao prethodni prvi element\n",
        "    # (psc[0]) plus kazna penalty, sto predstavlja kaznu za otvaranje praznine\n",
        "    sc[0] = psc[0] + penalty\n",
        "    # iterira po prvom nizu (s1) od prvog do zadnjeg elementa\n",
        "    for i in range(1, len(s1) + 1):\n",
        "      # prvi element u opt je prethodni skor (psc[i]) plus kazna penalty\n",
        "      # sto predstavlja kaznu za proširenje praznine.\n",
        "      # drugi element u opt je skor iz prethodne pozicije u trenutnom stupcu\n",
        "      # (sc[i-1]) plus kazna penalty\n",
        "      # treci u opt je prethodni skor na dijagonalnoj poziciji (psc[i-1])\n",
        "      # plus skor iz matrice skorova za par znakova s1[i-1] i s2[j-1]\n",
        "      opt = [\n",
        "          # vertikalno prosirenje praznine.\n",
        "          psc[i] + penalty,\n",
        "          # horiznontalno prosirenje praznine\n",
        "          sc[i - 1] + penalty,\n",
        "          # poravnanje znakova i dodaje skor iz matrice skorova\n",
        "          psc[i - 1] + scores[s1[i - 1]][s2[j - 1]],\n",
        "      ]\n",
        "      sc[i] = max(opt) # pronadi maksimum izmedu troje navedenog\n",
        "      bt[i] = opt.index(sc[i]) # spremi index tako da znamo odakle je doslo\n",
        "  # lista skorova za svaki stupac u matrici poravnanja\n",
        "  # lista povratnih putanja koja sadrzi informaciju o tome odakle je dosao\n",
        "  # maksimalni skor za svaku poziciju u matrici poravnanja\n",
        "  return sc, bt"
      ],
      "metadata": {
        "id": "LKYTEwMAKu-N"
      },
      "execution_count": null,
      "outputs": []
    },
    {
      "cell_type": "code",
      "source": [
        "# da bismo pronasli srednji rub, prvo pronalazimo najvecu bodovnu vrijednost\n",
        "# srednji stupac, zatim pronadite rub od ovog cvora do sljedeceg.\n",
        "# izracunava srednju bridnu tocku između dva niza znakova (s1 i s2)\n",
        "# da bi se odredila optimalna pozicija za poravnanje dvaju stringova\n",
        "def middle_edge(s1, s2, scores, penalty=-5):\n",
        "  # srednja tocka mid kao polovica duljine stringa s2\n",
        "  mid = floor((len(s2)) / 2)\n",
        "  # racunanje skorova i pozicija najveceg za poravnanje prvog dijela niza s1\n",
        "  # i prvog dijela niza s2 do srednje tocke mid\n",
        "  # skorovi se pohranjuju u sc1\n",
        "  sc1, _ = calculate_scores(s1, s2[:mid], scores, penalty)\n",
        "  # racunanje skorova i pozicija najveceg za obrnuti drugi dio niza s1\n",
        "  # i obrnuti drugi dio niza s2 od srednje tocke mid\n",
        "  # skorovi se pohranjuju u sc1\n",
        "  sc2, bt2 = calculate_scores(s1[::-1], s2[mid::][::-1], scores, penalty)\n",
        "  # stvaraju se ukupni skorovi total zbrajanjem skorova iz sc1 i sc2\n",
        "  # (obrnuta verzija), koristi se zip funkcija kako bi se iteriralo kroz skorove\n",
        "  # iz sc1 i obrnutu verziju skorova iz sc2\n",
        "  # te se zbrajaju na odgovarajucim pozicijama\n",
        "  total = [a + b for (a, b) in zip(sc1, sc2[::-1])]\n",
        "  # pronalazi indeks maksimalne vrijedosti iz total\n",
        "  best = total.index(max(total))\n",
        "  # stvara se tocka n1 s indeksom best i srednjom tockom mid\n",
        "  n1 = (best, mid)\n",
        "  # stvara se lista moves koja sadrzi tri moguca pomaka za poravnanje\n",
        "  # ovisno o vrijednosti u pozicijama najvecih bt2\n",
        "  # pomaci se odnose na promjene indeksa u matrici poravnanja\n",
        "  moves = [(n1[0], n1[1] + 1), (n1[0] + 1, n1[1]), (n1[0] + 1, n1[1] + 1)]\n",
        "  # stvara se tocka n2 na temelju odabranog pomaka iz moves\n",
        "  # koristi se obrnuti redoslijed vrijednosti u povratnoj traci bt2\n",
        "  n2 = moves[bt2[::-1][best]]\n",
        "  # vracamo tocke\n",
        "  return (n1, n2)\n",
        "\n",
        "s1 = 'PLEASANTLY'\n",
        "s2 = 'MEASNLY'\n",
        "print(*middle_edge(s1, s2, Scores), sep=' ')"
      ],
      "metadata": {
        "colab": {
          "base_uri": "https://localhost:8080/"
        },
        "id": "_FxekS-2K-ac",
        "outputId": "c3c254d8-e42b-4b6b-8ec3-38ce85e7054d"
      },
      "execution_count": null,
      "outputs": [
        {
          "output_type": "stream",
          "name": "stdout",
          "text": [
            "(4, 3) (5, 4)\n"
          ]
        }
      ]
    },
    {
      "cell_type": "code",
      "source": [
        "with open(\"rosalind_ba5k.txt\", \"r\", encoding='utf-8') as f:\n",
        "  inlines = [x.strip(\"\\n\") for x in f.readlines()]\n",
        "  first_word, second_word = inlines\n",
        "\n",
        "print(*middle_edge(first_word, second_word, Scores), sep=' ')"
      ],
      "metadata": {
        "colab": {
          "base_uri": "https://localhost:8080/"
        },
        "id": "6qSmMwdkecHr",
        "outputId": "52ce9424-fa9f-43bb-9752-13c93eff9c95"
      },
      "execution_count": null,
      "outputs": [
        {
          "output_type": "stream",
          "name": "stdout",
          "text": [
            "(519, 510) (520, 510)\n"
          ]
        }
      ]
    },
    {
      "cell_type": "markdown",
      "source": [
        "## [BA5L](https://rosalind.info/problems/ba5l/) - Align Two Strings Using Linear Space"
      ],
      "metadata": {
        "id": "J-nDpLOzk0V_"
      }
    },
    {
      "cell_type": "code",
      "source": [
        "# uzima dva niza znakova s1 i s2, dvodimenzionalni rjecnik scores koji\n",
        "# predstavlja bodove za odgovarajuce parove znakova i broj penalty koji\n",
        "# predstavlja kaznu za praznine u poravnanju, racuna ukupni rezultat poravnanja\n",
        "# izmedu s1 i s2 koristeci dane bodove i kaznu\n",
        "def alignment_score(s1, s2, scores, penalty):\n",
        "  return sum( # zbroji\n",
        "    # ako su ili s1 ili s2 na poziciji [i] jednaki - zbroji penal, inace\n",
        "    # score od njihovog para za svaki znak\n",
        "    penalty if s1[i] == \"-\" or s2[i] == \"-\" else scores[s1[i]][s2[i]]\n",
        "    for i in range(len(s1))\n",
        "  )"
      ],
      "metadata": {
        "id": "bj9aIrrMfFTR"
      },
      "execution_count": null,
      "outputs": []
    },
    {
      "cell_type": "code",
      "source": [
        "def build_alignment(path, s1, s2):\n",
        "  a1, a2 = \"\", \"\" # sadrze krajnje poravnanje nizova\n",
        "  i, j = 0, 0 # pocetni indeksi\n",
        "  for arrow in path: # za svaku strelicu u putu\n",
        "    if arrow == \"x\": # ako je strelica dolje-desno\n",
        "      a1 += s1[i] # nadodaj u a1 iz stringa s1 vrijednost na poziciji i\n",
        "      a2 += s2[j] # nadodaj u a2 iz stringa s2 vrijednost na poziciji j\n",
        "      i += 1 # prijedi na sljedeci za string s1 (povecaj i za 1)\n",
        "      j += 1 # prijedi na sljedeci za string s2 (povecaj j za 1)\n",
        "    elif arrow == \"d\": # ako je strelica dolje\n",
        "      a1 += s1[i] # nadodaj u a1 iz stringa s1 vrijednost na poziciji i\n",
        "      a2 += \"-\" # u a2 postavi prazninu\n",
        "      i += 1 # povecaj na sljedeci za string s1 (povecaj i za 1)\n",
        "      # j ostaje isti\n",
        "    else: # inace\n",
        "      a1 += \"-\" # u a1 postavi prazninu\n",
        "      a2 += s2[j] # nadodaj u a2 iz stringa s2 vrijednost na poziciji j\n",
        "      j += 1 # povecaj na sljedeci za string s2 (povecaj j za 1)\n",
        "  return a1, a2 # vrati krajnje poravnanje"
      ],
      "metadata": {
        "id": "rkx8h8qQX8a7"
      },
      "execution_count": null,
      "outputs": []
    },
    {
      "cell_type": "code",
      "source": [
        "def lsa(s1, s2, scores, penalty, top, bottom, left, right):\n",
        "  if left == right: # ako je duljina s2 jednaka 0\n",
        "    return \"d\" * (bottom - top) # vrati down ponovljen puta duzine s1\n",
        "  elif top == bottom: # ako je s1 duljine 0\n",
        "    return \"r\" * (right - left) # vrati right ponovljen puta duzine s2\n",
        "  else: # inace\n",
        "    # pronadi srednje tocke (BA5K)\n",
        "    ((i1, j1), (i2, j2)) = middle_edge(s1[top:bottom], s2[left:right], scores, penalty)\n",
        "    # rub je dolje ako su j i j2 isti, inace desno ako su i i i2 isti\n",
        "    # inace vrati dolje-desno\n",
        "    edge = \"d\" if j1 == j2 else \"r\" if i1 == i2 else \"x\"\n",
        "    return (\n",
        "      # prvi poziv find_path pronalazi put za lijevi gornji\n",
        "      # dio matrice poravnanja\n",
        "      # drugi poziv find_path pronalazi put za donji desni\n",
        "      # dio matrice poravnanja\n",
        "      # Rezultat se formira spajanjem putova lijevog i desnog dijela,\n",
        "      # dodajuci izmedu njih oznaku edge\n",
        "      # konacni rezultat se vraca optimalni put za poravnanje\n",
        "      lsa(s1, s2, scores, penalty, top, i1 + top, left, j1 + left) +\n",
        "      edge +\n",
        "      lsa(s1, s2, scores, penalty, i2 + top, bottom, j2 + left, right)\n",
        "    )"
      ],
      "metadata": {
        "id": "TVKSthsafgmq"
      },
      "execution_count": null,
      "outputs": []
    },
    {
      "cell_type": "code",
      "source": [
        "def find_path(s1, s2, scores, penalty):\n",
        "  return lsa(s1, s2, scores, penalty, 0, len(s1), 0, len(s2))"
      ],
      "metadata": {
        "id": "5WXW_S5OXD_Y"
      },
      "execution_count": null,
      "outputs": []
    },
    {
      "cell_type": "code",
      "source": [
        "def align_using_linear_space(s1, s2):\n",
        "  scores = Scores # uzmi vrijednosti parova scorova\n",
        "  path = find_path(s1, s2, scores, -5) # kreiraj put\n",
        "  a1, a2 = build_alignment(path, s1, s2) #dohvati krajnje poravnanje\n",
        "  # vrati score i stringove\n",
        "  sc = str(alignment_score(a1, a2, scores, -5))\n",
        "  return sc, a1, a2\n",
        "\n",
        "s1 = 'PLEASANTLY'\n",
        "s2 = 'MEANLY'\n",
        "print(*align_using_linear_space(s1, s2), sep= '\\n')"
      ],
      "metadata": {
        "id": "v7MvQszxhv9h",
        "colab": {
          "base_uri": "https://localhost:8080/"
        },
        "outputId": "e294ba27-9d41-40d2-9953-0fdacc51b648"
      },
      "execution_count": null,
      "outputs": [
        {
          "output_type": "stream",
          "name": "stdout",
          "text": [
            "8\n",
            "PLEASANTLY\n",
            "-MEA--N-LY\n"
          ]
        }
      ]
    },
    {
      "cell_type": "code",
      "source": [
        "with open(\"rosalind_ba5l.txt\", \"r\", encoding='utf-8') as f:\n",
        "  inlines = [x.strip(\"\\n\") for x in f.readlines()]\n",
        "  first_word, second_word = inlines\n",
        "print(*align_using_linear_space(first_word, second_word), sep= '\\n')"
      ],
      "metadata": {
        "colab": {
          "base_uri": "https://localhost:8080/"
        },
        "id": "RvQNphXrU6ys",
        "outputId": "1a8156cc-cc9f-4918-a041-18feb1a89976"
      },
      "execution_count": null,
      "outputs": [
        {
          "output_type": "stream",
          "name": "stdout",
          "text": [
            "18171\n",
            "TTHAWIPIMEGWYYRKDDKCYVICENRIYIGPTCGRYRINTCNNY----AN-NSSVYDFHSPHSSWGRIAMAYLTPIWRTREIQWTWAEWEY-------P---H-Q-Y--CD-D-ATFKFHCTKSNPEIMAVTWIHWQQCWELSRKYKQFCFGKPEDHGWKRKTTHKQACVLAIENTWDNYKIMHYNPV-AKEMQEPAGVENKWCH-T-PKWCY-TH-Q-MTI---R----RCCGAINVDIHPSIYAQLMLLQHWDFPDWEYIRM-K---QDVSPTFI---SR-Q--DLLNFPKVTA---RPDDDTMSGRLPTEDNEERHEDVVMGMNTQGMTVPGEWIRGDGCPQAHSACYAFNAWITRDPIMQSHIVVREFRARMGSCIMEIVMQVQQPQDAPECWYV--L---RPM-QFPNNVHQYIKVQLQENQYFDQMWKGRFLYTTKNLEDDNNTQEDNILERWVQSMECKQHEGHQFHQKRREEWLVTKLCEPG-EH---D-GFFMFVEEIRIAAVYPRH-W--K-LHNPLQKQADIWRRNEPLKWHLCWMLDNGNAL--DAQQHTVDAYAFMMF-FEDTGLSKMKVAKVYNGNSHGGQIKHPLFTRLWHHSCIVYERHIYRHHNYNCCEGCDWIK---T--QMRCRLGSFNCELVQGCEKQQSVKWDHSDNASHAKRPRNHDEKNKFAHPF--V--SIYEHPKLQSWY------DSW-Y-SMHDNVPWPGTFQWLPAVSTL-FLIKIMYVWWVWSKVQPQAETKGLFAMYKSLCSYSLGS--VE-VMR-----E-QDWRVVTPWEIGAFG--NEPQIEHYWTI-----F--LPPMAQWAYTGTHVPTIACMKNCLANHIMEGRSMHPRQQDDINGKIRVWVEAENVFLIQHWVVRYVTWHFQEALPVPWH-WLQCAPNSDP-ELACILWGIHSGARCFDRSIQTWTLWVMIRKYAAEWQHWMVEEMKIEVNVAQGPCWAIKMDQLRNWNCLYLGIMCHCYPNYWLFYIIGWDFGERFAYTVWMVVNSYGQTYCSCLMHYIGPEYRCRIYPPKYIKVLSKQTCHWFDGPWCMHLQPVCSLHVGEPGFCDYVIKYTNVSPYKMQHLLDPFDEYN-----NMEQFLKYAY--CY-EL--CNNITQ-QK---DLNASIDS-----Y--LDEPWVNRGFCKF--V-RNQVW--LEVAWIKLHMGHHWGTL-PT--E----PKCLKEMQDGHA---Y-GATD-D----WKFNDRGLWNTEEEWAGQWTRKMSMAGIMPNKHWVNIMRAGGKQWEWFGQSGHMIQEDDKNHENVCGSYQMWALACTVNHCHDRTIRRYQQLF---LITGWVMQCNCHKWD--VIDYSMPLPDSNATVQNEAGEYLMKEIFRLRKMFFWAEQGWQFGFMWD--H-SD-VMACFMIPMENDTFTAYKWGRFAHVTYENKPFVYMIDMKRLMN----RVIG---AE--A-A-YMNVWERMWQDPCYRDTRHHYAWRWYKCVSMVSDVFDHHEICNKDLLRKSWTSRKPRGVEESM--SRSGDE--CHQYIE-D-DESLCLMQRKVDLCKKYLCTRPPQPMIWHDW----LVHPSYSIDPWTRNLVPAD-QQ-ESVNLWFNQMLDIHSSSQNFITNADNREKKNWETIRD--HQIQFHEAVHC-HHV--KIRTIQDNPVKCMFMNPRWA--QRMNPLLGWARLKD--WR--S----HKLINTN-R-M-GW-DSQVERYMPYEWGRLFVEITNASGMNGNVFHED-N-Y-EYCWNDLV--CQTYTQEFWEYACNNSQRICQGMLYYKADQY-MWAQ-K-HHV-NIFHYEFLCGLDAEHPSSPETPCHWDQGLIKTCSGGIWM---TMLVCYVCMFERDLLSRAYWKSDAAKWLLDNYCDCSD--SNRVSFPLFITIYFVAPVAPFY-RPLKQWTLKE-KIVA--N-D----GTGTGMVQ-SQPTSAVKNDTCRWKKCINGHWHVQVVMLILGLKTRAVHEKYHNQSFYHPGRIMGWQGPPTCYPTQDDSTLEADKPVDSLPLGTFQWY-I-YP--P--YMFTKMWWTKGY-IMDLMTVHNCQWQKR-YMRARTVAYHGALIEKTLYFHVKTRQCFWSYASICQIDNFDL-----HQPQCSKQTMMIPPQGRQSKPCRWNARLFKECAELAAYEPGANHHCEMYVLDMFWGWGFAWTWRRSFHSSSHD-NACSNGCCHCSKG-F-------EKYYFDDVWEPRAIMIESGFWPGDRVGGESIWDCNICRAEEVYTANFFEYMTGFVGHLMGTGFGMCLQMAPMNCHKSMHWPDITFSAAIDFWYHDHDCPVVPGCDLQKFFGGDNDQHVPWFHLCMAEEIN--FHAIC---A---V-ML-KITCECNPMCDIKASGVRCNLSIEFVLRRRFGWEPMHTRDWWRRRYHTLYLQHWCWTTCCIYEYPENQVGRRDSHNTS-N---WLLK--K--TYSFIHGLDGSQPHEMPPKNITMWKQDPTSHDKHEPCKQVYDKNY--G-W-ISTGDWPCHMKVFTFTGWCEFRAIDRWPCWHSIFNCKTTSRGTDCPPGFLEVSFQKSPW-PIQKEG-R----SRHGK--L---FGPTDTPPRAPQWKDVAKLDLVRHSFQDLPEDKLLGGGMSTMELQGQLYEEWIHEWKGHHADSFHIRGKWSTLHRRCG--E-VKGE-W-R-NTHWG-IKR-RPS--TTMHMLMFTFPEAYRPHRICPMAICISTYNMTEMRWDAFTHMRWKKRCKNGGTAHVESCADKLLCHTDQTLCHYETLGLCQWINTMSGTNTWMCASQLFDTRGSQCSVWPTMEGPSELMMKTWYKYNAVYQVIKGWSYEFSFL--------FYVYICRINSGDLRIEK---DVMCEQE-HQNCQR-I--TQ-WGFMLQTGIDIRYRVSLHWQSVWEKTEEQGGMPMYPKVD-H-M--EW-NQVESMHACIKVAIMQICQSGAHMALGTLSGTQQWEMSQGSSEIIRCAPYPPGALCRTCHWSEKDPM--V--QGYKPR-EP-I--KIDFTKPMWDP--D-ADM---DILYTQTHTH------Y-GHDQNWKLALWLSSWQMIPND----W----Y----T-QPGEQKYRHGCVYFRFHHAEWLNY---T-----TNCGRRAMRNRCVEKCITQCERDSGKMIYWNFHARAPHVQSL-YCCMCAIW---FQSIHWFSQRRGHITEHKVMIQASNVIRGLGMAVTYQACVH-----YDPVPYRHA--A--G-HDPLFMNMLPWSFVKWHKNIKWNVIPNDRKSAVKGMCSFQPMWWIVYFWMGSRHQE-MM-S---S-CPK--SGASVWFT--TC-TQRPF-SVMQLILSFGADLSH---QNQGGMRMCGPCRKIQ----CTTQQRLIRIIVHYQGDWIKKCLRWTAPDPKVMQCRVC-QRNVMELRFSRAYESDESTQIYHPWRTPFIASELHQSMWECDPHPHTISFPHEWWMCCGKALFCQKVMMRDRDWPWHTHKEYMVYGHVTMAKIWCLLANQTQPSDAFVTPIDA-K--Y-V---VPWLHDTLFFPCMPLANPCYEKYCEHCYREEIEEPVKKLWNGDPIWENFFWATG-------SDDQKS--P-LMIQGVMYMHCIIHLGDQVCS-W-------MGLG-G----EWPCQEPINIAVQRDYRHFSQTCCWQ--RL-E--ERFKETAPIFWMKIKIITWRFKKLVWPWNLSQVPPVWI------CAQH----M-QW-IV---AGRSNKMDMMLWFSKRYLTCIANWP-MFDNNMPPTLKKNS-GPQGQGKHCLESGQQLHQIAMFRTILMTFKL---K--KKQCLFNFNPAWGLPLGFWAHDWSIPADVRAFQYHQRISHCSVAHHSTWYECWHKGTWYHATWFIRQVVIVCRCYNDMQFA------CQTDYGKQPFLNTMSS-YIDMHFHLSCRGPKVFVDMIKAAAVTQENDFYSNLVDDVTMHTNYDLPNLRHRYKHMQDCVHWDGYTTELQCCYHHHHKYCPGVAMCDFNVYLKCCGQLTALFMGENCM-TKHCWVNE-T----TCMDFWVNHKKIWIRQSMDPDYKNKHGTDGHVAQTPGHYHNVAHL-VFW-FV----FKFAIQSKQYINTDFLAKFTSTDASYCTINILGMVTGSHENMDCEREHLRCVRSMYEHLILLDPTEDILKLCVDHYWAKYKVSLAKEPDC---HPMWYAPYYEED-SDMQDTIFLAF-IVH---R-N-R--IMFWESLFMITRMRFLHMVEH---Y-MQGPL---CHGEHFSAYIDPWAMKY-IRTVSFNTNPLFAGRM-L-F-AV-LS-RY---IREPCDYSMVLIEDHA--N--SWWSNPHHLYPYMMGRTHTDIINDPV--R-------E--RGAPAYMY-HHMVQGKWCTII-CAYNEDKNHEDWHMGVRGLSKRCNVPDASTHEIYYDVHFFMPNEDRCQSAYAYAAGGDSGDMTAQWRRQKGLRGGKYNYISHLTCNS-ENHQAGTDRHEM-MGMMHQDFMHH--T-CLQVCQ----YD--T-AHS-DQMHTWFHSDPVEHPKAPCSCNVVHIEKLTDWDYEQKNT-YGADKPLMDCEKVHCW----IAPQYMAKAQQFASET--L-----RHDQHLYPGTNVAFAH---VR-GVSAKHQRMSVHTPDGDGPLGEMYHIRAREGVAGSMEPQI----MC-HEKAWKLTWFANGRIESHHMYISMHFEQMGQLAGFKTI--ERHPLDGPCWKRRINQGQSIAWFITGMAEDVKNAPDRLTHTAQYICLRM---V-TDCMLPILTKM--Y-----Y-IKDNPGTKPFEESHDWQGQHD-NVCVHVQIGWSWFEVLFKH--PHFGEYMLICQAKWKCTMQSEHTSSKQDDGTFLWRLYTRDNLQIRQKSIGDVFMGHIWGNTIY-W-KWCVKCFVDYFYQYDQMFFFRHW-QFRAEKWRKPLLSTHAAMWFSINWIKAMLYQEMYFTTTEKVPFIKVHKSKMVMYPY-PLWS-CWEEEAHMWT-QLVMIHCA--N-Q-NTKCFLSKQYLWPRSICICESYFMVW-S--TH-Q-SHNVHRKQQAVGQMKESHRNDPNSTRNQHNYPMLVFKWKHKPYYRQSDKYRMMFKVDMELNYQVCFGC-K----SANCPAVKIAW--IARCEGIWHTVQDQNPPRHYHGHACN-KL-SGHC--CQ-ELTWRQLAYYVIV------SRRFRQHEPVIYMYVNCNSYQTKQWRIGERDQMW--WL----FIQSM-FRTSTAHYIMITRLSSTEME---------R---WIVYPCKV-N-RD--S-KAQYEHWQGDHVKYDHNAAWVMNEFTWFYIGYYGKTISMGHTNPLC-VQSTNKYPHGY--NAIYWMPMSTHYCMAIHDKYCTSGQARG-FRKMPAHWSSWICSLYGNYHMNTAPPAAQWNLND-EHQMKQEE-EI-N-QLLPEHHTQLGYNVKYR---R--RSQGAYKEGWSVR------MYLSKLYNRKD-S-LWDKSDLASHYSCAAAWVKCPFKYEM-KQRNCFNAGEQTRPIEHGTTRWTNQYSNLFFYFTDYCHGTDNKKDSFEWSLSRDRGGATRHFRDAKACPSLPWINLHQYFREPEPKDNLDVPAALHTRWLNQRELWFSYNNPHGRTVTSREQCNISWGRVTQLNINHAPLKIQAMLFVAANCGWPLL-CSD-MFYCIF--HMRKHYMHK--KMY-WVPAY-MLNA-DLFMLYHYVDYNREVVHILETQNMKVDKYRC-------VQMTCHVVTKQL---VTGNDNGFEQIGANKCCIDYTSDWAFQEFHMQKAQAIRMDA-D--I---SNPKGKDILRLIKAEWFKDN--E-MPGVFYNEKDTHRQIQY-WHNMTAGCSVNDPVKGMPSIPMTYCSKQDVHTKSYEQRRHVYDLIEHVRNIIVTRQYDEKAQ----YSEGY-KEPACEVDGQCPEGQNVD-TM-CAF-SSIVRKLYHHR-YCWAKVTMIMTMVWCIFCYIYRLNMN-R--GSHLTLQWDCHYPAHCLWIVGD-PSWLLIKMKS--PGTDNIYT-QK-EGIQTMYVK-QTK-R--APNK-V-K-GCDAGQALKYYSQYPVDRNGDSDCPFADRCNDIDQHRQECCSQGFDEETGRTVEEEWKDPN--YL-PI--ISRP-H-LR-WFHKYS-GVNVTQSDMYRSTGGNIQ-W-PGDMQTLMENC-CQ-NMIEGCCSWESRDTPIKWQR---RFFDNCSEPMSHLYNLGCNPANRSW-E--WTDSLN--L-M-S-FRGEHWSP-----S---KWHHQKL-DKY---FNLCMTVPQEC--K----WMKTLPVQSQEQHRTRVCRQVWV---C---CHHSASLPFDFENCWSCPKFWLWDAELACMEDARDIWGNFTIQFDFPCCPQPIEIAMGMQGC-G-MSYAYGMATECSCRSYDM-EVMRVFSHHLP-NE-R-RRYSHEWGTISYAQCDAESSPSGYKTCTGQETFMHGAQDPKTNCNQIISGTARGYELAKSNEFWREHEGSMNSSHLCGFVMEVAYAVMLVCMQNQGQQRHHHLTQLEMSGYCHEWGYTDQKIMQPNAIHDGPKIEGVIVAIECYSPDSWISPKKCAETRFGPISWTPGTD--TNG----SVSGPWG--M-YSDKDSMKCRRMPNWNPQGWTQAQMSAMRFILLICVNHM---FR-RPQDNTHGDLRLWQKMIVHERSIHDSQWENTTFDQCEMAEYLAFHCKTFYNRNFNMNWDWKQ-MT-T-QYVPSEVSHCGIVDLYNASLPPNSWTIWSANAIHWYQRDKDSVD-MA--NMP--GGMCCVELTWYCDMRN---F--CATFEEFNSQFQWDCEYPVQDCDHVRYNNCR-WKILLFVEIHSELRPWEAYGHSGRTCPVDWECAGCYMSNDDLMPPCGTTPYTYCWPMNPVHRMHPMLP----EP-FRFESSWGKIHHGTRDAYTTVAMWSQ--ISTQQVI-N-EFE------YP---GHWEELTLEPWKCDMRLFYVEDGCWWTQMQFHTRHEETLEYENDKEQSVIAESKNCDFDVSMEFTHYMTHWKQLCWNEYVRLPKPHEDKCIFPQGMWLSNAVKKEKHCIWRTGMFCNILAWM--KCFWREMKQDHCNIRMHILHDGIFFHYMTVSDQWCDAEMQSFHVFWVYSMRSFALWTHNCQDAL--R---MYNCTMAQF-L-KMDHKIPHEIVSHNPKPSRQFPIAKTTAIVVWSFRISHIRIDTNAQDEEWTMQNSVPKQQCKFRRDAKQQIVSVLEVTHWKTLLKFHF-N-QTPVIVIDFHVFWSGKNDKCMMQLGMDPMCNY---G-QLDRFMWRGICPENDRYARRLENMTCPQHVTWSCQVDHWFFAINEEFVIIKDPGKCNAWTQFVLDLCTLPTVQNVIANLTICCECHGQVNFTTNNKPWLWDAMDPDPYQNDHVCCAYLHMMMHRDMYI-IFYYQGPQIIIL---V-ESPHQNIYELWYLNAFLYVAAPIVPSAVFMNHIIQCHIGAEWYYKAMCIDCAMWQYEILRPFSMQAMINVDFFYEWLVKQACGSNPMLKDYRCRQGLCTCNMCGLDRMIETNYYTWGNKCQYKAVTGQGI-H-REHTGAIMSRAS-----K-KLQFWA---NQNNVVQRYRMINRH-C-NHAGTPIRNHQMIYA--F--CYVNILMNSDKDGMSTVAKLQACWLEDG---KINTLTRRNLLWDHYWYSPYKHSGCTMRDVWQSLHQNTCSRHDQWKWIN-QQIMLTYTVMGVNMTSYHHIATYCDLYEVLVHPSYVDAPHAVSDRCRDC-AGTMFPYPKWAQNSDPWSTCHDCNKTVCRLKRNELRATNDLSTHQYCWCWSKSYPYNDSIDVNARAMCLEDLSYGVAFFVATCYVC-D-TYTAMVYAQAVNTSD-GGMDGHDQRLQIKCLMM----G-QYSGI--DCSQACCPIDCHPQNYKMALCD-M------CED---VMPDKNKMQVRRKVKMEIY-GQ--LETEMLLAWDYNTYHLVYPDFLCSVK--E---AEYFDDDEHHTARFHPWAKHNP\n",
            "----WIPIMEGW-------CYVICEN-----PTCGPYRINTCNNYRWQGSDMNSSVYDFHSPHSSWGRIVMAYLTTI----EIQWTWAEWEYIMKLGGHQYRNHWQRYAGASLSFAIFKFHCTKSNHEIMAPTWAHWQQCW-LTNN-KAFCNAK------KSQTTENQWDNWKIHHYWPTY-LPH-SMIFAKETYEPDGVENKWPNGTFEKG-YKTSGKWMTIGGHKWWDARCCGA--VDIHPSI-S-----RHWDFPDWEYIRMVKNYMQDVSPTFIMLFNNGELRDLLYFPKVTAMWIHPDDDTMSGRCPTEDNEEHHEDVV--M-------PGEWIRGDGCPQAH---YAFNEWITR--VV--H----E----M-----EIVMQVQQPQDNPQCMVLRPITTARPMCQFPNNDHQ-AQMY-QSHQ--DQMWKGR-L------EDDNNTQEDNILMRWVQSMECRT-----W-L-RREEWLVTKLCEPGMQHDFVDYDFFMFVEEIRIAAVYSRHCCNAQMLHNPLQKQ---------LKWHLCWMLDNGNALITDAQQHTVMAYAFMGFLFPICMETKMKVEKVYNGNSHVGQ-----FTRGW--SCIVYERHIYEYHNYNCCEGCKWIKVYQSMLQMRCRLGSFNCELVQGCEKQQSVVWVMNSFWSHAKRPRNHDEKNKFAHPFKDVPESIYEHPKLQDWYSMEWHWESWENGSMDDMVPWPGTFQWLPAVSTLGSLIKELYVEWVWSKVQPQAETKGLFAMWKSLCSYELGSNEKEDYNRTQYCNEHQDW-V-DPWEWPAFGCPRPPQIEHYWTIEEHKNFVMLPPMAQWAGTGTH---IACMKNCL------GRSMHPRQVDDINGKDK--V--ENV---P----RYVTWHFQEDMPVPLRCWAP-TRNSDPLNLACILWGIHSMARCFDRSCQTWT-----RKLAAEWQH--VESFKIEVNRA-----AIKLDPLRNVNCLYLGIM--C----------GWDFHERFQYTVWMVVNSYGQTYCSCLMHYIIPEYRCRIYPPKYI---------WFD-----HLQPVCSLHVGEPGFCMYVIKYTNVSWYHMQYE-STYSDLNMITRCNMYQFLKYAYWGCFTSLNFTQQHTETHKMFHDLNASIDSVTLTCWMALDEPWVNRGFCKFKTVFSGDRWSVLEVAWIKLRMGHHWWELWNIWFHMLCAPKCLKEMQDGHADGDYMNALDPNQFRIWKFNDAGLWNTEEEWAGQWTEKMSMAGIMPNKHWVNIMRA-AIQ-GYYG--GKQ-WEWDKNHENVCGSYQMWAPACTQNHCHDRVIRKYQQLWMATLITGW-W-C--HKWDFTTIDYSMPLPDSNATV---------KEIFRFFH-FF----G--FGFMWDAVEPQDPVMACFMWPMENDTFTAYKWGRFAHVTYEFKPFVPMIDMKRLMNFHMYKMIGNTMVHPPAYVRYMNVWERMWQDPCYRDTRHHYAWRWYKEVCMVSDNFNIISII--DLLRKSWTSRKPRGVEMSRGGDEDGDDNILKQYIHIKMMYDLCLHQRIVDLCKKYLCTRPPQPMIWHAWTMPKLVHPSYSIDPWTRNLVPAAMQEPESVNLWFNQMLDIHSSSRCHVPTYKNWHS-T-EA-RDCTRQIQF-SWLGCHHHISTKIRMIQDNPVK--F-H-RWGREQRMNPLLGWARLADWLWRQGEYRVFHKCINNNTKVVCGGKDSQVER---YE--RLFVEI--C-G-N--VFHEDCNQVEEYCWNDLVHWVNTYTQ---E---NNSQRICQGML-YNPDAVGVTGRVKSHRFRNIFHYEFLCGLDAEHPKSPET------GLIKTCSPGIWMLFFTMLVCYVCMFERDLLSRAYWKSDAAKWLLDNYCDCRHWIPNGNDSNLFITGYFVAPVAPFYLTAVCDWPISMCKSVAPYQISMIIVDTGTGMVDTSQPTSAVKNDTAITDHMHNGHWHVQVVFLILGLKTRA----YH-PG--RPFALMGW---------QDDSTLEADKPVDSLPLGTFQWYKFTFSRMSRNYLYYREWLLHQFKLMDLM--Q--QWQKRTEMRARTTAHHYAL-DE-MCDH-D--M-M-SYASRCQIDNFDLWVWWVTQPQCSKQTMMIPPQGRQSK-----AR-H-ECAELANHHWGW-HRYNK-A-DT-WR-RVCHSYQ-DHKGSSHKWQACSNGPCVCSKGMMVHPSRNNEKYYFDDMWEPRAIMIESGF-----C----IWDC-----------NFFEYMTGMVGHLMGHGMNRG-EGTP-T-EK----P----SAAIDWWYHDHDCPVVPGCDLNALLA-C--QHVPTFHLRMAHSVDAVMHHITYGRTPKHMSMMSRSTCECNPMCDIKASGVRCNLSIEYVLRRRFGWEDMHTMDWWRRRWHTLTLQHWCWTTCCIYEYPENQVGRRDSHNTSLSIIYWLLKWYMFGTYSFIHGLDGSQPHEMPPKNITMHKQ--TSHDKHEPCNQVYDKNYCRDTWEFCTGDWPHHMKV-------EF---------HSIFNCKTTSRGTDCPPGFLEVSFQKSPFQPIQMEGKKYILWSYHGESVMPVNFGPTDTPPRAPQWPQYT-LD-V---FQDLPEDKLSGGGMSTMEFQGQLYEE----WK-H-ADSFHIRGKHSTLHRLCGVWHFVKGETWVEFARNWNHMREMHGAYLNRMHMIMFTFPEAYRPHRICPMAICISTYNFTHKNGSNTAHV--ES-CSHSWPRYY----DKVLCHTDQTLGTYETLGLCHW-----GTNTWMCAMQLFDTNGS--SVWPTMEGPSELMMKTWQVIKG-WKM-KFYGYEFSFLFKWFKGVSFFVYICRINH-TWRLERDGGDLNCDQQMMREREKDVMCEQEWGFM-PPW---RYRVSHHWQS--------GGMPMYPKVDHHEMKGEFKNQVESMHACIKVAMMQICQCGFHMALGTLSGTRQWEMSPHQPPYALCRTIPDSD-SHWHHWSEKDPMGIVWFQGWKPEYQPWSPQKIDFTKPMWDPLIDMAILVWVVILYTQTHTHQPRAPSMNGHLQNWKCALWLSSWQMIPNDQEISWIYCNYLQWAVQQPGEWGVR-ATSKFRFEHAHWLNYRFDSMCLQVTNCGRWAMRMRCVE----EC-R--GKMIPWNFHARAPHYQSLENCCMCAIWRGCSQSIYHITEHMWWICSH-LMIQASWVIRWQGMAVTYQACVHDGCTMMDPVPYGHAFTGPQGPQDPLFMNMLPWSFV-W--N----VIPNDRKSAVEGMCSFQPMWWIVYFHT-TRMEEFIMGERHPGYCCKLREGTSVWFTLSTMETQRPFKDVMSLILSFGCDLSHWCAHNQGGMIMCGPCRKIKPNTACTTQQRLIRIIVHYFGDW-----RWTAPDPKVMQCRVCDERNVGG-KYEWAMSMDCACE--S-WDTPFIASELHQSM-----H-QVIS--HEWRMCCGKQLFCLKVMMRDR-----THKE---YG-------WCLLANQ-QPWDAFVTPIDSQKLNHEVTEHMMWLHDTLFFPCMPLANACYEKYCEHCIR-----PVKKLWNGDPIWELFFWATGPCIFWVHDDDQKSQKPYLMIQGVMYMHCIIHLGDQVCSEFMSMCMENMGLGIGRPRFEWPCQTPINIAVQRDYRH---TCCWQDGQTGQWLEE-KETAPIVWLR-KFLNQNFKKLVWPWHLSYVPPVWIWEQYDTCATHTDGWLRQWIIVEGHSGRSNKMDMMLWISKCYLT-FEMFPNQY-NNMPPTLKEMPYSRKNQGKHCLLSGQQLHQICMFRTSLMTFKLYGVRTCKKQCLF--N-A-GVPLGFW---WN---DLD-WSYSQKISHCSVAHHSTWYECWHKGTWYKATWFIRQVVIVCRCYNDIQFAYFIQVRCHKDYGKQPFLMTMSSNNIDMHFHLS--GYTCY--FV-A-AVTQE---YS--VDDVTMHTNYDLPTLRHRYKH--G--YGANCKTELQCCYHHHHKYCPGVAMCDFIVYLDSCGQVTAL-VASHCLHTKICWVNEKSDIAQTCMDFWVNHKKIWI-----PDYRNKHGTDGHVAQTFNHM-NITHYHNIWDYVNPCPLKFAINSKMYINTDFLAKWTSTDAQQ-PLQ---M-------MDCEREHKRCVRSNDPWACTMTP-EDILKLCVDHYWA--K--M--EPDCLGAFPMWYAPYYEEDYLDMQDTIFLVWNLMHLSLHDNRRMDVMFWESL-M--RME-LHLGEHEKAHPMQGPLFKTCHGEHTSAYIDPWAMFYTCRTVSFNTNPLFAGRMHCWYNRFRKAWKYINQIREPCDYAMVLKEDHACPHCMSWWSNPHHLYPYLMGRTHTDIINVMVWCRAIVWCPWQSVRGAPAYKYHHHAVDEFFSALVACPLCQDKNHEDWHMGVRGLRFRC----ASTHFIMYDVHFFMPLVTNCE---------DSGDMTAQWERQKELRGGKYNYIHHYRFEFWTEYRA--NRHSFCMG--HH-FMHHVFNYCLQVCQLDTTYNMPTQGNDFDQMHTWF-N-PVEH--APCSCNVVHIEKLIVRGADKPAAEIGFHH--MHYDVAYYWSMKMMAPQYMAKAQQFKSETPCIHHQVPRHDQHLYQGTNAAFAHPYPLKHGVSAKHQRMSVHTPDGDGPLQE--HY----G-TGSMEPQIYERFMTPHEKAWKLTWFANG-M-GN-IE-S--Y-QMGGLAGFITAGGERHPLDGPCWKRRINQG-T-A--I----EDVKNPPD--T--AQSICLRMYAEIHTDCMLHSVTVMAAYILTQQYNLKDNPGTKHFVLRFE-ES-HDPPCCVHCQ-GWSTF--FFVHCWRHFGEYML----K--C-----HTSS--------WRLYI--NLQIRQKSILDVFMEHIWGNTIYHMCKDCVKCFVDYFYQKDQMFFFRHWIYFRAEKWRCPLLSTHIVRELLINW-----YQEMYFTTTEKVPFIKV--IR-VMYPYVNVGPFLWS--TFMKSGNLVMIHCANNNPQYNTKCFLSKQDHWP-STCI-ELWTLGFCSPRSYFMGSHNVHRKQQAVGGMKESHRNDP-----QHNYPMLVFKWKHKPYYRQSDFYRMMFK----LNYQKCFGCNRMMADSANCPAVKIAWMYLARCGGIWHTVQDQNPPRGYHGHACSGHHDQNHCQETHLQLTWRQLAYYVIVKCCQWASRRFRQHEPVIYMYVNCNSYQTKQWRIGERDQMIDPWLQHQALIQRLCFCMFRTHYIMITRLSSTAMEIFIHACLPVRKLCWIVCPCKVPQVRDYESHKAQCKHWQGDHVKYDHNAAWCMGEFTWFYIGYYGKEISMGHTNPLCDDQSTNKYPHGYPMSTCSWY-C-THWSSWICSLFLFFQWYWGNYHMNSGSWRQ-IAPI--E-QLPLLDEAALNNLNDPAHKKRHYYCSCWAVQLLPEHHTQLDYNVKYRQHQREYRSQGAYKEGWSARIIHSFDIYLSKLYNRKDKQMLWDKMDLASDY-----WVKCPFKYEMCPQRNCFNAGE-TIWIEHGTTHWTNQYSQLFFYFTDYWPGSDD--DN--WSLS-----ATRHFRDAKACP--P-VD-NAW-SQ-H---SIGVNQDL-SR--EQCNI--SW----GRQ-T-QENINEMF-QVPR--I--APLKIQAMLFVSA---WPPADMNEKMLY-IFKVYMEASFNDEPVKAHEFMEVHKKLNALGLFM-YHY--HNICPINAIETQNMKVDKNRAENMGQDEVQMTCHVVLWEFGKDLWGNDNGFEQIGANKCCIDYT---A---FHMQKAQAIRMDAFTMYLPNQSNPKGKDINYKWGEEWFKWNKYQNMPGV-HGINDT-T--PYCGHGAYMGCSVGDPVKSMPSFPMTDCSKQDVHT-----R-HDYDLI--MKPIIVTR--DEKAQPRKHFSEDWVNMKLCHVDGQCYSRYCAEVTMIMSFLATMDRPMDRFREEAWCIFCYIYIYINSLGRTL-NMNMEFRQYGSHLTLQWDCHYPAHCMWIVGDQPSWLLIKMKSTWPSMFLLGSDQTIE-IQTMYVKVLIKENWDETEKTMYNCGCDAGQALKYYSQYPVD----SDCPFADRWNDIDQGRQEFCSQGFDCETLRTV-E-WKDPNYFYLYPLDQRSRPFETLAGWWFKMSIRFHYKYSAVTQSDAKDVAIFSPYDKETNDESTGGQNNMIEWCCSWESRDTPIKWQKLSDRFFDNCSEPMSHLYNLGCNQA-KAWHKSNYMDNLKMCIEVATGFRGEHWSPQTVQFSGADKWHHQELWTEFQGNFNECMTWPQECPWKFVLEWMKTLPVQSQEQHRTRVCRQVWVYKPALTSCHHSAKLPF---NCWNVP---M--AELACMEDARDIWRNFTIKFDFPCCPQPIEIAMGM-FCFGNMAHECSCDQPLYSRVIDFKEEDRVFSHHLSLRSWACLEQKGEEAPMSYAQCDA-SSPSEYKTCTGQETFMHGAQDPKTNCNQIISGTARGYELRKSNEFW-----S--S-HLCGFVMEVAYAVKCNMRQNQGQQRHHHLTQLEGSGYNHEWGYTDQKIMQPNMIHDGPK-E-------CYSPDQW-NNSR--NTRFGPHSWTPGTDWYVIGYRIQSVIGEWGMIMTYSDKDAMKCRR------E---QAQV--V--I-LICVNHMCNLMRFRPQDNTHGDLRLWQKMIPRGRSVHE-R-SNTTFDQCEMAEYQAPHNKTFYNR-CRIVWSFSQAYSNNLQMVPSEVSDCGIKDLYNASLPINSWTIWSANAIHWYQRIKDSVDSWTEKQFPVAGGMCCVELTWYCDMQNKRWYIVCAT-EEFISQFQWDCEHPVQDCDHVRYNNMPIWKILLFVEIHSELRT-IARALD-EYW--EAECAGCYMS-F-MTKSDDLMP-T-T-P-NPVHRMHPMLPRRLLKGCFRFESSWGKIHHGTRDAYTCLKMGGHAFVATQQAIFKWEFEQWHKRVYAMNCGHWEELTLEGWKCDMRLLYV--------MQFHSRHEETLEYEND-DWNNCHQT-H--Y-MTHD-NAYVQHMLRIC----LSLPKPHEDKCIFPQGMWLSNAVKKEKHCL-RTGMRCNILAWMHPACKWREMKKPHCEMFQNQNHDRWFFHYMTVSDQWCDAEVAS----WVYSMKSFHLWTHLCQDALTWHISCMYNCTMAQFQMPKTYHKIPTEIVSHNPK----FPIAKTTAIVV-SFRISH---DEN-----WHMQN-M--Q-A--RR---W--VTVM-VTHWKTLLKFDFCPWQTPVIVCDFHVKWSGKNDKCMMQLGMDPMCNYCSAGQQLERFMW--IQPENDRYARRLENMTCPQHFTWSNQVDHWFFAINEADVIIKDPGKCNAWTQFVLDLCG-H-MQ-TLPTVTI-CD-------TTNNKPWLWDAQDPDPYFNDHVTKRFL-FCYWIPAYLHMMMHQGPQIIILKIWVGNHPHQNIYELYYL---LWTEAPDVPSAVFMNHIIQCHIGAEWRWDD---DCAMRQDEILRHFSM-AMINVDFFYE-L--Q--GSNPMLKD----QGLCTCNMCGLDRMI-INRPCHGN-CQYKAVTGQGIDNIRAHTGAILSRPSINLHCRDKLQFWALRRKQNVVVQRYRDINGHCCFCHAGNPIRNHQMIYACIWGKCYSNILMNSDKDG-------QACWLEDGLAYSIPTLTRRNLLWDHY--SPYQ-STCSRHDQWNT-Y--TVMGTNMWSYHHYDRCAMQYA-HA--CTA-H---DY-DLYEVL--PSYVDAPHAVSDRTTHAPAQNSDKNQLRATIQDGQGGRKDLS-TPQPAK-NAI--NKDLCRNDGPYNDSIHLSYHTPEYLHCVQISMFDLSYKVAFFVATCYVIWQMVNTSRGGRPLMWGHDQSHFPMSDVQLIIKCLMMADKTALQYSGINQECSTDCCPIDCHFQNYKMALCDQMKEAARWCEEVICVMPDKNKMQVRRKVKMEIYCKERSCQNQETEAW--NTYHL--PDPECSVKENEPQHGEYFDDDEHHQARFWPWAKHNP\n"
          ]
        }
      ]
    },
    {
      "cell_type": "markdown",
      "source": [
        "## [BA5M](https://rosalind.info/problems/ba5m/) - Find a Highest-Scoring Multiple Sequence Alignment"
      ],
      "metadata": {
        "id": "wFFmZuszk2Vk"
      }
    },
    {
      "cell_type": "code",
      "source": [
        "# provjerava je li pokazivac x valjan za trenutnu poziciju pos u matrici\n",
        "# pokazivac je valjan ako se odnosi na nepozitivnu celiju u matrici, funkcija\n",
        "# koristi prev(pos, x) da bi dobila prethodnu poziciju na temelju trenutne\n",
        "# pozicije i pokazivaca, zatim provjerava je li svaki element u prethodnoj\n",
        "# poziciji veci ili jednak nuli\n",
        "# ako jesu, funkcija vraca True, inace vraca False\n",
        "def valid_coord(x, pos):\n",
        "  return all([i >= 0 for i in prev(pos, x)])"
      ],
      "metadata": {
        "id": "EKm0ZMstcYMx"
      },
      "execution_count": null,
      "outputs": []
    },
    {
      "cell_type": "code",
      "source": [
        "# dobiva prethodnu poziciju na temelju trenutne pozicije pos i pokazivaca ptr\n",
        "# za svaki element na istoj poziciji u pos i ptr, zbraja ih i stvara tuple koji\n",
        "# sadrzi rezultate\n",
        "def prev(pos, ptr):\n",
        "  return tuple([p + d for p, d in zip(pos, ptr)])"
      ],
      "metadata": {
        "id": "7tXaAEx_ccVt"
      },
      "execution_count": null,
      "outputs": []
    },
    {
      "cell_type": "code",
      "source": [
        "# racuna bodove (score) za odredeni polozaj i pokazivac\n",
        "# za pokazivac (-1, -1, -1), funkcija provjerava jesu li svi simboli u trenutnom\n",
        "# stupcu poravnanja jednaki, ako jesu, funkcija vraca 1, inace vraca 0\n",
        "def score(seqs, pos, ptr):\n",
        "  if ptr == (-1, -1, -1):\n",
        "    bases = [seqs[i][j] for i, j in enumerate(prev(pos, ptr))]\n",
        "    return all(x == bases[0] for x in bases)\n",
        "  else:\n",
        "    return 0"
      ],
      "metadata": {
        "id": "DLlw8A0RchFx"
      },
      "execution_count": null,
      "outputs": []
    },
    {
      "cell_type": "code",
      "source": [
        "# generira moguce pomake (pokazivace) relativno na trenutnu celiju\n",
        "# generira listu svih kombinacija pomaka za n broj dimenzija, gdje su moguci\n",
        "# pomaci 0 i -1\n",
        "# funkcija vraca sve kombinacije osim prvog, jer prva kombinacija (0, 0, ..., 0)\n",
        "# predstavlja trenutnu poziciju i ne treba se uzeti u obzir\n",
        "def moves(n):\n",
        "  return list(product([0, -1], repeat=n))[1:]"
      ],
      "metadata": {
        "id": "qfJSwlkLckm_"
      },
      "execution_count": null,
      "outputs": []
    },
    {
      "cell_type": "code",
      "source": [
        "# visestruko poravnanje (multiple alignment) nad stringovima iz seqs\n",
        "def multiple_alignment(seqs):\n",
        "  # m - rjecnik za pohranu bodova (score) za svaku poziciju u matrici poravnanja\n",
        "  # p - rjecnik za pohranu pokazivaca koji vode do najveceg boda\n",
        "  m, p = {}, {}\n",
        "  m[0, 0, 0] = 0\n",
        "  # definicija raspona za svaki string u seqs duljine odgovarajuceg stringa + 1\n",
        "  ranges = [range(0, len(s) + 1) for s in seqs]\n",
        "  # prolazimo kroz sve moguce pozicije\n",
        "  for pos in product(*ranges):\n",
        "   # filtriraju se valjani pokazivaci\n",
        "   ptrs = list(filter(lambda x: valid_coord(x, pos), moves(3)))\n",
        "   # ako nema valjanih pokazivaca\n",
        "   if not len(ptrs):\n",
        "       continue # preskace se korak i nastavlja se dalje\n",
        "   # inace se racunaju bodovi (scores) za svaki valjani pokazivac\n",
        "   sc = [m[prev(pos, x)] + score(seqs, pos, x) for x in ptrs]\n",
        "   # najveci bod se sprema u m\n",
        "   m[pos] = max(sc)\n",
        "   # odgovarajuci pokazivac u p (indeks)\n",
        "   p[pos] = ptrs[sc.index(max(sc))]\n",
        "  # traceback to recover alignment\n",
        "  # pohranjuje ukupan broj bodova\n",
        "  tot = m[pos]\n",
        "  # lista za pohranu poravnanja svakog stringa\n",
        "  aln = [\"\", \"\", \"\"]\n",
        "  # iteriramo po pozicijama sve dok imamo vrijednosti vece od nula\n",
        "  while any([x > 0 for x in pos]):\n",
        "    # dohvaca se odgovarajuci pokazivac za trenutnu poziciju\n",
        "    ptr = p[pos]\n",
        "    # za svaki element u nizu pocetnih stringova\n",
        "    for i, seq in enumerate(seqs):\n",
        "      # za odgovoarajuci string u nizu (nalazi se na poziciji i)\n",
        "      # nadodaj slovo iz pocetnog niza na lokaciji pos[i] -1 (prijasnje)\n",
        "      # ako je pokazivac -1 inace nadodaj -\n",
        "      aln[i] += seq[pos[i] - 1] if ptr[i] == -1 else \"-\"\n",
        "    # pozicija (pos) se azurira na prethodnu poziciju\n",
        "    # To nam omogucava da se pomaknemo unatrag u matrici poravnanja\n",
        "    pos = prev(pos, ptr)\n",
        "  # vracamo ukupan broj bodova, kako smo isli od kraja obrnuta nova poravnanja\n",
        "  # pocetnih stringova\n",
        "  return tot, aln[0][::-1], aln[1][::-1], aln[2][::-1]\n",
        "seqs= ['ATATCCG', 'TCCGA', 'ATGTACTG']\n",
        "print(*multiple_alignment(seqs), sep='\\n')"
      ],
      "metadata": {
        "colab": {
          "base_uri": "https://localhost:8080/"
        },
        "id": "WbFM5mBlcuZK",
        "outputId": "ae914d52-9699-4038-e48d-aaa2a4c08f0f"
      },
      "execution_count": null,
      "outputs": [
        {
          "output_type": "stream",
          "name": "stdout",
          "text": [
            "3\n",
            "A-TAT---CC--G-\n",
            "--T-----C-C-GA\n",
            "-AT--GTAC--TG-\n"
          ]
        }
      ]
    },
    {
      "cell_type": "code",
      "source": [
        "with open(\"rosalind_ba5m.txt\", \"r\", encoding='utf-8') as f:\n",
        "  inlines = [x.strip(\"\\n\") for x in f.readlines()]\n",
        "print(*multiple_alignment(inlines), sep='\\n')"
      ],
      "metadata": {
        "colab": {
          "base_uri": "https://localhost:8080/"
        },
        "id": "ICEGVuXcdMZK",
        "outputId": "0f6aeb61-5652-4574-e705-1e07da6a6633"
      },
      "execution_count": null,
      "outputs": [
        {
          "output_type": "stream",
          "name": "stdout",
          "text": [
            "13\n",
            "-GACCCCC----GC-T--TC-GCC---A------CCC--AT----CAA-------\n",
            "-G-C----A---G--T--T-AG--GTCAGTGTT-CC---ATT---CA-GCG----\n",
            "TG-C-----TTCG-GTGAT--G-----A-----TCC-TCAT-GTGCA----GTCT\n"
          ]
        }
      ]
    },
    {
      "cell_type": "markdown",
      "source": [
        "## [BA5N](https://rosalind.info/problems/ba5n/) - Find a Topological Ordering of a DAG"
      ],
      "metadata": {
        "id": "R52BErXOk3qw"
      }
    },
    {
      "cell_type": "code",
      "source": [
        "# incoming prima graf kao ulazni argument i stvara \"obrnuti\" graf\n",
        "# sto su do sada bili kljucevi, sada postaju vrijednosti, a vrijednosti kljucevi\n",
        "def incoming(graph):\n",
        "  x = defaultdict(list) # rjecnik koji predstavlja obrnuti graf\n",
        "  k = list(graph.keys()) # lista kljuceva grafa\n",
        "  # na listu kljuceva iz grafa nadodaj cvorove iz vrijednosti\n",
        "  k += [x[\"n\"] for v in graph.values() for x in v]\n",
        "  for g in list(set(k)): # za svaki ne duplicirani cvor iz liste cvorova\n",
        "    for node in graph[g]:\n",
        "      # postavi kao kljuc cvor iz vrijednosti rjecnika grafa, a\n",
        "      # vrijednosti uz originalnu tezinu, cvor iz neponavljajucih kljuceva\n",
        "      x[node[\"n\"]] += [{\"n\": g, \"w\": node[\"w\"]}]\n",
        "  return x"
      ],
      "metadata": {
        "id": "6NgMvrmFtbKT"
      },
      "execution_count": null,
      "outputs": []
    },
    {
      "cell_type": "code",
      "source": [
        "# cvorovi koji nemaju rubove koji vode do njih\n",
        "def sources(graph):\n",
        "  inc = incoming(graph) # preokreni graf\n",
        "  # vrati listu elemenata ako nemaju vrijednosti u grafu\n",
        "  return [g for g in graph if len(inc[g]) == 0]"
      ],
      "metadata": {
        "id": "R2-8WgUitQxi"
      },
      "execution_count": null,
      "outputs": []
    },
    {
      "cell_type": "code",
      "source": [
        "def topological_order(graph):\n",
        "  graph = deepcopy(graph) # stvori duboku kopiju niza\n",
        "  order = [] # redosljed lista\n",
        "  candidates = sources(graph) # prvi kandidat u grafu\n",
        "  while candidates: # dok ima kandidata\n",
        "    n = candidates[0] # uzmi prvog s reda kandidata\n",
        "    order.append(n) # nadodaj ga u niz\n",
        "    candidates.remove(n) # ukloni kandidata iz kandidata\n",
        "    graph[n] = [] # ukloni vrijednosti iz grafa za cvor n\n",
        "    # kandidati su izvori koji ne postoje u skupu liste poretka\n",
        "    candidates = list(set(sources(graph)) - set(order))\n",
        "  return order # vrati poredak"
      ],
      "metadata": {
        "id": "wihIDLq-tFoK"
      },
      "execution_count": null,
      "outputs": []
    },
    {
      "cell_type": "code",
      "source": [
        "def parse_graph(graph):\n",
        "  # inicijalizacija praznog rjecnika\n",
        "  # ovo osigurava da ce se za svaki cvor automatski stvoriti prazna lista ako\n",
        "  # cvor jos nije prisutan u grafu\n",
        "  g = defaultdict(list)\n",
        "  for edge in graph:\n",
        "    # razdvaja brid na dva dijela\n",
        "    # pocetni cvor i zavrsni cvorovi\n",
        "    x, nodes = edge.split(\" -> \")\n",
        "    # za svaki cvor u zavrsnim cvorovima (sa zarezom)\n",
        "    for y in nodes.split(\",\"):\n",
        "      # u rjecnik nadodaj ga kao cvor i tezinu do njega\n",
        "      g[x] += [{\"n\": y, \"w\": 0}]\n",
        "  # vrati rjecik (graf)\n",
        "  return g"
      ],
      "metadata": {
        "id": "CptZimFmsmfz"
      },
      "execution_count": null,
      "outputs": []
    },
    {
      "cell_type": "code",
      "source": [
        "graph = [\n",
        "'1 -> 2',\n",
        "'2 -> 3',\n",
        "'4 -> 2',\n",
        "'5 -> 3'\n",
        "]\n",
        "print(*topological_order(parse_graph(graph)), sep=\", \")"
      ],
      "metadata": {
        "colab": {
          "base_uri": "https://localhost:8080/"
        },
        "id": "RnjB-_gMuihK",
        "outputId": "7b1b5bd5-76ed-4d96-ba1d-955522ec9936"
      },
      "execution_count": null,
      "outputs": [
        {
          "output_type": "stream",
          "name": "stdout",
          "text": [
            "1, 4, 2, 5, 3\n"
          ]
        }
      ]
    },
    {
      "cell_type": "code",
      "source": [
        "with open(\"rosalind_ba5n.txt\", \"r\", encoding='utf-8') as f:\n",
        "  graph = [line.rstrip() for line in f]\n",
        "print(*topological_order(parse_graph(graph)), sep=\", \")"
      ],
      "metadata": {
        "colab": {
          "base_uri": "https://localhost:8080/"
        },
        "id": "mPmPoWy5vf1K",
        "outputId": "a2c50bf5-edd6-41b6-8444-5ca067a2da1c"
      },
      "execution_count": null,
      "outputs": [
        {
          "output_type": "stream",
          "name": "stdout",
          "text": [
            "0, 20, 1, 5, 3, 11, 15, 7, 9, 16, 29, 10, 6, 8, 36, 22, 27, 33, 18, 14, 40, 12, 2, 21, 24, 23, 19, 26, 32, 42, 39, 31, 17, 44, 43, 35, 4, 30, 28, 34, 37\n"
          ]
        }
      ]
    }
  ]
}